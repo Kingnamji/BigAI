{
  "nbformat": 4,
  "nbformat_minor": 0,
  "metadata": {
    "colab": {
      "name": "딥러닝 스터디 1권",
      "provenance": [],
      "collapsed_sections": []
    },
    "kernelspec": {
      "name": "python3",
      "display_name": "Python 3"
    }
  },
  "cells": [
    {
      "cell_type": "code",
      "metadata": {
        "id": "hQa6_Te_h7w6",
        "colab": {
          "base_uri": "https://localhost:8080/"
        },
        "outputId": "a21433ac-de54-4e31-f271-32fdd4dd82ea"
      },
      "source": [
        "import numpy as np\n",
        "x = np.array([-1.0, 1.0, 2.0]) \n",
        "print(x)\n",
        "y = x > 0\n",
        "print(y)\n",
        "\n",
        "y = y.astype(np.int)\n",
        "print(y)"
      ],
      "execution_count": null,
      "outputs": [
        {
          "output_type": "stream",
          "text": [
            "[-1.  1.  2.]\n",
            "[False  True  True]\n",
            "[0 1 1]\n"
          ],
          "name": "stdout"
        }
      ]
    },
    {
      "cell_type": "code",
      "metadata": {
        "id": "mWrgwIA5lnq2",
        "colab": {
          "base_uri": "https://localhost:8080/",
          "height": 265
        },
        "outputId": "fe2207a6-f404-480a-9d40-b1df236b21d5"
      },
      "source": [
        "import numpy as np\n",
        "import matplotlib.pylab as plt\n",
        "\n",
        "def step_function(x):\n",
        "  return np.array(x > 0, dtype = np.int)\n",
        "\n",
        "x = np.arange(-5.0, 5.0, 0.1)\n",
        "y = step_function(x)\n",
        "plt.plot(x, y)\n",
        "plt.ylim(-0.1, 1.1) # y축의 범위 지정 \n",
        "plt.show()"
      ],
      "execution_count": null,
      "outputs": [
        {
          "output_type": "display_data",
          "data": {
            "image/png": "[encoded data removed]",
            "text/plain": [
              "<Figure size 432x288 with 1 Axes>"
            ]
          },
          "metadata": {
            "tags": [],
            "needs_background": "light"
          }
        }
      ]
    },
    {
      "cell_type": "code",
      "metadata": {
        "id": "rJpFiOT0nsRw",
        "colab": {
          "base_uri": "https://localhost:8080/",
          "height": 34
        },
        "outputId": "a03b11b1-4482-4915-a253-aba5c4682f47"
      },
      "source": [
        "def sigmoid(x):\n",
        "  return 1 / (1 + np.exp(-x))\n",
        "\n",
        "x = np.array([-1.0, 1.0, 2.0])\n",
        "sigmoid(x)"
      ],
      "execution_count": null,
      "outputs": [
        {
          "output_type": "execute_result",
          "data": {
            "text/plain": [
              "array([0.26894142, 0.73105858, 0.88079708])"
            ]
          },
          "metadata": {
            "tags": []
          },
          "execution_count": 3
        }
      ]
    },
    {
      "cell_type": "code",
      "metadata": {
        "id": "yz_-a70In4M3",
        "colab": {
          "base_uri": "https://localhost:8080/",
          "height": 34
        },
        "outputId": "6c975bef-e62f-4193-fac2-6623f0b40c4c"
      },
      "source": [
        "t = np.array([1.0, 2.0, 3.0])\n",
        "1.0 + t"
      ],
      "execution_count": null,
      "outputs": [
        {
          "output_type": "execute_result",
          "data": {
            "text/plain": [
              "array([2., 3., 4.])"
            ]
          },
          "metadata": {
            "tags": []
          },
          "execution_count": 4
        }
      ]
    },
    {
      "cell_type": "code",
      "metadata": {
        "id": "bZyJsqeRn-xt",
        "colab": {
          "base_uri": "https://localhost:8080/",
          "height": 34
        },
        "outputId": "92e93e2b-0f79-4308-f47a-2d1112252437"
      },
      "source": [
        "1.0 / t"
      ],
      "execution_count": null,
      "outputs": [
        {
          "output_type": "execute_result",
          "data": {
            "text/plain": [
              "array([1.        , 0.5       , 0.33333333])"
            ]
          },
          "metadata": {
            "tags": []
          },
          "execution_count": 5
        }
      ]
    },
    {
      "cell_type": "code",
      "metadata": {
        "id": "al-cg59woH4n",
        "colab": {
          "base_uri": "https://localhost:8080/",
          "height": 265
        },
        "outputId": "0f19dd59-8817-4f65-9771-b91d7505f482"
      },
      "source": [
        "# 시그모이드\n",
        "import numpy as np\n",
        "import matplotlib.pylab as plt\n",
        "\n",
        "def sigmoid(x):\n",
        "  return 1 / (1 + np.exp(-x))\n",
        "\n",
        "x = np.arange(-5.0, 5.0, 0.1)\n",
        "y = sigmoid(x)\n",
        "\n",
        "plt.plot(x, y)\n",
        "plt.ylim(-0.1, 1.1)\n",
        "plt.show()"
      ],
      "execution_count": null,
      "outputs": [
        {
          "output_type": "display_data",
          "data": {
            "image/png": "[encoded data removed]",
            "text/plain": [
              "<Figure size 432x288 with 1 Axes>"
            ]
          },
          "metadata": {
            "tags": [],
            "needs_background": "light"
          }
        }
      ]
    },
    {
      "cell_type": "code",
      "metadata": {
        "id": "5pByvkhipBpi",
        "colab": {
          "base_uri": "https://localhost:8080/",
          "height": 283
        },
        "outputId": "55a201d5-abc6-444c-d9d0-11726fbaa0ee"
      },
      "source": [
        "#ReLU\n",
        "\n",
        "import numpy as np\n",
        "import matplotlib.pyplot as plt\n",
        "\n",
        "def relu(x):\n",
        "  return np.maximum(0, x)\n",
        "\n",
        "x = np.arange(-5.0, 5.0, 0.1)\n",
        "y1 = relu(x)\n",
        "y2 = sigmoid(x)\n",
        "\n",
        "plt.plot(x, y1, label = \"ReLU\")\n",
        "plt.plot(x, y2, linestyle = \"--\", label = \"sigmoid\")\n",
        "plt.xlabel(\"x\")\n",
        "plt.ylabel(\"y\")\n",
        "plt.ylim(-1.0, 5.0)\n",
        "plt.xlim(-6.0, 6.0)\n",
        "plt.legend()\n",
        "plt.show()"
      ],
      "execution_count": null,
      "outputs": [
        {
          "output_type": "display_data",
          "data": {
            "image/png": "[encoded data removed]",
            "text/plain": [
              "<Figure size 432x288 with 1 Axes>"
            ]
          },
          "metadata": {
            "tags": [],
            "needs_background": "light"
          }
        }
      ]
    },
    {
      "cell_type": "code",
      "metadata": {
        "id": "0LHtIAqrryT-",
        "colab": {
          "base_uri": "https://localhost:8080/",
          "height": 187
        },
        "outputId": "8b060d3e-fcc7-4b7f-871d-0def34fa544f"
      },
      "source": [
        "# 다차원 배열\n",
        "import numpy as np\n",
        "A = np.array([1, 2, 3, 4])\n",
        "print(A)\n",
        "print(np.ndim(A))\n",
        "print(A.shape)\n",
        "print(A.shape[0], '\\n')\n",
        "\n",
        "B = np.array([[1, 2], [3, 4], [5, 6]])\n",
        "print(B)\n",
        "print(np.ndim(B))\n",
        "print(B.shape)"
      ],
      "execution_count": null,
      "outputs": [
        {
          "output_type": "stream",
          "text": [
            "[1 2 3 4]\n",
            "1\n",
            "(4,)\n",
            "4 \n",
            "\n",
            "[[1 2]\n",
            " [3 4]\n",
            " [5 6]]\n",
            "2\n",
            "(3, 2)\n"
          ],
          "name": "stdout"
        }
      ]
    },
    {
      "cell_type": "code",
      "metadata": {
        "id": "QThhI-z_t4qs",
        "colab": {
          "base_uri": "https://localhost:8080/",
          "height": 85
        },
        "outputId": "76e84ea9-9b65-43ba-a1b3-a109abc0dab5"
      },
      "source": [
        "A = np.array([[1, 2], [3, 4]])\n",
        "B = np.array([[5, 6], [7, 8]])\n",
        "print(A.shape)\n",
        "print(B.shape)\n",
        "\n",
        "print(np.dot(A, B))"
      ],
      "execution_count": null,
      "outputs": [
        {
          "output_type": "stream",
          "text": [
            "(2, 2)\n",
            "(2, 2)\n",
            "[[19 22]\n",
            " [43 50]]\n"
          ],
          "name": "stdout"
        }
      ]
    },
    {
      "cell_type": "code",
      "metadata": {
        "id": "uUOUU-azutYH",
        "colab": {
          "base_uri": "https://localhost:8080/",
          "height": 102
        },
        "outputId": "947f8ee0-9f0e-468e-eb65-33f65b015c04"
      },
      "source": [
        "# 신경망에서의 행렬 곱 p.82\n",
        "\n",
        "x = np.array([1, 2])\n",
        "print(x.shape)\n",
        "\n",
        "w = np.array([[1, 3, 5], [2, 4, 6]])\n",
        "print(w)\n",
        "print(w.shape)\n",
        "\n",
        "y = np.dot(x, w)\n",
        "print(y)"
      ],
      "execution_count": null,
      "outputs": [
        {
          "output_type": "stream",
          "text": [
            "(2,)\n",
            "[[1 3 5]\n",
            " [2 4 6]]\n",
            "(2, 3)\n",
            "[ 5 11 17]\n"
          ],
          "name": "stdout"
        }
      ]
    },
    {
      "cell_type": "code",
      "metadata": {
        "id": "p33bImzh1AQQ",
        "colab": {
          "base_uri": "https://localhost:8080/",
          "height": 170
        },
        "outputId": "e20b2624-8a23-446a-eaf5-d008d9498add"
      },
      "source": [
        "X = np.array([1.0, 0.5])\n",
        "W1 = np.array([[0.1, 0.3, 0.5], [0.2, 0.4, 0.6]])\n",
        "B1 = np.array([0.1, 0.2, 0.3])\n",
        "\n",
        "print(W1.shape) \n",
        "print(X.shape)\n",
        "print(B1.shape)\n",
        "\n",
        "A1 = np.dot(X, W1) + B1\n",
        "\n",
        "Z1 = sigmoid(A1)\n",
        "print(A1)\n",
        "print(Z1)\n",
        "\n",
        "W2 = np.array([[0.1, 0.4], [0.2, 0.5], [0.3, 0.6]])\n",
        "B2 = np.array([0.1, 0.2])\n",
        "\n",
        "print(Z1.shape)\n",
        "print(W2.shape)\n",
        "print(B2.shape)\n",
        "\n",
        "A2 = np.dot(Z1, W2) + B2\n",
        "Z2 = sigmoid(A2)\n",
        "\n",
        "def identity_function(x):\n",
        "  return x\n",
        "\n",
        "W3 = np.array([[0.1, 0.3], [0.2, 0.4]])\n",
        "B3 = np.array([0.1, 0.2])\n",
        "\n",
        "A3 = np.dot(Z2, W3) + B3\n",
        "Y = identity_function(A3)\n",
        "print(Y)"
      ],
      "execution_count": null,
      "outputs": [
        {
          "output_type": "stream",
          "text": [
            "(2, 3)\n",
            "(2,)\n",
            "(3,)\n",
            "[0.3 0.7 1.1]\n",
            "[0.57444252 0.66818777 0.75026011]\n",
            "(3,)\n",
            "(3, 2)\n",
            "(2,)\n",
            "[0.31682708 0.69627909]\n"
          ],
          "name": "stdout"
        }
      ]
    },
    {
      "cell_type": "code",
      "metadata": {
        "id": "2OJaYUiy51II",
        "colab": {
          "base_uri": "https://localhost:8080/",
          "height": 34
        },
        "outputId": "7a0355a7-61ec-45a4-d7cc-a5265464aa2f"
      },
      "source": [
        "#p.89 구현\n",
        "\n",
        "def init_network():\n",
        "  network = {}\n",
        "  network['W1'] = np.array([[0.1, 0.3, 0.5], [0.2, 0.4, 0.6]])\n",
        "  network['b1'] = np.array([0.1, 0.2, 0.3])\n",
        "  network['W2'] = np.array([[0.1, 0.4], [0.2, 0.5], [0.3, 0.6]])\n",
        "  network['b2'] = np.array([0.1, 0.2])\n",
        "  network['W3'] = np.array([[0.1, 0.3], [0.2, 0.4]])\n",
        "  network['b3'] = np.array([0.1, 0.2])\n",
        "\n",
        "  return network\n",
        "\n",
        "def forward(network, x):\n",
        "  W1, W2, W3 = network['W1'], network['W2'], network['W3']\n",
        "  b1, b2, b3 = network['b1'], network['b2'], network['b3']\n",
        "\n",
        "  a1 = np.dot(x, W1) + b1\n",
        "  z1 = sigmoid(a1)\n",
        "  a2 = np.dot(z1, W2) + b2\n",
        "  z2 = sigmoid(a2)\n",
        "  a3 = np.dot(z2, W3) + b3\n",
        "  y = identity_function(a3)\n",
        "\n",
        "  return y\n",
        "\n",
        "network = init_network()\n",
        "x = np.array([1.0, 0.5])\n",
        "y = forward(network, x)\n",
        "print(y)"
      ],
      "execution_count": null,
      "outputs": [
        {
          "output_type": "stream",
          "text": [
            "[0.31682708 0.69627909]\n"
          ],
          "name": "stdout"
        }
      ]
    },
    {
      "cell_type": "code",
      "metadata": {
        "id": "yyL3c9xa8vcl",
        "colab": {
          "base_uri": "https://localhost:8080/",
          "height": 102
        },
        "outputId": "eaa0fc62-d675-4b42-838c-f8bbbfed24c4"
      },
      "source": [
        "# 소프트맥스 \n",
        "import numpy as np\n",
        "\n",
        "a = np.array([0.3, 2.9, 4.0])\n",
        "\n",
        "exp_a = np.exp(a)\n",
        "print(exp_a)\n",
        "\n",
        "sum_exp_a = np.sum(exp_a)\n",
        "print(sum_exp_a)\n",
        "\n",
        "y = exp_a / sum_exp_a\n",
        "print(y, '\\n')\n",
        "\n",
        "def softmax(a):\n",
        "  exp_a = np.exp(a)\n",
        "  sum_exp_a = np.sum(exp_a)\n",
        "  y = exp_a / sum_exp_a\n",
        "\n",
        "  return y\n",
        "\n",
        "print(softmax(a))"
      ],
      "execution_count": null,
      "outputs": [
        {
          "output_type": "stream",
          "text": [
            "[ 1.34985881 18.17414537 54.59815003]\n",
            "74.1221542101633\n",
            "[0.01821127 0.24519181 0.73659691] \n",
            "\n",
            "[0.01821127 0.24519181 0.73659691]\n"
          ],
          "name": "stdout"
        }
      ]
    },
    {
      "cell_type": "code",
      "metadata": {
        "id": "GNcSO2wS-1Pe",
        "colab": {
          "base_uri": "https://localhost:8080/",
          "height": 102
        },
        "outputId": "943c9796-84ad-4395-cfe5-a6dfad1e2763"
      },
      "source": [
        "a = np.array([1010, 1000, 990])\n",
        "np.exp(a) / np.sum(np.exp(a))"
      ],
      "execution_count": null,
      "outputs": [
        {
          "output_type": "stream",
          "text": [
            "/usr/local/lib/python3.6/dist-packages/ipykernel_launcher.py:2: RuntimeWarning: overflow encountered in exp\n",
            "  \n",
            "/usr/local/lib/python3.6/dist-packages/ipykernel_launcher.py:2: RuntimeWarning: invalid value encountered in true_divide\n",
            "  \n"
          ],
          "name": "stderr"
        },
        {
          "output_type": "execute_result",
          "data": {
            "text/plain": [
              "array([nan, nan, nan])"
            ]
          },
          "metadata": {
            "tags": []
          },
          "execution_count": 14
        }
      ]
    },
    {
      "cell_type": "code",
      "metadata": {
        "id": "pGVmpL9_--GH",
        "colab": {
          "base_uri": "https://localhost:8080/",
          "height": 34
        },
        "outputId": "4d4964b7-a1b4-4424-c5ae-d2c6ba341e3b"
      },
      "source": [
        "c = np.max(a)\n",
        "a - c"
      ],
      "execution_count": null,
      "outputs": [
        {
          "output_type": "execute_result",
          "data": {
            "text/plain": [
              "array([  0, -10, -20])"
            ]
          },
          "metadata": {
            "tags": []
          },
          "execution_count": 15
        }
      ]
    },
    {
      "cell_type": "code",
      "metadata": {
        "id": "yGMq22cI_ELV",
        "colab": {
          "base_uri": "https://localhost:8080/",
          "height": 34
        },
        "outputId": "267eb8d1-73fa-4691-9907-e5e786c7d1a6"
      },
      "source": [
        "np.exp(a - c) / np.sum(np.exp(a - c))"
      ],
      "execution_count": null,
      "outputs": [
        {
          "output_type": "execute_result",
          "data": {
            "text/plain": [
              "array([9.99954600e-01, 4.53978686e-05, 2.06106005e-09])"
            ]
          },
          "metadata": {
            "tags": []
          },
          "execution_count": 16
        }
      ]
    },
    {
      "cell_type": "code",
      "metadata": {
        "id": "SoaHAdp7_Jjc",
        "colab": {
          "base_uri": "https://localhost:8080/",
          "height": 51
        },
        "outputId": "61bbc5d6-9f31-485c-9cca-b61c35162e20"
      },
      "source": [
        "def softmax(a):\n",
        "  c = np.max(a)\n",
        "  exp_a = np.exp(a - c)\n",
        "  sum_exp_a = np.sum(exp_a)\n",
        "  y = exp_a / sum_exp_a\n",
        "\n",
        "  return y\n",
        "\n",
        "a = np.array([0.3, 2.9, 4.0])\n",
        "y = softmax(a)\n",
        "print(y)\n",
        "print(np.sum(y)) # 소프트맥스 함수 값을 다 더하면 1이 나온다."
      ],
      "execution_count": null,
      "outputs": [
        {
          "output_type": "stream",
          "text": [
            "[0.01821127 0.24519181 0.73659691]\n",
            "1.0\n"
          ],
          "name": "stdout"
        }
      ]
    },
    {
      "cell_type": "code",
      "metadata": {
        "id": "IbXpgxl3F5Ca",
        "colab": {
          "base_uri": "https://localhost:8080/",
          "height": 85
        },
        "outputId": "ec22eca8-3f47-4774-998c-a66b50d29242"
      },
      "source": [
        "import sys, os\n",
        "os.chdir(\"/content/drive/My Drive/deep-learning-from-scratch-master/dataset\")\n",
        "sys.path.append(os.chdir)\n",
        "from mnist import load_mnist\n",
        "\n",
        "(x_train, t_train), (x_test, t_test) = load_mnist(flatten = True, normalize = False)\n",
        "\n",
        "print(x_train.shape)\n",
        "print(t_train.shape)\n",
        "print(x_test.shape)\n",
        "print(t_test.shape)"
      ],
      "execution_count": null,
      "outputs": [
        {
          "output_type": "stream",
          "text": [
            "(60000, 784)\n",
            "(60000,)\n",
            "(10000, 784)\n",
            "(10000,)\n"
          ],
          "name": "stdout"
        }
      ]
    },
    {
      "cell_type": "code",
      "metadata": {
        "id": "rk5k_yGuLfIB",
        "colab": {
          "base_uri": "https://localhost:8080/",
          "height": 316
        },
        "outputId": "de211d88-a281-4235-bfe3-eb926faa0fbf"
      },
      "source": [
        "import numpy as np\n",
        "import sys, os\n",
        "os.chdir(\"/content/drive/My Drive/deep-learning-from-scratch-master\")\n",
        "sys.path.append('/content/drive/My Drive/deep-learning-from-scratch-master')\n",
        "from dataset.mnist import load_mnist\n",
        "from PIL import Image\n",
        "from matplotlib.pyplot import imshow\n",
        "%matplotlib inline\n",
        "\n",
        "def img_show(img):\n",
        "  pil_img = Image.fromarray(np.uint8(img))\n",
        "  pil_img.show()\n",
        "  imshow(np.asarray(pil_img))\n",
        "\n",
        "(x_train, t_train), (x_test, t_test) = load_mnist(flatten = True, normalize = False)\n",
        "\n",
        "img = x_train[0]\n",
        "label = t_train[0]\n",
        "print(label)\n",
        "\n",
        "print(img.shape)\n",
        "img = img.reshape(28, 28)\n",
        "print(img.shape)\n",
        "\n",
        "img_show(img)"
      ],
      "execution_count": null,
      "outputs": [
        {
          "output_type": "stream",
          "text": [
            "5\n",
            "(784,)\n",
            "(28, 28)\n"
          ],
          "name": "stdout"
        },
        {
          "output_type": "display_data",
          "data": {
            "image/png": "[encoded data removed]",
            "text/plain": [
              "<Figure size 432x288 with 1 Axes>"
            ]
          },
          "metadata": {
            "tags": [],
            "needs_background": "light"
          }
        }
      ]
    },
    {
      "cell_type": "code",
      "metadata": {
        "id": "oPnLqFuKsEYN",
        "colab": {
          "base_uri": "https://localhost:8080/",
          "height": 34
        },
        "outputId": "5dc4c78e-5402-4598-c6b6-1b6e2c3664f8"
      },
      "source": [
        "import numpy as np\n",
        "import sys, os\n",
        "os.chdir(\"/content/drive/My Drive/deep-learning-from-scratch-master/ch03\")\n",
        "sys.path.append(os.chdir)\n",
        "import pickle\n",
        "\n",
        "def get_data():\n",
        "  (x_train, t_train), (x_test, t_test) = load_mnist(normalize=True, flatten=True, one_hot_label=False)\n",
        "  return x_test, t_test\n",
        "\n",
        "def init_network():\n",
        "  with open(\"sample_weight.pkl\", 'rb') as f:\n",
        "    network = pickle.load(f)\n",
        "\n",
        "    return network\n",
        "\n",
        "def predict(network, x):\n",
        "  W1, W2, W3 = network['W1'], network['W2'], network['W3']\n",
        "  b1, b2, b3 = network['b1'], network['b2'], network['b3']\n",
        "\n",
        "  a1 = np.dot(x, W1) + b1\n",
        "  z1 = sigmoid(a1)\n",
        "  a2 = np.dot(z1, W2) + b2\n",
        "  z2 = sigmoid(a2)\n",
        "  a3 = np.dot(z2, W3) + b3\n",
        "  y = softmax(a3)\n",
        "\n",
        "  return y\n",
        "\n",
        "x, t = get_data()\n",
        "network = init_network()\n",
        "accuracy_cnt = 0\n",
        "for i in range(len(x)):\n",
        "  y = predict(network, x[i])\n",
        "  p = np.argmax(y)\n",
        "  if p == t[i]:\n",
        "    accuracy_cnt += 1\n",
        "\n",
        "print(\"Accuracy:\" + str(float(accuracy_cnt) / len(x)))"
      ],
      "execution_count": null,
      "outputs": [
        {
          "output_type": "stream",
          "text": [
            "Accuracy:0.9352\n"
          ],
          "name": "stdout"
        }
      ]
    },
    {
      "cell_type": "code",
      "metadata": {
        "id": "M39rxCQOyGko"
      },
      "source": [
        "# 미니배치 기본\n",
        "\n",
        "train_size = x_train.shape[0]\n",
        "batch_size = 10     # 10장만 빼낼거임\n",
        "batch_mask = np.random.choice(train_size, batch_size)   # 무작위로 10개 선정\n",
        "x_batch = x_train[batch_mask]   # 10개 선정된 값을 이용해서 훈련 데이터에서 10장 빼내기\n",
        "t_batch = t_train[batch_mask]\n",
        "print(batch_mask)"
      ],
      "execution_count": null,
      "outputs": []
    },
    {
      "cell_type": "code",
      "metadata": {
        "id": "5VXo7YGAyINa"
      },
      "source": [
        "np.random.choice(60000, 10)  # 지정한 범위의 수(60000) 중에서 원하는 개수(10)만큼 무작위로 꺼낸다.\n",
        "\n",
        "# 이렇게 출력한 배열을 미니배치로 뽑아낼 데이터의 인덱스로 사용하는게 기본 아이디어"
      ],
      "execution_count": null,
      "outputs": []
    },
    {
      "cell_type": "code",
      "metadata": {
        "id": "3ZAv12MZz4Z-",
        "colab": {
          "base_uri": "https://localhost:8080/",
          "height": 119
        },
        "outputId": "324d5d59-0810-47c7-9573-22aaf0baf0db"
      },
      "source": [
        "x, _ = get_data()\n",
        "network = init_network()\n",
        "W1, W2, W3 = network['W1'], network['W2'], network['W3']\n",
        "\n",
        "print(x.shape)\n",
        "print(_.shape)\n",
        "print(x[0].shape)\n",
        "print(W1.shape)\n",
        "print(W2.shape)\n",
        "print(W3.shape)"
      ],
      "execution_count": null,
      "outputs": [
        {
          "output_type": "stream",
          "text": [
            "(10000, 784)\n",
            "(10000,)\n",
            "(784,)\n",
            "(784, 50)\n",
            "(50, 100)\n",
            "(100, 10)\n"
          ],
          "name": "stdout"
        }
      ]
    },
    {
      "cell_type": "code",
      "metadata": {
        "id": "haYTj5tWt2Fg",
        "colab": {
          "base_uri": "https://localhost:8080/",
          "height": 34
        },
        "outputId": "b48b16a8-ec0d-4434-80ab-3800da5395eb"
      },
      "source": [
        "x, t = get_data()\n",
        "network = init_network()\n",
        "\n",
        "batch_size = 100\n",
        "accuracy_cnt = 0\n",
        "\n",
        "for i in range(0, len(x), batch_size):\n",
        "  x_batch = x[i : i + batch_size]\n",
        "  y_batch = predict(network, x_batch)\n",
        "  p = np.argmax(y_batch, axis=1)\n",
        "  accuracy_cnt += np.sum(p == t[i : i + batch_size])\n",
        "\n",
        "print(\"Accuracy: \" + str(float(accuracy_cnt) / len(x)))"
      ],
      "execution_count": null,
      "outputs": [
        {
          "output_type": "stream",
          "text": [
            "Accuracy: 0.9352\n"
          ],
          "name": "stdout"
        }
      ]
    },
    {
      "cell_type": "code",
      "metadata": {
        "id": "eSF8MB1DA-Pb",
        "colab": {
          "base_uri": "https://localhost:8080/",
          "height": 51
        },
        "outputId": "58354dde-2352-45fa-ddf1-3e53f99735cd"
      },
      "source": [
        "def sum_squares_error(y, t):\n",
        "  return 0.5 * np.sum((y-t)**2)\n",
        "\n",
        "t = [0, 0, 1, 0, 0, 0, 0, 0, 0, 0]\n",
        "\n",
        "y = [0.1, 0.05, 0.6, 0.0, 0.05, 0.1, 0.0, 0.1, 0.0, 0.0]\n",
        "print(sum_squares_error(np.array(y), np.array(t)))\n",
        "\n",
        "y = [0.1, 0.05, 0.1, 0.0, 0.05, 0.1, 0.0, 0.6, 0.0, 0.0]\n",
        "print(sum_squares_error(np.array(y), np.array(t)))"
      ],
      "execution_count": null,
      "outputs": [
        {
          "output_type": "stream",
          "text": [
            "0.09750000000000003\n",
            "0.5975\n"
          ],
          "name": "stdout"
        }
      ]
    },
    {
      "cell_type": "code",
      "metadata": {
        "id": "8KrLaJ8PDO4w",
        "colab": {
          "base_uri": "https://localhost:8080/",
          "height": 51
        },
        "outputId": "0ec7440a-66f5-433e-b591-8ce50c4641cb"
      },
      "source": [
        "def cross_entropy_error(y, t):\n",
        "  delta = 1e-7\n",
        "  return -np.sum(t * np.log(y + delta))\n",
        "\n",
        "t = [0, 0, 1, 0, 0, 0, 0, 0, 0, 0]\n",
        "\n",
        "y = [0.1, 0.05, 0.6, 0.0, 0.05, 0.1, 0.0, 0.1, 0.0, 0.0]\n",
        "\n",
        "print(cross_entropy_error(np.array(y), np.array(t)))\n",
        "\n",
        "y = [0.1, 0.05, 0.1, 0.0, 0.05, 0.1, 0.0, 0.6, 0.0, 0.0]\n",
        "\n",
        "print(cross_entropy_error(np.array(y), np.array(t)))"
      ],
      "execution_count": null,
      "outputs": [
        {
          "output_type": "stream",
          "text": [
            "0.510825457099338\n",
            "2.302584092994546\n"
          ],
          "name": "stdout"
        }
      ]
    },
    {
      "cell_type": "code",
      "metadata": {
        "id": "z3IOe_2CFJSw",
        "colab": {
          "base_uri": "https://localhost:8080/",
          "height": 102
        },
        "outputId": "e440be03-fd1f-430e-b36d-fe9858bea607"
      },
      "source": [
        "import sys, os\n",
        "os.chdir(\"/content/drive/My Drive/deep-learning-from-scratch-master\")\n",
        "sys.path.append(os.chdir)\n",
        "import numpy as np\n",
        "from dataset.mnist import load_mnist\n",
        "\n",
        "(x_train, t_train), (x_test, t_test) = load_mnist(normalize=True, one_hot_label=True)\n",
        "\n",
        "print(x_train.shape)\n",
        "print(t_train.shape, '\\n')\n",
        "\n",
        "train_size = x_train.shape[0]\n",
        "batch_size = 10\n",
        "batch_mask = np.random.choice(train_size, batch_size)\n",
        "\n",
        "#x_batch = x_train[batch_mask]\n",
        "#t_batch = t_train[batch_mask]\n",
        "print(batch_mask)\n",
        "print(np.random.choice(60000, 10))"
      ],
      "execution_count": null,
      "outputs": [
        {
          "output_type": "stream",
          "text": [
            "(60000, 784)\n",
            "(60000, 10) \n",
            "\n",
            "[33947 55212 58187 52057 15477 19034 37692 14299 17004 22333]\n",
            "[12492 47366 58718 18115 31648 33970 25208 36930 46899 40895]\n"
          ],
          "name": "stdout"
        }
      ]
    },
    {
      "cell_type": "code",
      "metadata": {
        "id": "JKH9C5rkHqYD",
        "colab": {
          "base_uri": "https://localhost:8080/",
          "height": 34
        },
        "outputId": "1450021b-dcd5-4fa0-eee8-f4490fa20746"
      },
      "source": [
        "# 미니배치를 위한 교차 엔트로피 오차 구현\n",
        "\n",
        "# Case 1 : 정답 레이블이 원-핫 인코딩인 경우\n",
        "def cross_entropy_error(y, t):   # y : 신경망 출력, t : 정답 레이블\n",
        "  if y.ndim == 1:    # y가 1차원이다 => 데이터 하나당 교차 엔트로피 오차를 구한다 의 경우\n",
        "    t = t.reshape(1, t.size)\n",
        "    y = y.reshape(1, y.size)\n",
        "\n",
        "  batch_size = y.shape[0]\n",
        "  return -np.sum(t * np.log(y + 1e-7)) / batch_size"
      ],
      "execution_count": null,
      "outputs": [
        {
          "output_type": "stream",
          "text": [
            "2.302584092994546\n"
          ],
          "name": "stdout"
        }
      ]
    },
    {
      "cell_type": "code",
      "metadata": {
        "id": "4hpdQ_QBIF0Z",
        "colab": {
          "base_uri": "https://localhost:8080/",
          "height": 34
        },
        "outputId": "d48df0cd-f643-466e-87ec-bc11ff263e0e"
      },
      "source": [
        "# Case 2 : 정답 레이블이 단순 레이블 형태인 경우\n",
        "def cross_entropy_error(y, t):\n",
        "  if y.ndim == 1:\n",
        "    t = t.reshape(1, t.size)\n",
        "    y = y.reshape(1, y.size)\n",
        "\n",
        "  batch_size = y.shape[0]\n",
        "  return -np.sum(np.log(y[np.arange(batch_size), t] + 1e-7)) / batch_size\n",
        "\n",
        "  '''\n",
        "  정확도를 놔두고 '손실함수' 를 사용하는 이유 => 미분\n",
        "  - 우리 목적은 '높은 정확도'를 끌어내는 매개변수(가중치, 편향)을 찾는거임\n",
        "  - 미분 값을 근거로 매개변수의 값을 갱신하면서 찾을 수 있음\n",
        "  - 근데 정확도를 지표로 삼고 미분하면 대부분 장소에서 0 이 되기 떄문에 찾기 힘들다.\n",
        "  '''"
      ],
      "execution_count": null,
      "outputs": [
        {
          "output_type": "stream",
          "text": [
            "23.718987110506905\n"
          ],
          "name": "stdout"
        }
      ]
    },
    {
      "cell_type": "code",
      "metadata": {
        "id": "62ggg8fsLYno"
      },
      "source": [
        "# 수치 미분\n",
        "\n",
        "'''\n",
        "잘못된 예시 \n",
        "def numerical_diff(f, x):\n",
        "  h = 10e-50\n",
        "  return (f(x+h) - f(x)) / h\n",
        "\n",
        "문제 두가지 발생\n",
        "1. 가급적 작은 값 넣을려고 10^-50 을 떄려박음 => 소수점 8자리 이하가 생략되서 최종 계산 결과 오차 (반올림 오차 - rounding error)\n",
        "2. 함수 f의 차분(임의 두 점에서 함수 값들의 차이)에서 생기는 문제 (h를 무한히 0으로 좁히는게 불가능해서 생기는 한계)\n",
        "=> 리얼 미분은 x위치에서 함수의 기울기 인데, 이 구현에서 미분은 (x+h)랑 x 사이의 기울기에 해당함. \n",
        "'''\n",
        "\n",
        "# 개선! (x+h) 와 (x-h)일ㄷ 때의 함수 f의 차분을 계산하는 방법 => 중심 차분 or 중앙 차분\n",
        "def numerical_diff(f ,x):\n",
        "  h = 1e-4     #0.0001\n",
        "  return (f(x+h) - f(x-h)) / (2*h)\n",
        "\n",
        "\n",
        "# 수치 미분은 수학시간에 배우는 미분이 아님. '근사치'로 계산하는 방법이다."
      ],
      "execution_count": null,
      "outputs": []
    },
    {
      "cell_type": "code",
      "metadata": {
        "id": "Pqq3lgqkLttI",
        "colab": {
          "base_uri": "https://localhost:8080/",
          "height": 279
        },
        "outputId": "9126ac9c-d0db-4566-a764-886a04174591"
      },
      "source": [
        "# 수치미분 ex\n",
        "\n",
        "import numpy as np\n",
        "import matplotlib.pylab as plt\n",
        "\n",
        "def function_1(x):\n",
        "  return 0.01 * x**2 + 0.1 * x\n",
        "\n",
        "x = np.arange(0.0, 20.0, 0.1)\n",
        "y = function_1(x)\n",
        "\n",
        "plt.xlabel('x')\n",
        "plt.ylabel('f(x)')\n",
        "plt.plot(x, y, color = \"red\", label = 'Example')\n",
        "plt.legend()\n",
        "plt.show()"
      ],
      "execution_count": null,
      "outputs": [
        {
          "output_type": "display_data",
          "data": {
            "image/png": "[encoded data removed]",
            "text/plain": [
              "<Figure size 432x288 with 1 Axes>"
            ]
          },
          "metadata": {
            "tags": [],
            "needs_background": "light"
          }
        }
      ]
    },
    {
      "cell_type": "code",
      "metadata": {
        "id": "y0rLIv_0MLLL",
        "colab": {
          "base_uri": "https://localhost:8080/",
          "height": 51
        },
        "outputId": "8a5f83cf-9d1b-43b2-bbed-0e1eba96d25f"
      },
      "source": [
        "print(numerical_diff(function_1, 5))  # 실제 미분 값 0.2\n",
        "print(numerical_diff(function_1, 10)) # 실제 미분 값 0.3   오차 매우 작음 체크"
      ],
      "execution_count": null,
      "outputs": [
        {
          "output_type": "stream",
          "text": [
            "0.1999999999990898\n",
            "0.2999999999986347\n"
          ],
          "name": "stdout"
        }
      ]
    },
    {
      "cell_type": "code",
      "metadata": {
        "id": "6fau7hccMmFr",
        "colab": {
          "base_uri": "https://localhost:8080/",
          "height": 282
        },
        "outputId": "93872dc2-7560-4053-d4db-55d856666ac5"
      },
      "source": [
        "def tangent_line(f, x):\n",
        "    d = numerical_diff(f, x)\n",
        "    print(d)\n",
        "    y = f(x) - d*x\n",
        "    return lambda t: d*t + y\n",
        "\n",
        "tf = tangent_line(function_1, 5)\n",
        "y2 = tf(x)\n",
        "\n",
        "x = np.arange(0.0, 20.0, 0.1)\n",
        "plt.plot(x, y2)\n",
        "plt.show()"
      ],
      "execution_count": null,
      "outputs": [
        {
          "output_type": "stream",
          "text": [
            "0.1999999999990898\n"
          ],
          "name": "stdout"
        },
        {
          "output_type": "display_data",
          "data": {
            "image/png": "[encoded data removed]",
            "text/plain": [
              "<Figure size 432x288 with 1 Axes>"
            ]
          },
          "metadata": {
            "tags": [],
            "needs_background": "light"
          }
        }
      ]
    },
    {
      "cell_type": "code",
      "metadata": {
        "id": "SNBjxczaNTwb"
      },
      "source": [
        "def function_2(x):\n",
        "  return x[0] ** 2 + x[1] ** 2"
      ],
      "execution_count": null,
      "outputs": []
    },
    {
      "cell_type": "code",
      "metadata": {
        "id": "9dv_XdOfOFRK",
        "colab": {
          "base_uri": "https://localhost:8080/",
          "height": 34
        },
        "outputId": "cdf1c12a-e4d1-47ab-886a-9310fe8f8404"
      },
      "source": [
        "def function_tmp1(x0):\n",
        "  return x0 * x0 + 4.0 ** 2.0\n",
        "\n",
        "print(numerical_diff(function_tmp1, 3.0))"
      ],
      "execution_count": null,
      "outputs": [
        {
          "output_type": "stream",
          "text": [
            "6.00000000000378\n"
          ],
          "name": "stdout"
        }
      ]
    },
    {
      "cell_type": "code",
      "metadata": {
        "id": "Ejub75L9WmBf",
        "colab": {
          "base_uri": "https://localhost:8080/",
          "height": 68
        },
        "outputId": "33022bb8-c2de-405b-bdb8-38d2416eb480"
      },
      "source": [
        "# 기울기(gradient) => 모든 변수의 편미분을 벡터로 정리한 것 \n",
        "\n",
        "def numerical_gradient(f, x):\n",
        "  h = 1e-4\n",
        "  grad = np.zeros_like(x)   # x 와 형상이 같은 배열을 생성, 원소는 모두 0\n",
        "\n",
        "  for idx in range(x.size):\n",
        "    tmp_val = x[idx]\n",
        "    # f(x+h) 계산\n",
        "    x[idx] = tmp_val + h\n",
        "    fxh1 = f(x)\n",
        "    # f(x-h) 계산\n",
        "    x[idx] = tmp_val - h\n",
        "    fxh2 = f(x)\n",
        "\n",
        "    grad[idx] = (fxh1 - fxh2) / (2*h)\n",
        "    x[idx] = tmp_val\n",
        "\n",
        "  return grad\n",
        "\n",
        "print(numerical_gradient(function_2, np.array([3.0, 4.0])))\n",
        "print(numerical_gradient(function_2, np.array([0.0, 2.0])))\n",
        "print(numerical_gradient(function_2, np.array([3.0, 0.0])))"
      ],
      "execution_count": null,
      "outputs": [
        {
          "output_type": "stream",
          "text": [
            "[6. 8.]\n",
            "[0. 4.]\n",
            "[6. 0.]\n"
          ],
          "name": "stdout"
        }
      ]
    },
    {
      "cell_type": "code",
      "metadata": {
        "id": "8QMYegKJaKKx"
      },
      "source": [
        "# 경사 하강법\n",
        "def gradient_descent(f, init_x, lr = 0.01, step_num = 100):\n",
        "  x = init_x\n",
        "\n",
        "  for i in range(step_num):\n",
        "    grad = numerical_gradient(f, x)\n",
        "    x -= lr * grad\n",
        "\n",
        "  return x"
      ],
      "execution_count": null,
      "outputs": []
    },
    {
      "cell_type": "code",
      "metadata": {
        "id": "hJcivzCYa1NE",
        "colab": {
          "base_uri": "https://localhost:8080/",
          "height": 34
        },
        "outputId": "5988e8f2-98c7-4dcb-f888-dad6fa5d37f3"
      },
      "source": [
        "# 경사법으로 함수의 최솟값을 구하기\n",
        "\n",
        "def function_2(x):\n",
        "  return x[0]**2 + x[1]**2\n",
        "\n",
        "init_x = np.array([-3.0, 4.0])\n",
        "\n",
        "d = gradient_descent(function_2, init_x, lr = 0.1, step_num = 100)\n",
        "print(d)"
      ],
      "execution_count": null,
      "outputs": [
        {
          "output_type": "stream",
          "text": [
            "[-6.11110793e-10  8.14814391e-10]\n"
          ],
          "name": "stdout"
        }
      ]
    },
    {
      "cell_type": "code",
      "metadata": {
        "id": "j1mZxOx_HZNV",
        "colab": {
          "base_uri": "https://localhost:8080/",
          "height": 279
        },
        "outputId": "f0008083-ff68-467e-d956-a198e9716765"
      },
      "source": [
        "# 위의 갱신 과정 그리기\n",
        "import numpy as np\n",
        "import matplotlib.pyplot as plt\n",
        "\n",
        "def gradient_descent(f, init_x, lr = 0.01, step_num = 100):\n",
        "  x = init_x\n",
        "  x_history = []  # 변하는 x 값 저장할 빈 리스트\n",
        "\n",
        "  for i in range(step_num):\n",
        "    x_history.append(x.copy())\n",
        "\n",
        "    grad = numerical_gradient(f, x)\n",
        "    x -= lr * grad\n",
        "\n",
        "  return x, np.array(x_history)\n",
        "\n",
        "def function_2(x):\n",
        "  return x[0]**2 + x[1]**2\n",
        "\n",
        "init_x = np.array([-3.0, 4.0])\n",
        "\n",
        "x, x_history = gradient_descent(function_2 , init_x, lr = 0.1, step_num = 20)\n",
        "\n",
        "plt.plot([-5.0, 5.0], [0, 0], '--b') # x축(x0축) 표시\n",
        "plt.plot([0,0], [-5.0, 5.0], '--b') # y축(x1축) 표시\n",
        "plt.plot(x_history[:,0], x_history[:,1],  'o', label = \"History\", color = \"red\")\n",
        "\n",
        "plt.xlim(-3.5, 3.5)\n",
        "plt.ylim(-4.5, 4.5)\n",
        "plt.xlabel(\"x0\")\n",
        "plt.ylabel(\"x1\")\n",
        "plt.legend()\n",
        "plt.show()"
      ],
      "execution_count": null,
      "outputs": [
        {
          "output_type": "display_data",
          "data": {
            "image/png": "[encoded data removed]",
            "text/plain": [
              "<Figure size 432x288 with 1 Axes>"
            ]
          },
          "metadata": {
            "tags": [],
            "needs_background": "light"
          }
        }
      ]
    },
    {
      "cell_type": "code",
      "metadata": {
        "id": "bJD8PulLyzjg"
      },
      "source": [
        "def gradient_descent(f, init_x, lr = 0.01, step_num = 100):\n",
        "  x = init_x\n",
        "\n",
        "  for i in range(step_num):\n",
        "    grad = numerical_gradient(f, x)\n",
        "    x -= lr * grad\n",
        "\n",
        "  return x\n",
        "\n",
        "# learning rate (학습률)이 너무 큰 예\n",
        "\n",
        "init_x = np.array([-3.0, 4.0])\n",
        "g = gradient_descent(function_2, init_x, lr = 10.0, step_num = 100)\n",
        "print(g) # 학습률이 너무 크면 큰 값으로 발산하는거 확인\n",
        "\n",
        "init_x = np.array([-3.0 , 4.0])\n",
        "g = gradient_descent(function_2, init_x, lr = 1e-10, step_num = 100)\n",
        "print(g) # 학습률이 너무 작으면 거의 갱신되지 않고 끝난다."
      ],
      "execution_count": null,
      "outputs": []
    },
    {
      "cell_type": "code",
      "metadata": {
        "id": "ZRSzdAbUeBHs",
        "colab": {
          "base_uri": "https://localhost:8080/",
          "height": 136
        },
        "outputId": "e53154a7-a889-4c88-c10e-351a7856d384"
      },
      "source": [
        "# 신경망학습에서의 기울기\n",
        "import sys, os\n",
        "os.chdir(\"/content/drive/My Drive/deep-learning-from-scratch-master\")\n",
        "sys.path.append(os.chdir)\n",
        "import numpy as np\n",
        "from common.functions import softmax, cross_entropy_error\n",
        "from common.gradient import numerical_gradient\n",
        "\n",
        "class simpleNet:\n",
        "  def __init__(self):\n",
        "    self.W = np.random.randn(2, 3) # 정규분포로 초기화\n",
        "\n",
        "  def predict(self, x):\n",
        "    return np.dot(x, self.W) # 행렬 곱 구하는 np.dot\n",
        "\n",
        "  def loss(self, x, t):\n",
        "    z = self.predict(x)  # 예측값\n",
        "    y = softmax(z)       # 예측값의 확률 구하기\n",
        "    loss = cross_entropy_error(y, t)   # 손실함수 값 구하기\n",
        "\n",
        "    return loss\n",
        "\n",
        "'''\n",
        "simpleNet 클래스는 형상이 2*3인 가중치 매개변수 하나를 인스턴스 변수로 가진다.\n",
        "메서드 1, predict : 예측 수행  \n",
        "메서드 2, loss : 손실함수 값 출력  (인수 x : 입력 데이터, t : 정답 데이터)\n",
        "'''\n",
        "\n",
        "net = simpleNet()\n",
        "print(net.W, '\\n')              # 2 * 3 행렬로 초기화.\n",
        "\n",
        "x = np.array([0.6, 0.9])  # 1 * 2 행렬\n",
        "p = net.predict(x)        # 1*2 * 2*3 = 1 * 3 행렬로 나온다.\n",
        "print(p)                  # 예측값 출력\n",
        "print(softmax(p))         # 확률 출력, 다 더하면 1인거 확인.\n",
        "print(np.argmax(p), '\\n') # p의 최댓값의 인덱스 표시\n",
        "\n",
        "\n",
        "t = np.array([0, 0, 1])   # 정답 레이블\n",
        "print(net.loss(x, t), '\\n')\n",
        "\n",
        "def f(W):  # W 는 dummy 값이다. \n",
        "  return net.loss(x, t)\n",
        "\n",
        "dW = numerical_gradient(f, net.W)  # 이 형태의 일관성을 위해서 f(W)를 정의해준다.\n",
        "print(dW)  # 기울기 출력 "
      ],
      "execution_count": null,
      "outputs": [
        {
          "output_type": "stream",
          "text": [
            "[[ 1.27763957 -0.66051944 -0.0045516 ]\n",
            " [ 1.13960729 -1.28121333 -0.00166014]]\n",
            "[ 1.79223031 -1.54940367 -0.00422509]\n",
            "0\n",
            "1.9798297936451472\n",
            "[[ 0.49947313  0.01767091 -0.51714404]\n",
            " [ 0.7492097   0.02650637 -0.77571606]]\n"
          ],
          "name": "stdout"
        }
      ]
    },
    {
      "cell_type": "code",
      "metadata": {
        "id": "xaT_7C8UmrdL"
      },
      "source": [
        "import sys, os\n",
        "os.chdir(\"/content/drive/My Drive/deep-learning-from-scratch-master\")\n",
        "sys.path.append(os.chdir)\n",
        "import numpy as np\n",
        "from common.functions import softmax, cross_entropy_error\n",
        "from common.gradient import numerical_gradient\n",
        "\n",
        "class TwoLayerNet:\n",
        "  def __init__(self, input_size, hidden_size, output_size, weight_init_std=0.01):\n",
        "            # 순서대로 입력층 뉴런 수, 은닉층 뉴런 수, 출력층 뉴런 수\n",
        "    self.params = {}      # 신경망의 매개변수를 저장하기 위한 딕셔너리 \n",
        "    self.params['W1'] = weight_init_std * np.random.randn(input_size, hidden_size)  # 1번째 층 가중치\n",
        "    self.params['b1'] = np.zeros(hidden_size)                                       # 1번째 층 편향\n",
        "    self.params['W2'] = weight_init_std * np.random.randn(hidden_size, output_size) # 2번째 층 가중치\n",
        "    self.params['b2'] = np.zeros(output_size)                                       # 2번째 층 편향\n",
        "\n",
        "  def predict(self, x):  # x\n",
        "    W1, W2 = self.params['W1'], self.params['W2']\n",
        "    b1, b2 = self.params['b1'], self.params['b2']\n",
        "\n",
        "    a1 = np.dot(x, W1) + b1\n",
        "    z1 = sigmoid(a1)\n",
        "    a2 = np.dot(z1, W2) + b2\n",
        "    y = softmax(a2)\n",
        "\n",
        "    return y\n",
        "\n",
        "  def loss(self, x, t):\n",
        "    y = self.predict(x)\n",
        "\n",
        "    return cross_entropy_error(y, t)\n",
        "\n",
        "  def accuracy(self, x, t):\n",
        "    y = self.predict(x)\n",
        "    y = np.argmax(y, axis =1)\n",
        "    t = np.argmax(t, axis =1)\n",
        "\n",
        "    accuracy = np.sum(y == t) / float(x.shape[0])\n",
        "    return acuuracy\n",
        "\n",
        "\n",
        "  def numerical_gradient(self, x, t):\n",
        "    loss_W = lambda W: self.loss(x, t)\n",
        "\n",
        "    grads = {}  # 기울기를 보관할 딕셔너리\n",
        "    grads['W1'] = numerical_gradient(loss_W, self.params['W1']) # 1번째 층의 가중치의 기울기\n",
        "    grads['b1'] = numerical_gradient(loss_W, self.params['b1']) # 1번째 층의 편향의 기울기\n",
        "    grads['W2'] = numerical_gradient(loss_W, self.params['W2']) # 2번째 층의 가중치의 기울기\n",
        "    grads['b2'] = numerical_gradient(loss_W, self.params['b2']) # 2번째 층의 편향의 기울기\n",
        "\n",
        "    return grads"
      ],
      "execution_count": null,
      "outputs": []
    },
    {
      "cell_type": "code",
      "metadata": {
        "id": "z1uHrnXJzRpu",
        "colab": {
          "base_uri": "https://localhost:8080/",
          "height": 283
        },
        "outputId": "03f1f240-fb32-495d-d768-f2ed98935b2e"
      },
      "source": [
        "# 미니배치 학습 구현\n",
        "\n",
        "import numpy as np\n",
        "import sys, os\n",
        "os.chdir(\"/content/drive/My Drive/deep-learning-from-scratch-master\")\n",
        "sys.path.append(os.chdir)\n",
        "from dataset.mnist import load_mnist\n",
        "from ch04.two_layer_net import TwoLayerNet\n",
        "\n",
        "(x_train, t_train), (x_test, t_test) = load_mnist(normalize=True, one_hot_label=True)\n",
        "\n",
        "train_loss_list = []\n",
        "\n",
        "# 하이퍼 파라미터\n",
        "iters_num = 10000 # 반복 횟수\n",
        "train_size = x_train.shape[0]\n",
        "batch_size = 100 # 미니배치 크기\n",
        "learning_rate = 0.1\n",
        "\n",
        "network = TwoLayerNet(input_size = 784, hidden_size = 50, output_size = 10)\n",
        "\n",
        "for i in range(iters_num):\n",
        "  # 미니배치 획득\n",
        "  batch_mask = np.random.choice(train_size, batch_size)\n",
        "  x_batch = x_train[batch_mask]\n",
        "  t_batch = t_train[batch_mask]\n",
        "  # 기울기 계산\n",
        "  grad = network.gradient(x_batch, t_batch)\n",
        "\n",
        "  # 매개변수 갱신\n",
        "  for key in ('W1', 'b1', 'W2', 'b2'):\n",
        "    network.params[key] -= learning_rate * grad[key]\n",
        "\n",
        "  # 학습 경과 기록  \n",
        "  loss = network.loss(x_batch, t_batch)\n",
        "  train_loss_list.append(loss)\n",
        "\n",
        "import matplotlib.pyplot as plt\n",
        "\n",
        "x = np.arange(iters_num)\n",
        "plt.ylim(0.0, 9.0)\n",
        "plt.plot(x, train_loss_list, color = \"red\")\n",
        "plt.xlabel(\"iteration\")\n",
        "plt.ylabel(\"loss\")\n",
        "plt.show()"
      ],
      "execution_count": null,
      "outputs": [
        {
          "output_type": "display_data",
          "data": {
            "image/png": "[encoded data removed]",
            "text/plain": [
              "<Figure size 432x288 with 1 Axes>"
            ]
          },
          "metadata": {
            "tags": [],
            "needs_background": "light"
          }
        }
      ]
    },
    {
      "cell_type": "code",
      "metadata": {
        "id": "LGicK4FZ2W7o",
        "colab": {
          "base_uri": "https://localhost:8080/",
          "height": 306
        },
        "outputId": "0c3fcdb6-367a-4674-c894-e1fcacfc5147"
      },
      "source": [
        "import numpy as np\n",
        "import sys, os\n",
        "os.chdir(\"/content/drive/My Drive/deep-learning-from-scratch-master\")\n",
        "sys.path.append(os.chdir)\n",
        "from dataset.mnist import load_mnist\n",
        "from ch04.two_layer_net import TwoLayerNet\n",
        "\n",
        "(x_train, t_train), (x_test, t_test) = load_mnist(normalize=True, one_hot_label=True)\n",
        "\n",
        "network = TwoLayerNet(input_size = 784, hidden_size = 50, output_size = 10)\n",
        "\n",
        "# 하이퍼 파라미터\n",
        "iters_num = 10000 # 반복 횟수\n",
        "train_size = x_train.shape[0]\n",
        "batch_size = 100 # 미니배치 크기\n",
        "learning_rate = 0.1\n",
        "\n",
        "train_loss_list = []\n",
        "train_acc_list = []\n",
        "test_acc_list = []\n",
        "epochs = []\n",
        "epoch = 0\n",
        "\n",
        "iter_per_epoch = max(train_size / batch_size, 1)    # iteration\n",
        "\n",
        "'''\n",
        "epoch : 모든 데이터 셋을 한번 학습\n",
        "iteration : 1회 학습\n",
        "minibatch : 데이터 셋을 batch size크기로 쪼개서 학습\n",
        "\n",
        "ex) 총 데이터 100개, batch size = 10\n",
        " 1 iteration = 10개 데이터에 대해 학습\n",
        " 1 epoch = 100 / batch size = 10 iteration\n",
        "\n",
        "ex) 총 데이터 2000개, epochs = 20, batch size = 500\n",
        " 1 epoch은 각 데이터의 size가 500인 batch가 들어간 네번의 iteration으로 나누어진다.\n",
        " 전체 데이터셋에 대해서는 20회 학습이 이뤄지는 것, iteration기준으로 보자면 총 80번의 학습이 이뤄진 것.\n",
        "\n",
        "'''\n",
        "\n",
        "for i in range(iters_num):\n",
        "  # 미니배치 획득\n",
        "  batch_mask = np.random.choice(train_size, batch_size)\n",
        "  x_batch = x_train[batch_mask]\n",
        "  t_batch = t_train[batch_mask]\n",
        "  # 기울기 계산\n",
        "  grad = network.gradient(x_batch, t_batch)\n",
        "\n",
        "  # 매개변수 갱신\n",
        "  for key in ('W1', 'b1', 'W2', 'b2'):\n",
        "    network.params[key] -= learning_rate * grad[key]\n",
        "\n",
        "  # 학습 경과 기록  \n",
        "  loss = network.loss(x_batch, t_batch)\n",
        "  train_loss_list.append(loss)\n",
        "\n",
        "  # 1에폭당 정확도 계산\n",
        "  if i % iter_per_epoch == 0:\n",
        "    epochs.append(epoch)\n",
        "    epoch += 1\n",
        "    train_acc = network.accuracy(x_train, t_train)\n",
        "    test_acc = network.accuracy(x_test, t_test)\n",
        "    train_acc_list.append(train_acc)\n",
        "    test_acc_list.append(test_acc)\n",
        "    print(\"train acc, test acc | \" + str(train_acc) + \", \" + str(test_acc))"
      ],
      "execution_count": null,
      "outputs": [
        {
          "output_type": "stream",
          "text": [
            "train acc, test acc | 0.09915, 0.1009\n",
            "train acc, test acc | 0.7770166666666667, 0.7851\n",
            "train acc, test acc | 0.8780666666666667, 0.8832\n",
            "train acc, test acc | 0.9001333333333333, 0.9038\n",
            "train acc, test acc | 0.9088333333333334, 0.9118\n",
            "train acc, test acc | 0.9152833333333333, 0.918\n",
            "train acc, test acc | 0.9203, 0.9227\n",
            "train acc, test acc | 0.92505, 0.9273\n",
            "train acc, test acc | 0.9287833333333333, 0.9298\n",
            "train acc, test acc | 0.9322666666666667, 0.9324\n",
            "train acc, test acc | 0.93385, 0.9351\n",
            "train acc, test acc | 0.9368833333333333, 0.9363\n",
            "train acc, test acc | 0.9395, 0.9404\n",
            "train acc, test acc | 0.9422166666666667, 0.9413\n",
            "train acc, test acc | 0.9444833333333333, 0.9427\n",
            "train acc, test acc | 0.9464166666666667, 0.9437\n",
            "train acc, test acc | 0.9480666666666666, 0.9452\n"
          ],
          "name": "stdout"
        }
      ]
    },
    {
      "cell_type": "code",
      "metadata": {
        "id": "KhVMF0S-C4z5",
        "colab": {
          "base_uri": "https://localhost:8080/",
          "height": 283
        },
        "outputId": "6dd5afc7-2934-4546-a9e0-860d9263a36f"
      },
      "source": [
        "# 훈련 데이터와 시험 데이터에 대한 정확도 추이 그래프 그리기\n",
        "import matplotlib.pyplot as plt\n",
        "\n",
        "x = epochs\n",
        "plt.plot(x, train_acc_list, color = \"red\", label = \"train acc\")\n",
        "plt.plot(x, test_acc_list, linestyle = \"--\", label = \"test acc\")\n",
        "plt.xlabel(\"epochs\")\n",
        "plt.ylabel(\"accuracy\")\n",
        "plt.ylim(0.0, 1.0)\n",
        "plt.legend()\n",
        "plt.show()"
      ],
      "execution_count": null,
      "outputs": [
        {
          "output_type": "display_data",
          "data": {
            "image/png": "[encoded data removed]",
            "text/plain": [
              "<Figure size 432x288 with 1 Axes>"
            ]
          },
          "metadata": {
            "tags": [],
            "needs_background": "light"
          }
        }
      ]
    },
    {
      "cell_type": "code",
      "metadata": {
        "id": "Blu5Dk_VeBMq"
      },
      "source": [
        "# 곱셈 계층 구현\n",
        "class MulLayer:\n",
        "    def __init__(self):  # 인스턴스 변수인 x와 y를 초기화한다. 이 두변수는 순전파 시의 입력값을 유지하기 위해서 사용\n",
        "        self.x = None\n",
        "        self.y = None \n",
        "    \n",
        "    def forward(self, x, y):\n",
        "        self.x = x\n",
        "        self.y = y\n",
        "        out = x * y\n",
        "\n",
        "        return out\n",
        "\n",
        "    def backward(self, dout):\n",
        "        dx = dout * self.y  # x와 y를 바꾼다 \n",
        "        dy = dout * self.x\n",
        "\n",
        "        return dx, dy"
      ],
      "execution_count": null,
      "outputs": []
    },
    {
      "cell_type": "code",
      "metadata": {
        "id": "LXtJv2cJNKa1",
        "colab": {
          "base_uri": "https://localhost:8080/",
          "height": 51
        },
        "outputId": "33429af7-04ec-48d9-806a-45dc3ebe8559"
      },
      "source": [
        "# MulLayer을 이용한 순전파, 역전파 구현\n",
        "\n",
        "apple = 100\n",
        "apple_num = 2\n",
        "tax = 1.1\n",
        "\n",
        "# 계층들\n",
        "mul_apple_layer = MulLayer()\n",
        "mul_tax_layer = MulLayer()\n",
        "\n",
        "# 순전파\n",
        "apple_price = mul_apple_layer.forward(apple, apple_num)\n",
        "price = mul_tax_layer.forward(apple_price, tax)\n",
        "\n",
        "print(price)\n",
        "\n",
        "# 역전파  \n",
        "dprice = 1\n",
        "dapple_price, dtax = mul_tax_layer.backward(dprice)   # 호출 순서가 순전파( forward() ) 때와는 반대인 것 확인\n",
        "dapple, dapple_num = mul_apple_layer.backward(dapple_price)\n",
        "\n",
        "print(dapple, dapple_price, dapple_num, dtax)"
      ],
      "execution_count": null,
      "outputs": [
        {
          "output_type": "stream",
          "text": [
            "220.00000000000003\n",
            "2.2 1.1 110.00000000000001 200\n"
          ],
          "name": "stdout"
        }
      ]
    },
    {
      "cell_type": "code",
      "metadata": {
        "id": "XqcjFPOZNMZ3"
      },
      "source": [
        "# 덧셈 계층 구현\n",
        "class AddLayer:\n",
        "    def __init__(self):\n",
        "        pass  # 덧셈 계층에서는 초기화가 필요없어서 pass\n",
        "\n",
        "    def forward(self, x, y):\n",
        "        out = x + y\n",
        "        return out\n",
        "\n",
        "    def backward(self, dout):   # 상류에서 내려온 미분을 그대로 하류로 흘린다.\n",
        "        dx = dout * 1\n",
        "        dy = dout * 1\n",
        "        return dx, dy   "
      ],
      "execution_count": null,
      "outputs": []
    },
    {
      "cell_type": "code",
      "metadata": {
        "id": "pd2yd4fCNN-P",
        "colab": {
          "base_uri": "https://localhost:8080/",
          "height": 136
        },
        "outputId": "35809a80-39f4-46f3-98e5-f91b6cc4afc6"
      },
      "source": [
        "# p.163 [그림 5-17] 구현\n",
        "\n",
        "apple = 100\n",
        "apple_num = 2\n",
        "orange = 150\n",
        "orange_num = 3\n",
        "tax = 1.1\n",
        "\n",
        "# 계층들\n",
        "mul_apple_layer = MulLayer()\n",
        "mul_orange_layer = MulLayer()\n",
        "add_apple_orange_layer = AddLayer()\n",
        "mul_tax_layer = MulLayer()\n",
        "\n",
        "# 순전파\n",
        "apple_price = mul_apple_layer.forward(apple, apple_num)\n",
        "orange_price = mul_orange_layer.forward(orange, orange_num)\n",
        "all_price = add_apple_orange_layer.forward(apple_price, orange_price)\n",
        "price = mul_tax_layer.forward(all_price, tax)\n",
        "\n",
        "print(all_price)\n",
        "print(price, '\\n')\n",
        "\n",
        "# 역전파\n",
        "dprice = 1\n",
        "dall_price, dtax = mul_tax_layer.backward(dprice)\n",
        "dapple_price, dorange_price = add_apple_orange_layer.backward(dall_price)\n",
        "dorange, dorange_num = mul_orange_layer.backward(dorange_price)\n",
        "dapple, dapple_num = mul_apple_layer.backward(dapple_price)\n",
        "\n",
        "print(dall_price, dtax)\n",
        "print(dapple_price, dorange_price)\n",
        "print(dorange, dorange_num)\n",
        "print(dapple, dapple_num)"
      ],
      "execution_count": null,
      "outputs": [
        {
          "output_type": "stream",
          "text": [
            "650\n",
            "715.0000000000001 \n",
            "\n",
            "1.1 650\n",
            "1.1 1.1\n",
            "3.3000000000000003 165.0\n",
            "2.2 110.00000000000001\n"
          ],
          "name": "stdout"
        }
      ]
    },
    {
      "cell_type": "code",
      "metadata": {
        "id": "ZjMj8ImpNOEo"
      },
      "source": [
        "# ReLU 계층 구현\n",
        "class Relu:\n",
        "    def __init__(self):\n",
        "        self.mask = None\n",
        "\n",
        "    def forward(self, x):\n",
        "        self.mask = (x <= 0)\n",
        "        out = x.copy()\n",
        "        out[self.mask] = 0\n",
        "\n",
        "        return out\n",
        "\n",
        "\n",
        "    def backward(self, dout):\n",
        "        dout[self.mask] = 0\n",
        "        dx = dout\n",
        "\n",
        "        return dx"
      ],
      "execution_count": null,
      "outputs": []
    },
    {
      "cell_type": "code",
      "metadata": {
        "id": "iUk3JgT7NPh3",
        "colab": {
          "base_uri": "https://localhost:8080/",
          "height": 238
        },
        "outputId": "6c0c313e-22d4-44d8-d24d-e7db5df20ff1"
      },
      "source": [
        "x = np.array([[1.0, -0.5], [-2.0, 3.0]])\n",
        "print(x)\n",
        "\n",
        "mask = (x <= 0)\n",
        "print(mask)\n",
        "\n",
        "mask = mask.astype(int)\n",
        "print(mask)\n",
        "\n",
        "# 순전파\n",
        "test = Relu()\n",
        "print(test.mask)\n",
        "t = test.forward(x)\n",
        "print(test.mask)\n",
        "print(t)\n",
        "\n",
        "dt = test.backward(x)\n",
        "print(dt)"
      ],
      "execution_count": null,
      "outputs": [
        {
          "output_type": "stream",
          "text": [
            "[[ 1.  -0.5]\n",
            " [-2.   3. ]]\n",
            "[[False  True]\n",
            " [ True False]]\n",
            "[[0 1]\n",
            " [1 0]]\n",
            "None\n",
            "[[False  True]\n",
            " [ True False]]\n",
            "[[1. 0.]\n",
            " [0. 3.]]\n",
            "[[1. 0.]\n",
            " [0. 3.]]\n"
          ],
          "name": "stdout"
        }
      ]
    },
    {
      "cell_type": "code",
      "metadata": {
        "id": "BgasvWESNPlI"
      },
      "source": [
        "# Sigmoid 계층 구현\n",
        "class Sigmoid:\n",
        "    def __init__(self):\n",
        "        self.out = None\n",
        "\n",
        "    def forward(self, x):\n",
        "        out = 1 / (1 + np.exp(-x))\n",
        "        self.out = out  # 역전파 때 쓸려고 값 저장해둔다.\n",
        "\n",
        "        return out\n",
        "\n",
        "    def backward(self,dout):\n",
        "        dx = dout * (1.0 - self.out) * self.out\n",
        "        \n",
        "        return dx"
      ],
      "execution_count": null,
      "outputs": []
    },
    {
      "cell_type": "code",
      "metadata": {
        "id": "favkQnskNRx5",
        "colab": {
          "base_uri": "https://localhost:8080/",
          "height": 85
        },
        "outputId": "1348bef7-50a5-4ab8-e231-298da4ac70c8"
      },
      "source": [
        "# Affine 계층\n",
        "'''\n",
        "신경망의 순전파 때 수행하는 행렬의 곱을 기하학에서는 어파인 변환(affine transformation)이라고 한다.\n",
        "그래서 어파인 변환을 수행하는 처리를 'Affine 계층'이라는 이름으로 구현한다.\n",
        "'''\n",
        "\n",
        "# ex) 가중치 신호의 총합을 계산하귀 위해 행렬의 곱 사용 \n",
        "X = np.random.rand(2)     # 입력\n",
        "W = np.random.rand(2, 3)  # 가중치\n",
        "B = np.random.rand(3)     # 편향\n",
        "\n",
        "print(X.shape)\n",
        "print(W.shape)\n",
        "print(B.shape)\n",
        "\n",
        "Y = np.dot(X, W) + B\n",
        "print(Y)"
      ],
      "execution_count": null,
      "outputs": [
        {
          "output_type": "stream",
          "text": [
            "(2,)\n",
            "(2, 3)\n",
            "(3,)\n",
            "[1.34276128 1.37158941 0.91383006]\n"
          ],
          "name": "stdout"
        }
      ]
    },
    {
      "cell_type": "code",
      "metadata": {
        "id": "jsMHozSVNR24",
        "colab": {
          "base_uri": "https://localhost:8080/",
          "height": 85
        },
        "outputId": "604017fc-ce0b-4a77-f1ab-6cfb1969a332"
      },
      "source": [
        "X_dot_W = np.array([[0, 0, 0], [10, 10, 10]])\n",
        "B = np.array([1, 2, 3])\n",
        "\n",
        "print(X_dot_W)\n",
        "print(X_dot_W + B)"
      ],
      "execution_count": null,
      "outputs": [
        {
          "output_type": "stream",
          "text": [
            "[[ 0  0  0]\n",
            " [10 10 10]]\n",
            "[[ 1  2  3]\n",
            " [11 12 13]]\n"
          ],
          "name": "stdout"
        }
      ]
    },
    {
      "cell_type": "code",
      "metadata": {
        "id": "CF58Q1eoNTNb",
        "colab": {
          "base_uri": "https://localhost:8080/",
          "height": 68
        },
        "outputId": "c3b51f64-20ad-4881-a695-7ea52f6df1ea"
      },
      "source": [
        "dY = np.array([[1, 2, 3], [4, 5, 6]])\n",
        "print(dY)\n",
        "\n",
        "dB = np.sum(dY, axis = 0)\n",
        "print(dB)"
      ],
      "execution_count": null,
      "outputs": [
        {
          "output_type": "stream",
          "text": [
            "[[1 2 3]\n",
            " [4 5 6]]\n",
            "[5 7 9]\n"
          ],
          "name": "stdout"
        }
      ]
    },
    {
      "cell_type": "code",
      "metadata": {
        "id": "w2JJfnHsNUam"
      },
      "source": [
        "# Affine 계층 구현\n",
        "\n",
        "class Affine:\n",
        "    def __init__(self, W, b):\n",
        "        self.W = W\n",
        "        self.b = b\n",
        "        self.x = None\n",
        "        self.dW = None\n",
        "        self.db = None\n",
        "\n",
        "    def forward(self, x):\n",
        "        self.x = x\n",
        "        out = np.dot(x, self.W) + self.b\n",
        "\n",
        "        return out\n",
        "\n",
        "    def backward(self, dout):\n",
        "        dx = np.dot(dout, self.W.T)\n",
        "        self.dW = np.dot(self.x.T, dout)\n",
        "        self.db = np.sum(dout, axis = 0)\n",
        "\n",
        "        return dx"
      ],
      "execution_count": null,
      "outputs": []
    },
    {
      "cell_type": "code",
      "metadata": {
        "id": "DfFeQR8qNTR3"
      },
      "source": [
        "# Softmax-with-Loss 계층 구현 ==> softmax 함수의 결과 값을 손실함수로 오차도 계산하겠다는 의미.\n",
        "'''\n",
        "신경망에서 수행하는 작업은 두가지 1. 학습  2. 추론 이 있다.\n",
        "추론에는 softmax 함수 같은 활성화함수를 사용하지 않음. Affine 계층에서 나온 결과 값을 그대로 사용하는 것이 일반적이고, 그 값을 score라고 부른다.\n",
        "학습에는 softmax 계층을 사용하는데, 정규화한 출력 값을 이용해서 모델을 다시 업데이트해야 하기 때문이다.\n",
        "'''\n",
        "\n",
        "class SoftmaxWithLoss:\n",
        "    def __init__(self):\n",
        "        self.loss = None  # 손실, Loss\n",
        "        self.y = None     # softmax의 출력, Output\n",
        "        self.t = None     # 정답 레이블(원-핫 벡터), Target\n",
        "\n",
        "    def forward(self, x, t):\n",
        "        self.t = t\n",
        "        self.y = softmax(x)\n",
        "        self.loss = cross_entropy_error(self.y, self.t)\n",
        "\n",
        "        return self.loss\n",
        "\n",
        "    def backward(self, dout = 1):\n",
        "        batch_size = self.t.shape[0]\n",
        "        dx = (self.y - self.t) / batch_size\n",
        "\n",
        "        return dx"
      ],
      "execution_count": null,
      "outputs": []
    },
    {
      "cell_type": "code",
      "metadata": {
        "id": "MPEGzOwnNWyz"
      },
      "source": [
        "# 오차역전파법을 적용한 2층 신경망 구현\n",
        "\n",
        "import sys, os\n",
        "os.chdir(\"/content/drive/My Drive/deep-learning-from-scratch-master\")\n",
        "sys.path.append(os.chdir)\n",
        "import numpy as np\n",
        "from common.layers import *\n",
        "from common.gradient import numerical_gradient\n",
        "from collections import OrderedDict\n",
        "\n",
        "\n",
        "class TwoLayerNet:\n",
        "\n",
        "    def __init__(self, input_size, hidden_size, output_size, weight_init_std = 0.01): # 생성자, 초기화를 수행\n",
        "                #순서대로   입력층,      은닉층,         출력층,      가중치 초기화 시 정규분포의 스케일\n",
        "        # 가중치 초기화\n",
        "        self.params = {}   # 딕셔너리 변수로 신경망의 매개변수를 보관\n",
        "        self.params['W1'] = weight_init_std * np.random.randn(input_size, hidden_size)  # 1번째 층의 가중치\n",
        "        self.params['b1'] = np.zeros(hidden_size)                                       # 1번째 층의 편향\n",
        "        self.params['W2'] = weight_init_std * np.random.randn(hidden_size, output_size) # 2번째 층의 가중치\n",
        "        self.params['b2'] = np.zeros(output_size)                                       # 2번째 층의 편향\n",
        "\n",
        "        # 계층 생성\n",
        "        self.layers = OrderedDict()  # 순서가있는 딕셔너리 변수, 신경망의 게층을 보관\n",
        "        # 아래 계층들을 순서대로 layers라는 딕셔너리에 저장하고, 순전파 때는 추가한 순서대로, forward 메서드를 호출, 역전파 때는 반대 순서로 backward 메서드를 호출\n",
        "        self.layers['Affine1'] = Affine(self.params['W1'], self.params['b1'])   # Affine 1 계층\n",
        "        self.layers['Relu1'] = Relu()                                           # Relu 1 계층\n",
        "        self.layers['Affine2'] = Affine(self.params['W2'], self.params['b2'])   # Affine 2 계층\n",
        "\n",
        "        self.lastLayer = SoftmaxWithLoss()         # 신경망에서의 마지막 계층 ==> 여기서는 SoftmaxWithLoss 계층\n",
        "        \n",
        "    def predict(self, x):   # 예측을 수행한다.\n",
        "        for layer in self.layers.values():\n",
        "            x = layer.forward(x)\n",
        "        \n",
        "        return x\n",
        "        \n",
        "    # x : 입력 데이터, t : 정답 레이블\n",
        "    def loss(self, x, t):  # 손실 함수의 값을 구한다.\n",
        "        y = self.predict(x)\n",
        "        return self.lastLayer.forward(y, t)\n",
        "    \n",
        "    def accuracy(self, x, t):  # 정확도를 구한다.\n",
        "        y = self.predict(x)\n",
        "        y = np.argmax(y, axis=1)\n",
        "        if t.ndim != 1 : t = np.argmax(t, axis=1)\n",
        "        \n",
        "        accuracy = np.sum(y == t) / float(x.shape[0])\n",
        "        return accuracy\n",
        "        \n",
        "    # x : 입력 데이터, t : 정답 레이블\n",
        "    def numerical_gradient(self, x, t):  # 가중치 매개변수의 기울기를 수치 미분 방식으로 구한다. (앞에서 했는 내용)\n",
        "        loss_W = lambda W: self.loss(x, t)\n",
        "        \n",
        "        grads = {}\n",
        "        grads['W1'] = numerical_gradient(loss_W, self.params['W1'])\n",
        "        grads['b1'] = numerical_gradient(loss_W, self.params['b1'])\n",
        "        grads['W2'] = numerical_gradient(loss_W, self.params['W2'])\n",
        "        grads['b2'] = numerical_gradient(loss_W, self.params['b2'])\n",
        "        \n",
        "        return grads\n",
        "        \n",
        "    def gradient(self, x, t): # 가중치 매개변수의 기울기를 오차 역전파법으로 구한다.\n",
        "        # forward\n",
        "        self.loss(x, t)\n",
        "\n",
        "        # backward\n",
        "        dout = 1\n",
        "        dout = self.lastLayer.backward(dout)\n",
        "        \n",
        "        layers = list(self.layers.values())\n",
        "        layers.reverse()\n",
        "        for layer in layers:\n",
        "            dout = layer.backward(dout)\n",
        "\n",
        "        # 결과 저장\n",
        "        grads = {}\n",
        "        grads['W1'] = self.layers['Affine1'].dW\n",
        "        grads['b1'] = self.layers['Affine1'].db\n",
        "        grads['W2'] = self.layers['Affine2'].dW\n",
        "        grads['b2'] = self.layers['Affine2'].db\n",
        "\n",
        "        return grads"
      ],
      "execution_count": null,
      "outputs": []
    },
    {
      "cell_type": "code",
      "metadata": {
        "id": "BTF35agObJyQ",
        "colab": {
          "base_uri": "https://localhost:8080/",
          "height": 85
        },
        "outputId": "ab61d542-9fe9-448d-fdcf-066a279b7d43"
      },
      "source": [
        "import sys, os\n",
        "os.chdir(\"/content/drive/My Drive/deep-learning-from-scratch-master\")\n",
        "sys.path.append(os.chdir)\n",
        "import numpy as np\n",
        "from dataset.mnist import load_mnist\n",
        "from ch04.two_layer_net import TwoLayerNet\n",
        "\n",
        "(x_train, t_train), (x_test, t_test) = load_mnist(normalize = True, one_hot_label = True)\n",
        "\n",
        "network = TwoLayerNet(input_size = 784, hidden_size = 50, output_size = 10)\n",
        "\n",
        "x_batch = x_train[:3]\n",
        "t_batch = t_train[:3]\n",
        "\n",
        "grad_numerical = network.numerical_gradient(x_batch, t_batch)\n",
        "grad_backprop = network.gradient(x_batch, t_batch)\n",
        "\n",
        "# 각 가중치 차이의 절댓값을 구한 후, 그 절댓값들의 평균을 낸다.\n",
        "for key in grad_numerical.keys():\n",
        "    diff = np.average(np.abs(grad_backprop[key] - grad_numerical[key]))\n",
        "    print(key + \":\" + str(diff))"
      ],
      "execution_count": null,
      "outputs": [
        {
          "output_type": "stream",
          "text": [
            "W1:1.9179553952394226e-10\n",
            "b1:9.569750020511372e-10\n",
            "W2:7.006554806056331e-08\n",
            "b2:1.3954122755899245e-07\n"
          ],
          "name": "stdout"
        }
      ]
    },
    {
      "cell_type": "code",
      "metadata": {
        "id": "q_kaf7t3ebYx",
        "colab": {
          "base_uri": "https://localhost:8080/",
          "height": 572
        },
        "outputId": "f3c347ca-fd86-4dc9-c838-fd32059b30ab"
      },
      "source": [
        "import sys, os\n",
        "os.chdir(\"/content/drive/My Drive/deep-learning-from-scratch-master\")\n",
        "sys.path.append(os.chdir)\n",
        "import numpy as np\n",
        "from dataset.mnist import load_mnist\n",
        "from ch04.two_layer_net import TwoLayerNet\n",
        "\n",
        "(x_train, t_train), (x_test, t_test) = load_mnist(normalize = True, one_hot_label = True)\n",
        "network = TwoLayerNet(input_size = 784, hidden_size = 50, output_size = 10)\n",
        "\n",
        "iters_num = 10000\n",
        "train_size = x_train.shape[0]\n",
        "batch_size = 100\n",
        "learning_rate = 0.1\n",
        "\n",
        "train_loss_list = []\n",
        "train_acc_list = []\n",
        "test_acc_list = []\n",
        "epoch = 0\n",
        "epochs = []\n",
        "\n",
        "iter_per_epoch = max(train_size / batch_size, 1)\n",
        "\n",
        "for i in range(iters_num):\n",
        "    batch_mask = np.random.choice(train_size, batch_size)\n",
        "    x_batch = x_train[batch_mask]\n",
        "    t_batch = t_train[batch_mask]\n",
        "\n",
        "    grad = network.gradient(x_batch, t_batch)\n",
        "\n",
        "    for key in ('W1', 'b1', 'W2', 'b2'):\n",
        "        network.params[key] -= learning_rate * grad[key]\n",
        "\n",
        "        loss = network.loss(x_batch, t_batch)\n",
        "        train_loss_list.append(loss)\n",
        "\n",
        "    if i % iter_per_epoch == 0:\n",
        "        epochs.append(epoch)\n",
        "        epoch += 1\n",
        "        train_acc = network.accuracy(x_train, t_train)\n",
        "        test_acc = network.accuracy(x_test, t_test)\n",
        "        train_acc_list.append(train_acc)\n",
        "        test_acc_list.append(test_acc)\n",
        "        print(train_acc, test_acc)\n",
        "\n",
        "# 훈련 데이터와 시험 데이터에 대한 정확도 추이 그래프 그리기\n",
        "import matplotlib.pyplot as plt\n",
        "\n",
        "x = epochs\n",
        "plt.plot(x, train_acc_list, color = \"red\", label = \"train acc\")\n",
        "plt.plot(x, test_acc_list, linestyle = \"--\", label = \"test acc\")\n",
        "plt.xlabel(\"epochs\")\n",
        "plt.ylabel(\"accuracy\")\n",
        "plt.ylim(0.0, 1.0)\n",
        "plt.legend()\n",
        "plt.show()"
      ],
      "execution_count": null,
      "outputs": [
        {
          "output_type": "stream",
          "text": [
            "0.09915 0.1009\n",
            "0.7969333333333334 0.8\n",
            "0.8777 0.8802\n",
            "0.8984666666666666 0.903\n",
            "0.90725 0.9113\n",
            "0.9135333333333333 0.916\n",
            "0.9198833333333334 0.921\n",
            "0.92325 0.9252\n",
            "0.9266833333333333 0.9268\n",
            "0.9300333333333334 0.9313\n",
            "0.9333166666666667 0.9333\n",
            "0.9358833333333333 0.9362\n",
            "0.9376833333333333 0.9382\n",
            "0.9404666666666667 0.9399\n",
            "0.9429833333333333 0.9418\n",
            "0.9455 0.9443\n",
            "0.9470333333333333 0.9449\n"
          ],
          "name": "stdout"
        },
        {
          "output_type": "display_data",
          "data": {
            "image/png": "[encoded data removed]",
            "text/plain": [
              "<Figure size 432x288 with 1 Axes>"
            ]
          },
          "metadata": {
            "tags": [],
            "needs_background": "light"
          }
        }
      ]
    },
    {
      "cell_type": "code",
      "metadata": {
        "id": "QqwbTwe-idAW"
      },
      "source": [
        "class SGD:\n",
        "    def __init__(self, lr = 0.01):\n",
        "        self.lr = lr\n",
        "\n",
        "    def update(self, params, grads):\n",
        "        for key in params.keys():\n",
        "            params[key] -= self.lr * grads[key]"
      ],
      "execution_count": null,
      "outputs": []
    },
    {
      "cell_type": "code",
      "metadata": {
        "id": "t5DmQ7fmkGPJ"
      },
      "source": [
        "class Momentum:\n",
        "    def __init__(self, lr = 0.01, momentum = 0.9):\n",
        "        self.lr = lr\n",
        "        self.momentum = momentum\n",
        "        self.v = None\n",
        "\n",
        "    def update(self, params, grads):\n",
        "        if self.v is None:\n",
        "            self.v = {}\n",
        "            for key, val in params.items():\n",
        "                self.v[key] = np.zeros_like(val)\n",
        "\n",
        "            for key in params.keys():\n",
        "                self.v[key] = self.momentum * self.v[key] - self.lr * grads[key]\n",
        "                params[key] += self.v[key]"
      ],
      "execution_count": null,
      "outputs": []
    },
    {
      "cell_type": "code",
      "metadata": {
        "id": "tPCiN3BumIZW"
      },
      "source": [
        "class AdaGrad:\n",
        "    def __init__(self, lr = 0.01):\n",
        "        self.lr = lr\n",
        "        self.h = None\n",
        "\n",
        "    def update(self, params, grads):\n",
        "        if self.h is None:\n",
        "            self.h = {}\n",
        "            \n",
        "            for key , val in params.items():\n",
        "                self.h[key] = np.zeros_like(val)\n",
        "\n",
        "            for key in params.keys():\n",
        "                self.h[key] += grads[key] * grads[key]\n",
        "                params[key] -= self.lr * grads[key] / (np.sqrt(self.h[key]) + 1e-7 )"
      ],
      "execution_count": null,
      "outputs": []
    },
    {
      "cell_type": "code",
      "metadata": {
        "id": "VdPorI8Gtdq4"
      },
      "source": [
        "class Adam:\n",
        "\n",
        "\n",
        "    def __init__(self, lr=0.001, beta1=0.9, beta2=0.999):\n",
        "        self.lr = lr\n",
        "        self.beta1 = beta1\n",
        "        self.beta2 = beta2\n",
        "        self.iter = 0\n",
        "        self.m = None\n",
        "        self.v = None\n",
        "        \n",
        "    def update(self, params, grads):\n",
        "        if self.m is None:\n",
        "            self.m, self.v = {}, {}\n",
        "            for key, val in params.items():\n",
        "                self.m[key] = np.zeros_like(val)\n",
        "                self.v[key] = np.zeros_like(val)\n",
        "        \n",
        "        self.iter += 1\n",
        "        lr_t  = self.lr * np.sqrt(1.0 - self.beta2**self.iter) / (1.0 - self.beta1**self.iter)         \n",
        "        \n",
        "        for key in params.keys():\n",
        "            #self.m[key] = self.beta1*self.m[key] + (1-self.beta1)*grads[key]\n",
        "            #self.v[key] = self.beta2*self.v[key] + (1-self.beta2)*(grads[key]**2)\n",
        "            self.m[key] += (1 - self.beta1) * (grads[key] - self.m[key])\n",
        "            self.v[key] += (1 - self.beta2) * (grads[key]**2 - self.v[key])\n",
        "            \n",
        "            params[key] -= lr_t * self.m[key] / (np.sqrt(self.v[key]) + 1e-7)\n",
        "            \n",
        "            #unbias_m += (1 - self.beta1) * (grads[key] - self.m[key]) # correct bias\n",
        "            #unbisa_b += (1 - self.beta2) * (grads[key]*grads[key] - self.v[key]) # correct bias\n",
        "            #params[key] += self.lr * unbias_m / (np.sqrt(unbisa_b) + 1e-7)\n"
      ],
      "execution_count": null,
      "outputs": []
    },
    {
      "cell_type": "code",
      "metadata": {
        "id": "ZsJ6dx6Ovt0X",
        "colab": {
          "base_uri": "https://localhost:8080/",
          "height": 245
        },
        "outputId": "3c26617a-ad50-4ced-9dd1-f0b6b601599e"
      },
      "source": [
        "import numpy as np\n",
        "import matplotlib.pyplot as plt\n",
        "\n",
        "def sigmoid(x):\n",
        "    return 1 / (1 + np.exp(-x))\n",
        "\n",
        "x = np.random.randn(1000, 100) # 1000개의 데이터\n",
        "node_num = 100         # 각 은닉층의 노드 수\n",
        "hidden_layer_size = 5  # 은닉층 5개\n",
        "activations = {}       # 여기에 활성화 결과를 저장\n",
        "\n",
        "for i in range(hidden_layer_size):\n",
        "    if i != 0:\n",
        "        x = activations[i-1]\n",
        "\n",
        "    w = np.random.randn(node_num, node_num) * 1\n",
        "    a = np.dot(x, w)\n",
        "    z = sigmoid(a)\n",
        "    activations[i] = z\n",
        "\n",
        "# 히스토그램 그리기\n",
        "plt.figure(figsize=(10, 3))\n",
        "for i, a in activations.items():\n",
        "    plt.subplot(1, len(activations), i + 1)\n",
        "    plt.title(str(i+1) + \"-layer\")\n",
        "    plt.hist(a.flatten(), 30, range = (0,1))\n",
        "    plt.tight_layout(pad=0.1)\n",
        "plt.show()"
      ],
      "execution_count": null,
      "outputs": [
        {
          "output_type": "display_data",
          "data": {
            "image/png": "[encoded data removed]",
            "text/plain": [
              "<Figure size 720x216 with 5 Axes>"
            ]
          },
          "metadata": {
            "tags": [],
            "needs_background": "light"
          }
        }
      ]
    },
    {
      "cell_type": "code",
      "metadata": {
        "id": "bcbbAWCp1dfz",
        "colab": {
          "base_uri": "https://localhost:8080/",
          "height": 245
        },
        "outputId": "4da800f4-8e86-46c8-9416-13cfdce25210"
      },
      "source": [
        "# 위에랑 똑같이 Xavier 초깃값 사용\n",
        "\n",
        "import numpy as np\n",
        "import matplotlib.pyplot as plt\n",
        "\n",
        "def sigmoid(x):\n",
        "    return 1 / (1 + np.exp(-x))\n",
        "\n",
        "x = np.random.randn(1000, 100) # 1000개의 데이터\n",
        "node_num = 100         # 각 은닉층의 노드 수\n",
        "hidden_layer_size = 5  # 은닉층 5개\n",
        "activations = {}       # 여기에 활성화 결과를 저장\n",
        "\n",
        "for i in range(hidden_layer_size):\n",
        "    if i != 0:\n",
        "        x = activations[i-1]\n",
        " \n",
        "    w = np.random.randn(node_num, node_num) / np.sqrt(node_num)  # 이 부분만 체크\n",
        "    a = np.dot(x, w)\n",
        "    z = sigmoid(a)\n",
        "    activations[i] = z\n",
        "\n",
        "\n",
        "# 히스토그램 그리기\n",
        "plt.figure(figsize=(10, 3))\n",
        "for i, a in activations.items():\n",
        "    plt.subplot(1, len(activations), i + 1)\n",
        "    plt.title(str(i+1) + \"-layer\")\n",
        "    plt.hist(a.flatten(), 30, range = (0,1))\n",
        "    plt.tight_layout(pad=0.1)\n",
        "plt.show()"
      ],
      "execution_count": null,
      "outputs": [
        {
          "output_type": "display_data",
          "data": {
            "image/png": "[encoded data removed]",
            "text/plain": [
              "<Figure size 720x216 with 5 Axes>"
            ]
          },
          "metadata": {
            "tags": [],
            "needs_background": "light"
          }
        }
      ]
    },
    {
      "cell_type": "code",
      "metadata": {
        "id": "WmAiEacg3Cw8",
        "colab": {
          "base_uri": "https://localhost:8080/",
          "height": 317
        },
        "outputId": "4c2c6546-d988-4796-db0e-657c706024cb"
      },
      "source": [
        "# Relu, 그리고 He 초깃값 사용\n",
        "\n",
        "import numpy as np\n",
        "import matplotlib.pyplot as plt\n",
        "\n",
        "def Relu(x):\n",
        "    return np.maximum(0, x)\n",
        "\n",
        "x = np.random.randn(1000, 100) # 1000개의 데이터\n",
        "node_num = 100         # 각 은닉층의 노드 수\n",
        "hidden_layer_size = 5  # 은닉층 5개\n",
        "activations = {}       # 여기에 활성화 결과를 저장\n",
        "\n",
        "for i in range(hidden_layer_size):\n",
        "    if i != 0:\n",
        "        x = activations[i-1]\n",
        " \n",
        "    w = np.random.randn(node_num, node_num) / np.sqrt(node_num / 2)  # 이 부분만 체크\n",
        "    a = np.dot(x, w)\n",
        "    z = Relu(a)\n",
        "    activations[i] = z\n",
        "\n",
        "\n",
        "# 히스토그램 그리기\n",
        "for i, a in activations.items():\n",
        "    plt.subplot(1, len(activations), i + 1)\n",
        "    plt.title(str(i+1) + \"-layer\")\n",
        "    plt.hist(a.flatten(), 30, range = (0,1))\n",
        "    plt.tight_layout(pad=0.1)\n",
        "plt.show()"
      ],
      "execution_count": null,
      "outputs": [
        {
          "output_type": "display_data",
          "data": {
            "image/png": "[encoded data removed]",
            "text/plain": [
              "<Figure size 432x288 with 5 Axes>"
            ]
          },
          "metadata": {
            "tags": [],
            "needs_background": "light"
          }
        }
      ]
    },
    {
      "cell_type": "code",
      "metadata": {
        "id": "obnraZ47ol-C",
        "colab": {
          "base_uri": "https://localhost:8080/",
          "height": 1000
        },
        "outputId": "f6fd850d-42f9-49cb-e0db-af8c019ce7fb"
      },
      "source": [
        "import sys, os\n",
        "os.chdir(\"/content/drive/My Drive/deep-learning-from-scratch-master\")\n",
        "sys.path.append(os.chdir)\n",
        "import numpy as np\n",
        "import matplotlib.pyplot as plt\n",
        "from dataset.mnist import load_mnist\n",
        "from common.multi_layer_net import MultiLayerNet\n",
        "\n",
        "(x_train, t_train), (x_test, t_test) = load_mnist(normalize=True)\n",
        "\n",
        "# 오버피팅을 재현하기 위해 학습 데이터 수를 줄임\n",
        "x_train = x_train[:300]\n",
        "t_train = t_train[:300]\n",
        "\n",
        "# weight decay（가중치 감쇠） 설정\n",
        "weight_decay_lambda = 0.1  # weight_decay_lambda = 0 (weight decay를 사용하지 않을 경우)\n",
        "\n",
        "network = MultiLayerNet(input_size=784, hidden_size_list=[100, 100, 100, 100, 100, 100], output_size=10,\n",
        "                        weight_decay_lambda=weight_decay_lambda)\n",
        "optimizer = SGD(lr=0.01) # 학습률이 0.01인 SGD로 매개변수 갱신\n",
        "\n",
        "max_epochs = 201\n",
        "train_size = x_train.shape[0]\n",
        "batch_size = 100\n",
        "\n",
        "train_loss_list = []\n",
        "train_acc_list = []\n",
        "test_acc_list = []\n",
        "\n",
        "iter_per_epoch = max(train_size / batch_size, 1)\n",
        "epoch_cnt = 0\n",
        "\n",
        "for i in range(1000000000):\n",
        "    batch_mask = np.random.choice(train_size, batch_size)\n",
        "    x_batch = x_train[batch_mask]\n",
        "    t_batch = t_train[batch_mask]\n",
        "\n",
        "    grads = network.gradient(x_batch, t_batch)\n",
        "    optimizer.update(network.params, grads)\n",
        "\n",
        "    if i % iter_per_epoch == 0:\n",
        "        train_acc = network.accuracy(x_train, t_train)\n",
        "        test_acc = network.accuracy(x_test, t_test)\n",
        "        train_acc_list.append(train_acc)\n",
        "        test_acc_list.append(test_acc)\n",
        "\n",
        "        print(\"epoch:\" + str(epoch_cnt) + \", train acc:\" + str(train_acc) + \", test acc:\" + str(test_acc))\n",
        "\n",
        "        epoch_cnt += 1\n",
        "        if epoch_cnt >= max_epochs:\n",
        "            break\n",
        "\n",
        "\n",
        "# 그래프\n",
        "markers = {'train': 'o', 'test': 's'}\n",
        "x = np.arange(max_epochs)\n",
        "plt.plot(x, train_acc_list, marker='o', label='train', markevery=10)\n",
        "plt.plot(x, test_acc_list, marker='s', label='test', markevery=10)\n",
        "plt.xlabel(\"epochs\")\n",
        "plt.ylabel(\"accuracy\")\n",
        "plt.ylim(0, 1.0)\n",
        "plt.legend(loc='lower right')\n",
        "plt.show()\n"
      ],
      "execution_count": null,
      "outputs": [
        {
          "output_type": "stream",
          "text": [
            "epoch:0, train acc:0.11333333333333333, test acc:0.0999\n",
            "epoch:1, train acc:0.11333333333333333, test acc:0.1049\n",
            "epoch:2, train acc:0.12, test acc:0.1089\n",
            "epoch:3, train acc:0.12, test acc:0.112\n",
            "epoch:4, train acc:0.13, test acc:0.1152\n",
            "epoch:5, train acc:0.14333333333333334, test acc:0.1203\n",
            "epoch:6, train acc:0.15666666666666668, test acc:0.1278\n",
            "epoch:7, train acc:0.19, test acc:0.138\n",
            "epoch:8, train acc:0.19, test acc:0.1443\n",
            "epoch:9, train acc:0.18, test acc:0.1415\n",
            "epoch:10, train acc:0.19333333333333333, test acc:0.1466\n",
            "epoch:11, train acc:0.23, test acc:0.16\n",
            "epoch:12, train acc:0.25666666666666665, test acc:0.1752\n",
            "epoch:13, train acc:0.2733333333333333, test acc:0.1816\n",
            "epoch:14, train acc:0.26666666666666666, test acc:0.1803\n",
            "epoch:15, train acc:0.2966666666666667, test acc:0.1985\n",
            "epoch:16, train acc:0.3333333333333333, test acc:0.2112\n",
            "epoch:17, train acc:0.32666666666666666, test acc:0.2144\n",
            "epoch:18, train acc:0.33666666666666667, test acc:0.2269\n",
            "epoch:19, train acc:0.36666666666666664, test acc:0.2462\n",
            "epoch:20, train acc:0.37333333333333335, test acc:0.2508\n",
            "epoch:21, train acc:0.39666666666666667, test acc:0.2575\n",
            "epoch:22, train acc:0.4166666666666667, test acc:0.2751\n",
            "epoch:23, train acc:0.4166666666666667, test acc:0.282\n",
            "epoch:24, train acc:0.45, test acc:0.2983\n",
            "epoch:25, train acc:0.4533333333333333, test acc:0.3005\n",
            "epoch:26, train acc:0.48, test acc:0.3123\n",
            "epoch:27, train acc:0.4866666666666667, test acc:0.3189\n",
            "epoch:28, train acc:0.51, test acc:0.3431\n",
            "epoch:29, train acc:0.5266666666666666, test acc:0.3495\n",
            "epoch:30, train acc:0.5233333333333333, test acc:0.3649\n",
            "epoch:31, train acc:0.54, test acc:0.3661\n",
            "epoch:32, train acc:0.5233333333333333, test acc:0.3643\n",
            "epoch:33, train acc:0.5433333333333333, test acc:0.3902\n",
            "epoch:34, train acc:0.58, test acc:0.4264\n",
            "epoch:35, train acc:0.5833333333333334, test acc:0.4385\n",
            "epoch:36, train acc:0.58, test acc:0.4421\n",
            "epoch:37, train acc:0.59, test acc:0.4464\n",
            "epoch:38, train acc:0.6233333333333333, test acc:0.466\n",
            "epoch:39, train acc:0.62, test acc:0.4762\n",
            "epoch:40, train acc:0.6133333333333333, test acc:0.471\n",
            "epoch:41, train acc:0.6366666666666667, test acc:0.4958\n",
            "epoch:42, train acc:0.6633333333333333, test acc:0.5184\n",
            "epoch:43, train acc:0.63, test acc:0.5185\n",
            "epoch:44, train acc:0.6733333333333333, test acc:0.5281\n",
            "epoch:45, train acc:0.69, test acc:0.5433\n",
            "epoch:46, train acc:0.7533333333333333, test acc:0.5786\n",
            "epoch:47, train acc:0.7466666666666667, test acc:0.5897\n",
            "epoch:48, train acc:0.77, test acc:0.5935\n",
            "epoch:49, train acc:0.7833333333333333, test acc:0.5983\n",
            "epoch:50, train acc:0.79, test acc:0.6099\n",
            "epoch:51, train acc:0.7933333333333333, test acc:0.6066\n",
            "epoch:52, train acc:0.77, test acc:0.5927\n",
            "epoch:53, train acc:0.7866666666666666, test acc:0.6106\n",
            "epoch:54, train acc:0.8, test acc:0.6114\n",
            "epoch:55, train acc:0.8033333333333333, test acc:0.6229\n",
            "epoch:56, train acc:0.8166666666666667, test acc:0.6286\n",
            "epoch:57, train acc:0.8166666666666667, test acc:0.6327\n",
            "epoch:58, train acc:0.8133333333333334, test acc:0.6299\n",
            "epoch:59, train acc:0.8133333333333334, test acc:0.634\n",
            "epoch:60, train acc:0.8266666666666667, test acc:0.6343\n",
            "epoch:61, train acc:0.8266666666666667, test acc:0.643\n",
            "epoch:62, train acc:0.8366666666666667, test acc:0.6453\n",
            "epoch:63, train acc:0.82, test acc:0.6377\n",
            "epoch:64, train acc:0.8333333333333334, test acc:0.6482\n",
            "epoch:65, train acc:0.85, test acc:0.644\n",
            "epoch:66, train acc:0.85, test acc:0.6539\n",
            "epoch:67, train acc:0.8566666666666667, test acc:0.6642\n",
            "epoch:68, train acc:0.8466666666666667, test acc:0.6509\n",
            "epoch:69, train acc:0.83, test acc:0.6384\n",
            "epoch:70, train acc:0.8533333333333334, test acc:0.6571\n",
            "epoch:71, train acc:0.8633333333333333, test acc:0.6631\n",
            "epoch:72, train acc:0.86, test acc:0.6593\n",
            "epoch:73, train acc:0.87, test acc:0.6629\n",
            "epoch:74, train acc:0.8566666666666667, test acc:0.6564\n",
            "epoch:75, train acc:0.87, test acc:0.6576\n",
            "epoch:76, train acc:0.8566666666666667, test acc:0.6421\n",
            "epoch:77, train acc:0.8633333333333333, test acc:0.6708\n",
            "epoch:78, train acc:0.87, test acc:0.6636\n",
            "epoch:79, train acc:0.8766666666666667, test acc:0.6838\n",
            "epoch:80, train acc:0.8666666666666667, test acc:0.6723\n",
            "epoch:81, train acc:0.8666666666666667, test acc:0.6767\n",
            "epoch:82, train acc:0.8666666666666667, test acc:0.6706\n",
            "epoch:83, train acc:0.8733333333333333, test acc:0.6636\n",
            "epoch:84, train acc:0.86, test acc:0.6635\n",
            "epoch:85, train acc:0.87, test acc:0.6735\n",
            "epoch:86, train acc:0.87, test acc:0.6717\n",
            "epoch:87, train acc:0.86, test acc:0.6713\n",
            "epoch:88, train acc:0.8733333333333333, test acc:0.677\n",
            "epoch:89, train acc:0.87, test acc:0.676\n",
            "epoch:90, train acc:0.87, test acc:0.6781\n",
            "epoch:91, train acc:0.8866666666666667, test acc:0.6821\n",
            "epoch:92, train acc:0.8766666666666667, test acc:0.6893\n",
            "epoch:93, train acc:0.8733333333333333, test acc:0.676\n",
            "epoch:94, train acc:0.8733333333333333, test acc:0.6789\n",
            "epoch:95, train acc:0.8833333333333333, test acc:0.6963\n",
            "epoch:96, train acc:0.88, test acc:0.6958\n",
            "epoch:97, train acc:0.8633333333333333, test acc:0.6731\n",
            "epoch:98, train acc:0.89, test acc:0.693\n",
            "epoch:99, train acc:0.88, test acc:0.6928\n",
            "epoch:100, train acc:0.8866666666666667, test acc:0.692\n",
            "epoch:101, train acc:0.9, test acc:0.7055\n",
            "epoch:102, train acc:0.8833333333333333, test acc:0.6925\n",
            "epoch:103, train acc:0.8833333333333333, test acc:0.6946\n",
            "epoch:104, train acc:0.8733333333333333, test acc:0.6867\n",
            "epoch:105, train acc:0.8666666666666667, test acc:0.6834\n",
            "epoch:106, train acc:0.8933333333333333, test acc:0.6948\n",
            "epoch:107, train acc:0.88, test acc:0.6922\n",
            "epoch:108, train acc:0.8866666666666667, test acc:0.6971\n",
            "epoch:109, train acc:0.8733333333333333, test acc:0.6842\n",
            "epoch:110, train acc:0.89, test acc:0.7012\n",
            "epoch:111, train acc:0.8866666666666667, test acc:0.6983\n",
            "epoch:112, train acc:0.8933333333333333, test acc:0.7046\n",
            "epoch:113, train acc:0.8933333333333333, test acc:0.7028\n",
            "epoch:114, train acc:0.9033333333333333, test acc:0.7143\n",
            "epoch:115, train acc:0.8833333333333333, test acc:0.6981\n",
            "epoch:116, train acc:0.89, test acc:0.7042\n",
            "epoch:117, train acc:0.8933333333333333, test acc:0.6993\n",
            "epoch:118, train acc:0.88, test acc:0.6988\n",
            "epoch:119, train acc:0.9, test acc:0.7075\n",
            "epoch:120, train acc:0.8866666666666667, test acc:0.6943\n",
            "epoch:121, train acc:0.8933333333333333, test acc:0.699\n",
            "epoch:122, train acc:0.88, test acc:0.6951\n",
            "epoch:123, train acc:0.8933333333333333, test acc:0.7144\n",
            "epoch:124, train acc:0.8966666666666666, test acc:0.7095\n",
            "epoch:125, train acc:0.8866666666666667, test acc:0.704\n",
            "epoch:126, train acc:0.9066666666666666, test acc:0.7097\n",
            "epoch:127, train acc:0.9033333333333333, test acc:0.7138\n",
            "epoch:128, train acc:0.8866666666666667, test acc:0.6997\n",
            "epoch:129, train acc:0.8933333333333333, test acc:0.6993\n",
            "epoch:130, train acc:0.89, test acc:0.7038\n",
            "epoch:131, train acc:0.9, test acc:0.7049\n",
            "epoch:132, train acc:0.8933333333333333, test acc:0.7039\n",
            "epoch:133, train acc:0.8966666666666666, test acc:0.7044\n",
            "epoch:134, train acc:0.9133333333333333, test acc:0.711\n",
            "epoch:135, train acc:0.8933333333333333, test acc:0.7034\n",
            "epoch:136, train acc:0.8933333333333333, test acc:0.7045\n",
            "epoch:137, train acc:0.8866666666666667, test acc:0.7032\n",
            "epoch:138, train acc:0.8966666666666666, test acc:0.7003\n",
            "epoch:139, train acc:0.8966666666666666, test acc:0.694\n",
            "epoch:140, train acc:0.89, test acc:0.7049\n",
            "epoch:141, train acc:0.8933333333333333, test acc:0.6999\n",
            "epoch:142, train acc:0.9, test acc:0.7129\n",
            "epoch:143, train acc:0.89, test acc:0.7007\n",
            "epoch:144, train acc:0.8933333333333333, test acc:0.7024\n",
            "epoch:145, train acc:0.8966666666666666, test acc:0.704\n",
            "epoch:146, train acc:0.9066666666666666, test acc:0.7075\n",
            "epoch:147, train acc:0.9066666666666666, test acc:0.7154\n",
            "epoch:148, train acc:0.9, test acc:0.709\n",
            "epoch:149, train acc:0.91, test acc:0.7105\n",
            "epoch:150, train acc:0.9, test acc:0.7077\n",
            "epoch:151, train acc:0.9133333333333333, test acc:0.7149\n",
            "epoch:152, train acc:0.9, test acc:0.7039\n",
            "epoch:153, train acc:0.9133333333333333, test acc:0.714\n",
            "epoch:154, train acc:0.9033333333333333, test acc:0.7089\n",
            "epoch:155, train acc:0.9066666666666666, test acc:0.7053\n",
            "epoch:156, train acc:0.9033333333333333, test acc:0.7085\n",
            "epoch:157, train acc:0.9066666666666666, test acc:0.7124\n",
            "epoch:158, train acc:0.9033333333333333, test acc:0.7096\n",
            "epoch:159, train acc:0.9, test acc:0.7039\n",
            "epoch:160, train acc:0.89, test acc:0.6988\n",
            "epoch:161, train acc:0.8866666666666667, test acc:0.6967\n",
            "epoch:162, train acc:0.9133333333333333, test acc:0.7097\n",
            "epoch:163, train acc:0.9033333333333333, test acc:0.6986\n",
            "epoch:164, train acc:0.9133333333333333, test acc:0.7156\n",
            "epoch:165, train acc:0.89, test acc:0.6949\n",
            "epoch:166, train acc:0.9033333333333333, test acc:0.7027\n",
            "epoch:167, train acc:0.9, test acc:0.7038\n",
            "epoch:168, train acc:0.9066666666666666, test acc:0.7168\n",
            "epoch:169, train acc:0.91, test acc:0.7103\n",
            "epoch:170, train acc:0.9033333333333333, test acc:0.7036\n",
            "epoch:171, train acc:0.91, test acc:0.7065\n",
            "epoch:172, train acc:0.8933333333333333, test acc:0.7007\n",
            "epoch:173, train acc:0.91, test acc:0.7074\n",
            "epoch:174, train acc:0.9033333333333333, test acc:0.7121\n",
            "epoch:175, train acc:0.8966666666666666, test acc:0.703\n",
            "epoch:176, train acc:0.92, test acc:0.709\n",
            "epoch:177, train acc:0.9033333333333333, test acc:0.7006\n",
            "epoch:178, train acc:0.9033333333333333, test acc:0.6955\n",
            "epoch:179, train acc:0.9033333333333333, test acc:0.7021\n",
            "epoch:180, train acc:0.9, test acc:0.7002\n",
            "epoch:181, train acc:0.89, test acc:0.6959\n",
            "epoch:182, train acc:0.9033333333333333, test acc:0.6998\n",
            "epoch:183, train acc:0.9033333333333333, test acc:0.7034\n",
            "epoch:184, train acc:0.9, test acc:0.7114\n",
            "epoch:185, train acc:0.9066666666666666, test acc:0.712\n",
            "epoch:186, train acc:0.9166666666666666, test acc:0.7193\n",
            "epoch:187, train acc:0.9166666666666666, test acc:0.708\n",
            "epoch:188, train acc:0.91, test acc:0.7107\n",
            "epoch:189, train acc:0.9033333333333333, test acc:0.7072\n",
            "epoch:190, train acc:0.9066666666666666, test acc:0.7027\n",
            "epoch:191, train acc:0.9133333333333333, test acc:0.7127\n",
            "epoch:192, train acc:0.8966666666666666, test acc:0.7075\n",
            "epoch:193, train acc:0.9033333333333333, test acc:0.7048\n",
            "epoch:194, train acc:0.9166666666666666, test acc:0.7073\n",
            "epoch:195, train acc:0.9033333333333333, test acc:0.7109\n",
            "epoch:196, train acc:0.9066666666666666, test acc:0.7049\n",
            "epoch:197, train acc:0.9166666666666666, test acc:0.7056\n",
            "epoch:198, train acc:0.9033333333333333, test acc:0.7074\n",
            "epoch:199, train acc:0.9133333333333333, test acc:0.704\n",
            "epoch:200, train acc:0.91, test acc:0.6952\n"
          ],
          "name": "stdout"
        },
        {
          "output_type": "display_data",
          "data": {
            "image/png": "[encoded data removed]",
            "text/plain": [
              "<Figure size 432x288 with 1 Axes>"
            ]
          },
          "metadata": {
            "tags": [],
            "needs_background": "light"
          }
        }
      ]
    },
    {
      "cell_type": "code",
      "metadata": {
        "id": "DlHmpHAhsiSQ"
      },
      "source": [
        "class Dropout:\n",
        "    def __init__(self, dropout_ratio = 0.5):\n",
        "        self.dropout_ratio = dropout_ratio\n",
        "        self.mask = None\n",
        "\n",
        "    def forward(self, x, train_flg = True):\n",
        "        if train_flg:\n",
        "            self.mask = np.random.rand(*x.shape) > self.dropout_ratio\n",
        "            return x * self.mask\n",
        "        else:\n",
        "            return x * (1.0 - self.dropout_ratio)\n",
        "\n",
        "    def backward(self, dout):\n",
        "        return dout * self.mask"
      ],
      "execution_count": null,
      "outputs": []
    },
    {
      "cell_type": "code",
      "metadata": {
        "id": "W4Z6UoaWyhUg"
      },
      "source": [
        "import sys, os\n",
        "os.chdir(\"/content/drive/My Drive/deep-learning-from-scratch-master\")\n",
        "sys.path.append(os.chdir)\n",
        "from common.util import shuffle_dataset\n",
        "\n",
        "(x_train, t_train), (x_test, t_test) = load_mnist()\n",
        "\n",
        "# 훈련 데이터를 뒤섞는다.\n",
        "x_train, t_train = shuffle_dataset(x_train, t_train)\n",
        "\n",
        "# 20%를 검정 데이터로 분할\n",
        "validation_rate = 0.20\n",
        "validation_num = int(x_train.shape[0] * validation_rate)\n",
        "\n",
        "x_val = x_train[:validation_num]\n",
        "t_val = t_train[:validation_num]\n",
        "x_train = x_train[validation_num:]\n",
        "t_train = t_train[validation_num:]"
      ],
      "execution_count": null,
      "outputs": []
    },
    {
      "cell_type": "code",
      "metadata": {
        "id": "cQn3zs1h09b7",
        "colab": {
          "base_uri": "https://localhost:8080/",
          "height": 85
        },
        "outputId": "07c637a5-a60e-46f3-dad2-45658235d758"
      },
      "source": [
        "# 4차원 배열\n",
        "x = np.random.rand(10, 1 ,28, 28)\n",
        "print(x.shape)\n",
        "\n",
        "print(x[0].shape)\n",
        "print(x[1].shape)\n",
        "\n",
        "print(x[0][0].shape)"
      ],
      "execution_count": null,
      "outputs": [
        {
          "output_type": "stream",
          "text": [
            "(10, 1, 28, 28)\n",
            "(1, 28, 28)\n",
            "(1, 28, 28)\n",
            "(28, 28)\n"
          ],
          "name": "stdout"
        }
      ]
    },
    {
      "cell_type": "code",
      "metadata": {
        "id": "QeLCJvnNHk31",
        "colab": {
          "base_uri": "https://localhost:8080/",
          "height": 51
        },
        "outputId": "9aeb382d-6b9d-4e41-da47-9bc7645a0eac"
      },
      "source": [
        "# 합성곱 계층 구현하기\n",
        "\n",
        "import sys, os\n",
        "os.chdir(\"/content/drive/My Drive/deep-learning-from-scratch-master\")\n",
        "sys.path.append(os.chdir)\n",
        "from common.util import im2col\n",
        "\n",
        "x1 = np.random.rand(1, 3, 7, 7)  # (데이터 수, 채널 수, 높이, 너비)\n",
        "col1 = im2col(x1, 5, 5, stride = 1, pad = 0)\n",
        "print(col1.shape)\n",
        "\n",
        "x2 = np.random.rand(10, 3, 7 ,7)  # 데이터 10개\n",
        "col2 = im2col(x2, 5, 5, stride = 1, pad = 0)\n",
        "print(col2.shape)"
      ],
      "execution_count": null,
      "outputs": [
        {
          "output_type": "stream",
          "text": [
            "(9, 75)\n",
            "(90, 75)\n"
          ],
          "name": "stdout"
        }
      ]
    },
    {
      "cell_type": "code",
      "metadata": {
        "id": "z79ckrDmJODH"
      },
      "source": [
        "class Convolution:\n",
        "    def __init__(self, W, b, stride = 1, pad = 0):\n",
        "        self.W = W  # 필터(가중치)\n",
        "        self.b = b  # 편향 \n",
        "        self.stride = stride   # 스트라이드\n",
        "        self.pad =pad          # 패딩\n",
        "\n",
        "    def forward(self, x):\n",
        "        FN, C, FH, FW = self.W.shape  # 필터의 형상 받아온다.\n",
        "        N, C, H, W = x.shape\n",
        "        out_h = int(1 + (H + 2 * self.pad - FH) / self.stride)\n",
        "        out_w = int(1 + (W + 2 * self.pad - FW) / self.stride)\n",
        "\n",
        "        col = im2col(x, FH, FW, self.stride, self.pad)\n",
        "        col_W = self.W.reshape(FN, -1).T # 필터 전개\n",
        "        out = np.dot(col, col_W) + self.b\n",
        "\n",
        "        out = out.reshape(N, out_h, out_w, -1).transpose(0, 3, 1, 2)\n",
        "\n",
        "        return out"
      ],
      "execution_count": null,
      "outputs": []
    },
    {
      "cell_type": "code",
      "metadata": {
        "id": "YUn5WGkMNa_L"
      },
      "source": [
        "class Pooling:\n",
        "    def __init__(self, pool_h, pool_w, stride = 1, pad = 0):\n",
        "        self.pool_h = pool_h\n",
        "        self.pool_w = pool_w\n",
        "        self.stride = stride\n",
        "        self.pad = pad\n",
        "\n",
        "    def forward(self, x):\n",
        "        N, C, H, W = x.shape\n",
        "        out_h = int(1 + (H - self.pool_h) / self.stride)\n",
        "        out_w = int(1 + (W - self.pool_w) / self.stride)\n",
        "\n",
        "        # 전개 (1)\n",
        "        col = im2col(x, self.pool_h, self.pool_w, self.stride, self.pad)\n",
        "        col = col.reshape(-1, self.pool_h * self.pool_w)\n",
        "\n",
        "        # 최댓값 (2)\n",
        "        out = np.max(col, axis = 1)\n",
        "        \n",
        "        # 성형 (3)\n",
        "        out = out.reshape(N, out_h, out_w, C).transpose(0, 3, 1, 2)\n",
        "\n",
        "        return out"
      ],
      "execution_count": null,
      "outputs": []
    },
    {
      "cell_type": "code",
      "metadata": {
        "id": "Vb4Xwb4VPkOH"
      },
      "source": [
        "# CNN 구현하기\n",
        "'''\n",
        "input_dim = 입력데이터(채널 수, 높이, 너비)의 차원\n",
        "conv_param = 합성곱 계층의 하이퍼파라미터(딕셔너리) * -filter_num = 필터 수 -filter_size = 필터 크기 -stride = 스트라이드 -pad = 패딩\n",
        "hidden_size = 은닉층(완전연결)의 뉴런 수\n",
        "output_size = 출력층(완전연결)의 뉴런 수\n",
        "weight_init_std = 초기화 때의 가중치 표준편차\n",
        "'''\n",
        "class SimpleConvNet:\n",
        "    def __init__(self, input_dim = (1, 28, 28),\n",
        "                 conv_param = {'filter_num':30, 'filter_size':5, 'pad':0, 'stride':1},\n",
        "                 hidden_size = 100, output_size = 10, weight_init_std = 0.01):\n",
        "        filter_num = conv_param['filter_num']\n",
        "        filter_size = conv_param['filter_size']\n",
        "        filter_pad = conv_param['pad']\n",
        "        filter_stride = conv_param['stride']\n",
        "        input_size = input_dim[1]\n",
        "        conv_output_size = (input_size - filter_size + 2*filter_pad) / filter_stride + 1\n",
        "        pool_output_size = int(filter_num * (conv_output_size/2) * (conv_output_size/2))\n",
        "\n",
        "        # 가중치 매개변수 초기화\n",
        "        self.params = {}\n",
        "        self.params['W1'] = weight_init_std * np.random.randn(filter_num, input_dim[0], filter_size, filter_size)\n",
        "        self.params['b1'] = np.zeros(filter_num)\n",
        "        self.params['W2'] = weight_init_std * np.random.randn(pool_output_size, hidden_size)\n",
        "        self.params['b2'] = np.zeros(hidden_size)\n",
        "        self.params['W3'] = weight_init_std * np.random.randn(hidden_size, output_size)\n",
        "        self.params['b3'] = np.zeros(output_size)\n",
        "\n",
        "        # CNN을 구성하는 계층 생성\n",
        "        self.layers = OrderedDict()\n",
        "        self.layers['Conv1'] = Convolution(self.params['W1'],\n",
        "                                           self.params['b1'],\n",
        "                                           conv_param['stride'],\n",
        "                                           conv_param['pad'])\n",
        "        self.layers['Relu1'] = Relu()\n",
        "        self.layers['Pool1'] = Pooling(pool_h = 2, pool_w = 2, stride = 2)\n",
        "        self.layers['Affine1'] = Affine(self.params['W2'],\n",
        "                                        self.params['b2'])\n",
        "        self.layers['Relu2'] = Relu()\n",
        "        self.layers['Affine2'] = Affine(self.params['W3'],\n",
        "                                        self.params['b3'])\n",
        "        self.last_layer = SoftmaxWithLoss\n",
        "    \n",
        "    # predict 메서드 구현\n",
        "    def predict(self, x):\n",
        "        for layer in self.layers.values():\n",
        "            x = layer.forward(x)\n",
        "            \n",
        "        return x\n",
        "    # loss 메서드 구현\n",
        "    def loss(self, x, t):\n",
        "        y = self.predict(x)\n",
        "        \n",
        "        return self.last_layer.forward(y, t)\n",
        "    \n",
        "    # 오차역전파법으로 기울기 구하기.\n",
        "    def gradient(self, x, t):\n",
        "        # 순전파\n",
        "        self.loss(x, t)\n",
        "\n",
        "        # 역전파\n",
        "        dout = 1\n",
        "        dout = self.last_layer.backward(dout)\n",
        "\n",
        "        layers = list(self.layers.values())\n",
        "        layers.reverse()\n",
        "        for layer in layers:\n",
        "            dout = layer.backward(dout)\n",
        "\n",
        "        # 결과 저장\n",
        "        grads = {}\n",
        "        grads['W1'] = self.layers['Conv1'].dW\n",
        "        grads['b1'] = self.layers['Conv1'].db\n",
        "        grads['W2'] = self.layers['Affine1'].dW\n",
        "        grads['b2'] = self.layers['Affine1'].db\n",
        "        grads['W3'] = self.layers['Affine2'].dW\n",
        "        grads['b3'] = self.layers['Affine2'].db\n",
        "\n",
        "        return grads"
      ],
      "execution_count": null,
      "outputs": []
    }
  ]
}