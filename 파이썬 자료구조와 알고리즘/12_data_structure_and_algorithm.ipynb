{
  "nbformat": 4,
  "nbformat_minor": 0,
  "metadata": {
    "colab": {
      "name": "12_data_structure_and_algorithm",
      "provenance": []
    },
    "kernelspec": {
      "name": "python3",
      "display_name": "Python 3"
    },
    "language_info": {
      "name": "python"
    }
  },
  "cells": [
    {
      "cell_type": "markdown",
      "metadata": {
        "id": "wcgZG95a52Ac"
      },
      "source": [
        "파이썬에서 set 자료형을 사용하면 인접 리스트 구현 가능"
      ]
    },
    {
      "cell_type": "code",
      "metadata": {
        "colab": {
          "base_uri": "https://localhost:8080/"
        },
        "id": "m6qY5OFR557i",
        "outputId": "6f404113-e747-4ca3-f140-cf68c0b7d368"
      },
      "source": [
        "a, b, c, d, e, f = range(6) # a = 0, b = 1, c = 2, d = 3, e = 4, f = 5\n",
        "N = [{b,c,d,f}, {a,d,f}, {a,b,d,e}, {a,e}, {a,b,c}, {b,c,d,e}]\n",
        "\n",
        "print(b in N[a])\n",
        "print(b in N[b])\n",
        "len(N[f]) # 차수"
      ],
      "execution_count": 9,
      "outputs": [
        {
          "output_type": "stream",
          "text": [
            "True\n",
            "False\n"
          ],
          "name": "stdout"
        },
        {
          "output_type": "execute_result",
          "data": {
            "text/plain": [
              "4"
            ]
          },
          "metadata": {
            "tags": []
          },
          "execution_count": 9
        }
      ]
    },
    {
      "cell_type": "markdown",
      "metadata": {
        "id": "TknBNYcA8PVA"
      },
      "source": [
        "리스트로 구현시 모든 노드 V에서 N(V)를 효율적으로 순회가능\n",
        "\n",
        "그래프의 edge가 많은 경우 셋을 사용하는게 더 좋다."
      ]
    },
    {
      "cell_type": "markdown",
      "metadata": {
        "id": "VKbL_VvC8p-n"
      },
      "source": [
        "# 트리 구현"
      ]
    },
    {
      "cell_type": "code",
      "metadata": {
        "colab": {
          "base_uri": "https://localhost:8080/"
        },
        "id": "-YXpTYEc9Yfe",
        "outputId": "72659984-3d75-400f-d085-30b78bca7af2"
      },
      "source": [
        "class SimpleTree(object):\n",
        "    def __init__(self, value=None, children=None):\n",
        "        self.value = value\n",
        "        self.children = children\n",
        "        if self.children is None:\n",
        "            self.children = []\n",
        "\n",
        "    def __repr__(self, level=0):\n",
        "        ret = \"\\t\"*level + repr(self.value) + \"\\n\"\n",
        "        for child in self.children:\n",
        "            ret += child.__repr__(level+1)\n",
        "        return ret\n",
        "\n",
        "\n",
        "def main():\n",
        "    st = SimpleTree('a', [\n",
        "            SimpleTree('b',\n",
        "                [\n",
        "                    SimpleTree('d'), \n",
        "                    SimpleTree('e')\n",
        "                ]), \n",
        "            SimpleTree('c', [\n",
        "                SimpleTree('h'), \n",
        "                SimpleTree('g')\n",
        "            ])\n",
        "    ])\n",
        "    print(st)\n",
        "\n",
        "main()"
      ],
      "execution_count": 10,
      "outputs": [
        {
          "output_type": "stream",
          "text": [
            "'a'\n",
            "\t'b'\n",
            "\t\t'd'\n",
            "\t\t'e'\n",
            "\t'c'\n",
            "\t\t'h'\n",
            "\t\t'g'\n",
            "\n"
          ],
          "name": "stdout"
        }
      ]
    }
  ]
}