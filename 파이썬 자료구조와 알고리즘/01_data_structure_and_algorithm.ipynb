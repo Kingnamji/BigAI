{
  "nbformat": 4,
  "nbformat_minor": 0,
  "metadata": {
    "colab": {
      "name": "01_data_structure_and_algorithm",
      "provenance": []
    },
    "kernelspec": {
      "display_name": "Python 3",
      "name": "python3"
    }
  },
  "cells": [
    {
      "cell_type": "markdown",
      "metadata": {
        "id": "1umeRq9uWZPW"
      },
      "source": [
        "# 숫자"
      ]
    },
    {
      "cell_type": "markdown",
      "metadata": {
        "id": "yQTeMEBOWaWt"
      },
      "source": [
        "1.1 정수\n",
        "\n",
        "파이썬에서 정수는 int 형으로 나타내며 불변(immutable)형이다.\n",
        "\n",
        "파이썬 정수 크기는 적어도 32bit이다."
      ]
    },
    {
      "cell_type": "code",
      "metadata": {
        "colab": {
          "base_uri": "https://localhost:8080/"
        },
        "id": "SedAbXOOPN10",
        "outputId": "7e5e1991-eaf7-4227-eb70-e511a13ea685"
      },
      "source": [
        "# 파이썬 3.1이상에서 정수를 나타내는 데 필요한 바이트 수를 확인하기\n",
        "(999).bit_length()"
      ],
      "execution_count": null,
      "outputs": [
        {
          "output_type": "execute_result",
          "data": {
            "text/plain": [
              "10"
            ]
          },
          "metadata": {
            "tags": []
          },
          "execution_count": 1
        }
      ]
    },
    {
      "cell_type": "code",
      "metadata": {
        "colab": {
          "base_uri": "https://localhost:8080/"
        },
        "id": "ofJz5rzpXOta",
        "outputId": "1139b31c-3992-4fc6-f47d-650296a77081"
      },
      "source": [
        "# 어떤 문자열을 정수로 변환하거나, 다른 진법의 문자열을 정수(10진법)로 변환하려면 int(문자열, 밑) 메서드 사용\n",
        "s = '11'\n",
        "d = int(s)\n",
        "print(d)"
      ],
      "execution_count": null,
      "outputs": [
        {
          "output_type": "stream",
          "text": [
            "11\n"
          ],
          "name": "stdout"
        }
      ]
    },
    {
      "cell_type": "code",
      "metadata": {
        "colab": {
          "base_uri": "https://localhost:8080/"
        },
        "id": "1Hbl79RlXXcX",
        "outputId": "04df625f-7134-4149-8f99-9f08177eea29"
      },
      "source": [
        "b = int(s, 2) # int 메서드의 밑은 2~36 사이의 선택적 argument\n",
        "print(b)"
      ],
      "execution_count": null,
      "outputs": [
        {
          "output_type": "stream",
          "text": [
            "3\n"
          ],
          "name": "stdout"
        }
      ]
    },
    {
      "cell_type": "markdown",
      "metadata": {
        "id": "fhFejnl7YTQT"
      },
      "source": [
        "1.2 부동소수점\n",
        "\n",
        "파이썬에서 부동소수점을 float로 나타내며 불변형이다.\n",
        "\n",
        "단정도(single precision)방식에서 32비트 부동소수점을 나타낼 때 1 비트는 부호(sign), \n",
        "\n",
        "23비트는 유효 숫자 자릿수(significant digits), 8비트는 지수(exponent)"
      ]
    },
    {
      "cell_type": "code",
      "metadata": {
        "colab": {
          "base_uri": "https://localhost:8080/"
        },
        "id": "yFxOF3jyXeZb",
        "outputId": "ff93fdfb-a44f-4c32-fa56-d1873ddcee76"
      },
      "source": [
        "# 부동소수점은 이진수 분수로 표현되기 때문에 함부로 비교하거나 빼면 안된다.\n",
        "0.2 * 3 == 0.6"
      ],
      "execution_count": null,
      "outputs": [
        {
          "output_type": "execute_result",
          "data": {
            "text/plain": [
              "False"
            ]
          },
          "metadata": {
            "tags": []
          },
          "execution_count": 4
        }
      ]
    },
    {
      "cell_type": "code",
      "metadata": {
        "colab": {
          "base_uri": "https://localhost:8080/"
        },
        "id": "CP9KDMTrZA35",
        "outputId": "3736f0c8-2352-4b52-aa89-d3cabf14f26d"
      },
      "source": [
        "1.2 - 0.2 == 1.0"
      ],
      "execution_count": null,
      "outputs": [
        {
          "output_type": "execute_result",
          "data": {
            "text/plain": [
              "True"
            ]
          },
          "metadata": {
            "tags": []
          },
          "execution_count": 5
        }
      ]
    },
    {
      "cell_type": "code",
      "metadata": {
        "colab": {
          "base_uri": "https://localhost:8080/"
        },
        "id": "ghCjV0LQZCwN",
        "outputId": "f4da8fef-94af-42a0-9b6b-47bad34d5535"
      },
      "source": [
        "1.2 - 0.1 == 1.1"
      ],
      "execution_count": null,
      "outputs": [
        {
          "output_type": "execute_result",
          "data": {
            "text/plain": [
              "False"
            ]
          },
          "metadata": {
            "tags": []
          },
          "execution_count": 6
        }
      ]
    },
    {
      "cell_type": "code",
      "metadata": {
        "colab": {
          "base_uri": "https://localhost:8080/"
        },
        "id": "jQbgztxQZFbf",
        "outputId": "66226948-433a-4bf8-be39-9276446fd447"
      },
      "source": [
        "0.1 * 0.1 == 0.01"
      ],
      "execution_count": null,
      "outputs": [
        {
          "output_type": "execute_result",
          "data": {
            "text/plain": [
              "False"
            ]
          },
          "metadata": {
            "tags": []
          },
          "execution_count": 7
        }
      ]
    },
    {
      "cell_type": "code",
      "metadata": {
        "id": "MlbKb0UFZLUc"
      },
      "source": [
        "# 동등성 테스트(equality test)는 사전에 정의된 정밀도 범위 내에서 수행되어야 한다.\n",
        "\n",
        "# 예시로 메서드를 만들면\n",
        "def a(x, y, places=7):\n",
        "    return rount(abs(x-y), places) == 0"
      ],
      "execution_count": null,
      "outputs": []
    },
    {
      "cell_type": "code",
      "metadata": {
        "colab": {
          "base_uri": "https://localhost:8080/"
        },
        "id": "Mp_Iy6DfZd2Z",
        "outputId": "f29974fa-3582-4f68-f0a7-f4a8562807cf"
      },
      "source": [
        "# 파이썬에서 나누기 연산자 / 는 항상 부동소수점을 반환한다. // 연산자를 사용하면 정수만을 반환한다. %는 나머지\n",
        "# divmod(x, y) 메서드는 x를 y로 나눌 때, 몫과 나머지를 반환한다.\n",
        "\n",
        "divmod(45, 6)"
      ],
      "execution_count": null,
      "outputs": [
        {
          "output_type": "execute_result",
          "data": {
            "text/plain": [
              "(7, 3)"
            ]
          },
          "metadata": {
            "tags": []
          },
          "execution_count": 9
        }
      ]
    },
    {
      "cell_type": "code",
      "metadata": {
        "colab": {
          "base_uri": "https://localhost:8080/"
        },
        "id": "z7UDwbfNZv4_",
        "outputId": "03f8deee-7366-4ffa-b36c-5342b85d3667"
      },
      "source": [
        "# round(x, n) 메서드는 n이 음수인 경우, x를 정수 n번째 자리에서 반올림한 값을 반환한다.\n",
        "# n이 양수인 경우, x를 소수점 이하 n번째 자리로 반올림한 값을 반환한다.\n",
        "\n",
        "round(113.866, -1)"
      ],
      "execution_count": null,
      "outputs": [
        {
          "output_type": "execute_result",
          "data": {
            "text/plain": [
              "110.0"
            ]
          },
          "metadata": {
            "tags": []
          },
          "execution_count": 10
        }
      ]
    },
    {
      "cell_type": "code",
      "metadata": {
        "colab": {
          "base_uri": "https://localhost:8080/"
        },
        "id": "_FvNPmz5aol1",
        "outputId": "27e0a68b-055c-4823-871d-378a3180ac6a"
      },
      "source": [
        "round(113.866, 2)"
      ],
      "execution_count": null,
      "outputs": [
        {
          "output_type": "execute_result",
          "data": {
            "text/plain": [
              "113.87"
            ]
          },
          "metadata": {
            "tags": []
          },
          "execution_count": 11
        }
      ]
    },
    {
      "cell_type": "code",
      "metadata": {
        "colab": {
          "base_uri": "https://localhost:8080/"
        },
        "id": "27827KQMasMI",
        "outputId": "6e5fb6b0-7005-4a61-d4b1-bd93df310a26"
      },
      "source": [
        "# as_integer_ratio() 메서드는 부동소수점을 분수로 표현한다.\n",
        "\n",
        "2.75.as_integer_ratio()"
      ],
      "execution_count": null,
      "outputs": [
        {
          "output_type": "execute_result",
          "data": {
            "text/plain": [
              "(11, 4)"
            ]
          },
          "metadata": {
            "tags": []
          },
          "execution_count": 12
        }
      ]
    },
    {
      "cell_type": "code",
      "metadata": {
        "id": "_QGsZnyfa26f"
      },
      "source": [
        "# 복소수(complex number)는 z = 3 + 4j 와 같이 생긴 부동소수점 한 쌍을 갖는 불변형이다.\n",
        "# z.real, z.imag, z.conjugate()와 같은 메서드로 실수부, 허수부, 켤레 복소수를 구할 수 있다.\n",
        "# 복소수를 사용하려면 cmath 모듈을 임포트 해야한다."
      ],
      "execution_count": null,
      "outputs": []
    },
    {
      "cell_type": "markdown",
      "metadata": {
        "id": "Q0ubuZ6RvnCC"
      },
      "source": [
        "1.4 분수를 다루기 위한 fraction 모듈"
      ]
    },
    {
      "cell_type": "code",
      "metadata": {
        "colab": {
          "base_uri": "https://localhost:8080/"
        },
        "id": "FPXOhGP-bLrr",
        "outputId": "c8afc740-0823-4c25-ee28-9e9a74335607"
      },
      "source": [
        "# 파이썬에서 분수를 다루려면 fraction 모듈을 사용한다.\n",
        "from fractions import Fraction\n",
        "\n",
        "def rounding_floats(number1, places):\n",
        "    return round(number1, places)\n",
        "\n",
        "def float_to_fractions(number):\n",
        "    return Fraction(*number.as_integer_ratio())\n",
        "\n",
        "def get_denominator(number1, number2):\n",
        "    \"\"\" 분모를 반환한다. \"\"\"\n",
        "    a = Fraction(number1, number2)\n",
        "    return a.denominator\n",
        "\n",
        "def get_numerator(number1, number2):\n",
        "    \"분자를 반환한다.\"\n",
        "    a = Fraction(number1, number2)\n",
        "    return a.numerator\n",
        "\n",
        "def test_testing_floats():\n",
        "    number1 = 1.25\n",
        "    number2 = 1\n",
        "    number3 = -1\n",
        "    number4 = 5/4\n",
        "    number6 = 6\n",
        "    assert(rounding_floats(number1, number2) == 1.2)\n",
        "    assert(rounding_floats(number1*10, number3) == 10)\n",
        "    assert(float_to_fractions(number1) == number4)\n",
        "    assert(get_denominator(number2, number6) == number6)\n",
        "    assert(get_numerator(number2, number6) == number2)\n",
        "    print(\"테스트 통과!\")\n",
        "\n",
        "if __name__ == \"__main__\":\n",
        "    test_testing_floats()"
      ],
      "execution_count": null,
      "outputs": [
        {
          "output_type": "stream",
          "text": [
            "테스트 통과!\n"
          ],
          "name": "stdout"
        }
      ]
    },
    {
      "cell_type": "markdown",
      "metadata": {
        "id": "kcJBkp--vqiN"
      },
      "source": [
        "1.5 decimal 모듈\r\n",
        "\r\n",
        "정확한 10진법의 부동소수점 숫자가 필요한 경우, 부동소수점 불변 타입인 decimal.Decimal을 사용할 수 있다. \r\n",
        "\r\n",
        "Decimal()메서드는 정수 또는 문자열을 인수로 취한다."
      ]
    },
    {
      "cell_type": "code",
      "metadata": {
        "colab": {
          "base_uri": "https://localhost:8080/"
        },
        "id": "9sTDrEAhveIp",
        "outputId": "bc808f55-767e-42d1-8ec8-6b65107459f1"
      },
      "source": [
        "sum(0.1 for i in range(10)) == 1.0 # 부동소수점 오차로 인한 False"
      ],
      "execution_count": null,
      "outputs": [
        {
          "output_type": "execute_result",
          "data": {
            "text/plain": [
              "False"
            ]
          },
          "metadata": {
            "tags": []
          },
          "execution_count": 15
        }
      ]
    },
    {
      "cell_type": "code",
      "metadata": {
        "colab": {
          "base_uri": "https://localhost:8080/"
        },
        "id": "M4IdDOaCwA0g",
        "outputId": "9a6808a1-98d2-41e6-bab4-a82e28b14af8"
      },
      "source": [
        "from decimal import Decimal # 라이브러리 불러오기\r\n",
        "\r\n",
        "sum(Decimal(\"0.1\") for i in range(10)) == Decimal(\"1.0\") # decimal 모듈을 사용하면 True 여기서는 문자열을 인수로 취한다."
      ],
      "execution_count": null,
      "outputs": [
        {
          "output_type": "execute_result",
          "data": {
            "text/plain": [
              "True"
            ]
          },
          "metadata": {
            "tags": []
          },
          "execution_count": 16
        }
      ]
    },
    {
      "cell_type": "markdown",
      "metadata": {
        "id": "y22YSj8jwaxL"
      },
      "source": [
        "1.6 2진수, 8진수, 16진수"
      ]
    },
    {
      "cell_type": "code",
      "metadata": {
        "colab": {
          "base_uri": "https://localhost:8080/",
          "height": 35
        },
        "id": "j6WMlrE1wONw",
        "outputId": "79606a9f-80c3-489b-874e-a5f918721967"
      },
      "source": [
        "# bin(i) 메서드는  정수 i의 2진수 문자열을 반환한다.\r\n",
        "bin(999)"
      ],
      "execution_count": null,
      "outputs": [
        {
          "output_type": "execute_result",
          "data": {
            "application/vnd.google.colaboratory.intrinsic+json": {
              "type": "string"
            },
            "text/plain": [
              "'0b1111100111'"
            ]
          },
          "metadata": {
            "tags": []
          },
          "execution_count": 17
        }
      ]
    },
    {
      "cell_type": "code",
      "metadata": {
        "colab": {
          "base_uri": "https://localhost:8080/",
          "height": 35
        },
        "id": "0jYQN0Jowq4J",
        "outputId": "9ac72543-cc9e-4689-a67b-e78183ca0656"
      },
      "source": [
        "# oct(i) 메서드는 정수 i의 8진수 문자열을 반환한다.\r\n",
        "oct(999)"
      ],
      "execution_count": null,
      "outputs": [
        {
          "output_type": "execute_result",
          "data": {
            "application/vnd.google.colaboratory.intrinsic+json": {
              "type": "string"
            },
            "text/plain": [
              "'0o1747'"
            ]
          },
          "metadata": {
            "tags": []
          },
          "execution_count": 18
        }
      ]
    },
    {
      "cell_type": "code",
      "metadata": {
        "colab": {
          "base_uri": "https://localhost:8080/",
          "height": 35
        },
        "id": "GEAI0wd8wvQI",
        "outputId": "ecf043f7-55bb-4702-fc19-2649ce2c7b2f"
      },
      "source": [
        "# hex(i) 메서드는 정수 i의 16진수 문자열을 반환한다.\r\n",
        "hex(999)"
      ],
      "execution_count": null,
      "outputs": [
        {
          "output_type": "execute_result",
          "data": {
            "application/vnd.google.colaboratory.intrinsic+json": {
              "type": "string"
            },
            "text/plain": [
              "'0x3e7'"
            ]
          },
          "metadata": {
            "tags": []
          },
          "execution_count": 19
        }
      ]
    },
    {
      "cell_type": "markdown",
      "metadata": {
        "id": "RD_OKUXgxBt9"
      },
      "source": [
        "1.7 연습문제"
      ]
    },
    {
      "cell_type": "code",
      "metadata": {
        "colab": {
          "base_uri": "https://localhost:8080/"
        },
        "id": "ircd2QH-w1DI",
        "outputId": "8f0cb9f2-613d-4475-f174-1642cfef67fb"
      },
      "source": [
        "# 진법을 변환하는 함수 만들기\r\n",
        "def convert_to_decimal(number, base):\r\n",
        "    multiplier, result = 1, 0\r\n",
        "    while number > 0:\r\n",
        "        result += number % 10 * multiplier # 반복문을 돌면서 일의 자리 숫자를 하나씩 계산\r\n",
        "        multiplier *= base\r\n",
        "        number = number // 10\r\n",
        "    return result\r\n",
        "\r\n",
        "def test_convert_to_decimal():\r\n",
        "    number, base = 1001, 2\r\n",
        "    assert(convert_to_decimal(number, base) == 9)\r\n",
        "    print(\"테스트 통과!\")\r\n",
        "\r\n",
        "if __name__ == \"__main__\":\r\n",
        "    test_convert_to_decimal()"
      ],
      "execution_count": null,
      "outputs": [
        {
          "output_type": "stream",
          "text": [
            "테스트 통과!\n"
          ],
          "name": "stdout"
        }
      ]
    },
    {
      "cell_type": "code",
      "metadata": {
        "colab": {
          "base_uri": "https://localhost:8080/"
        },
        "id": "ZPkz81WU0Z7H",
        "outputId": "70e75595-755a-4e4b-865d-fa1fc788aeda"
      },
      "source": [
        "numon2 = convert_to_decimal(1010, 2)\r\n",
        "print(numon2)"
      ],
      "execution_count": null,
      "outputs": [
        {
          "output_type": "stream",
          "text": [
            "10\n"
          ],
          "name": "stdout"
        }
      ]
    },
    {
      "cell_type": "code",
      "metadata": {
        "colab": {
          "base_uri": "https://localhost:8080/"
        },
        "id": "X8cfPGq40XhO",
        "outputId": "1cb88382-a0ec-4e57-fbe6-5478c04a1679"
      },
      "source": [
        "# 10진수를 다른 진법 숫자로 변환하는 함수\r\n",
        "def convert_from_decimal(number, base):\r\n",
        "    multiplier, result = 1, 0\r\n",
        "    while number > 0:\r\n",
        "        result += number % base * multiplier\r\n",
        "        multiplier *= 10\r\n",
        "        number = number // base\r\n",
        "    return result\r\n",
        "\r\n",
        "def test_convert_from_decimal():\r\n",
        "    number, base = 9, 2\r\n",
        "    assert(convert_from_decimal(number, base) == 1001)\r\n",
        "    print(\"테스트 통과!\")\r\n",
        "\r\n",
        "if __name__ == \"__main__\":\r\n",
        "    test_convert_from_decimal()"
      ],
      "execution_count": null,
      "outputs": [
        {
          "output_type": "stream",
          "text": [
            "테스트 통과!\n"
          ],
          "name": "stdout"
        }
      ]
    },
    {
      "cell_type": "code",
      "metadata": {
        "colab": {
          "base_uri": "https://localhost:8080/"
        },
        "id": "wuPC0mokz7ih",
        "outputId": "19ec273c-7d30-4942-b025-2f83a38f17a0"
      },
      "source": [
        "change_2 = convert_from_decimal(15, 2)\r\n",
        "print(change_2)"
      ],
      "execution_count": null,
      "outputs": [
        {
          "output_type": "stream",
          "text": [
            "1111\n"
          ],
          "name": "stdout"
        }
      ]
    },
    {
      "cell_type": "code",
      "metadata": {
        "colab": {
          "base_uri": "https://localhost:8080/"
        },
        "id": "KYKMTrsN13no",
        "outputId": "c5cb73c2-44d2-4f26-8312-2d123a444fec"
      },
      "source": [
        "# base가 10보다 큰 경우, 10 이상의 숫자를 나타내는 데에 문자를 사용해야한다.\r\n",
        "\r\n",
        "def convert_from_decimal_larger_bases(number, base):\r\n",
        "    strings = \"0123456789ABCDEFGHIJ\"\r\n",
        "    result = \"\"\r\n",
        "    while number > 0:\r\n",
        "        digit = number % base\r\n",
        "        result = strings[digit] + result\r\n",
        "        number = number // base\r\n",
        "    return result\r\n",
        "\r\n",
        "def test_convert_from_decimal_larger_bases():\r\n",
        "    number, base = 31, 16\r\n",
        "    assert(convert_from_decimal_larger_bases(number, base) == \"1F\")\r\n",
        "    print(\"테스트 통과!\")\r\n",
        "\r\n",
        "if __name__ == \"__main__\":\r\n",
        "    test_convert_from_decimal_larger_bases()"
      ],
      "execution_count": null,
      "outputs": [
        {
          "output_type": "stream",
          "text": [
            "테스트 통과!\n"
          ],
          "name": "stdout"
        }
      ]
    },
    {
      "cell_type": "code",
      "metadata": {
        "colab": {
          "base_uri": "https://localhost:8080/"
        },
        "id": "QovJMmWX2boi",
        "outputId": "e20ffe1f-c08a-4060-e0c6-e912083445cb"
      },
      "source": [
        "change_16 = convert_from_decimal_larger_bases(31, 16)\r\n",
        "print(change_16)"
      ],
      "execution_count": null,
      "outputs": [
        {
          "output_type": "stream",
          "text": [
            "1F\n"
          ],
          "name": "stdout"
        }
      ]
    },
    {
      "cell_type": "code",
      "metadata": {
        "colab": {
          "base_uri": "https://localhost:8080/"
        },
        "id": "qbOczLhF2oRU",
        "outputId": "3b4325ce-5fc4-4e06-a061-68369181fbf3"
      },
      "source": [
        "# 재귀 함수를 사용한 진법 변환\r\n",
        "def convert_dec_to_any_base_rec(number, base):\r\n",
        "    convertString = \"012345679ABCDEF\"\r\n",
        "    if number < base:\r\n",
        "        return convertString[number]\r\n",
        "    else:\r\n",
        "        return convert_dec_to_any_base_rec(number // base, base) + convertString[number % base]\r\n",
        "\r\n",
        "def test_conver_dec_to_any_base_rec():\r\n",
        "    number = 9\r\n",
        "    base = 2\r\n",
        "    assert(convert_dec_to_any_base_rec(number, base) == \"1001\")\r\n",
        "    print(\"테스트 통과!\")\r\n",
        "\r\n",
        "if __name__ == \"__main__\":\r\n",
        "    test_conver_dec_to_any_base_rec()"
      ],
      "execution_count": null,
      "outputs": [
        {
          "output_type": "stream",
          "text": [
            "테스트 통과!\n"
          ],
          "name": "stdout"
        }
      ]
    },
    {
      "cell_type": "code",
      "metadata": {
        "colab": {
          "base_uri": "https://localhost:8080/"
        },
        "id": "y7cs5t2T4Oiq",
        "outputId": "c734f1d4-a5e2-488b-b37f-ec0d46228f90"
      },
      "source": [
        "# 최대공약수 계산 (Euclidean Algorithm)\r\n",
        "def finding_gcd(a, b):\r\n",
        "    while (b != 0):\r\n",
        "        result = b\r\n",
        "        a, b = b, a % b\r\n",
        "    return result\r\n",
        "\r\n",
        "def test_finding_gcd():\r\n",
        "    number1 = 21\r\n",
        "    number2 = 12\r\n",
        "    assert(finding_gcd(number1, number2) == 3)\r\n",
        "    print(\"테스트 통과!\")\r\n",
        "\r\n",
        "if __name__ == \"__main__\":\r\n",
        "    test_finding_gcd()"
      ],
      "execution_count": null,
      "outputs": [
        {
          "output_type": "stream",
          "text": [
            "테스트 통과!\n"
          ],
          "name": "stdout"
        }
      ]
    },
    {
      "cell_type": "code",
      "metadata": {
        "colab": {
          "base_uri": "https://localhost:8080/"
        },
        "id": "co8FKbHH42Z3",
        "outputId": "e3cd5757-d06d-4789-b93f-15b84a87faa3"
      },
      "source": [
        "# 난수 생성하기\r\n",
        "\r\n",
        "import random # 라이브러리 사용\r\n",
        "\r\n",
        "def testing_random():\r\n",
        "    values = [1, 2, 3, 4]\r\n",
        "    print(random.choice(values))\r\n",
        "    print(random.choice(values))\r\n",
        "    print(random.choice(values))\r\n",
        "    print(random.sample(values, 2))\r\n",
        "    print(random.sample(values, 2))\r\n",
        "\r\n",
        "    # values 리스트 섞기\r\n",
        "    random.shuffle(values)\r\n",
        "    print(values)\r\n",
        "\r\n",
        "    # 0~10의 임의의 정수 생성\r\n",
        "    print(random.randint(0, 10))\r\n",
        "    print(random.randint(0, 10))\r\n",
        "\r\n",
        "if __name__ == \"__main__\":\r\n",
        "    testing_random()"
      ],
      "execution_count": null,
      "outputs": [
        {
          "output_type": "stream",
          "text": [
            "4\n",
            "4\n",
            "1\n",
            "[2, 1]\n",
            "[2, 3]\n",
            "[4, 3, 1, 2]\n",
            "0\n",
            "6\n"
          ],
          "name": "stdout"
        }
      ]
    },
    {
      "cell_type": "code",
      "metadata": {
        "colab": {
          "background_save": true,
          "base_uri": "https://localhost:8080/",
          "height": 136
        },
        "id": "UyxkLtEi7t7g",
        "outputId": "618bd3c1-d57d-402a-8123-a5b4cdb3e5a2"
      },
      "source": [
        "# 피보나치 수열\r\n",
        "\r\n",
        "import math # 라이브러리 사용\r\n",
        "\r\n",
        "def find_fibonacci_seq_iter(n): # 반복문을 사용하는 이 함수의 시간복잡도는 O(n)\r\n",
        "    if n < 2 : return n\r\n",
        "    a, b = 0, 1\r\n",
        "    for i in range(n):\r\n",
        "        a, b = b, a + b\r\n",
        "    return a\r\n",
        "\r\n",
        "def find_fibonacci_seq_rec(n): # 재귀 호출을 사용하는 이 함수의 시간복잡도는 O(2^n)\r\n",
        "    if n < 2: return n\r\n",
        "    return find_fibonacci_seq_rec(n - 1) + find_fibonacci_seq_rec(n-2)\r\n",
        "\r\n",
        "def find_fibonacci_seq_form(n): # 수식을 사용하는 이 함수의 시간복잡도는 O(1)\r\n",
        "    sq5 = math.sqrt(5)\r\n",
        "    phi = (1 + sq5) / 2\r\n",
        "    return int(math.floor(phi ** n) / sq5))\r\n",
        "\r\n",
        "def test_find_fib():\r\n",
        "    n = 10\r\n",
        "    assert(find_fibonacci_seq_rec(n) == 55)\r\n",
        "    assert(find_fibonacci_seq_iter(n) == 55)\r\n",
        "    assert(find_fibonacci_seq_form(n) == 55)\r\n",
        "    print(\"테스트 통과!\")\r\n",
        "\r\n",
        "if __name__ == \"__main__\":\r\n",
        "    test_find_fib()"
      ],
      "execution_count": null,
      "outputs": [
        {
          "output_type": "stream",
          "text": [
            "테스트 통과!\n"
          ],
          "name": "stdout"
        }
      ]
    },
    {
      "cell_type": "markdown",
      "metadata": {
        "id": "jxNGV108-Z69"
      },
      "source": [
        "제너레이터를 사용해 피보나치 수열 구하기\r\n",
        "\r\n",
        "제너레이터는 파이썬의 시퀀스를 생성하는 객체다. 전체 시퀀스를 한 번에 메모리에 생성하고 정렬할 필요 없이, 잠재적으로 아주 큰 시퀀스를 순회할 수 있다.\r\n",
        "\r\n",
        "제너레이터 함수는 yield 문을 사용한다."
      ]
    },
    {
      "cell_type": "code",
      "metadata": {
        "id": "Uccp936k99uf",
        "colab": {
          "base_uri": "https://localhost:8080/"
        },
        "outputId": "02eb6300-a817-4b05-96c4-863bbd686419"
      },
      "source": [
        "def fib_generator():\r\n",
        "    a, b = 0, 1\r\n",
        "    while True:\r\n",
        "        yield b\r\n",
        "        a, b = b, a+b\r\n",
        "\r\n",
        "if __name__ == \"__main__\":\r\n",
        "    fg = fib_generator()\r\n",
        "    for _ in range(10):\r\n",
        "        print(next(fg), end = ' ')"
      ],
      "execution_count": 33,
      "outputs": [
        {
          "output_type": "stream",
          "text": [
            "1 1 2 3 5 8 13 21 34 55 "
          ],
          "name": "stdout"
        }
      ]
    }
  ]
}