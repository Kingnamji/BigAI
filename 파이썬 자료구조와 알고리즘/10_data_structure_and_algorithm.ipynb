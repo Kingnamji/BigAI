{
  "nbformat": 4,
  "nbformat_minor": 0,
  "metadata": {
    "colab": {
      "name": "10_data_structure_and_algorithm",
      "provenance": []
    },
    "kernelspec": {
      "name": "python3",
      "display_name": "Python 3"
    },
    "language_info": {
      "name": "python"
    }
  },
  "cells": [
    {
      "cell_type": "markdown",
      "metadata": {
        "id": "qViUD9bUNYip"
      },
      "source": [
        "# 탐색"
      ]
    },
    {
      "cell_type": "markdown",
      "metadata": {
        "id": "6rEYaUx_NcLo"
      },
      "source": [
        "가장 일반적인 탐색(searching) 알고리즘은 순차 탐색(sequential search)과 이진 탐색(binary search)\n",
        "\n",
        "순차 탐색은 배열이 정렬되어 있지 않거나, 연결 리스트와 같이 입력이 동적으로 할당되는 경우 흔히 사용한다. \n",
        "\n",
        "이진 탐색은 배열이 정렬되어 있는 경우 최선의 선택이다.\n",
        "\n",
        "해시 테이블은 보조 메모리 공간을 사용하지만, 키를 이용하면 O(1)에 원하는 값을 검색할 수 있다.\n",
        "==> 시간을 선택하고, 메모리적인 부분을 일부 포기"
      ]
    },
    {
      "cell_type": "markdown",
      "metadata": {
        "id": "k-noly9jOAbg"
      },
      "source": [
        "# 정렬되지 않은 배열"
      ]
    },
    {
      "cell_type": "markdown",
      "metadata": {
        "id": "uEZAFU3XODUw"
      },
      "source": [
        "순차 탐색 (Sequential Search)\n",
        "\n",
        "순서대로 리스트를 탐색하며 원하는 데이터를 찾는 알고리즘\n",
        "\n",
        "시간복잡도 : 최선 O(1) 평균 O(2/n) 최악 O(n)"
      ]
    },
    {
      "cell_type": "code",
      "metadata": {
        "id": "j7X1obyQNcdY"
      },
      "source": [
        "# 순차 탐색 구현\n",
        "def sequential_search(seq, n):\n",
        "    length = len(seq)\n",
        "    for i in range(length):\n",
        "        if seq[i] == n:\n",
        "            return i\n",
        "    \n",
        "    return False"
      ],
      "execution_count": null,
      "outputs": []
    },
    {
      "cell_type": "code",
      "metadata": {
        "colab": {
          "base_uri": "https://localhost:8080/"
        },
        "id": "cuqIP5bklZ4z",
        "outputId": "0a9cfb12-8f3f-4bb0-dc83-dcf5d0aa085c"
      },
      "source": [
        "# 순차 탐색 테스트\n",
        "def test(seq, n):\n",
        "    idx = sequential_search(seq, n)\n",
        "    if idx:\n",
        "        print(f'값의 index = {idx}, 찾은 값 = {seq[idx]}')\n",
        "    else:\n",
        "        print('값을 찾지 못했습니다')\n",
        "\n",
        "\n",
        "ary = [5, 10, 20 ,30, 2, 7 ,6]\n",
        "\n",
        "print(\"원하는 값을 못찾은 케이스 : \")\n",
        "test(ary, 1000)\n",
        "\n",
        "print()\n",
        "print(\"원하는 값을 찾은 케이스 : \")\n",
        "test(ary, 10)"
      ],
      "execution_count": null,
      "outputs": [
        {
          "output_type": "stream",
          "text": [
            "원하는 값을 못찾은 케이스 : \n",
            "값을 찾지 못했습니다\n",
            "\n",
            "원하는 값을 찾은 케이스 : \n",
            "값의 index = 1, 찾은 값 = 10\n"
          ],
          "name": "stdout"
        }
      ]
    },
    {
      "cell_type": "markdown",
      "metadata": {
        "id": "AzZ4Wq4Vovm1"
      },
      "source": [
        "빠른 선택과 순서통계량"
      ]
    },
    {
      "cell_type": "code",
      "metadata": {
        "id": "tI6XoFGzn6dz",
        "colab": {
          "base_uri": "https://localhost:8080/"
        },
        "outputId": "7f96000c-e288-418a-fd42-bbb358a1286e"
      },
      "source": [
        "import random\n",
        "\n",
        "\n",
        "def quick_select_cache(seq, k):\n",
        "    len_seq = len(seq)\n",
        "    if len_seq < 2:\n",
        "        return seq[0]\n",
        "\n",
        "    # 피벗을 무작위로 선택할 수 있다.\n",
        "    # pivot = random.choice(seq)\n",
        "    ipivot = len_seq // 2\n",
        "    pivot = seq[ipivot]\n",
        "\n",
        "    smallerList = [x for i, x in enumerate(seq) if x <= pivot and i != ipivot]\n",
        "    largerList = [x for i, x in enumerate(seq) if x > pivot and i != ipivot]\n",
        "\n",
        "    m = len(smallerList)\n",
        "    if k == m:\n",
        "        return pivot\n",
        "    elif k < m:\n",
        "        return quick_select_cache(smallerList, k)\n",
        "    else:\n",
        "        return quick_select_cache(largerList, k-m-1)\n",
        "\n",
        "\n",
        "def swap(seq, x, y):\n",
        "    seq[x], seq[y] = seq[y], seq[x]\n",
        "\n",
        "\n",
        "def quick_select(seq, k, left=None, right=None):\n",
        "    left = left or 0\n",
        "    right = right or len(seq) - 1\n",
        "    ipivot = random.randint(left, right)\n",
        "    pivot = seq[ipivot]\n",
        "\n",
        "    # 피벗을 정렬 범위 밖으로 이동한다.\n",
        "    swap(seq, ipivot, right)\n",
        "    swapIndex, i = left, left\n",
        "    while i < right:\n",
        "        if pivot < seq[i]:\n",
        "            swap(seq, i, swapIndex)\n",
        "            swapIndex += 1\n",
        "        i += 1\n",
        "\n",
        "    # 피벗 위치를 확정한다.\n",
        "    swap(seq, right, swapIndex)\n",
        "\n",
        "    # 피벗 위치를 확인한다.\n",
        "    rank = len(seq) - swapIndex\n",
        "    if k == rank:\n",
        "        return seq[swapIndex]\n",
        "    elif k < rank:\n",
        "        return quick_select(seq, k, swapIndex+1, right)\n",
        "    else:\n",
        "        return quick_select(seq, k, left, swapIndex-1)\n",
        "\n",
        "\n",
        "if __name__ == \"__main__\":\n",
        "    seq = [3, 7, 2, 1, 4, 6, 5, 10, 9, 11]\n",
        "    k = len(seq) // 2\n",
        "    print(sorted(seq))\n",
        "    print(quick_select_cache(seq, k-1))\n",
        "\n",
        "    # 아래 함수는 원본을 수정하므로 깊은 복사 실행\n",
        "    import copy\n",
        "    seq_copy = copy.deepcopy(seq)\n",
        "    print(quick_select(seq_copy, k))\n",
        "\n",
        "    # 중앙값(median) 출력을 위해서 넘파이를 사용함\n",
        "    import numpy\n",
        "    print(numpy.median(seq))"
      ],
      "execution_count": 1,
      "outputs": [
        {
          "output_type": "stream",
          "text": [
            "[1, 2, 3, 4, 5, 6, 7, 9, 10, 11]\n",
            "5\n",
            "5\n",
            "5.5\n"
          ],
          "name": "stdout"
        }
      ]
    },
    {
      "cell_type": "code",
      "metadata": {
        "colab": {
          "base_uri": "https://localhost:8080/"
        },
        "id": "_rVS18GiTx-W",
        "outputId": "efa8e5ac-4c46-455e-b769-b41b5e79ca31"
      },
      "source": [
        "# 재귀함수\n",
        "def binary_search_rec(seq, target, low, high):\n",
        "    if low > high:\n",
        "        return None\n",
        "    mid = (low + high) // 2\n",
        "    if target == seq[mid]:\n",
        "        return mid\n",
        "    elif target < seq[mid]:\n",
        "        return binary_search_rec(seq, target, low, mid-1)\n",
        "    else:\n",
        "        return binary_search_rec(seq, target, mid+1, high)\n",
        "\n",
        "\n",
        "# 반복문\n",
        "def binary_search_iter(seq, target):\n",
        "    high, low = len(seq), 0\n",
        "    while low < high:\n",
        "        mid = (high + low) // 2\n",
        "        if target == seq[mid]:\n",
        "            return mid\n",
        "        elif target < seq[mid]:\n",
        "            high = mid\n",
        "        else:\n",
        "            low = mid + 1\n",
        "    return None\n",
        "\n",
        "\n",
        "def test_binary_search():\n",
        "    seq = [1, 2, 5, 6, 7, 10, 12, 12, 14, 15]\n",
        "    target = 6\n",
        "    assert(binary_search_iter(seq, target) == 3)\n",
        "    assert(binary_search_rec(seq, target, 0, len(seq)) == 3)\n",
        "    print(\"테스트 통과!\")\n",
        "\n",
        "\n",
        "if __name__ == \"__main__\":\n",
        "    test_binary_search()"
      ],
      "execution_count": 2,
      "outputs": [
        {
          "output_type": "stream",
          "text": [
            "테스트 통과!\n"
          ],
          "name": "stdout"
        }
      ]
    },
    {
      "cell_type": "code",
      "metadata": {
        "id": "6AAwoeCvT2Jj",
        "outputId": "e4f68786-f8ca-4696-db13-03b6f5ae518d",
        "colab": {
          "base_uri": "https://localhost:8080/"
        }
      },
      "source": [
        "def find_elem_matrix_bool(m1, value):\n",
        "    found = False\n",
        "    row = 0\n",
        "    col = len(m1[0]) - 1\n",
        "    while row < len(m1) and col >= 0:\n",
        "        if m1[row][col] == value:\n",
        "            found = True\n",
        "            break\n",
        "        elif m1[row][col] > value:\n",
        "            col -= 1\n",
        "        else:\n",
        "            row += 1\n",
        "    return found\n",
        "\n",
        "\n",
        "def test_find_elem_matrix_bool():\n",
        "    m1 = [[1, 2, 8, 9], [2, 4, 9, 12], [4, 7, 10, 13], [6, 8, 11, 15]]\n",
        "    assert(find_elem_matrix_bool(m1, 8) is True)\n",
        "    assert(find_elem_matrix_bool(m1, 3) is False)\n",
        "    m2 = [[0]]\n",
        "    assert(find_elem_matrix_bool(m2, 0) is True)\n",
        "    print(\"테스트 통과!\")\n",
        "\n",
        "\n",
        "if __name__ == \"__main__\":\n",
        "    test_find_elem_matrix_bool()"
      ],
      "execution_count": 3,
      "outputs": [
        {
          "output_type": "stream",
          "text": [
            "테스트 통과!\n"
          ],
          "name": "stdout"
        }
      ]
    },
    {
      "cell_type": "code",
      "metadata": {
        "id": "wdgQ8wGFT426",
        "outputId": "edd3fa74-8028-4298-88ea-992e6af36ebf",
        "colab": {
          "base_uri": "https://localhost:8080/"
        }
      },
      "source": [
        "def searching_in_a_matrix(m1, value):\n",
        "    rows = len(m1)\n",
        "    cols = len(m1[0])\n",
        "    lo = 0\n",
        "    hi = rows*cols\n",
        "    while lo < hi:\n",
        "        mid = (lo + hi) // 2\n",
        "        row = mid // cols\n",
        "        col = mid % cols\n",
        "        v = m1[row][col]\n",
        "        if v == value:\n",
        "            return True\n",
        "        elif v > value:\n",
        "            hi = mid\n",
        "        else:\n",
        "            lo = mid+1\n",
        "    return False\n",
        "\n",
        "\n",
        "def test_searching_in_a_matrix():\n",
        "    a = [[1, 3, 5], [7, 9, 11], [13, 15, 17]]\n",
        "    import numpy\n",
        "    b = numpy.array([(1, 2), (3, 4)])\n",
        "    assert(searching_in_a_matrix(a, 13) is True)\n",
        "    assert(searching_in_a_matrix(a, 14) is False)\n",
        "    assert(searching_in_a_matrix(b, 3) is True)\n",
        "    assert(searching_in_a_matrix(b, 5) is False)\n",
        "    print(\"테스트 통과!\")\n",
        "\n",
        "\n",
        "if __name__ == \"__main__\":\n",
        "    test_searching_in_a_matrix()"
      ],
      "execution_count": 4,
      "outputs": [
        {
          "output_type": "stream",
          "text": [
            "테스트 통과!\n"
          ],
          "name": "stdout"
        }
      ]
    }
  ]
}