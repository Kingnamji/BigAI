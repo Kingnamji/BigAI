{
  "nbformat": 4,
  "nbformat_minor": 0,
  "metadata": {
    "colab": {
      "name": "11_data_structure_and_algorithm",
      "provenance": []
    },
    "kernelspec": {
      "name": "python3",
      "display_name": "Python 3"
    },
    "language_info": {
      "name": "python"
    }
  },
  "cells": [
    {
      "cell_type": "markdown",
      "metadata": {
        "id": "VtC9E1KUY4ZV"
      },
      "source": [
        "# 동적 계획법"
      ]
    },
    {
      "cell_type": "markdown",
      "metadata": {
        "id": "PlKQBk_SY5m4"
      },
      "source": [
        "동적 계획법(DP, dynamic programming)은 복잡한 문제를 재귀를 통해 간단한 하위 문제로 분류해 단순화하여 해결하는 방법\n",
        "\n",
        "어떤 문제가 최적 부분 구조(Optimal substructure)와 중복되는 부분 문제(overlapping subproblem)을 갖고 있으면, DP로 해결 가능"
      ]
    },
    {
      "cell_type": "markdown",
      "metadata": {
        "id": "suMyg5tFajZv"
      },
      "source": [
        "# 메모이제이션(memoization)"
      ]
    },
    {
      "cell_type": "markdown",
      "metadata": {
        "id": "k1MvlqmuanSy"
      },
      "source": [
        "메모이제이션은 프로그램이 동일한 계산을 반복할 경우, 이전의 계산 값을 저장해놨다가 저장돼 있는 값을 통해 활용하는 방식으로, 중복을 줄이는 것을 말함"
      ]
    },
    {
      "cell_type": "markdown",
      "metadata": {
        "id": "C_HElS0bbF2l"
      },
      "source": [
        "# 연습 문제"
      ]
    },
    {
      "cell_type": "markdown",
      "metadata": {
        "id": "H8iTbBdubHgI"
      },
      "source": [
        "최장 증가 부분열(longest increasing subsequence)찾기"
      ]
    },
    {
      "cell_type": "code",
      "metadata": {
        "id": "dEPQsmPjY46Q"
      },
      "source": [
        "# 가장 단순한 방법\n",
        "from itertools import combinations\n",
        "\n",
        "def simple(seq):\n",
        "    for length in range(len(seq), 0, -1):  # len(seq) 부터 1 까지 (높은 값 부터 해야 최장 증가 부분열을 return)\n",
        "        for sub in combinations(seq, length): # 길이만큼 조합!\n",
        "            if list(sub) == sorted(sub): # 오름차순이랑, 길이만큼 리스트랑 같으면\n",
        "                return len(sub) \n",
        "\n",
        "def dp(seq):\n",
        "    L = [1] * len(seq)\n",
        "\n",
        "    for cur,val in enumerate(seq): # 인덱스 번호, 값 따로 사용\n",
        "        for pre in range(cur): # 현재 인덱스 번호보다 앞 인덱스\n",
        "            if seq[pre] <= val:  # 앞의 원소가 현재 값보다 작거나 같으면 오름차순\n",
        "                L[cur] = max(L[cur], 1 + L[pre]) \n",
        "    return max(L)"
      ],
      "execution_count": 2,
      "outputs": []
    },
    {
      "cell_type": "code",
      "metadata": {
        "colab": {
          "base_uri": "https://localhost:8080/"
        },
        "id": "ZzmRehtSdxH3",
        "outputId": "9a2ac276-d27e-4913-eb10-2fb8b4110512"
      },
      "source": [
        "# 시간 비교\n",
        "import time\n",
        "ary = [94, 8, 78, 22, 38, 79, 93, 8, 84, 39]\n",
        "\n",
        "start_time = time.time()\n",
        "result = simple(ary)\n",
        "used = (time.time() - start_time) * 100\n",
        "\n",
        "print(f'간단한 방법을 사용했을 때 결과 값 : {result}')\n",
        "print(f'간단한 방법을 사용했을 때 걸리는 시간 : {used}')\n",
        "\n",
        "start_time = time.time()\n",
        "result = dp(ary)\n",
        "used = (time.time() - start_time) * 100\n",
        "\n",
        "print(f'\\n동적 계획법을 사용했을 때 결과 값 : {result}')\n",
        "print(f'동적 계획법을 사용했을 때 걸리는 시간 : {used}')"
      ],
      "execution_count": 12,
      "outputs": [
        {
          "output_type": "stream",
          "text": [
            "간단한 방법을 사용했을 때 결과 값 : 5\n",
            "간단한 방법을 사용했을 때 걸리는 시간 : 0.060439109802246094\n",
            "\n",
            "동적 계획법을 사용했을 때 결과 값 : 5\n",
            "동적 계획법을 사용했을 때 걸리는 시간 : 0.009894371032714844\n"
          ],
          "name": "stdout"
        }
      ]
    }
  ]
}