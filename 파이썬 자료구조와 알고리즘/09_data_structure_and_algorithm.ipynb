{
  "nbformat": 4,
  "nbformat_minor": 0,
  "metadata": {
    "colab": {
      "name": "09_data_structure_and_algorithm",
      "provenance": []
    },
    "kernelspec": {
      "name": "python3",
      "display_name": "Python 3"
    },
    "language_info": {
      "name": "python"
    }
  },
  "cells": [
    {
      "cell_type": "markdown",
      "metadata": {
        "id": "wap8g9--RL-3"
      },
      "source": [
        "# 정렬"
      ]
    },
    {
      "cell_type": "markdown",
      "metadata": {
        "id": "Yadpxro-RMm0"
      },
      "source": [
        "안정적 정렬(stable sort)은 데이터 요소의 상대적인 순서를 보존한다.\n",
        "데이터의 두 항목이 크기가 같을 때, 정렬 전의 위치 상태를 똑같이 유지한다.\n",
        "\n",
        "모든 비교 정렬(comparison sort) 문제에서 key는 정렬 순서를 결정하는 값을 뜻한다.(키가 다른 키보다 작은지, 같은지, 큰지 판별하는 방법을 갖추면 됨.)"
      ]
    },
    {
      "cell_type": "markdown",
      "metadata": {
        "id": "l0r84Ru3gfvV"
      },
      "source": [
        "제자리 정렬(in-place sort)은 정렬할 항목의 수에 비해 아주 작은 저장 공간을 더 사용하는 정렬 알고리즘을 뜻한다. 주어진 메모리 공간 외에 추가적인 공간을 필요로 하지 않는 정렬 방식"
      ]
    },
    {
      "cell_type": "markdown",
      "metadata": {
        "id": "A8JwJwm3T8Rb"
      },
      "source": [
        "# 2차 정렬"
      ]
    },
    {
      "cell_type": "markdown",
      "metadata": {
        "id": "AI8NJ63sT_Ah"
      },
      "source": [
        "거품 정렬 (bubble sort)\n",
        "\n",
        "거품 정렬은 인접한 두 항목을 비교하여 정렬하는 방식이다. \n",
        "\n",
        "시간복잡도는 O(n^2)\n",
        "\n",
        "\n",
        "\n",
        "장점\n",
        "- 구현이 간단하다.\n",
        "\n",
        "\n",
        "단점\n",
        "- 순서에 맞지 않은 요소를 인접한 요소와 교환한다.\n",
        "- 하나의 요소가 가장 왼쪽에서 가장 오른쪽으로 이동하기 위해서는 배열에서 모든 다른 요소들과 교환되어야 한다."
      ]
    },
    {
      "cell_type": "code",
      "metadata": {
        "id": "Sx_VTO1VRNYl"
      },
      "source": [
        "# 버블 정렬 오름차순 구현\n",
        "\n",
        "def bubble_sort(seq):\n",
        "    length = len(seq)\n",
        "    for num in range(length-1, 0, -1): # num의 범위는 (배열의 길이 - 1) ~ 1 까지 \n",
        "        for i in range(num):\n",
        "            if seq[i] > seq[i+1]: # 뒤에 있는 data가 더 작으면\n",
        "                temp = seq[i+1]\n",
        "                seq[i+1] = seq[i] # 앞에 있는 data를 뒤로 \n",
        "                seq[i] = temp # 뒤에 있는 data를 앞으로"
      ],
      "execution_count": null,
      "outputs": []
    },
    {
      "cell_type": "code",
      "metadata": {
        "colab": {
          "base_uri": "https://localhost:8080/"
        },
        "id": "yESPSCdxVWQv",
        "outputId": "e0ce7e32-28dc-4b11-c837-d002be39075c"
      },
      "source": [
        "ary = [15, 7, 29, 77, 11, 9]\n",
        "bubble_sort(ary)\n",
        "\n",
        "print(ary)"
      ],
      "execution_count": null,
      "outputs": [
        {
          "output_type": "stream",
          "text": [
            "[7, 9, 11, 15, 29, 77]\n"
          ],
          "name": "stdout"
        }
      ]
    },
    {
      "cell_type": "code",
      "metadata": {
        "id": "4B9onEh9V3F3"
      },
      "source": [
        "# 버블 정렬 오름차순 구현 => 중간과정 출력\n",
        "\n",
        "def bubble_sort(seq):\n",
        "    length = len(seq)\n",
        "    cnt = 0\n",
        "    for num in range(length-1, 0, -1): # num의 범위는 (배열의 길이 - 1) ~ 1 까지 \n",
        "        cnt += 1\n",
        "        for i in range(num):\n",
        "            if seq[i] > seq[i+1]: # 뒤에 있는 data가 더 작으면\n",
        "                temp = seq[i+1]\n",
        "                seq[i+1] = seq[i] # 앞에 있는 data를 뒤로 \n",
        "                seq[i] = temp # 뒤에 있는 data를 앞으로\n",
        "\n",
        "        print(f'{cnt}번째 sorting 결과 : {seq}')\n",
        "\n",
        "    print(f'\\n<최종 결과> : {seq}')"
      ],
      "execution_count": null,
      "outputs": []
    },
    {
      "cell_type": "code",
      "metadata": {
        "colab": {
          "base_uri": "https://localhost:8080/"
        },
        "id": "2LbfUWrzWPRI",
        "outputId": "119be22e-710a-4db7-9372-f9a1dc2e62ba"
      },
      "source": [
        "ary = [15, 7, 29, 77, 11, 9]    \n",
        "bubble_sort(ary)"
      ],
      "execution_count": null,
      "outputs": [
        {
          "output_type": "stream",
          "text": [
            "1번째 sorting 결과 : [7, 15, 29, 11, 9, 77]\n",
            "2번째 sorting 결과 : [7, 15, 11, 9, 29, 77]\n",
            "3번째 sorting 결과 : [7, 11, 9, 15, 29, 77]\n",
            "4번째 sorting 결과 : [7, 9, 11, 15, 29, 77]\n",
            "5번째 sorting 결과 : [7, 9, 11, 15, 29, 77]\n",
            "\n",
            "<최종 결과> : [7, 9, 11, 15, 29, 77]\n"
          ],
          "name": "stdout"
        }
      ]
    },
    {
      "cell_type": "markdown",
      "metadata": {
        "id": "R6dqtRH3f0U9"
      },
      "source": [
        "선택 정렬(selection sort)\n",
        "\n",
        "순서마다 리스트에서 원소를 넣을 위치는 정해져 있고, 어떤 원소를 넣을지 결정해서 넣는 정렬 방법\n",
        "\n",
        "시간 복잡도는 O(n^2)\n",
        "\n",
        "\n",
        "장점\n",
        "- 자료 이동 횟수가 미리 결정된다.\n",
        "\n",
        "단점\n",
        "- 불안정(unstable)한 정렬이다. (값이 같은 레코드가 있는 경우에 상대적인 위치가 변경될 수 있다.)"
      ]
    },
    {
      "cell_type": "code",
      "metadata": {
        "id": "CkwRT24sfzmG"
      },
      "source": [
        "# 선택 정렬 오름차순 구현\n",
        "\n",
        "def selection_sort(seq):\n",
        "    length = len(seq)\n",
        "    for i in range(length-1): # 마지막 원소는 정해지기에 길이-1만큼\n",
        "        least = i\n",
        "        for j in range(i+1,length):\n",
        "            if seq[least] > seq[j]: # 최소의 값을 찾는 index 탐색\n",
        "                least = j\n",
        "\n",
        "        if i != least: # 자기 자신이 가장 작은 값이면 교환할 필요가 없다.\n",
        "            seq[i], seq[least] = seq[least], seq[i]"
      ],
      "execution_count": null,
      "outputs": []
    },
    {
      "cell_type": "code",
      "metadata": {
        "colab": {
          "base_uri": "https://localhost:8080/"
        },
        "id": "-S8hPqc4jd-z",
        "outputId": "b948a30c-15d2-4d53-9310-f6570fceb52f"
      },
      "source": [
        "ary = [15, 7, 29, 77, 11, 9]\n",
        "selection_sort(ary)\n",
        "\n",
        "print(ary)"
      ],
      "execution_count": null,
      "outputs": [
        {
          "output_type": "stream",
          "text": [
            "[7, 9, 11, 15, 29, 77]\n"
          ],
          "name": "stdout"
        }
      ]
    },
    {
      "cell_type": "code",
      "metadata": {
        "id": "mXLha1Pwjkcc"
      },
      "source": [
        "# 선택 정렬 오름차순 구현\n",
        "\n",
        "def selection_sort(seq):\n",
        "    length = len(seq)\n",
        "    cnt = 0\n",
        "    for i in range(length-1): # 마지막 원소는 정해지기에 길이-1만큼\n",
        "        least = i\n",
        "        cnt += 1\n",
        "        for j in range(i+1,length):\n",
        "            if seq[least] > seq[j]: # 최소의 값을 찾는 index 탐색\n",
        "                least = j\n",
        "\n",
        "        if i != least: # 자기 자신이 가장 작은 값이면 교환할 필요가 없다.\n",
        "            seq[i], seq[least] = seq[least], seq[i]\n",
        "\n",
        "        print(f'{cnt}번째 sorting 결과 : {seq}')\n",
        "\n",
        "    print(f'\\n<최종 결과> : {seq}')            "
      ],
      "execution_count": null,
      "outputs": []
    },
    {
      "cell_type": "code",
      "metadata": {
        "colab": {
          "base_uri": "https://localhost:8080/"
        },
        "id": "vgW41Z-OjuF6",
        "outputId": "cf3b4296-0421-46b0-a662-eecc774df5ca"
      },
      "source": [
        "ary = [15, 7, 29, 77, 11, 9]\n",
        "selection_sort(ary)"
      ],
      "execution_count": null,
      "outputs": [
        {
          "output_type": "stream",
          "text": [
            "1번째 sorting 결과 : [7, 15, 29, 77, 11, 9]\n",
            "2번째 sorting 결과 : [7, 9, 29, 77, 11, 15]\n",
            "3번째 sorting 결과 : [7, 9, 11, 77, 29, 15]\n",
            "4번째 sorting 결과 : [7, 9, 11, 15, 29, 77]\n",
            "5번째 sorting 결과 : [7, 9, 11, 15, 29, 77]\n",
            "\n",
            "<최종 결과> : [7, 9, 11, 15, 29, 77]\n"
          ],
          "name": "stdout"
        }
      ]
    },
    {
      "cell_type": "markdown",
      "metadata": {
        "id": "T3bnso3MlPV7"
      },
      "source": [
        "삽입 정렬(insertion sort)\n",
        "\n",
        "배열에서 이미 정렬된 부분에, 다음 항목의 위치를 찾아 삽입하는 방식을 반복하는 정렬 방법.\n",
        "\n",
        "시간복잡도는 최선의 경우 O(n), 평균 및 최악의 경우 O(n^2)\n",
        "\n",
        "\n",
        "장점\n",
        "- 안정한(stable) 정렬\n",
        "- 데이터의 수가 적거나, 이미 정렬돼 있는 경우 좋음.\n",
        "\n",
        "\n",
        "단점\n",
        "- 비교적 많은 레코드들의 이동을 포함\n",
        "- 데이터 크기가 큰 경우 좋지 않음.\n",
        "\n"
      ]
    },
    {
      "cell_type": "code",
      "metadata": {
        "id": "3EbNFH96kFd8"
      },
      "source": [
        "# 삽입 정렬 오름차순 구현\n",
        "def insertion_sort(seq):\n",
        "    length = len(seq)\n",
        "\n",
        "    for i in range(1,length): # idx 1에 해당하는 원소부터 비교할 값이 적어도 하나 있음.\n",
        "        j = i\n",
        "        while j>0 and seq[j-1] > seq[j]: # j번째 값이 더 작으면 \n",
        "            seq[j-1], seq[j] = seq[j], seq[j-1] # 앞으로\n",
        "            j -= 1"
      ],
      "execution_count": null,
      "outputs": []
    },
    {
      "cell_type": "code",
      "metadata": {
        "colab": {
          "base_uri": "https://localhost:8080/"
        },
        "id": "RFHr7RJ-OGPy",
        "outputId": "32580224-ed03-455e-94ae-171769f15102"
      },
      "source": [
        "ary = [15, 7, 29, 77, 11, 9]\n",
        "insertion_sort(ary)\n",
        "\n",
        "print(ary)"
      ],
      "execution_count": null,
      "outputs": [
        {
          "output_type": "stream",
          "text": [
            "[7, 9, 11, 15, 29, 77]\n"
          ],
          "name": "stdout"
        }
      ]
    },
    {
      "cell_type": "markdown",
      "metadata": {
        "id": "XcerrVd5OlX1"
      },
      "source": [
        "합병 정렬(merge sort)은 리스트를 반으로 나눠 정렬되지 않은 리스트를 만듦.\n",
        "\n",
        "정렬되지 않은 두 리스트의 크기가 1이 될 때까지, 나누고 리스트를 정렬하면서 병합한다.\n",
        "\n",
        "제자리 정렬이 아니기 때문에, 다른 알고리즘보다 메모리가 많이 필요하다."
      ]
    },
    {
      "cell_type": "code",
      "metadata": {
        "id": "CnYpnQEAOkU8"
      },
      "source": [
        "# 합병 정렬 구현 오름차순\n",
        "def merge(left, right): # 합병 !\n",
        "    result = []\n",
        "\n",
        "    while len(left) > 0 or len(right) > 0: # 왼쪽 또는 오른쪽에 해당하는 배열의 길이가 최소 1이상이면\n",
        "        if len(left) > 0 and len(right) > 0:\n",
        "            if left[0] <= right[0]: # 왼쪽의 첫번째 element가 더 작으면\n",
        "                result.append(left[0]) # 왼쪽의 첫번째를 합병의 결과에 append\n",
        "                left = left[1:] # 첫번째 element 제거\n",
        "            else: # 오른쪽 case\n",
        "                result.append(right[0])\n",
        "                right = right[1:]\n",
        "\n",
        "        elif len(left) > 0: # 왼쪽만 남으면\n",
        "            result.append(left[0])\n",
        "            left = left[1:]\n",
        "\n",
        "        elif len(right) > 0: #오른쪽만 남으면\n",
        "            result.append(right[0])\n",
        "            right = right[1:]\n",
        "    return result\n",
        "\n",
        "\n",
        "def merge_sort(list):\n",
        "\n",
        "    if len(list) <= 1: # 길이가 1이하면 그냥 return\n",
        "        return list\n",
        "\n",
        "    mid = len(list) // 2\n",
        "    # 먼저 divide\n",
        "    leftList = list[:mid]  \n",
        "    rightList = list[mid:]\n",
        "\n",
        "    leftList = merge_sort(leftList)\n",
        "    rightList = merge_sort(rightList)\n",
        "\n",
        "    # merge\n",
        "    return merge(leftList, rightList)"
      ],
      "execution_count": null,
      "outputs": []
    },
    {
      "cell_type": "code",
      "metadata": {
        "colab": {
          "base_uri": "https://localhost:8080/"
        },
        "id": "OvradjaLS4QJ",
        "outputId": "17b3011e-e333-4b03-9933-e4c6f5326d1e"
      },
      "source": [
        "ary = [15, 7, 29, 77, 11, 9]\n",
        "ary = merge_sort(ary)\n",
        "\n",
        "print(ary)"
      ],
      "execution_count": null,
      "outputs": [
        {
          "output_type": "stream",
          "text": [
            "[7, 9, 11, 15, 29, 77]\n"
          ],
          "name": "stdout"
        }
      ]
    }
  ]
}