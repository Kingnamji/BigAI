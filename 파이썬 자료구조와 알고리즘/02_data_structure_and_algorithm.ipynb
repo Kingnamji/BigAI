{
  "nbformat": 4,
  "nbformat_minor": 0,
  "metadata": {
    "colab": {
      "name": "02_data_structure_and_algorithm",
      "provenance": []
    },
    "kernelspec": {
      "name": "python3",
      "display_name": "Python 3"
    },
    "language_info": {
      "name": "python"
    }
  },
  "cells": [
    {
      "cell_type": "markdown",
      "metadata": {
        "id": "zihQ2fvkimIU"
      },
      "source": [
        "# 내장 복사와 타입"
      ]
    },
    {
      "cell_type": "markdown",
      "metadata": {
        "id": "ag7h16RKi8FX"
      },
      "source": [
        "파이썬의 시퀀스 데이터 타입\n",
        "다음과 같은 속성을 가진다. :\n",
        "- 멤버십(membershil) 연산 : in 키워드 사용\n",
        "- 크기(size) 함수 : len(seq)\n",
        "- 슬라이싱(slicing) 속성 : seq[:-1]\n",
        "- 반복성(iterability) : 반복문에 있는 데이터를 순회할 수 있음"
      ]
    },
    {
      "cell_type": "markdown",
      "metadata": {
        "id": "eLW7H5k0jRgz"
      },
      "source": [
        "파이썬에는 문자열, 튜플, 리스트, 바이트 배열, 바이트 등 5개의 내장 시퀀스 타입이 있다."
      ]
    },
    {
      "cell_type": "code",
      "metadata": {
        "colab": {
          "base_uri": "https://localhost:8080/"
        },
        "id": "RIe5y1Evi6h4",
        "outputId": "a05d52b0-a45b-4a5d-a38c-ee810cb39a88"
      },
      "source": [
        "# 리스트 생성\n",
        "l = []\n",
        "print(type(l))\n",
        "\n",
        "# 문자열 생성\n",
        "s = \"\"\n",
        "print(type(s))\n",
        "\n",
        "# 튜플 생성\n",
        "t = ()\n",
        "print(type(t))\n",
        "\n",
        "# 바이트 배열 생성\n",
        "ba = bytearray(b\"\")\n",
        "print(type(ba))\n",
        "\n",
        "# 바이트 생성\n",
        "b = bytes([])\n",
        "print(type(b))"
      ],
      "execution_count": null,
      "outputs": [
        {
          "output_type": "stream",
          "text": [
            "<class 'list'>\n",
            "<class 'str'>\n",
            "<class 'tuple'>\n",
            "<class 'bytearray'>\n",
            "<class 'bytes'>\n"
          ],
          "name": "stdout"
        }
      ]
    },
    {
      "cell_type": "markdown",
      "metadata": {
        "id": "GWikXN7Ojz38"
      },
      "source": [
        "# 깊은 복사와 슬라이싱 연산"
      ]
    },
    {
      "cell_type": "markdown",
      "metadata": {
        "id": "9sal1lj-kZtP"
      },
      "source": [
        "가변(mutable) 객체 타입에 대해서.\n",
        "\n",
        "\n",
        "파이썬의 모든 변수는 객체 참조(reference)이므로 가변 객체를 복사할 때, 즉 a = b라고 한다면 a는 실제 b가 가리키는(참조하는) 곳을 가리킨다는 것에 주의해야합니다.\n",
        "\n",
        "따라서 깊은 복사(deep copy)와 얕은 복사(shallow cop)를 아는 것이 중요합니다."
      ]
    },
    {
      "cell_type": "code",
      "metadata": {
        "colab": {
          "base_uri": "https://localhost:8080/"
        },
        "id": "HPfG1Jz8RvHm",
        "outputId": "1b3e93fc-c462-4002-d705-52ee6fa09964"
      },
      "source": [
        "# list (mutable)\n",
        "L1 = [1, 2, 3]\n",
        "print(L1) \n",
        "print(id(L1)) \n",
        "# [1, 2, 3]\n",
        "# 140501931789120\n",
        "\n",
        "L1[0] = 10\n",
        "print(L1)\n",
        "print(id(L1))\n",
        "# [10, 2, 3]\n",
        "# 140501931789120\n",
        "\n",
        "# tuple (immutable)\n",
        "T1 = (1, 2, 3)\n",
        "print(T1)\n",
        "print(id(T1))\n",
        "# (1, 2, 3)\n",
        "# 140501931737648\n",
        "\n",
        "T1 = (10, 2, 3)\n",
        "print(T1)\n",
        "print(id(T1))\n",
        "# (10, 2, 3)\n",
        "# 140501932111424"
      ],
      "execution_count": 8,
      "outputs": [
        {
          "output_type": "stream",
          "text": [
            "[1, 2, 3]\n",
            "140501931789120\n",
            "[10, 2, 3]\n",
            "140501931789120\n",
            "(1, 2, 3)\n",
            "140501931737648\n",
            "(10, 2, 3)\n",
            "140501932111424\n"
          ],
          "name": "stdout"
        }
      ]
    },
    {
      "cell_type": "code",
      "metadata": {
        "id": "sVWLBT7lj2QU",
        "colab": {
          "base_uri": "https://localhost:8080/"
        },
        "outputId": "87f67835-9feb-49f4-a302-0b7d7c4105b9"
      },
      "source": [
        "# 리스트 깊은 복사 예제\n",
        "1 = [1, 2, 3, 4]\n",
        "V2 = V1[:]\n",
        "print(V2)\n",
        "print(type(V2))"
      ],
      "execution_count": 2,
      "outputs": [
        {
          "output_type": "stream",
          "text": [
            "[1, 2, 3, 4]\n",
            "<class 'list'>\n"
          ],
          "name": "stdout"
        }
      ]
    },
    {
      "cell_type": "code",
      "metadata": {
        "colab": {
          "base_uri": "https://localhost:8080/"
        },
        "id": "V8YLcS8kXfuR",
        "outputId": "2c0fee49-67a7-42f0-c9e0-c2e8aa2d2097"
      },
      "source": [
        "# 얕은 복사\n",
        "a = [1, 2, 3]\n",
        "b = a\n",
        "\n",
        "b[0] = 100 \n",
        "\n",
        "print(a)\n",
        "print(b)\n",
        "# [100, 2, 3]\n",
        "# [100, 2, 3]\n",
        "\n",
        "print(id(a))\n",
        "print(id(b))\n",
        "# 140501999107280\n",
        "# 140501999107280"
      ],
      "execution_count": 11,
      "outputs": [
        {
          "output_type": "stream",
          "text": [
            "[100, 2, 3]\n",
            "[100, 2, 3]\n",
            "140501999107280\n",
            "140501999107280\n"
          ],
          "name": "stdout"
        }
      ]
    },
    {
      "cell_type": "code",
      "metadata": {
        "colab": {
          "base_uri": "https://localhost:8080/"
        },
        "id": "hiIQHi0QYR7i",
        "outputId": "c27162d3-402d-4ef5-b980-15b5470e507e"
      },
      "source": [
        "# 얕은 복사다.\n",
        "a = [ [1,2], [3, 4], [5,6] ]\n",
        "b = a[:]\n",
        "\n",
        "print(id(a))\n",
        "print(id(b))\n",
        "# 140501931703584\n",
        "# 140501931925248\n",
        "\n",
        "print(id(a[0]))\n",
        "print(id(b[0]))\n",
        "# 140501931711056\n",
        "# 140501931711056"
      ],
      "execution_count": 12,
      "outputs": [
        {
          "output_type": "stream",
          "text": [
            "140501931703584\n",
            "140501931925248\n",
            "140501931711056\n",
            "140501931711056\n"
          ],
          "name": "stdout"
        }
      ]
    },
    {
      "cell_type": "code",
      "metadata": {
        "colab": {
          "base_uri": "https://localhost:8080/"
        },
        "id": "lKOkxirwZugB",
        "outputId": "a9e64d88-ce40-4b64-ec16-acbc10f3cc0e"
      },
      "source": [
        "# 깊은 복사\n",
        "import copy\n",
        "\n",
        "a = [0, [1,2], [3, 4], [5,6] ]\n",
        "b = copy.deepcopy(a)\n",
        "\n",
        "b[0] = 10\n",
        "b[1][0] = 10\n",
        "\n",
        "print(id(a))\n",
        "print(id(b))\n",
        "# 140501931703344\n",
        "# 140501931826064\n",
        "\n",
        "print(a)\n",
        "print(b)\n",
        "# [0, [1, 2], [3, 4], [5, 6]]\n",
        "# [10, [10, 2], [3, 4], [5, 6]]\n",
        "\n",
        "print(id(a[1]))\n",
        "print(id(b[1]))\n",
        "# 140501931825664\n",
        "# 140501931839888"
      ],
      "execution_count": 15,
      "outputs": [
        {
          "output_type": "stream",
          "text": [
            "140501931703344\n",
            "140501931826064\n",
            "[0, [1, 2], [3, 4], [5, 6]]\n",
            "[10, [10, 2], [3, 4], [5, 6]]\n",
            "140501931825664\n",
            "140501931839888\n"
          ],
          "name": "stdout"
        }
      ]
    },
    {
      "cell_type": "code",
      "metadata": {
        "colab": {
          "base_uri": "https://localhost:8080/"
        },
        "id": "v0nGewupNV0a",
        "outputId": "fa30e7a5-bc9c-460b-cc1b-37ce0d9b56ee"
      },
      "source": [
        "# 딕셔너리 \n",
        "D1 = {\"1\" : \"kingnamji\"}\n",
        "D2 = D1.copy()\n",
        "\n",
        "D2[2] = \"blog\"\n",
        "print(D2)\n",
        "\n",
        "print(D1)\n",
        "\n",
        "D3 = {\"1\" : \"kingnamji\"}\n",
        "D4 = D3\n",
        "D4[2] = \"blog\"\n",
        "\n",
        "print(D3)"
      ],
      "execution_count": 7,
      "outputs": [
        {
          "output_type": "stream",
          "text": [
            "{'1': 'kingnamji', 2: 'blog'}\n",
            "{'1': 'kingnamji'}\n",
            "{'1': 'kingnamji', 2: 'blog'}\n"
          ],
          "name": "stdout"
        }
      ]
    },
    {
      "cell_type": "markdown",
      "metadata": {
        "id": "8HYf2m-ub9wP"
      },
      "source": [
        "# 문자열\n"
      ]
    },
    {
      "cell_type": "markdown",
      "metadata": {
        "id": "oop2elnocNYC"
      },
      "source": [
        "문자열은 immutable 객체입니다.\n",
        "\n",
        "문자열 앞에 u를 붙이면 유니코드 문자열을 만들 수 있습니다."
      ]
    },
    {
      "cell_type": "code",
      "metadata": {
        "colab": {
          "base_uri": "https://localhost:8080/",
          "height": 35
        },
        "id": "rE5XabgSb_Zx",
        "outputId": "a78e0f28-477f-44dd-a1e4-32b9c0ff26ba"
      },
      "source": [
        "u'유니코드\\u0020예시!'"
      ],
      "execution_count": 16,
      "outputs": [
        {
          "output_type": "execute_result",
          "data": {
            "application/vnd.google.colaboratory.intrinsic+json": {
              "type": "string"
            },
            "text/plain": [
              "'유니코드 예시!'"
            ]
          },
          "metadata": {
            "tags": []
          },
          "execution_count": 16
        }
      ]
    },
    {
      "cell_type": "markdown",
      "metadata": {
        "id": "KOQ4vwrrcoUE"
      },
      "source": [
        "문자열을 연결할 때 + 를 사용할 수 있지만, join() 메서드를 활용하면 편하다."
      ]
    },
    {
      "cell_type": "code",
      "metadata": {
        "colab": {
          "base_uri": "https://localhost:8080/"
        },
        "id": "xIMG9xf5cimm",
        "outputId": "7f88e35f-7b4f-4b82-f5d8-ac8b97242148"
      },
      "source": [
        "# join() 메서드\n",
        "s = [\"버피\", \"앤\", \"아스틴\"]\n",
        "print(\"\".join(s))\n",
        "\n",
        "# reversed() 메서드를 활용하면 이렇게도 쓸 수 있음\n",
        "print(\"\".join(reversed(s)))"
      ],
      "execution_count": 18,
      "outputs": [
        {
          "output_type": "stream",
          "text": [
            "버피앤아스틴\n",
            "아스틴앤버피\n"
          ],
          "name": "stdout"
        }
      ]
    },
    {
      "cell_type": "markdown",
      "metadata": {
        "id": "ONMXBZxEdO0S"
      },
      "source": [
        "문자열 언패킹 연산자는 **이며, 이를 사용하면 함수로 전달하기 적합한 key-value 딕셔너리가 생성됩니다."
      ]
    },
    {
      "cell_type": "code",
      "metadata": {
        "colab": {
          "base_uri": "https://localhost:8080/"
        },
        "id": "pilU1ay0dV2O",
        "outputId": "a82d6934-a40b-4bd6-cf3a-febc819d5ef3"
      },
      "source": [
        "# locals()\n",
        "\n",
        "hero = \"버피\"\n",
        "num = 999\n",
        "\n",
        "print(\"{num} : {hero}\".format(**locals()))"
      ],
      "execution_count": 23,
      "outputs": [
        {
          "output_type": "stream",
          "text": [
            "999 : 버피\n"
          ],
          "name": "stdout"
        }
      ]
    },
    {
      "cell_type": "markdown",
      "metadata": {
        "id": "BT_CLcL4ejx0"
      },
      "source": [
        "나머지 2장 내용은 쉬워서 패스\n",
        "\n",
        "책 참고"
      ]
    }
  ]
}