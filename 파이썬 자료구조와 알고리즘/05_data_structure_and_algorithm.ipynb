{
  "nbformat": 4,
  "nbformat_minor": 0,
  "metadata": {
    "colab": {
      "name": "05_data_structure_and_algorithm",
      "provenance": []
    },
    "kernelspec": {
      "name": "python3",
      "display_name": "Python 3"
    },
    "language_info": {
      "name": "python"
    }
  },
  "cells": [
    {
      "cell_type": "markdown",
      "metadata": {
        "id": "lmpMljW6hXpZ"
      },
      "source": [
        "# 객체 지향 설계"
      ]
    },
    {
      "cell_type": "markdown",
      "metadata": {
        "id": "MgrujWWVO78b"
      },
      "source": [
        "# 클래스와 객체"
      ]
    },
    {
      "cell_type": "markdown",
      "metadata": {
        "id": "VbJnhAKoPA0y"
      },
      "source": [
        "클래스 인스턴스 생성은 함수 표기법을 사용해 초기 상태의 객체를 생성하는 일을 말합니다.\n",
        "\n",
        "인스턴스 생성 작업은 어떤 특징을 가진 빈 객체를 만드는 것입니다.\n",
        "\n",
        "Hello 라는 이름의 클래스가 있다고 하면, Hello()를 호출해 객체를 생성하는데, 이때 이런 Hello()를 생성자(constructor)라고 합니다."
      ]
    },
    {
      "cell_type": "code",
      "metadata": {
        "colab": {
          "base_uri": "https://localhost:8080/"
        },
        "id": "cYDaUJ0aO94q",
        "outputId": "213c8ae8-fdc1-4b61-b1a8-609118681811"
      },
      "source": [
        "# 생성자를 호출하면 먼저 Hello.__new__() 라는 특수 메서드가 호출돼 객체가 할당되고 그다음 Hello.__init__()메서드가 객체를 초기화합니다.\n",
        "\n",
        "class Hello(): # Hello라는 이름의 클래스를 만듭니다.\n",
        "    def __init__(self,value): # 객체를 초기화하는 메서드\n",
        "        self.value = value\n",
        "        print('__init__()메서드를 통해 객체를 초기화 했습니다.')\n",
        "        print(f'인스턴스의 value 값은 {self.value}입니다.')\n",
        "\n",
        "a = Hello(20)"
      ],
      "execution_count": 6,
      "outputs": [
        {
          "output_type": "stream",
          "text": [
            "__init__()메서드를 통해 객체를 초기화 했습니다.\n",
            "인스턴스의 value 값은 20입니다.\n"
          ],
          "name": "stdout"
        }
      ]
    },
    {
      "cell_type": "markdown",
      "metadata": {
        "id": "9Kl2efvORUg_"
      },
      "source": [
        "객체에는 데이터(data)와 메서드(method)로 이루어지는 클래스 속성(attribute)이 있습니다. \n",
        "\n",
        "메서드 속성은 함수인데, 그 첫 번째 인수는 호출된 인스턴스 자신(self)입니다."
      ]
    },
    {
      "cell_type": "code",
      "metadata": {
        "colab": {
          "base_uri": "https://localhost:8080/"
        },
        "id": "ZA-rQKVGS2oY",
        "outputId": "290a9878-4897-47f2-bfd6-7a73adb9438f"
      },
      "source": [
        "class example(): # example라는 이름의 클래스를 만듭니다.\n",
        "    def __init__(self): \n",
        "        self.ary = []\n",
        "        print('__init__()메서드를 통해 객체를 초기화 했습니다.')\n",
        "\n",
        "    # 메서드를 하나 정의합니다.\n",
        "    def ary_append(self, item): # 첫 번째 인수는 self 임을 확인!\n",
        "        self.ary.append(item)\n",
        "\n",
        "ex1 = example()\n",
        "print(ex1.ary)\n",
        "\n",
        "ex1.ary_append(10)\n",
        "print(ex1.ary)"
      ],
      "execution_count": 11,
      "outputs": [
        {
          "output_type": "stream",
          "text": [
            "__init__()메서드를 통해 객체를 초기화 했습니다.\n",
            "[]\n",
            "[10]\n"
          ],
          "name": "stdout"
        }
      ]
    },
    {
      "cell_type": "markdown",
      "metadata": {
        "id": "eCY8zip1Sf09"
      },
      "source": [
        "# 객체지향 프로그래밍의 원리"
      ]
    },
    {
      "cell_type": "markdown",
      "metadata": {
        "id": "p890TNuHVM6Q"
      },
      "source": [
        "특수화(specialization)은 슈퍼(super)클래스(부모 클래스 라고도 부릅니다.)의 모든 속성을 상속해 새 클래스를 만드는 절차를 말합니다.\n",
        "\n",
        "모든 메서드는 서브(sub)클래스 (자식 클래스)에서 재정의(override) 될 수 있습니다."
      ]
    },
    {
      "cell_type": "markdown",
      "metadata": {
        "id": "lBMfR5UDVysY"
      },
      "source": [
        "구글 파이썬 스타일 가이드에서는 한 클래스가 다른 클래스를 상속받지 않으면, 파이썬의 최상위 클래스인 object를 명시적으로 표기하는 것을 권장합니다. \n",
        "\n",
        "위의 예시에서 고쳐보겠습니다."
      ]
    },
    {
      "cell_type": "code",
      "metadata": {
        "colab": {
          "base_uri": "https://localhost:8080/"
        },
        "id": "ECkGQrCVVMU7",
        "outputId": "be2f0e5a-5036-4e30-84f9-144d0fb91fef"
      },
      "source": [
        "# 좋은 예, object를 명시적으로 표기해줍니다.\n",
        "class example(object): # example라는 이름의 클래스를 만듭니다.\n",
        "    def __init__(self): \n",
        "        self.ary = []\n",
        "        print('__init__()메서드를 통해 객체를 초기화 했습니다.')\n",
        "\n",
        "    # 메서드를 하나 정의합니다.\n",
        "    def ary_append(self, item): # 첫 번째 인수는 self 임을 확인!\n",
        "        self.ary.append(item)\n",
        "\n",
        "ex1 = example()\n",
        "print(ex1.ary)\n",
        "\n",
        "ex1.ary_append(10)\n",
        "print(ex1.ary)"
      ],
      "execution_count": 12,
      "outputs": [
        {
          "output_type": "stream",
          "text": [
            "__init__()메서드를 통해 객체를 초기화 했습니다.\n",
            "[]\n",
            "[10]\n"
          ],
          "name": "stdout"
        }
      ]
    },
    {
      "cell_type": "markdown",
      "metadata": {
        "id": "SDIOQLekWIiP"
      },
      "source": [
        "다형성(polymorphism)은 메서드가 서브 클래스 내에서 재정의될 수 있다는 원리입니다.\n",
        "\n",
        "즉, 서브 클래스 객체에서 슈퍼 클래스와 동명의 메서드를 호출하면, 파이썬은 서브 클래스에 정의된 메서드를 사용합니다.\n",
        "\n",
        "만약 슈퍼 클래스의 메서드를 호출해야 하면, super()메서드를 통해 호출이 가능합니다."
      ]
    },
    {
      "cell_type": "code",
      "metadata": {
        "colab": {
          "base_uri": "https://localhost:8080/"
        },
        "id": "axJGTgiUXLWx",
        "outputId": "353566a2-d28d-4600-a838-71bc38eae676"
      },
      "source": [
        "class car(object):\n",
        "    def __init__(self, color, km):\n",
        "        self.color = color\n",
        "        self.km = km\n",
        "\n",
        "    def change_color(self, color):\n",
        "        self.color = color\n",
        "\n",
        "    def change_km(self, km):\n",
        "        self.km = self.km + km\n",
        "\n",
        "    def info(self):\n",
        "        print(f'차량의 색상 : {self.color}, 주행 거리 : {self.km}km')\n",
        "\n",
        "sonata = car(\"red\", 100)\n",
        "sonata.info()\n",
        "sonata.change_color(\"blue\")\n",
        "sonata.change_km(50)\n",
        "sonata.info()\n",
        "\n",
        "class sub_car(car):\n",
        "    def __init__(self, color, km):\n",
        "        super().__init__(color, km)\n",
        "    \n",
        "    def change_km(self, km): # 재정의\n",
        "        self.km = self.km - km\n",
        "\n",
        "    def info(self):\n",
        "        print(f'<차량 정보>')\n",
        "        super().info() # super() 메서드를 사용해 슈퍼 클래스의 메서드 호출\n",
        "\n",
        "bmw = sub_car(\"purple\", 2000)\n",
        "bmw.info()\n",
        "\n",
        "bmw.change_color(\"red\") # 부모 클래스의 메서드 그대로 사용\n",
        "bmw.change_km(300) # 재정의된 메서드 사용\n",
        "bmw.info() # 재정의된 메서드 사용"
      ],
      "execution_count": 34,
      "outputs": [
        {
          "output_type": "stream",
          "text": [
            "차량의 색상 : red, 주행 거리 : 100km\n",
            "차량의 색상 : blue, 주행 거리 : 150km\n",
            "<차량 정보>\n",
            "차량의 색상 : purple, 주행 거리 : 2000km\n",
            "<차량 정보>\n",
            "차량의 색상 : red, 주행 거리 : 1700km\n"
          ],
          "name": "stdout"
        }
      ]
    },
    {
      "cell_type": "markdown",
      "metadata": {
        "id": "kPn3OjbpWyu4"
      },
      "source": [
        "합성(composition) 과 집합화(aggregation)은 한 클래스에서 다른 클래스의 인스턴스 변수를 포함하는 것을 말하며, 클래스 간의 관계를 나타냅니다.\n",
        "\n",
        "파이썬의 모든 클래스는 상속을 사용합니다.(object 클래스로부터 상속 받는 것을 위에서 확인)"
      ]
    }
  ]
}