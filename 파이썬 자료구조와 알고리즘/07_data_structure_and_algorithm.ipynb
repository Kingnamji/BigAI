{
  "nbformat": 4,
  "nbformat_minor": 0,
  "metadata": {
    "colab": {
      "name": "07_data_structure_and_algorithm",
      "provenance": []
    },
    "kernelspec": {
      "name": "python3",
      "display_name": "Python 3"
    },
    "language_info": {
      "name": "python"
    }
  },
  "cells": [
    {
      "cell_type": "markdown",
      "metadata": {
        "id": "Tklav7iA7Q4r"
      },
      "source": [
        "# 스택"
      ]
    },
    {
      "cell_type": "markdown",
      "metadata": {
        "id": "uThqxQzp7lsS"
      },
      "source": [
        "후입선출의 구조, 아래 연산의 시간복잡도는 모두 O(1)\n",
        "- push : 스택 맨 끝(top)에 항목을 삽입\n",
        "- pop : 스택 맨 끝 항목을 반환 및 제거\n",
        "- top/peek : 스택 맨 끝 항목 조회\n",
        "- empty : 스택이 비었는지 확인\n",
        "- size : 스택 크기를 확인"
      ]
    },
    {
      "cell_type": "code",
      "metadata": {
        "colab": {
          "base_uri": "https://localhost:8080/"
        },
        "id": "ejI0gs5Q7kE9",
        "outputId": "8036e77f-ff95-4151-c657-73902ef7a08c"
      },
      "source": [
        "class Stack(object):\n",
        "    def __init__(self):\n",
        "        self.items = []\n",
        "\n",
        "    def isEmpty(self):\n",
        "        return not bool(self.items) # 리스트는 비어있으면 False\n",
        "    \n",
        "    def push(self, value):\n",
        "        self.items.append(value)\n",
        "    \n",
        "    def pop(self):\n",
        "        value = self.items.pop()\n",
        "        if value is not None: # Stack이 비어있다면 pop()의 반환 값이 None\n",
        "            return value\n",
        "        else:\n",
        "            print(\"Stack is empty.\")\n",
        "\n",
        "    def size(self):\n",
        "        return len(self.items)\n",
        "\n",
        "    def peek(self):\n",
        "        if self.items: \n",
        "            return self.items[-1]\n",
        "        else: # 마찬가지로 stack이 비어있다면 출력할 수 없다.\n",
        "            print(\"stack is empty\")\n",
        "\n",
        "    def __repr__(self): # 참고: https://shoark7.github.io/programming/python/difference-between-__repr__-vs-__str__ \n",
        "        return repr(self.items)\n",
        "\n",
        "if __name__ == \"__main__\":\n",
        "    stack = Stack()\n",
        "    print(\"스택이 비었나요? {0}\".format(stack.isEmpty()))\n",
        "    print(\"스택에 숫자 0~9를 추가합니다.\")\n",
        "    for i in range(10):\n",
        "        stack.push(i)\n",
        "    print(\"스택 크기:{0}\".format(stack.size()))\n",
        "    print(\"peek:{0}\".format(stack.peek()))\n",
        "    print(\"pop:{0}\".format(stack.pop()))\n",
        "    print(\"peek:{0}\".format(stack.peek()))\n",
        "    print(\"스택이 비었나요? {0}\".format(stack.isEmpty()))\n",
        "    print(stack)"
      ],
      "execution_count": 1,
      "outputs": [
        {
          "output_type": "stream",
          "text": [
            "스택이 비었나요? True\n",
            "스택에 숫자 0~9를 추가합니다.\n",
            "스택 크기:10\n",
            "peek:9\n",
            "pop:9\n",
            "peek:8\n",
            "스택이 비었나요? False\n",
            "[0, 1, 2, 3, 4, 5, 6, 7, 8]\n"
          ],
          "name": "stdout"
        }
      ]
    },
    {
      "cell_type": "code",
      "metadata": {
        "id": "-GEYnnLj7kBV",
        "colab": {
          "base_uri": "https://localhost:8080/"
        },
        "outputId": "aff68668-8f01-4251-e030-8c2da618fa30"
      },
      "source": [
        "# Node를 이용한 Stack\n",
        "class Node(object):\n",
        "    def __init__(self, value=None, pointer=None):\n",
        "        self.value = value\n",
        "        self.pointer = pointer\n",
        "\n",
        "\n",
        "class Stack(object):\n",
        "    def __init__(self):\n",
        "        self.head = None\n",
        "        self.count = 0 # top의 개념으로 생각\n",
        "\n",
        "    def isEmpty(self):\n",
        "        return not bool(self.head)\n",
        "\n",
        "    def push(self, item):\n",
        "        self.head = Node(item, self.head)\n",
        "        self.count += 1 # push -> top += 1\n",
        "\n",
        "    def pop(self):\n",
        "        if self.count > 0 and self.head:\n",
        "            node = self.head\n",
        "            self.head = node.pointer\n",
        "            self.count -= 1 # pop -> top -= 1\n",
        "            return node.value\n",
        "        else:\n",
        "            print(\"Stack is empty.\")\n",
        "\n",
        "    def peek(self):\n",
        "        if self.count > 0 and self.head:\n",
        "            return self.head.value\n",
        "        else:\n",
        "            print(\"Stack is empty.\")\n",
        "\n",
        "    def size(self):\n",
        "        return self.count\n",
        "\n",
        "    def _printList(self):\n",
        "        node = self.head\n",
        "        while node:\n",
        "            print(node.value, end=\" \")\n",
        "            node = node.pointer\n",
        "        print()\n",
        "\n",
        "\n",
        "if __name__ == \"__main__\":\n",
        "    stack = Stack()\n",
        "    print(\"스택이 비었나요? {0}\".format(stack.isEmpty()))\n",
        "    print(\"스택에 숫자 0~9를 추가합니다.\")\n",
        "    for i in range(10):\n",
        "        stack.push(i)\n",
        "    stack._printList()\n",
        "    print(\"스택 크기: {0}\".format(stack.size()))\n",
        "    print(\"peek: {0}\".format(stack.peek()))\n",
        "    print(\"pop: {0}\".format(stack.pop()))\n",
        "    print(\"peek: {0}\".format(stack.peek()))\n",
        "    print(\"스택이 비었나요? {0}\".format(stack.isEmpty()))\n",
        "    stack._printList()\n",
        "    print(stack)"
      ],
      "execution_count": 2,
      "outputs": [
        {
          "output_type": "stream",
          "text": [
            "스택이 비었나요? True\n",
            "스택에 숫자 0~9를 추가합니다.\n",
            "9 8 7 6 5 4 3 2 1 0 \n",
            "스택 크기: 10\n",
            "peek: 9\n",
            "pop: 9\n",
            "peek: 8\n",
            "스택이 비었나요? False\n",
            "8 7 6 5 4 3 2 1 0 \n",
            "<__main__.Stack object at 0x7f5debb6ac50>\n"
          ],
          "name": "stdout"
        }
      ]
    },
    {
      "cell_type": "code",
      "metadata": {
        "colab": {
          "base_uri": "https://localhost:8080/"
        },
        "id": "h9afyGLFyYy3",
        "outputId": "9a827b97-b1b6-4509-c341-2d5570fe261c"
      },
      "source": [
        "head = None\n",
        "A = Node() \n",
        "print(head)\n",
        "print(A.pointer)\n",
        "count = 0\n",
        "\n",
        "# push\n",
        "head = Node(10, head) \n",
        "count += 1\n",
        "\n",
        "print(f\"\\n< push {count}회 후 >\")\n",
        "print(head)\n",
        "print(head.value)\n",
        "print(head.pointer)\n",
        "\n",
        "# push\n",
        "head = Node(20, head)\n",
        "count += 1\n",
        "\n",
        "print(f\"\\n< push {count}회 후 >\")\n",
        "print(head)\n",
        "print(head.value)\n",
        "print(head.pointer) # 위의 그냥 head와 주소가 같음을 확인\n",
        "print(head.pointer.value)\n",
        "\n",
        "# pop\n",
        "if head: # head가 None이 아닌지 확인\n",
        "    print(\"Stack isn't Empty\")\n",
        "\n",
        "    # pop 자체 과정\n",
        "    node = head\n",
        "    head = node.pointer\n",
        "    result = node.value\n",
        "    \n",
        "    # 출력\n",
        "    print(\"\\n< pop 1회 후 >\")\n",
        "    print(f'pop의 결과로 return 된 값 : {result}')\n",
        "    print(head)\n",
        "    \n",
        "else:\n",
        "    print(\"Stack is Empty\")\n",
        "\n",
        "# pop\n",
        "if head: # head가 None이 아닌지 확인\n",
        "    print(\"Stack isn't Empty\")\n",
        "\n",
        "    # pop 자체 과정\n",
        "    node = head\n",
        "    head = node.pointer\n",
        "    result = node.value\n",
        "    \n",
        "    # 출력\n",
        "    print(\"\\n< pop 2회 후 >\")\n",
        "    print(f'pop의 결과로 return 된 값 : {result}')\n",
        "    print(head)\n",
        "    \n",
        "else:\n",
        "    print(\"Stack is Empty\")\n",
        "\n",
        "    \n",
        "# pop\n",
        "if head: # head가 None이 아닌지 확인\n",
        "    print(\"Stack isn't Empty\")\n",
        "\n",
        "    # pop 자체 과정\n",
        "    node = head\n",
        "    head = node.pointer\n",
        "    result = node.value\n",
        "    \n",
        "    # 출력\n",
        "    print(\"\\n< pop 3회 후 >\")\n",
        "    print(f'pop의 결과로 return 된 값 : {result}')\n",
        "    print(head)\n",
        "    \n",
        "else:\n",
        "    print(\"\\nStack is Empty\")"
      ],
      "execution_count": 3,
      "outputs": [
        {
          "output_type": "stream",
          "text": [
            "None\n",
            "None\n",
            "\n",
            "< push 1회 후 >\n",
            "<__main__.Node object at 0x7f5de80ffb10>\n",
            "10\n",
            "None\n",
            "\n",
            "< push 2회 후 >\n",
            "<__main__.Node object at 0x7f5de80ffe50>\n",
            "20\n",
            "<__main__.Node object at 0x7f5de80ffb10>\n",
            "10\n",
            "Stack isn't Empty\n",
            "\n",
            "< pop 1회 후 >\n",
            "pop의 결과로 return 된 값 : 20\n",
            "<__main__.Node object at 0x7f5de80ffb10>\n",
            "Stack isn't Empty\n",
            "\n",
            "< pop 2회 후 >\n",
            "pop의 결과로 return 된 값 : 10\n",
            "None\n",
            "\n",
            "Stack is Empty\n"
          ],
          "name": "stdout"
        }
      ]
    },
    {
      "cell_type": "code",
      "metadata": {
        "colab": {
          "base_uri": "https://localhost:8080/"
        },
        "id": "Gr2EazmfvmK4",
        "outputId": "e5ce395b-f58a-4b7d-d516-555fe5660783"
      },
      "source": [
        "# Node를 이용한 stack 구현 2\n",
        "\n",
        "class Node:\n",
        "    def __init__(self, data):\n",
        "        self.data = data\n",
        "        self.next = None\n",
        "\n",
        "class Stack:\n",
        "    def __init__(self):\n",
        "        self.head = None\n",
        "\n",
        "    def is_empty(self):\n",
        "        if not self.head:\n",
        "            return True\n",
        "\n",
        "        return False\n",
        "\n",
        "    def push(self, data):\n",
        "        new_node = Node(data)\n",
        "\n",
        "        new_node.next = self.head\n",
        "        self.head = new_node\n",
        "\n",
        "    def pop(self):\n",
        "        if self.is_empty():\n",
        "            return None\n",
        "\n",
        "        ret_data = self.head.data\n",
        "\n",
        "        self.head = self.head.next\n",
        "\n",
        "        return ret_data\n",
        "\n",
        "    def peek(self):\n",
        "        if self.is_empty():\n",
        "            return None\n",
        "\n",
        "        return self.head.data\n",
        "\n",
        "if __name__ == \"__main__\":\n",
        "    s = Stack()\n",
        "\n",
        "    print(s.is_empty()) # True\n",
        "\n",
        "    s.push(1)\n",
        "    s.push(2)\n",
        "    s.push(3)\n",
        "    s.push(4)\n",
        "    s.push(5)\n",
        "\n",
        "    print(\"peek of data : {}\".format(s.peek())) # 5\n",
        "\n",
        "    while not s.is_empty():\n",
        "        print(s.pop()) # 5, 4, 3, 2, 1"
      ],
      "execution_count": 4,
      "outputs": [
        {
          "output_type": "stream",
          "text": [
            "True\n",
            "peek of data : 5\n",
            "5\n",
            "4\n",
            "3\n",
            "2\n",
            "1\n"
          ],
          "name": "stdout"
        }
      ]
    },
    {
      "cell_type": "markdown",
      "metadata": {
        "id": "B3F6EiAA7VZf"
      },
      "source": [
        "# 큐"
      ]
    },
    {
      "cell_type": "markdown",
      "metadata": {
        "id": "0sLQq9c3nAsn"
      },
      "source": [
        "선입선출의 구조, 아래 연산의 시간복잡도는 모두 O(1)\n",
        "- enqueue : 큐 뒤쪽에 항목을 삽입\n",
        "- dequeue : 큐 앞쪽의 항목을 반환하고, 제거한다.\n",
        "- peek/front : 큐 앞쪽의 항목을 조회한다\n",
        "- empty : 큐가 비어 있는지 확인한다.\n",
        "- size : 큐의 크기를 확인한다."
      ]
    },
    {
      "cell_type": "code",
      "metadata": {
        "colab": {
          "base_uri": "https://localhost:8080/"
        },
        "id": "V9CoMj6GmzRW",
        "outputId": "89eb7c1d-5a71-4d84-e626-5f363822bf78"
      },
      "source": [
        "# insert() 메서드를 사용해 구현한 queue, 이는 data shift를 야기하므로 비효율적\n",
        "\n",
        "class Queue(object):\n",
        "    def __init__(self):\n",
        "        self.items = []\n",
        "\n",
        "    def isEmpty(self):\n",
        "        return not bool(self.items)\n",
        "\n",
        "    def enqueue(self, item):\n",
        "        self.items.insert(0, item)\n",
        "\n",
        "    def dequeue(self):\n",
        "        value = self.items.pop()\n",
        "        if value is not None:\n",
        "            return value\n",
        "        else:\n",
        "            print(\"Queue is empty.\")\n",
        "\n",
        "    def size(self):\n",
        "        return len(self.items)\n",
        "\n",
        "    def peek(self):\n",
        "        if self.items:\n",
        "            return self.items[-1]\n",
        "        else:\n",
        "            print(\"Queue is empty.\")\n",
        "\n",
        "    def __repr__(self):\n",
        "        return repr(self.items)\n",
        "\n",
        "\n",
        "if __name__ == \"__main__\":\n",
        "    queue = Queue()\n",
        "    print(\"큐가 비었나요? {0}\".format(queue.isEmpty()))\n",
        "    print(\"큐에 숫자 0~9를 추가합니다.\")\n",
        "    for i in range(10):\n",
        "        queue.enqueue(i)\n",
        "    print(\"큐 크기: {0}\".format(queue.size()))\n",
        "    print(\"peek: {0}\".format(queue.peek()))\n",
        "    print(\"dequeue: {0}\".format(queue.dequeue()))\n",
        "    print(\"peek: {0}\".format(queue.peek()))\n",
        "    print(\"큐가 비었나요? {0}\".format(queue.isEmpty()))\n",
        "    print(queue)"
      ],
      "execution_count": 5,
      "outputs": [
        {
          "output_type": "stream",
          "text": [
            "큐가 비었나요? True\n",
            "큐에 숫자 0~9를 추가합니다.\n",
            "큐 크기: 10\n",
            "peek: 0\n",
            "dequeue: 0\n",
            "peek: 1\n",
            "큐가 비었나요? False\n",
            "[9, 8, 7, 6, 5, 4, 3, 2, 1]\n"
          ],
          "name": "stdout"
        }
      ]
    },
    {
      "cell_type": "code",
      "metadata": {
        "colab": {
          "base_uri": "https://localhost:8080/"
        },
        "id": "E5qQDp7RmzKL",
        "outputId": "27710ca6-7ef7-4dc2-e444-8e252d9278cc"
      },
      "source": [
        "# 두 개의 스택(정확히는 리스트)을 사용한 큐\n",
        "\n",
        "class TwoStackQueue(object):\n",
        "    def __init__(self):\n",
        "        self.in_stack = []\n",
        "        self.out_stack = []\n",
        "\n",
        "    def _transfer(self):\n",
        "        while self.in_stack:\n",
        "            self.out_stack.append(self.in_stack.pop())\n",
        "\n",
        "    def enqueue(self, item):\n",
        "        return self.in_stack.append(item)\n",
        "\n",
        "    def dequeue(self):\n",
        "        if not self.out_stack:\n",
        "            self._transfer()\n",
        "        if self.out_stack:\n",
        "            return self.out_stack.pop()\n",
        "        else:\n",
        "            print(\"Queue is empty!\")\n",
        "\n",
        "    def size(self):\n",
        "        return len(self.in_stack) + len(self.out_stack)\n",
        "\n",
        "    def peek(self):\n",
        "        if not self.out_stack:\n",
        "            self._transfer()\n",
        "        if self.out_stack:\n",
        "            return self.out_stack[-1]\n",
        "        else:\n",
        "            print(\"Queue is empty!\")\n",
        "\n",
        "    def __repr__(self):\n",
        "        if not self.out_stack:\n",
        "            self._transfer()\n",
        "        if self.out_stack:\n",
        "            return repr(self.out_stack)\n",
        "        else:\n",
        "            print(\"Queue is empty!\")\n",
        "\n",
        "    def isEmpty(self):\n",
        "        return not (bool(self.in_stack) or bool(self.out_stack))\n",
        "\n",
        "\n",
        "if __name__ == \"__main__\":\n",
        "    queue = TwoStackQueue()\n",
        "    print(\"큐가 비었나요? {0}\".format(queue.isEmpty()))\n",
        "    print(\"큐에 숫자 0~9를 추가합니다.\")\n",
        "    for i in range(10):\n",
        "        queue.enqueue(i)\n",
        "    print(\"큐 크기: {0}\".format(queue.size()))\n",
        "    print(\"peek: {0}\".format(queue.peek()))\n",
        "    print(\"dequeue: {0}\".format(queue.dequeue()))\n",
        "    print(\"peek: {0}\".format(queue.peek()))\n",
        "    print(\"큐가 비었나요? {0}\".format(queue.isEmpty()))\n",
        "    print(queue)"
      ],
      "execution_count": 6,
      "outputs": [
        {
          "output_type": "stream",
          "text": [
            "큐가 비었나요? True\n",
            "큐에 숫자 0~9를 추가합니다.\n",
            "큐 크기: 10\n",
            "peek: 0\n",
            "dequeue: 0\n",
            "peek: 1\n",
            "큐가 비었나요? False\n",
            "[9, 8, 7, 6, 5, 4, 3, 2, 1]\n"
          ],
          "name": "stdout"
        }
      ]
    },
    {
      "cell_type": "code",
      "metadata": {
        "colab": {
          "base_uri": "https://localhost:8080/"
        },
        "id": "9W9rpOaWmy_a",
        "outputId": "9625a3d9-a896-4c82-c0ef-ee06ce8a6d34"
      },
      "source": [
        "# Node로 구현한 큐\n",
        "\n",
        "class Node(object):\n",
        "    def __init__(self, value=None, pointer=None):\n",
        "        self.value = value\n",
        "        self.pointer = None\n",
        "\n",
        "\n",
        "class LinkedQueue(object):\n",
        "    def __init__(self):\n",
        "        self.head = None\n",
        "        self.tail = None\n",
        "        self.count = 0\n",
        "\n",
        "    def isEmpty(self):\n",
        "        return not bool(self.head)\n",
        "\n",
        "    def dequeue(self):\n",
        "        if self.head:\n",
        "            value = self.head.value\n",
        "            self.head = self.head.pointer\n",
        "            self.count -= 1\n",
        "            return value\n",
        "        else:\n",
        "            print(\"Queue is empty.\")\n",
        "\n",
        "    def enqueue(self, value):\n",
        "        node = Node(value)\n",
        "        if not self.head:\n",
        "            self.head = node\n",
        "            self.tail = node\n",
        "        else:\n",
        "            if self.tail:\n",
        "                self.tail.pointer = node\n",
        "            self.tail = node\n",
        "        self.count += 1\n",
        "\n",
        "    def size(self):\n",
        "        return self.count\n",
        "\n",
        "    def peek(self):\n",
        "        return self.head.value\n",
        "\n",
        "    def print(self):\n",
        "        node = self.head\n",
        "        while node:\n",
        "            print(node.value, end=\" \")\n",
        "            node = node.pointer\n",
        "        print()\n",
        "\n",
        "\n",
        "if __name__ == \"__main__\":\n",
        "    queue = LinkedQueue()\n",
        "    print(\"큐가 비었나요? {0}\".format(queue.isEmpty()))\n",
        "    print(\"큐에 숫자 0~9를 추가합니다.\")\n",
        "    for i in range(10):\n",
        "        queue.enqueue(i)\n",
        "    print(\"큐가 비었나요? {0}\".format(queue.isEmpty()))\n",
        "    queue.print()\n",
        "\n",
        "    print(\"큐 크기: {0}\".format(queue.size()))\n",
        "    print(\"peek: {0}\".format(queue.peek()))\n",
        "    print(\"dequeue: {0}\".format(queue.dequeue()))\n",
        "    print(\"peek: {0}\".format(queue.peek()))\n",
        "    queue.print()"
      ],
      "execution_count": 7,
      "outputs": [
        {
          "output_type": "stream",
          "text": [
            "큐가 비었나요? True\n",
            "큐에 숫자 0~9를 추가합니다.\n",
            "큐가 비었나요? False\n",
            "0 1 2 3 4 5 6 7 8 9 \n",
            "큐 크기: 10\n",
            "peek: 0\n",
            "dequeue: 0\n",
            "peek: 1\n",
            "1 2 3 4 5 6 7 8 9 \n"
          ],
          "name": "stdout"
        }
      ]
    },
    {
      "cell_type": "markdown",
      "metadata": {
        "id": "1-HKrilO7Vqt"
      },
      "source": [
        "# 데크"
      ]
    },
    {
      "cell_type": "code",
      "metadata": {
        "colab": {
          "base_uri": "https://localhost:8080/"
        },
        "id": "Xm5EcRRe44Z4",
        "outputId": "f6ae39c8-fdfe-41e5-da4c-6902a546801c"
      },
      "source": [
        "class Deque(Queue):\n",
        "    def enqueue_back(self, item):\n",
        "        self.items.append(item)\n",
        "\n",
        "    def dequeue_front(self):\n",
        "        value = self.items.pop(0)\n",
        "        if value is not None:\n",
        "            return value\n",
        "        else:\n",
        "            print(\"Deque is empty.\")\n",
        "\n",
        "\n",
        "if __name__ == \"__main__\":\n",
        "    deque = Deque()\n",
        "    print(\"데크(Deque)가 비었나요? {0}\".format(deque.isEmpty()))\n",
        "    print(\"데크에 숫자 0~9를 추가합니다.\")\n",
        "    for i in range(10):\n",
        "        deque.enqueue(i)\n",
        "    print(\"데크 크기: {0}\".format(deque.size()))\n",
        "    print(\"peek: {0}\".format(deque.peek()))\n",
        "    print(\"dequeue: {0}\".format(deque.dequeue()))\n",
        "    print(\"peek: {0}\".format(deque.peek()))\n",
        "    print(\"데크가 비었나요? {0}\".format(deque.isEmpty()))\n",
        "    print()\n",
        "    print(\"데크: {0}\".format(deque))\n",
        "    print(\"dequeue: {0}\".format(deque.dequeue_front()))\n",
        "    print(\"peek: {0}\".format(deque.peek()))\n",
        "    print(\"데크: {0}\".format(deque))\n",
        "    print(\"enqueue_back(50)을 수행합니다.\")\n",
        "    deque.enqueue_back(50)\n",
        "    print(\"peek: {0}\".format(deque.peek()))\n",
        "    print(\"데크: {0}\".format(deque))"
      ],
      "execution_count": 8,
      "outputs": [
        {
          "output_type": "stream",
          "text": [
            "데크(Deque)가 비었나요? True\n",
            "데크에 숫자 0~9를 추가합니다.\n",
            "데크 크기: 10\n",
            "peek: 0\n",
            "dequeue: 0\n",
            "peek: 1\n",
            "데크가 비었나요? False\n",
            "\n",
            "데크: [9, 8, 7, 6, 5, 4, 3, 2, 1]\n",
            "dequeue: 9\n",
            "peek: 1\n",
            "데크: [8, 7, 6, 5, 4, 3, 2, 1]\n",
            "enqueue_back(50)을 수행합니다.\n",
            "peek: 50\n",
            "데크: [8, 7, 6, 5, 4, 3, 2, 1, 50]\n"
          ],
          "name": "stdout"
        }
      ]
    },
    {
      "cell_type": "code",
      "metadata": {
        "colab": {
          "base_uri": "https://localhost:8080/"
        },
        "id": "gvvYonie6jmJ",
        "outputId": "18b6f7c5-e43c-4b0e-8a70-267d3b8dcdf2"
      },
      "source": [
        "from collections import deque\n",
        "q = deque([\"버피\", \"잰더\", \"윌로\"])\n",
        "print(q)\n",
        "\n",
        "q.append(\"쨔스\") # 가장 뒤에 항목 추가\n",
        "print(q)\n",
        "\n",
        "print(q.popleft()) # 가장 앞의 항목 제거 및 반환\n",
        "print(q.pop()) # 가장 뒤의 항목 제거 및 반환\n",
        "print(q)\n",
        "\n",
        "q.appendleft(\"엔젤\") # 가장 앞에 항목 추가\n",
        "print(q)"
      ],
      "execution_count": 16,
      "outputs": [
        {
          "output_type": "stream",
          "text": [
            "deque(['버피', '잰더', '윌로'])\n",
            "deque(['버피', '잰더', '윌로', '쨔스'])\n",
            "버피\n",
            "쨔스\n",
            "deque(['잰더', '윌로'])\n",
            "deque(['엔젤', '잰더', '윌로'])\n"
          ],
          "name": "stdout"
        }
      ]
    },
    {
      "cell_type": "markdown",
      "metadata": {
        "id": "frn7lA0a7Vxt"
      },
      "source": [
        "# 우선순위 큐와 힙"
      ]
    },
    {
      "cell_type": "markdown",
      "metadata": {
        "id": "WbvgVNyU7V9f"
      },
      "source": [
        "# 연결 리스트"
      ]
    },
    {
      "cell_type": "markdown",
      "metadata": {
        "id": "IHBLQl9K7Wx5"
      },
      "source": [
        "# 해시 테이블"
      ]
    },
    {
      "cell_type": "markdown",
      "metadata": {
        "id": "k8WUdy8n7XUl"
      },
      "source": [
        "# 연습문제"
      ]
    }
  ]
}