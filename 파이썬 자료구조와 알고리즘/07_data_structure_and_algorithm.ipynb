{
  "nbformat": 4,
  "nbformat_minor": 0,
  "metadata": {
    "colab": {
      "name": "07_data_structure_and_algorithm",
      "provenance": []
    },
    "kernelspec": {
      "name": "python3",
      "display_name": "Python 3"
    },
    "language_info": {
      "name": "python"
    }
  },
  "cells": [
    {
      "cell_type": "markdown",
      "metadata": {
        "id": "Tklav7iA7Q4r"
      },
      "source": [
        "# 스택"
      ]
    },
    {
      "cell_type": "markdown",
      "metadata": {
        "id": "uThqxQzp7lsS"
      },
      "source": [
        "후입선출(LIFO)의 구조, 아래 연산의 시간복잡도는 모두 O(1)\n",
        "- push : 스택 맨 끝(top)에 항목을 삽입\n",
        "- pop : 스택 맨 끝 항목을 반환 및 제거\n",
        "- top/peek : 스택 맨 끝 항목 조회\n",
        "- empty : 스택이 비었는지 확인\n",
        "- size : 스택 크기를 확인"
      ]
    },
    {
      "cell_type": "code",
      "metadata": {
        "colab": {
          "base_uri": "https://localhost:8080/"
        },
        "id": "ejI0gs5Q7kE9",
        "outputId": "a2f9702b-e975-472e-926e-8394a83fcd66"
      },
      "source": [
        "class Stack(object):\n",
        "    def __init__(self):\n",
        "        self.items = []\n",
        "\n",
        "    def isEmpty(self):\n",
        "        return not bool(self.items) # 리스트는 비어있으면 False\n",
        "    \n",
        "    def push(self, value):\n",
        "        self.items.append(value)\n",
        "    \n",
        "    def pop(self):\n",
        "        value = self.items.pop()\n",
        "        if value is not None: # Stack이 비어있다면 pop()의 반환 값이 None\n",
        "            return value\n",
        "        else:\n",
        "            print(\"Stack is empty.\")\n",
        "\n",
        "    def size(self):\n",
        "        return len(self.items)\n",
        "\n",
        "    def peek(self):\n",
        "        if self.items: \n",
        "            return self.items[-1]\n",
        "        else: # 마찬가지로 stack이 비어있다면 출력할 수 없다.\n",
        "            print(\"stack is empty\")\n",
        "\n",
        "    def __repr__(self): # 참고: https://shoark7.github.io/programming/python/difference-between-__repr__-vs-__str__ \n",
        "        return repr(self.items)\n",
        "\n",
        "if __name__ == \"__main__\":\n",
        "    stack = Stack()\n",
        "    print(\"스택이 비었나요? {0}\".format(stack.isEmpty()))\n",
        "    print(\"스택에 숫자 0~9를 추가합니다.\")\n",
        "    for i in range(10):\n",
        "        stack.push(i)\n",
        "    print(\"스택 크기:{0}\".format(stack.size()))\n",
        "    print(\"peek:{0}\".format(stack.peek()))\n",
        "    print(\"pop:{0}\".format(stack.pop()))\n",
        "    print(\"peek:{0}\".format(stack.peek()))\n",
        "    print(\"스택이 비었나요? {0}\".format(stack.isEmpty()))\n",
        "    print(stack)"
      ],
      "execution_count": null,
      "outputs": [
        {
          "output_type": "stream",
          "text": [
            "스택이 비었나요? True\n",
            "스택에 숫자 0~9를 추가합니다.\n",
            "스택 크기:10\n",
            "peek:9\n",
            "pop:9\n",
            "peek:8\n",
            "스택이 비었나요? False\n",
            "[0, 1, 2, 3, 4, 5, 6, 7, 8]\n"
          ],
          "name": "stdout"
        }
      ]
    },
    {
      "cell_type": "code",
      "metadata": {
        "id": "-GEYnnLj7kBV",
        "colab": {
          "base_uri": "https://localhost:8080/"
        },
        "outputId": "10c372cd-dce9-42af-e892-603ec3bf796d"
      },
      "source": [
        "# Node를 이용한 Stack\n",
        "class Node(object):\n",
        "    def __init__(self, value=None, pointer=None):\n",
        "        self.value = value\n",
        "        self.pointer = pointer\n",
        "\n",
        "\n",
        "class Stack(object):\n",
        "    def __init__(self):\n",
        "        self.head = None\n",
        "        self.count = 0 # top의 개념으로 생각\n",
        "\n",
        "    def isEmpty(self):\n",
        "        return not bool(self.head)\n",
        "\n",
        "    def push(self, item):\n",
        "        self.head = Node(item, self.head)\n",
        "        self.count += 1 # push -> top += 1\n",
        "\n",
        "    def pop(self):\n",
        "        if self.count > 0 and self.head:\n",
        "            node = self.head\n",
        "            self.head = node.pointer\n",
        "            self.count -= 1 # pop -> top -= 1\n",
        "            return node.value\n",
        "        else:\n",
        "            print(\"Stack is empty.\")\n",
        "\n",
        "    def peek(self):\n",
        "        if self.count > 0 and self.head:\n",
        "            return self.head.value\n",
        "        else:\n",
        "            print(\"Stack is empty.\")\n",
        "\n",
        "    def size(self):\n",
        "        return self.count\n",
        "\n",
        "    def _printList(self):\n",
        "        node = self.head\n",
        "        while node:\n",
        "            print(node.value, end=\" \")\n",
        "            node = node.pointer\n",
        "        print()\n",
        "\n",
        "\n",
        "if __name__ == \"__main__\":\n",
        "    stack = Stack()\n",
        "    print(\"스택이 비었나요? {0}\".format(stack.isEmpty()))\n",
        "    print(\"스택에 숫자 0~9를 추가합니다.\")\n",
        "    for i in range(10):\n",
        "        stack.push(i)\n",
        "    stack._printList()\n",
        "    print(\"스택 크기: {0}\".format(stack.size()))\n",
        "    print(\"peek: {0}\".format(stack.peek()))\n",
        "    print(\"pop: {0}\".format(stack.pop()))\n",
        "    print(\"peek: {0}\".format(stack.peek()))\n",
        "    print(\"스택이 비었나요? {0}\".format(stack.isEmpty()))\n",
        "    stack._printList()\n",
        "    print(stack)"
      ],
      "execution_count": null,
      "outputs": [
        {
          "output_type": "stream",
          "text": [
            "스택이 비었나요? True\n",
            "스택에 숫자 0~9를 추가합니다.\n",
            "9 8 7 6 5 4 3 2 1 0 \n",
            "스택 크기: 10\n",
            "peek: 9\n",
            "pop: 9\n",
            "peek: 8\n",
            "스택이 비었나요? False\n",
            "8 7 6 5 4 3 2 1 0 \n",
            "<__main__.Stack object at 0x7f92a0a41450>\n"
          ],
          "name": "stdout"
        }
      ]
    },
    {
      "cell_type": "code",
      "metadata": {
        "colab": {
          "base_uri": "https://localhost:8080/"
        },
        "id": "h9afyGLFyYy3",
        "outputId": "aaea40b1-5f6f-473a-db19-2892686ccc49"
      },
      "source": [
        "# Node를 이용한 스택 예시\n",
        "head = None\n",
        "A = Node() \n",
        "print(head)\n",
        "print(A.pointer)\n",
        "count = 0\n",
        "\n",
        "# push\n",
        "head = Node(10, head) \n",
        "count += 1\n",
        "\n",
        "print(f\"\\n< push {count}회 후 >\")\n",
        "print(head)\n",
        "print(head.value)\n",
        "print(head.pointer)\n",
        "\n",
        "# push\n",
        "head = Node(20, head)\n",
        "count += 1\n",
        "\n",
        "print(f\"\\n< push {count}회 후 >\")\n",
        "print(head)\n",
        "print(head.value)\n",
        "print(head.pointer) # 위의 그냥 head와 주소가 같음을 확인\n",
        "print(head.pointer.value)\n",
        "print()\n",
        "# pop\n",
        "if head: # head가 None이 아닌지 확인\n",
        "    print(\"Stack isn't Empty\")\n",
        "\n",
        "    # pop 자체 과정\n",
        "    node = head\n",
        "    head = node.pointer\n",
        "    result = node.value\n",
        "    \n",
        "    # 출력\n",
        "    print(\"< pop 1회 후 >\")\n",
        "    print(f'pop의 결과로 return 된 값 : {result}')\n",
        "    print(head)\n",
        "    \n",
        "else:\n",
        "    print(\"Stack is Empty\")\n",
        "\n",
        "# pop\n",
        "if head: # head가 None이 아닌지 확인\n",
        "    print(\"Stack isn't Empty\")\n",
        "\n",
        "    # pop 자체 과정\n",
        "    node = head\n",
        "    head = node.pointer\n",
        "    result = node.value\n",
        "    \n",
        "    # 출력\n",
        "    print(\"\\n< pop 2회 후 >\")\n",
        "    print(f'pop의 결과로 return 된 값 : {result}')\n",
        "    print(head)\n",
        "    \n",
        "else:\n",
        "    print(\"Stack is Empty\")\n",
        "\n",
        "    \n",
        "# pop\n",
        "if head: # head가 None이 아닌지 확인\n",
        "    print(\"Stack isn't Empty\")\n",
        "\n",
        "    # pop 자체 과정\n",
        "    node = head\n",
        "    head = node.pointer\n",
        "    result = node.value\n",
        "    \n",
        "    # 출력\n",
        "    print(\"\\n< pop 3회 후 >\")\n",
        "    print(f'pop의 결과로 return 된 값 : {result}')\n",
        "    print(head)\n",
        "    \n",
        "else:\n",
        "    print(\"\\nStack is Empty\")"
      ],
      "execution_count": null,
      "outputs": [
        {
          "output_type": "stream",
          "text": [
            "None\n",
            "None\n",
            "\n",
            "< push 1회 후 >\n",
            "<__main__.Node object at 0x7f929a794410>\n",
            "10\n",
            "None\n",
            "\n",
            "< push 2회 후 >\n",
            "<__main__.Node object at 0x7f929a751190>\n",
            "20\n",
            "<__main__.Node object at 0x7f929a794410>\n",
            "10\n",
            "\n",
            "Stack isn't Empty\n",
            "< pop 1회 후 >\n",
            "pop의 결과로 return 된 값 : 20\n",
            "<__main__.Node object at 0x7f929a794410>\n",
            "Stack isn't Empty\n",
            "\n",
            "< pop 2회 후 >\n",
            "pop의 결과로 return 된 값 : 10\n",
            "None\n",
            "\n",
            "Stack is Empty\n"
          ],
          "name": "stdout"
        }
      ]
    },
    {
      "cell_type": "code",
      "metadata": {
        "colab": {
          "base_uri": "https://localhost:8080/"
        },
        "id": "Gr2EazmfvmK4",
        "outputId": "bdd40929-ee83-413c-ba7b-30d01f4ec84c"
      },
      "source": [
        "# Node를 이용한 stack 구현 2\n",
        "\n",
        "class Node:\n",
        "    def __init__(self, data):\n",
        "        self.data = data\n",
        "        self.next = None\n",
        "\n",
        "class Stack:\n",
        "    def __init__(self):\n",
        "        self.head = None\n",
        "\n",
        "    def is_empty(self):\n",
        "        if not self.head:\n",
        "            return True\n",
        "\n",
        "        return False\n",
        "\n",
        "    def push(self, data):\n",
        "        new_node = Node(data)\n",
        "\n",
        "        new_node.next = self.head\n",
        "        self.head = new_node\n",
        "\n",
        "    def pop(self):\n",
        "        if self.is_empty():\n",
        "            return None\n",
        "\n",
        "        ret_data = self.head.data\n",
        "\n",
        "        self.head = self.head.next\n",
        "\n",
        "        return ret_data\n",
        "\n",
        "    def peek(self):\n",
        "        if self.is_empty():\n",
        "            return None\n",
        "\n",
        "        return self.head.data\n",
        "\n",
        "if __name__ == \"__main__\":\n",
        "    s = Stack()\n",
        "\n",
        "    print(s.is_empty()) # True\n",
        "\n",
        "    s.push(1)\n",
        "    s.push(2)\n",
        "    s.push(3)\n",
        "    s.push(4)\n",
        "    s.push(5)\n",
        "\n",
        "    print(\"peek of data : {}\".format(s.peek())) # 5\n",
        "\n",
        "    while not s.is_empty():\n",
        "        print(s.pop()) # 5, 4, 3, 2, 1"
      ],
      "execution_count": null,
      "outputs": [
        {
          "output_type": "stream",
          "text": [
            "True\n",
            "peek of data : 5\n",
            "5\n",
            "4\n",
            "3\n",
            "2\n",
            "1\n"
          ],
          "name": "stdout"
        }
      ]
    },
    {
      "cell_type": "markdown",
      "metadata": {
        "id": "B3F6EiAA7VZf"
      },
      "source": [
        "# 큐"
      ]
    },
    {
      "cell_type": "markdown",
      "metadata": {
        "id": "0sLQq9c3nAsn"
      },
      "source": [
        "선입선출(FIFO)의 구조, 아래 연산의 시간복잡도는 모두 O(1)\n",
        "- enqueue : 큐 뒤쪽에 항목을 삽입\n",
        "- dequeue : 큐 앞쪽의 항목을 반환하고, 제거한다.\n",
        "- peek/front : 큐 앞쪽의 항목을 조회한다\n",
        "- empty : 큐가 비어 있는지 확인한다.\n",
        "- size : 큐의 크기를 확인한다."
      ]
    },
    {
      "cell_type": "code",
      "metadata": {
        "colab": {
          "base_uri": "https://localhost:8080/"
        },
        "id": "V9CoMj6GmzRW",
        "outputId": "288dbff9-b6b2-4115-f9de-1fe07872781c"
      },
      "source": [
        "# insert() 메서드를 사용해 구현한 queue, 이는 data shift를 야기하므로 비효율적\n",
        "\n",
        "class Queue(object):\n",
        "    def __init__(self):\n",
        "        self.items = []\n",
        "\n",
        "    def isEmpty(self):\n",
        "        return not bool(self.items)\n",
        "\n",
        "    def enqueue(self, item):\n",
        "        self.items.insert(0, item)\n",
        "\n",
        "    def dequeue(self):\n",
        "        value = self.items.pop()\n",
        "        if value is not None:\n",
        "            return value\n",
        "        else:\n",
        "            print(\"Queue is empty.\")\n",
        "\n",
        "    def size(self):\n",
        "        return len(self.items)\n",
        "\n",
        "    def peek(self):\n",
        "        if self.items:\n",
        "            return self.items[-1]\n",
        "        else:\n",
        "            print(\"Queue is empty.\")\n",
        "\n",
        "    def __repr__(self):\n",
        "        return repr(self.items)\n",
        "\n",
        "\n",
        "if __name__ == \"__main__\":\n",
        "    queue = Queue()\n",
        "    print(\"큐가 비었나요? {0}\".format(queue.isEmpty()))\n",
        "    print(\"큐에 숫자 0~9를 추가합니다.\")\n",
        "    for i in range(10):\n",
        "        queue.enqueue(i)\n",
        "    print(\"큐 크기: {0}\".format(queue.size()))\n",
        "    print(\"peek: {0}\".format(queue.peek()))\n",
        "    print(\"dequeue: {0}\".format(queue.dequeue()))\n",
        "    print(\"peek: {0}\".format(queue.peek()))\n",
        "    print(\"큐가 비었나요? {0}\".format(queue.isEmpty()))\n",
        "    print(queue)"
      ],
      "execution_count": null,
      "outputs": [
        {
          "output_type": "stream",
          "text": [
            "큐가 비었나요? True\n",
            "큐에 숫자 0~9를 추가합니다.\n",
            "큐 크기: 10\n",
            "peek: 0\n",
            "dequeue: 0\n",
            "peek: 1\n",
            "큐가 비었나요? False\n",
            "[9, 8, 7, 6, 5, 4, 3, 2, 1]\n"
          ],
          "name": "stdout"
        }
      ]
    },
    {
      "cell_type": "code",
      "metadata": {
        "colab": {
          "base_uri": "https://localhost:8080/"
        },
        "id": "E5qQDp7RmzKL",
        "outputId": "1430421c-9201-40f4-eb3a-532c402f1349"
      },
      "source": [
        "# 두 개의 스택(정확히는 리스트)을 사용한 큐\n",
        "\n",
        "class TwoStackQueue(object):\n",
        "    def __init__(self):\n",
        "        self.in_stack = []\n",
        "        self.out_stack = []\n",
        "\n",
        "    def _transfer(self): # in_stack에 있는 것을 모두 빼서 out_stack 넣는 메서드\n",
        "        while self.in_stack:\n",
        "            self.out_stack.append(self.in_stack.pop())\n",
        "\n",
        "    def enqueue(self, item): # in_stack 에 data를 add\n",
        "        return self.in_stack.append(item) \n",
        "\n",
        "    def dequeue(self):# data를 delete\n",
        "        if not self.out_stack: # out_stack 이 빈 경우\n",
        "            self._transfer()\n",
        "\n",
        "        if self.out_stack: \n",
        "            return self.out_stack.pop()\n",
        "        else:\n",
        "            print(\"Queue is empty!\")\n",
        "\n",
        "    def size(self):\n",
        "        return len(self.in_stack) + len(self.out_stack)\n",
        "\n",
        "    def peek(self):\n",
        "        if not self.out_stack:\n",
        "            self._transfer()\n",
        "        if self.out_stack:\n",
        "            return self.out_stack[-1]\n",
        "        else:\n",
        "            print(\"Queue is empty!\")\n",
        "\n",
        "    def __repr__(self):\n",
        "        if not self.out_stack:\n",
        "            self._transfer()\n",
        "        if self.out_stack:\n",
        "            return repr(self.out_stack)\n",
        "        else:\n",
        "            print(\"Queue is empty!\")\n",
        "\n",
        "    def isEmpty(self):\n",
        "        return not (bool(self.in_stack) or bool(self.out_stack))\n",
        "\n",
        "\n",
        "if __name__ == \"__main__\":\n",
        "    queue = TwoStackQueue()\n",
        "    print(\"큐가 비었나요? {0}\".format(queue.isEmpty()))\n",
        "    print(\"큐에 숫자 0~9를 추가합니다.\")\n",
        "    for i in range(10):\n",
        "        queue.enqueue(i)\n",
        "    print(\"큐 크기: {0}\".format(queue.size()))\n",
        "    print(\"peek: {0}\".format(queue.peek()))\n",
        "    print(\"dequeue: {0}\".format(queue.dequeue()))\n",
        "    print(\"peek: {0}\".format(queue.peek()))\n",
        "    print(\"큐가 비었나요? {0}\".format(queue.isEmpty()))\n",
        "    print(queue)"
      ],
      "execution_count": null,
      "outputs": [
        {
          "output_type": "stream",
          "text": [
            "큐가 비었나요? True\n",
            "큐에 숫자 0~9를 추가합니다.\n",
            "큐 크기: 10\n",
            "peek: 0\n",
            "dequeue: 0\n",
            "peek: 1\n",
            "큐가 비었나요? False\n",
            "[9, 8, 7, 6, 5, 4, 3, 2, 1]\n"
          ],
          "name": "stdout"
        }
      ]
    },
    {
      "cell_type": "code",
      "metadata": {
        "colab": {
          "base_uri": "https://localhost:8080/"
        },
        "id": "9W9rpOaWmy_a",
        "outputId": "f86fee2c-2a20-433d-a005-5c9262e7e162"
      },
      "source": [
        "# Node로 구현한 큐\n",
        "\n",
        "class Node(object):\n",
        "    def __init__(self, value=None, pointer=None):\n",
        "        self.value = value\n",
        "        self.pointer = None\n",
        "\n",
        "\n",
        "class LinkedQueue(object):\n",
        "    def __init__(self):\n",
        "        self.head = None\n",
        "        self.tail = None\n",
        "        self.count = 0\n",
        "\n",
        "    def isEmpty(self):\n",
        "        return not bool(self.head)\n",
        "\n",
        "    def dequeue(self):\n",
        "        if self.head:\n",
        "            value = self.head.value\n",
        "            self.head = self.head.pointer\n",
        "            self.count -= 1\n",
        "            return value\n",
        "        else:\n",
        "            print(\"Queue is empty.\")\n",
        "\n",
        "    def enqueue(self, value):\n",
        "        node = Node(value)\n",
        "        if not self.head:\n",
        "            self.head = node\n",
        "            self.tail = node\n",
        "        else:\n",
        "            if self.tail:\n",
        "                self.tail.pointer = node\n",
        "            self.tail = node\n",
        "        self.count += 1\n",
        "\n",
        "    def size(self):\n",
        "        return self.count\n",
        "\n",
        "    def peek(self):\n",
        "        return self.head.value\n",
        "\n",
        "    def print(self):\n",
        "        node = self.head\n",
        "        while node:\n",
        "            print(node.value, end=\" \")\n",
        "            node = node.pointer\n",
        "        print()\n",
        "\n",
        "\n",
        "if __name__ == \"__main__\":\n",
        "    queue = LinkedQueue()\n",
        "    print(\"큐가 비었나요? {0}\".format(queue.isEmpty()))\n",
        "    print(\"큐에 숫자 0~9를 추가합니다.\")\n",
        "    for i in range(10):\n",
        "        queue.enqueue(i)\n",
        "    print(\"큐가 비었나요? {0}\".format(queue.isEmpty()))\n",
        "    queue.print()\n",
        "\n",
        "    print(\"큐 크기: {0}\".format(queue.size()))\n",
        "    print(\"peek: {0}\".format(queue.peek()))\n",
        "    print(\"dequeue: {0}\".format(queue.dequeue()))\n",
        "    print(\"peek: {0}\".format(queue.peek()))\n",
        "    queue.print()"
      ],
      "execution_count": null,
      "outputs": [
        {
          "output_type": "stream",
          "text": [
            "큐가 비었나요? True\n",
            "큐에 숫자 0~9를 추가합니다.\n",
            "큐가 비었나요? False\n",
            "0 1 2 3 4 5 6 7 8 9 \n",
            "큐 크기: 10\n",
            "peek: 0\n",
            "dequeue: 0\n",
            "peek: 1\n",
            "1 2 3 4 5 6 7 8 9 \n"
          ],
          "name": "stdout"
        }
      ]
    },
    {
      "cell_type": "code",
      "metadata": {
        "colab": {
          "base_uri": "https://localhost:8080/"
        },
        "id": "UpnWmvAGYPhi",
        "outputId": "db291b36-a7c4-49a7-d373-88caa12ab9bc"
      },
      "source": [
        "# Node를 이용한 queue 예시\n",
        "\n",
        "# 선언\n",
        "head = None\n",
        "tail = None\n",
        "count = 0\n",
        "\n",
        "# enqueue\n",
        "node = Node(10)\n",
        "\n",
        "if not head:\n",
        "    head = node\n",
        "    tail = node\n",
        "else:\n",
        "    if tail:\n",
        "        tail.pointer = node\n",
        "    tail = node\n",
        "count += 1\n",
        "\n",
        "# 현재 상태 출력\n",
        "print(f\"< enqueue {count}회 후 >\")\n",
        "print(head)\n",
        "print(head.value)\n",
        "print(head.pointer)\n",
        "print(tail)\n",
        "print(tail.value)\n",
        "print(tail.pointer)\n",
        "\n",
        "# enqueue\n",
        "node = Node(20)\n",
        "\n",
        "if not head:\n",
        "    head = node\n",
        "    tail = node\n",
        "else:\n",
        "    if tail:\n",
        "        tail.pointer = node\n",
        "    tail = node\n",
        "count += 1\n",
        "\n",
        "# 현재 상태 출력\n",
        "print(f\"\\n< enqueue {count}회 후 >\")\n",
        "print(head)\n",
        "print(head.value)\n",
        "print(head.pointer)\n",
        "print(head.pointer.value)\n",
        "print(tail)\n",
        "print(tail.value)\n",
        "print(tail.pointer)\n",
        "print()\n",
        "\n",
        "# enqueue\n",
        "node = Node(30)\n",
        "\n",
        "if not head:\n",
        "    head = node\n",
        "    tail = node\n",
        "else:\n",
        "    if tail:\n",
        "        tail.pointer = node\n",
        "    tail = node\n",
        "count += 1\n",
        "\n",
        "# 현재 상태 출력\n",
        "print(f\"< enqueue {count}회 후 >\")\n",
        "print(head)\n",
        "print(head.value)\n",
        "print(head.pointer)\n",
        "print(head.pointer.value)\n",
        "print(tail)\n",
        "print(tail.value)\n",
        "print(tail.pointer)\n",
        "print()\n",
        "\n",
        "\n",
        "# deque\n",
        "if head:\n",
        "    value = head.value\n",
        "    head = head.pointer\n",
        "else:\n",
        "    print(\"Queue is empty.\")\n",
        "\n",
        "# 출력\n",
        "print(\"< dequeue 1회 후 >\")\n",
        "print(f'제거된 값 => {value}')\n",
        "print(f'head => {head}')\n",
        "print(f'head 노드의 값 => {head.value}')\n",
        "print(f'head 노드의 포인터 => {head.pointer}')\n",
        "print()\n",
        "\n",
        "# deque\n",
        "if head:\n",
        "    value = head.value\n",
        "    head = head.pointer\n",
        "\n",
        "else:\n",
        "    print(\"Queue is empty.\")\n",
        "\n",
        "# 출력\n",
        "print(\"< dequeue 2회 후 >\")\n",
        "print(f'제거된 값 => {value}')\n",
        "print(f'head => {head}')\n",
        "print(f'head 노드의 값 => {head.value}')\n",
        "print(f'head 노드의 포인터 => {head.pointer}')\n",
        "print()\n",
        "\n",
        "# deque\n",
        "if head:\n",
        "    value = head.value\n",
        "    head = head.pointer\n",
        "\n",
        "else:\n",
        "    print(\"Queue is empty.\")\n",
        "\n",
        "# 출력\n",
        "print(\"< dequeue 3회 후 >\")\n",
        "print(f'제거된 값 => {value}')\n",
        "print(f'head => {head}')\n",
        "print()\n",
        "\n",
        "if head:\n",
        "    value = head.value\n",
        "    head = head.pointer\n",
        "\n",
        "else:\n",
        "    print(\"Queue is empty.\")"
      ],
      "execution_count": null,
      "outputs": [
        {
          "output_type": "stream",
          "text": [
            "< enqueue 1회 후 >\n",
            "<__main__.Node object at 0x7f861f4c86d0>\n",
            "10\n",
            "None\n",
            "<__main__.Node object at 0x7f861f4c86d0>\n",
            "10\n",
            "None\n",
            "\n",
            "< enqueue 2회 후 >\n",
            "<__main__.Node object at 0x7f861f4c86d0>\n",
            "10\n",
            "<__main__.Node object at 0x7f861f4321d0>\n",
            "20\n",
            "<__main__.Node object at 0x7f861f4321d0>\n",
            "20\n",
            "None\n",
            "\n",
            "< enqueue 3회 후 >\n",
            "<__main__.Node object at 0x7f861f4c86d0>\n",
            "10\n",
            "<__main__.Node object at 0x7f861f4321d0>\n",
            "20\n",
            "<__main__.Node object at 0x7f861f432c50>\n",
            "30\n",
            "None\n",
            "\n",
            "< dequeue 1회 후 >\n",
            "제거된 값 => 10\n",
            "head => <__main__.Node object at 0x7f861f4321d0>\n",
            "head 노드의 값 => 20\n",
            "head 노드의 포인터 => <__main__.Node object at 0x7f861f432c50>\n",
            "\n",
            "< dequeue 2회 후 >\n",
            "제거된 값 => 20\n",
            "head => <__main__.Node object at 0x7f861f432c50>\n",
            "head 노드의 값 => 30\n",
            "head 노드의 포인터 => None\n",
            "\n",
            "< dequeue 3회 후 >\n",
            "제거된 값 => 30\n",
            "head => None\n",
            "\n",
            "Queue is empty.\n"
          ],
          "name": "stdout"
        }
      ]
    },
    {
      "cell_type": "markdown",
      "metadata": {
        "id": "1-HKrilO7Vqt"
      },
      "source": [
        "# 데크"
      ]
    },
    {
      "cell_type": "code",
      "metadata": {
        "colab": {
          "base_uri": "https://localhost:8080/"
        },
        "id": "Xm5EcRRe44Z4",
        "outputId": "f6ae39c8-fdfe-41e5-da4c-6902a546801c"
      },
      "source": [
        "class Deque(Queue):\n",
        "    def enqueue_back(self, item):\n",
        "        self.items.append(item)\n",
        "\n",
        "    def dequeue_front(self):\n",
        "        value = self.items.pop(0)\n",
        "        if value is not None:\n",
        "            return value\n",
        "        else:\n",
        "            print(\"Deque is empty.\")\n",
        "\n",
        "\n",
        "if __name__ == \"__main__\":\n",
        "    deque = Deque()\n",
        "    print(\"데크(Deque)가 비었나요? {0}\".format(deque.isEmpty()))\n",
        "    print(\"데크에 숫자 0~9를 추가합니다.\")\n",
        "    for i in range(10):\n",
        "        deque.enqueue(i)\n",
        "    print(\"데크 크기: {0}\".format(deque.size()))\n",
        "    print(\"peek: {0}\".format(deque.peek()))\n",
        "    print(\"dequeue: {0}\".format(deque.dequeue()))\n",
        "    print(\"peek: {0}\".format(deque.peek()))\n",
        "    print(\"데크가 비었나요? {0}\".format(deque.isEmpty()))\n",
        "    print()\n",
        "    print(\"데크: {0}\".format(deque))\n",
        "    print(\"dequeue: {0}\".format(deque.dequeue_front()))\n",
        "    print(\"peek: {0}\".format(deque.peek()))\n",
        "    print(\"데크: {0}\".format(deque))\n",
        "    print(\"enqueue_back(50)을 수행합니다.\")\n",
        "    deque.enqueue_back(50)\n",
        "    print(\"peek: {0}\".format(deque.peek()))\n",
        "    print(\"데크: {0}\".format(deque))"
      ],
      "execution_count": null,
      "outputs": [
        {
          "output_type": "stream",
          "text": [
            "데크(Deque)가 비었나요? True\n",
            "데크에 숫자 0~9를 추가합니다.\n",
            "데크 크기: 10\n",
            "peek: 0\n",
            "dequeue: 0\n",
            "peek: 1\n",
            "데크가 비었나요? False\n",
            "\n",
            "데크: [9, 8, 7, 6, 5, 4, 3, 2, 1]\n",
            "dequeue: 9\n",
            "peek: 1\n",
            "데크: [8, 7, 6, 5, 4, 3, 2, 1]\n",
            "enqueue_back(50)을 수행합니다.\n",
            "peek: 50\n",
            "데크: [8, 7, 6, 5, 4, 3, 2, 1, 50]\n"
          ],
          "name": "stdout"
        }
      ]
    },
    {
      "cell_type": "code",
      "metadata": {
        "colab": {
          "base_uri": "https://localhost:8080/"
        },
        "id": "gvvYonie6jmJ",
        "outputId": "18b6f7c5-e43c-4b0e-8a70-267d3b8dcdf2"
      },
      "source": [
        "from collections import deque\n",
        "q = deque([\"버피\", \"잰더\", \"윌로\"])\n",
        "print(q)\n",
        "\n",
        "q.append(\"쨔스\") # 가장 뒤에 항목 추가\n",
        "print(q)\n",
        "\n",
        "print(q.popleft()) # 가장 앞의 항목 제거 및 반환\n",
        "print(q.pop()) # 가장 뒤의 항목 제거 및 반환\n",
        "print(q)\n",
        "\n",
        "q.appendleft(\"엔젤\") # 가장 앞에 항목 추가\n",
        "print(q)"
      ],
      "execution_count": null,
      "outputs": [
        {
          "output_type": "stream",
          "text": [
            "deque(['버피', '잰더', '윌로'])\n",
            "deque(['버피', '잰더', '윌로', '쨔스'])\n",
            "버피\n",
            "쨔스\n",
            "deque(['잰더', '윌로'])\n",
            "deque(['엔젤', '잰더', '윌로'])\n"
          ],
          "name": "stdout"
        }
      ]
    },
    {
      "cell_type": "markdown",
      "metadata": {
        "id": "frn7lA0a7Vxt"
      },
      "source": [
        "# 우선순위 큐와 힙"
      ]
    },
    {
      "cell_type": "code",
      "metadata": {
        "colab": {
          "base_uri": "https://localhost:8080/"
        },
        "id": "EPZZwSHekTAX",
        "outputId": "1108fce9-359b-427d-cd04-64d8d4387db7"
      },
      "source": [
        "import heapq\n",
        "list1 = [4,6,8,1]\n",
        "heapq.heapify(list1)\n",
        "print(list1) # 힙으로 변한 것 확인\n",
        "print(type(list1)) # 자료형은 그대로 list "
      ],
      "execution_count": 1,
      "outputs": [
        {
          "output_type": "stream",
          "text": [
            "[1, 4, 8, 6]\n",
            "<class 'list'>\n"
          ],
          "name": "stdout"
        }
      ]
    },
    {
      "cell_type": "code",
      "metadata": {
        "colab": {
          "base_uri": "https://localhost:8080/"
        },
        "id": "hTpMkj2ukpGT",
        "outputId": "2c007b2d-e574-46e2-87b9-d390974c14ef"
      },
      "source": [
        "h = []\n",
        "heapq.heappush(h, (1,'food')) # (heap, item)\n",
        "heapq.heappush(h, (3,'work'))\n",
        "heapq.heappush(h, (4,'study'))\n",
        "heapq.heappush(h, (2,'have fun'))\n",
        "print(h)"
      ],
      "execution_count": 4,
      "outputs": [
        {
          "output_type": "stream",
          "text": [
            "[(1, 'food'), (2, 'have fun'), (4, 'study'), (3, 'work')]\n"
          ],
          "name": "stdout"
        }
      ]
    },
    {
      "cell_type": "code",
      "metadata": {
        "colab": {
          "base_uri": "https://localhost:8080/"
        },
        "id": "42hgVxeakcGa",
        "outputId": "7f50741d-2258-46d4-95e1-43f4b9c30edb"
      },
      "source": [
        "print(list1)\n",
        "print(heapq.heappop(list1))\n",
        "print(list1)"
      ],
      "execution_count": 6,
      "outputs": [
        {
          "output_type": "stream",
          "text": [
            "[1, 4, 8, 6]\n",
            "1\n",
            "[4, 6, 8]\n"
          ],
          "name": "stdout"
        }
      ]
    },
    {
      "cell_type": "code",
      "metadata": {
        "colab": {
          "base_uri": "https://localhost:8080/"
        },
        "id": "ERnE_QYllCBp",
        "outputId": "00d56b54-fe0d-44c8-e7c7-9c94e60e72d0"
      },
      "source": [
        "for x in heapq.merge([1,3,5],[2,4,6]):\n",
        "    print(x)"
      ],
      "execution_count": 7,
      "outputs": [
        {
          "output_type": "stream",
          "text": [
            "1\n",
            "2\n",
            "3\n",
            "4\n",
            "5\n",
            "6\n"
          ],
          "name": "stdout"
        }
      ]
    },
    {
      "cell_type": "code",
      "metadata": {
        "colab": {
          "base_uri": "https://localhost:8080/"
        },
        "id": "eGn-Qi25lQhZ",
        "outputId": "eaf150b9-2afb-4b4f-e7a9-37bfaddfe44d"
      },
      "source": [
        "class Heapify(object):\n",
        "    def __init__(self, data=None):\n",
        "        self.data = data or []\n",
        "        for i in range(len(data)//2, -1, -1):\n",
        "            self.__max_heapify__(i)\n",
        "\n",
        "    def __repr__(self):\n",
        "        return repr(self.data)\n",
        "\n",
        "    def parent(self, i):\n",
        "        if i & 1:\n",
        "            return i >> 1\n",
        "        else:\n",
        "            return (i >> 1) - 1\n",
        "\n",
        "    def left_child(self, i):\n",
        "        return (i << 1) + 1\n",
        "\n",
        "    def right_child(self, i):\n",
        "        return (i << 1) + 2\n",
        "\n",
        "    def __max_heapify__(self, i):\n",
        "        largest = i  # 현재 노드\n",
        "        left = self.left_child(i)\n",
        "        right = self.right_child(i)\n",
        "        n = len(self.data)\n",
        "\n",
        "        # 왼쪽 자식\n",
        "        largest = (left < n and self.data[left] > self.data[i]) and left or i\n",
        "        # 오른쪽 자식\n",
        "        largest = (right < n and self.data[right] > self.data[largest]) and \\\n",
        "            right or largest\n",
        "\n",
        "        # 현재 노드가 자식들보다 크다면 Skip, 자식이 크다면 Swap\n",
        "        if i is not largest:\n",
        "            self.data[i], self.data[largest] = self.data[largest], self.data[i]\n",
        "            self.__max_heapify__(largest)\n",
        "\n",
        "    def extract_max(self):\n",
        "        n = len(self.data)\n",
        "        max_element = self.data[0]\n",
        "\n",
        "        # 첫 번째 노드에 마지막 노드를 삽입\n",
        "        self.data[0] = self.data[n - 1]\n",
        "        self.data = self.data[:n - 1]\n",
        "        self.__max_heapify__(0)\n",
        "        return max_element\n",
        "\n",
        "    def insert(self, item):\n",
        "        i = len(self.data)\n",
        "        self.data.append(item)\n",
        "        while (i != 0) and item > self.data[self.parent(i)]:\n",
        "            print(self.data)\n",
        "            self.data[i] = self.data[self.parent(i)]\n",
        "            i = self.parent(i)\n",
        "        self.data[i] = item\n",
        "\n",
        "\n",
        "def test_heapify():\n",
        "    l1 = [3, 2, 5, 1, 7, 8, 2]\n",
        "    h = Heapify(l1)\n",
        "    assert(h.extract_max() == 8)\n",
        "    print(\"테스트 통과!\")\n",
        "\n",
        "\n",
        "if __name__ == \"__main__\":\n",
        "    test_heapify()"
      ],
      "execution_count": 8,
      "outputs": [
        {
          "output_type": "stream",
          "text": [
            "테스트 통과!\n"
          ],
          "name": "stdout"
        }
      ]
    },
    {
      "cell_type": "code",
      "metadata": {
        "colab": {
          "base_uri": "https://localhost:8080/"
        },
        "id": "vuJg9XnUlWgE",
        "outputId": "c4ce1f81-97c3-4739-afcc-911df1da8f5e"
      },
      "source": [
        "import heapq\n",
        "\n",
        "class PriorityQueue(object):\n",
        "    def __init__(self):\n",
        "        self._queue = []\n",
        "        self._index = 0\n",
        "\n",
        "    def push(self, item, priority):\n",
        "        heapq.heappush(self._queue, (-priority, self._index, item))\n",
        "        self._index += 1\n",
        "\n",
        "    def pop(self):\n",
        "        return heapq.heappop(self._queue)[-1]\n",
        "\n",
        "\n",
        "class Item(object):\n",
        "    def __init__(self, name):\n",
        "        self.name = name\n",
        "\n",
        "    def __repr__(self):\n",
        "        return \"Item({0!r})\".format(self.name)\n",
        "\n",
        "\n",
        "def test_priority_queue():\n",
        "    # push와 pop은 모두 O(logn)이다. \n",
        "    q = PriorityQueue()\n",
        "    q.push(Item('test1'), 1)\n",
        "    q.push(Item('test2'), 4)\n",
        "    q.push(Item('test3'), 3)\n",
        "    assert(str(q.pop()) == \"Item('test2')\")\n",
        "    print(\"테스트 통과!\")\n",
        "\n",
        "\n",
        "if __name__ == \"__main__\":\n",
        "    test_priority_queue()"
      ],
      "execution_count": 9,
      "outputs": [
        {
          "output_type": "stream",
          "text": [
            "테스트 통과!\n"
          ],
          "name": "stdout"
        }
      ]
    },
    {
      "cell_type": "markdown",
      "metadata": {
        "id": "WbvgVNyU7V9f"
      },
      "source": [
        "# 연결 리스트"
      ]
    },
    {
      "cell_type": "code",
      "metadata": {
        "colab": {
          "base_uri": "https://localhost:8080/"
        },
        "id": "KFrJr157mUZM",
        "outputId": "fe6ba746-5474-4b47-c576-414baa5cb0a5"
      },
      "source": [
        "class Node(object):\n",
        "    def __init__(self, value=None, pointer=None):\n",
        "        self.value = value\n",
        "        self.pointer = pointer\n",
        "\n",
        "    def getData(self):\n",
        "        return self.value\n",
        "\n",
        "    def getNext(self):\n",
        "        return self.pointer\n",
        "\n",
        "    def setData(self, newdata):\n",
        "        self.value = newdata\n",
        "\n",
        "    def setNext(self, newpointer):\n",
        "        self.pointer = newpointer\n",
        "\n",
        "\n",
        "if __name__ == \"__main__\":\n",
        "    L = Node(\"a\", Node(\"b\", Node(\"c\", Node(\"d\"))))\n",
        "    assert(L.pointer.pointer.value == \"c\")\n",
        "\n",
        "    print(L.getData())\n",
        "    print(L.getNext().getData())\n",
        "    L.setData(\"aa\")\n",
        "    L.setNext(Node(\"e\"))\n",
        "    print(L.getData())\n",
        "    print(L.getNext().getData())"
      ],
      "execution_count": 10,
      "outputs": [
        {
          "output_type": "stream",
          "text": [
            "a\n",
            "b\n",
            "aa\n",
            "e\n"
          ],
          "name": "stdout"
        }
      ]
    },
    {
      "cell_type": "code",
      "metadata": {
        "colab": {
          "base_uri": "https://localhost:8080/"
        },
        "id": "pcyI0KS4mUQ4",
        "outputId": "3be71a8d-bd46-42a7-86bd-58c3f93faffd"
      },
      "source": [
        "class LinkedListLIFO(object):\n",
        "    def __init__(self):\n",
        "        self.head = None\n",
        "        self.length = 0\n",
        "\n",
        "    # 헤드부터 각 노드의 값을 출력한다.\n",
        "    def _printList(self):\n",
        "        node = self.head\n",
        "        while node:\n",
        "            print(node.value, end=\" \")\n",
        "            node = node.pointer\n",
        "        print()\n",
        "\n",
        "    # 이전 노드(prev)를 기반으로 노드(node)를 삭제한다.\n",
        "    def _delete(self, prev, node):\n",
        "        self.length -= 1\n",
        "        if not prev:\n",
        "            self.head = node.pointer\n",
        "        else:\n",
        "            prev.pointer = node.pointer\n",
        "\n",
        "    # 새 노드를 추가한다. 다음 노드로 헤드를 가리키고,\n",
        "    # 헤드는 새 노드를 가리킨다.\n",
        "    def _add(self, value):\n",
        "        self.length += 1\n",
        "        self.head = Node(value, self.head)\n",
        "\n",
        "    # 인덱스로 노드를 찾는다.\n",
        "    def _find(self, index):\n",
        "        prev = None\n",
        "        node = self.head\n",
        "        i = 0\n",
        "        while node and i < index:\n",
        "            prev = node\n",
        "            node = node.pointer\n",
        "            i += 1\n",
        "        return node, prev, i\n",
        "\n",
        "    # 값으로 노드를 찾는다.\n",
        "    def _find_by_value(self, value):\n",
        "        prev = None\n",
        "        node = self.head\n",
        "        found = False\n",
        "        while node and not found:\n",
        "            if node.value == value:\n",
        "                found = True\n",
        "            else:\n",
        "                prev = node\n",
        "                node = node.pointer\n",
        "        return node, prev, found\n",
        "\n",
        "    # 인덱스로 노드를 찾아서 삭제한다.\n",
        "    def deleteNode(self, index):\n",
        "        node, prev, i = self._find(index)\n",
        "        if index == i:\n",
        "            self._delete(prev, node)\n",
        "        else:\n",
        "            print(\"인덱스 {0}에 해당하는 노드가 없습니다.\".format(index))\n",
        "\n",
        "    # 값으로 노드를 찾아서 삭제한다.\n",
        "    def deleteNodeByValue(self, value):\n",
        "        node, prev, found = self._find_by_value(value)\n",
        "        if found:\n",
        "            self._delete(prev, node)\n",
        "        else:\n",
        "            print(\"값 {0}에 해당하는 노드가 없습니다.\".format(value))\n",
        "\n",
        "\n",
        "if __name__ == \"__main__\":\n",
        "    ll = LinkedListLIFO()\n",
        "    for i in range(1, 5):\n",
        "        ll._add(i)\n",
        "    print(\"연결 리스트 출력:\")\n",
        "    ll._printList()\n",
        "    print(\"인덱스가 2인 노드 삭제 후, 연결 리스트 출력:\")\n",
        "    ll.deleteNode(2)\n",
        "    ll._printList()\n",
        "    print(\"값이 3인 노드 삭제 후, 연결 리스트 출력:\")\n",
        "    ll.deleteNodeByValue(3)\n",
        "    ll._printList()\n",
        "    print(\"값이 15인 노드 추가 후, 연결 리스트 출력:\")\n",
        "    ll._add(15)\n",
        "    ll._printList()\n",
        "    print(\"모든 노드 모두 삭제 후, 연결 리스트 출력:\")\n",
        "    for i in range(ll.length-1, -1, -1):\n",
        "        ll.deleteNode(i)\n",
        "    ll._printList()"
      ],
      "execution_count": 12,
      "outputs": [
        {
          "output_type": "stream",
          "text": [
            "연결 리스트 출력:\n",
            "4 3 2 1 \n",
            "인덱스가 2인 노드 삭제 후, 연결 리스트 출력:\n",
            "4 3 1 \n",
            "값이 3인 노드 삭제 후, 연결 리스트 출력:\n",
            "4 1 \n",
            "값이 15인 노드 추가 후, 연결 리스트 출력:\n",
            "15 4 1 \n",
            "모든 노드 모두 삭제 후, 연결 리스트 출력:\n",
            "\n"
          ],
          "name": "stdout"
        }
      ]
    },
    {
      "cell_type": "code",
      "metadata": {
        "colab": {
          "base_uri": "https://localhost:8080/"
        },
        "id": "DymyckhmmloY",
        "outputId": "b906670e-73ac-4dc4-8cd3-f0d9d42fa981"
      },
      "source": [
        "class LinkedListFIFO(object):\n",
        "    def __init__(self):\n",
        "        self.head = None  # 헤드(머리)\n",
        "        self.length = 0\n",
        "        self.tail = None  # 테일(꼬리)\n",
        "\n",
        "    # 헤드부터 각 노드의 값을 출력한다.\n",
        "    def _printList(self):\n",
        "        node = self.head\n",
        "        while node:\n",
        "            print(node.value, end=\" \")\n",
        "            node = node.pointer\n",
        "        print()\n",
        "\n",
        "    # 첫 번째 위치에 노드를 추가한다.\n",
        "    def _addFirst(self, value):\n",
        "        self.length = 1\n",
        "        node = Node(value)\n",
        "        self.head = node\n",
        "        self.tail = node\n",
        "\n",
        "    # 첫 번째 위치의 노드를 삭제한다.\n",
        "    def _deleteFirst(self):\n",
        "        self.length = 0\n",
        "        self.head = None\n",
        "        self.tail = None\n",
        "        print(\"연결 리스트가 비었습니다.\")\n",
        "\n",
        "    # 새 노드를 추가한다. 테일이 있다면, 테일의 다음 노드는\n",
        "    # 새 노드를 가리키고, 테일은 새 노드를 가리킨다.\n",
        "    def _add(self, value):\n",
        "        self.length += 1\n",
        "        node = Node(value)\n",
        "        if self.tail:\n",
        "            self.tail.pointer = node\n",
        "        self.tail = node\n",
        "\n",
        "    # 새 노드를 추가한다.\n",
        "    def addNode(self, value):\n",
        "        if not self.head:\n",
        "            self._addFirst(value)\n",
        "        else:\n",
        "            self._add(value)\n",
        "\n",
        "    # 인덱스로 노드를 찾는다.\n",
        "    def _find(self, index):\n",
        "        prev = None\n",
        "        node = self.head\n",
        "        i = 0\n",
        "        while node and i < index:\n",
        "            prev = node\n",
        "            node = node.pointer\n",
        "            i += 1\n",
        "        return node, prev, i\n",
        "\n",
        "    # 값으로 노드를 찾는다.\n",
        "    def _find_by_value(self, value):\n",
        "        prev = None\n",
        "        node = self.head\n",
        "        found = False\n",
        "        while node and not found:\n",
        "            if node.value == value:\n",
        "                found = True\n",
        "            else:\n",
        "                prev = node\n",
        "                node = node.pointer\n",
        "        return node, prev, found\n",
        "\n",
        "    # 인덱스에 해당하는 노드를 삭제한다.\n",
        "    def deleteNode(self, index):\n",
        "        if not self.head or not self.head.pointer:\n",
        "            self._deleteFirst()\n",
        "        else:\n",
        "            node, prev, i = self._find(index)\n",
        "            if i == index and node:\n",
        "                self.length -= 1\n",
        "                if i == 0 or not prev:\n",
        "                    self.head = node.pointer\n",
        "                    self.tail = node.pointer\n",
        "                else:\n",
        "                    prev.pointer = node.pointer\n",
        "            else:\n",
        "                print(\"인덱스 {0}에 해당하는 노드가 없습니다.\".format(index))\n",
        "\n",
        "    # 값에 해당하는 노드를 삭제한다.\n",
        "    def deleteNodeByValue(self, value):\n",
        "        if not self.head or not self.head.pointer:\n",
        "            self._deleteFirst()\n",
        "        else:\n",
        "            node, prev, i = self._find_by_value(value)\n",
        "            if node and node.value == value:\n",
        "                self.length -= 1\n",
        "                if i == 0 or not prev:\n",
        "                    self.head = node.pointer\n",
        "                    self.tail = node.pointer\n",
        "                else:\n",
        "                    prev.pointer = node.pointer\n",
        "            else:\n",
        "                print(\"값 {0}에 해당하는 노드가 없습니다.\".format(value))\n",
        "\n",
        "\n",
        "if __name__ == \"__main__\":\n",
        "    ll = LinkedListFIFO()\n",
        "    for i in range(1, 5):\n",
        "        ll.addNode(i)\n",
        "    print(\"연결 리스트 출력:\")\n",
        "    ll._printList()\n",
        "    print(\"인덱스가 2인 노드 삭제 후, 연결 리스트 출력:\")\n",
        "    ll.deleteNode(2)\n",
        "    ll._printList()\n",
        "    print(\"값이 15인 노드 추가 후, 연결 리스트 출력:\")\n",
        "    ll.addNode(15)\n",
        "    ll._printList()\n",
        "    print(\"모든 노드 모두 삭제 후, 연결 리스트 출력:\")\n",
        "    for i in range(ll.length-1, -1, -1):\n",
        "        ll.deleteNode(i)\n",
        "    ll._printList()"
      ],
      "execution_count": 13,
      "outputs": [
        {
          "output_type": "stream",
          "text": [
            "연결 리스트 출력:\n",
            "1 2 3 4 \n",
            "인덱스가 2인 노드 삭제 후, 연결 리스트 출력:\n",
            "1 2 4 \n",
            "값이 15인 노드 추가 후, 연결 리스트 출력:\n",
            "1 2 4 15 \n",
            "모든 노드 모두 삭제 후, 연결 리스트 출력:\n",
            "연결 리스트가 비었습니다.\n",
            "\n"
          ],
          "name": "stdout"
        }
      ]
    },
    {
      "cell_type": "markdown",
      "metadata": {
        "id": "IHBLQl9K7Wx5"
      },
      "source": [
        "# 해시 테이블"
      ]
    },
    {
      "cell_type": "code",
      "metadata": {
        "id": "vVROQ6cLmsg2",
        "outputId": "994ef748-a4e7-433c-a3b0-c79a264d8c31",
        "colab": {
          "base_uri": "https://localhost:8080/"
        }
      },
      "source": [
        "class HashTableLL(object):\n",
        "    def __init__(self, size):\n",
        "        self.size = size\n",
        "        self.slots = []\n",
        "        self._createHashTable()\n",
        "\n",
        "    def _createHashTable(self):\n",
        "        for i in range(self.size):\n",
        "            self.slots.append(LinkedListFIFO())\n",
        "\n",
        "    def _find(self, item):\n",
        "        return item % self.size\n",
        "\n",
        "    def _add(self, item):\n",
        "        index = self._find(item)\n",
        "        self.slots[index].addNode(item)\n",
        "\n",
        "    def _delete(self, item):\n",
        "        index = self._find(item)\n",
        "        self.slots[index].deleteNodeByValue(item)\n",
        "\n",
        "    def _print(self):\n",
        "        for i in range(self.size):\n",
        "            print(\"슬롯(slot) {0}:\".format(i))\n",
        "            self.slots[i]._printList()\n",
        "\n",
        "\n",
        "def test_hash_tables():\n",
        "    H1 = HashTableLL(3)\n",
        "    for i in range(0, 20):\n",
        "        H1._add(i)\n",
        "    H1._print()\n",
        "    print(\"\\n항목 0, 1, 2를 삭제합니다.\")\n",
        "    H1._delete(0)\n",
        "    H1._delete(1)\n",
        "    H1._delete(2)\n",
        "    H1._print()\n",
        "\n",
        "\n",
        "if __name__ == \"__main__\":\n",
        "    test_hash_tables()"
      ],
      "execution_count": 15,
      "outputs": [
        {
          "output_type": "stream",
          "text": [
            "슬롯(slot) 0:\n",
            "0 3 6 9 12 15 18 \n",
            "슬롯(slot) 1:\n",
            "1 4 7 10 13 16 19 \n",
            "슬롯(slot) 2:\n",
            "2 5 8 11 14 17 \n",
            "\n",
            "항목 0, 1, 2를 삭제합니다.\n",
            "슬롯(slot) 0:\n",
            "3 6 9 12 15 18 \n",
            "슬롯(slot) 1:\n",
            "4 7 10 13 16 19 \n",
            "슬롯(slot) 2:\n",
            "5 8 11 14 17 \n"
          ],
          "name": "stdout"
        }
      ]
    },
    {
      "cell_type": "markdown",
      "metadata": {
        "id": "k8WUdy8n7XUl"
      },
      "source": [
        "# 연습문제"
      ]
    }
  ]
}