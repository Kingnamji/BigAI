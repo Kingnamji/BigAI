{
  "nbformat": 4,
  "nbformat_minor": 0,
  "metadata": {
    "colab": {
      "name": "03_data_structure_and_algorithm",
      "provenance": []
    },
    "kernelspec": {
      "name": "python3",
      "display_name": "Python 3"
    }
  },
  "cells": [
    {
      "cell_type": "markdown",
      "metadata": {
        "id": "76h3YsDTpfB9"
      },
      "source": [
        "컬렉션 자료구조는 시퀀스 자료구조와 달리, 데이터를 서로 연관시키지 않고 모아두는 컨테이너다.\n",
        "다음과 같은 속성을 가진다.\n",
        "- 멤버십 연산자 : in\n",
        "- 크기 함수 : len(seq)\n",
        "- 반복성 : 반복문의 데이터를 순회한다.\n",
        "\n",
        "파이썬의 내장 컬렉션 데이터 타입에는 셋과 딕셔너리가 있다."
      ]
    },
    {
      "cell_type": "markdown",
      "metadata": {
        "id": "8dpYO2aht2Wh"
      },
      "source": [
        "# 셋"
      ]
    },
    {
      "cell_type": "markdown",
      "metadata": {
        "id": "aCiS-CSzpdrE"
      },
      "source": [
        "셋은 반복 가능하고, 가변적이며, 중복 요소가 없고, 정렬되지 않은 컬렉션 데이터 타입이다.\n",
        "\n",
        "인덱스 연산은 할 수 없다. 셋은 멤버십 테스트 및 중복 항목 제거에 사용된다. 셋의 삽입 시간복잡도는 O(1)이고, 합집합의 시간복잡도는 O(m+n)이다. 교집합의경우 두 셋 중에서 더 작은 셋에 대해서만 계산하면 되므로, 시간복잡도는 O(n)이다."
      ]
    },
    {
      "cell_type": "code",
      "metadata": {
        "colab": {
          "base_uri": "https://localhost:8080/"
        },
        "id": "kw30x_-gyXFm",
        "outputId": "1ae16c7c-8234-4e37-c0a6-3641463725a9"
      },
      "source": [
        "# 프로즌 셋은 셋과 달리 불변 객체이다.\n",
        "fs = frozenset((0, 1, 2, 3, 4))\n",
        "print(2 in fs)\n",
        "print(len(fs))"
      ],
      "execution_count": null,
      "outputs": [
        {
          "output_type": "stream",
          "text": [
            "True\n",
            "5\n"
          ],
          "name": "stdout"
        }
      ]
    },
    {
      "cell_type": "code",
      "metadata": {
        "colab": {
          "base_uri": "https://localhost:8080/"
        },
        "id": "0xjxUF86ypYT",
        "outputId": "96537281-096e-4849-d4c0-71b739539366"
      },
      "source": [
        "# add\n",
        "people = {\"버피\", \"에인절\", \"자일스\"}\n",
        "print(people)\n",
        "people.add(\"윌로\")\n",
        "print(people)"
      ],
      "execution_count": null,
      "outputs": [
        {
          "output_type": "stream",
          "text": [
            "{'버피', '자일스', '에인절'}\n",
            "{'버피', '윌로', '자일스', '에인절'}\n"
          ],
          "name": "stdout"
        }
      ]
    },
    {
      "cell_type": "code",
      "metadata": {
        "colab": {
          "base_uri": "https://localhost:8080/"
        },
        "id": "0MM1NTQyzqd3",
        "outputId": "aa5bb2e2-8441-4c57-e5fc-c54378ff05b0"
      },
      "source": [
        "# update() 와 |=연산자\n",
        "people = {\"버피\", \"에인절\", \"자일스\"}\n",
        "people.update({\"로미오\", \"줄리엣\", \"에인절\"})\n",
        "print(people)\n",
        "people |= {\"리키\", \"유진\"}\n",
        "print(people)"
      ],
      "execution_count": null,
      "outputs": [
        {
          "output_type": "stream",
          "text": [
            "{'줄리엣', '로미오', '에인절', '버피', '자일스'}\n",
            "{'리키', '줄리엣', '로미오', '에인절', '버피', '자일스', '유진'}\n"
          ],
          "name": "stdout"
        }
      ]
    },
    {
      "cell_type": "code",
      "metadata": {
        "colab": {
          "base_uri": "https://localhost:8080/"
        },
        "id": "cl1AMSKtz2x3",
        "outputId": "872a205b-4383-47c9-854c-9c65eb6a7469"
      },
      "source": [
        "# union()과 |연산자\n",
        "people = {\"버피\", \"에인절\", \"자일스\"}\n",
        "print(people.union({\"로미오\", \"줄리엣\"})) # union은 복사본을 반환한다.\n",
        "print(people) # 따라서 people 자체에 추가는 아니다.\n",
        "# |연산자도 마찬가지\n",
        "print(people|{\"브라이언\"}) \n",
        "print(people)"
      ],
      "execution_count": null,
      "outputs": [
        {
          "output_type": "stream",
          "text": [
            "{'줄리엣', '로미오', '에인절', '버피', '자일스'}\n",
            "{'버피', '자일스', '에인절'}\n",
            "{'버피', '자일스', '에인절', '브라이언'}\n",
            "{'버피', '자일스', '에인절'}\n"
          ],
          "name": "stdout"
        }
      ]
    },
    {
      "cell_type": "code",
      "metadata": {
        "colab": {
          "base_uri": "https://localhost:8080/"
        },
        "id": "9t-k9ADB0ooy",
        "outputId": "1024fc2a-ef8c-48f1-89a6-56cb7a9badb1"
      },
      "source": [
        "# intersection()과 &연산자  ( 교집합 )\n",
        "people = {\"버피\", \"에인절\", \"자일스\", \"이안\"}\n",
        "vampires = {\"에인절\", \"자일스\", \"윌로\"}\n",
        "print(people.intersection(vampires)) # union()과 마찬가지로 복사본을 반환\n",
        "print(people & vampires)\n",
        "print(people)"
      ],
      "execution_count": null,
      "outputs": [
        {
          "output_type": "stream",
          "text": [
            "{'자일스', '에인절'}\n",
            "{'자일스', '에인절'}\n",
            "{'버피', '이안', '자일스', '에인절'}\n"
          ],
          "name": "stdout"
        }
      ]
    },
    {
      "cell_type": "code",
      "metadata": {
        "colab": {
          "base_uri": "https://localhost:8080/"
        },
        "id": "ZkyQCeoB0-lA",
        "outputId": "407ea0cf-1dde-4be7-fd48-e06c2ace165a"
      },
      "source": [
        "# difference()와 - 연산자\n",
        "people = {\"버피\", \"에인절\", \"자일스\", \"아영\"}\n",
        "vampires = {\"스파이크\", \"에인절\", \"상민\"}\n",
        "print(people.difference(vampires)) # 차집합의 복사본을 반환\n",
        "print(people - vampires)"
      ],
      "execution_count": null,
      "outputs": [
        {
          "output_type": "stream",
          "text": [
            "{'버피', '자일스', '아영'}\n",
            "{'버피', '자일스', '아영'}\n"
          ],
          "name": "stdout"
        }
      ]
    },
    {
      "cell_type": "code",
      "metadata": {
        "colab": {
          "base_uri": "https://localhost:8080/"
        },
        "id": "IgOR1qlE1RMy",
        "outputId": "c7ac2c77-ecdf-4790-fad9-5560f658a19e"
      },
      "source": [
        "# clear()\n",
        "people={\"버피\", \"자일스\", \"에인절\"}\n",
        "people.clear() # 모든 항목을 제거한다.\n",
        "print(people)"
      ],
      "execution_count": null,
      "outputs": [
        {
          "output_type": "stream",
          "text": [
            "set()\n"
          ],
          "name": "stdout"
        }
      ]
    },
    {
      "cell_type": "markdown",
      "metadata": {
        "id": "1jYLKwQj3H4V"
      },
      "source": [
        "discard(x)는 셋의 항목 x을 제거하며 반환값은 없다.\n",
        "\n",
        "remove(x)는 같으나, 항목 x가 없는 경우 KeyError예외를 발생시킨다.\n",
        "\n",
        "pop()은 셋에서 한 항목을 무작위로 제거하고, 그 항목을 반환한다. 셋이 비어있으면 KeyError예외를 발생시킨다."
      ]
    },
    {
      "cell_type": "code",
      "metadata": {
        "colab": {
          "base_uri": "https://localhost:8080/"
        },
        "id": "0KvONe2L1fB7",
        "outputId": "510df64b-2e20-496c-b1c9-4c21e47c3d83"
      },
      "source": [
        "# discard(), remove(), pop()\n",
        "countries = {\"프랑스\", \"스페인\", \"영국\"}\n",
        "print(countries.discard(\"한국\")) # None\n",
        "# print(countries.remove(\"일본\")) 에러가 난다\n",
        "print(countries.pop())\n",
        "print(countries)"
      ],
      "execution_count": null,
      "outputs": [
        {
          "output_type": "stream",
          "text": [
            "None\n",
            "스페인\n",
            "{'영국', '프랑스'}\n"
          ],
          "name": "stdout"
        }
      ]
    },
    {
      "cell_type": "code",
      "metadata": {
        "colab": {
          "base_uri": "https://localhost:8080/",
          "height": 52
        },
        "id": "EB9P5nsb5V2n",
        "outputId": "63e6432c-0102-4843-807c-2969d432d173"
      },
      "source": [
        "#print(countries.remove(\"영국\"))\n",
        "print(countries)\n",
        "countries.pop()"
      ],
      "execution_count": null,
      "outputs": [
        {
          "output_type": "stream",
          "text": [
            "{'프랑스'}\n"
          ],
          "name": "stdout"
        },
        {
          "output_type": "execute_result",
          "data": {
            "application/vnd.google.colaboratory.intrinsic+json": {
              "type": "string"
            },
            "text/plain": [
              "'프랑스'"
            ]
          },
          "metadata": {
            "tags": []
          },
          "execution_count": 24
        }
      ]
    },
    {
      "cell_type": "code",
      "metadata": {
        "id": "AgZ4heGV5mJq"
      },
      "source": [
        ""
      ],
      "execution_count": null,
      "outputs": []
    }
  ]
}