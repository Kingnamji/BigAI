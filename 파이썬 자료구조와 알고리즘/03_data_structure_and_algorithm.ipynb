{
  "nbformat": 4,
  "nbformat_minor": 0,
  "metadata": {
    "colab": {
      "name": "03_data_structure_and_algorithm",
      "provenance": [],
      "toc_visible": true
    },
    "kernelspec": {
      "name": "python3",
      "display_name": "Python 3"
    }
  },
  "cells": [
    {
      "cell_type": "markdown",
      "metadata": {
        "id": "76h3YsDTpfB9"
      },
      "source": [
        "컬렉션 자료구조는 시퀀스 자료구조와 달리, 데이터를 서로 연관시키지 않고 모아두는 컨테이너다.\n",
        "다음과 같은 속성을 가진다.\n",
        "- 멤버십 연산자 : in\n",
        "- 크기 함수 : len(seq)\n",
        "- 반복성 : 반복문의 데이터를 순회한다.\n",
        "\n",
        "파이썬의 내장 컬렉션 데이터 타입에는 셋과 딕셔너리가 있다."
      ]
    },
    {
      "cell_type": "markdown",
      "metadata": {
        "id": "8dpYO2aht2Wh"
      },
      "source": [
        "# 셋"
      ]
    },
    {
      "cell_type": "markdown",
      "metadata": {
        "id": "aCiS-CSzpdrE"
      },
      "source": [
        "셋은 반복 가능하고, 가변적이며, 중복 요소가 없고, 정렬되지 않은 컬렉션 데이터 타입이다.\n",
        "\n",
        "인덱스 연산은 할 수 없다. 셋은 멤버십 테스트 및 중복 항목 제거에 사용된다. 셋의 삽입 시간복잡도는 O(1)이고, 합집합의 시간복잡도는 O(m+n)이다. 교집합의경우 두 셋 중에서 더 작은 셋에 대해서만 계산하면 되므로, 시간복잡도는 O(n)이다."
      ]
    },
    {
      "cell_type": "code",
      "metadata": {
        "colab": {
          "base_uri": "https://localhost:8080/"
        },
        "id": "kw30x_-gyXFm",
        "outputId": "1ae16c7c-8234-4e37-c0a6-3641463725a9"
      },
      "source": [
        "# 프로즌 셋은 셋과 달리 불변 객체이다.\n",
        "fs = frozenset((0, 1, 2, 3, 4))\n",
        "print(2 in fs)\n",
        "print(len(fs))"
      ],
      "execution_count": null,
      "outputs": [
        {
          "output_type": "stream",
          "text": [
            "True\n",
            "5\n"
          ],
          "name": "stdout"
        }
      ]
    },
    {
      "cell_type": "code",
      "metadata": {
        "colab": {
          "base_uri": "https://localhost:8080/"
        },
        "id": "0xjxUF86ypYT",
        "outputId": "96537281-096e-4849-d4c0-71b739539366"
      },
      "source": [
        "# add\n",
        "people = {\"버피\", \"에인절\", \"자일스\"}\n",
        "print(people)\n",
        "people.add(\"윌로\")\n",
        "print(people)"
      ],
      "execution_count": null,
      "outputs": [
        {
          "output_type": "stream",
          "text": [
            "{'버피', '자일스', '에인절'}\n",
            "{'버피', '윌로', '자일스', '에인절'}\n"
          ],
          "name": "stdout"
        }
      ]
    },
    {
      "cell_type": "code",
      "metadata": {
        "colab": {
          "base_uri": "https://localhost:8080/"
        },
        "id": "0MM1NTQyzqd3",
        "outputId": "aa5bb2e2-8441-4c57-e5fc-c54378ff05b0"
      },
      "source": [
        "# update() 와 |=연산자\n",
        "people = {\"버피\", \"에인절\", \"자일스\"}\n",
        "people.update({\"로미오\", \"줄리엣\", \"에인절\"})\n",
        "print(people)\n",
        "people |= {\"리키\", \"유진\"}\n",
        "print(people)"
      ],
      "execution_count": null,
      "outputs": [
        {
          "output_type": "stream",
          "text": [
            "{'줄리엣', '로미오', '에인절', '버피', '자일스'}\n",
            "{'리키', '줄리엣', '로미오', '에인절', '버피', '자일스', '유진'}\n"
          ],
          "name": "stdout"
        }
      ]
    },
    {
      "cell_type": "code",
      "metadata": {
        "colab": {
          "base_uri": "https://localhost:8080/"
        },
        "id": "cl1AMSKtz2x3",
        "outputId": "872a205b-4383-47c9-854c-9c65eb6a7469"
      },
      "source": [
        "# union()과 |연산자\n",
        "people = {\"버피\", \"에인절\", \"자일스\"}\n",
        "print(people.union({\"로미오\", \"줄리엣\"})) # union은 복사본을 반환한다.\n",
        "print(people) # 따라서 people 자체에 추가는 아니다.\n",
        "# |연산자도 마찬가지\n",
        "print(people|{\"브라이언\"}) \n",
        "print(people)"
      ],
      "execution_count": null,
      "outputs": [
        {
          "output_type": "stream",
          "text": [
            "{'줄리엣', '로미오', '에인절', '버피', '자일스'}\n",
            "{'버피', '자일스', '에인절'}\n",
            "{'버피', '자일스', '에인절', '브라이언'}\n",
            "{'버피', '자일스', '에인절'}\n"
          ],
          "name": "stdout"
        }
      ]
    },
    {
      "cell_type": "code",
      "metadata": {
        "colab": {
          "base_uri": "https://localhost:8080/"
        },
        "id": "9t-k9ADB0ooy",
        "outputId": "1024fc2a-ef8c-48f1-89a6-56cb7a9badb1"
      },
      "source": [
        "# intersection()과 &연산자  ( 교집합 )\n",
        "people = {\"버피\", \"에인절\", \"자일스\", \"이안\"}\n",
        "vampires = {\"에인절\", \"자일스\", \"윌로\"}\n",
        "print(people.intersection(vampires)) # union()과 마찬가지로 복사본을 반환\n",
        "print(people & vampires)\n",
        "print(people)"
      ],
      "execution_count": null,
      "outputs": [
        {
          "output_type": "stream",
          "text": [
            "{'자일스', '에인절'}\n",
            "{'자일스', '에인절'}\n",
            "{'버피', '이안', '자일스', '에인절'}\n"
          ],
          "name": "stdout"
        }
      ]
    },
    {
      "cell_type": "code",
      "metadata": {
        "colab": {
          "base_uri": "https://localhost:8080/"
        },
        "id": "ZkyQCeoB0-lA",
        "outputId": "407ea0cf-1dde-4be7-fd48-e06c2ace165a"
      },
      "source": [
        "# difference()와 - 연산자\n",
        "people = {\"버피\", \"에인절\", \"자일스\", \"아영\"}\n",
        "vampires = {\"스파이크\", \"에인절\", \"상민\"}\n",
        "print(people.difference(vampires)) # 차집합의 복사본을 반환\n",
        "print(people - vampires)"
      ],
      "execution_count": null,
      "outputs": [
        {
          "output_type": "stream",
          "text": [
            "{'버피', '자일스', '아영'}\n",
            "{'버피', '자일스', '아영'}\n"
          ],
          "name": "stdout"
        }
      ]
    },
    {
      "cell_type": "code",
      "metadata": {
        "colab": {
          "base_uri": "https://localhost:8080/"
        },
        "id": "IgOR1qlE1RMy",
        "outputId": "c7ac2c77-ecdf-4790-fad9-5560f658a19e"
      },
      "source": [
        "# clear()\n",
        "people={\"버피\", \"자일스\", \"에인절\"}\n",
        "people.clear() # 모든 항목을 제거한다.\n",
        "print(people)"
      ],
      "execution_count": null,
      "outputs": [
        {
          "output_type": "stream",
          "text": [
            "set()\n"
          ],
          "name": "stdout"
        }
      ]
    },
    {
      "cell_type": "markdown",
      "metadata": {
        "id": "1jYLKwQj3H4V"
      },
      "source": [
        "discard(x)는 셋의 항목 x을 제거하며 반환값은 없다.\n",
        "\n",
        "remove(x)는 같으나, 항목 x가 없는 경우 KeyError예외를 발생시킨다.\n",
        "\n",
        "pop()은 셋에서 한 항목을 무작위로 제거하고, 그 항목을 반환한다. 셋이 비어있으면 KeyError예외를 발생시킨다."
      ]
    },
    {
      "cell_type": "code",
      "metadata": {
        "colab": {
          "base_uri": "https://localhost:8080/"
        },
        "id": "0KvONe2L1fB7",
        "outputId": "510df64b-2e20-496c-b1c9-4c21e47c3d83"
      },
      "source": [
        "# discard(), remove(), pop()\n",
        "countries = {\"프랑스\", \"스페인\", \"영국\"}\n",
        "print(countries.discard(\"한국\")) # None\n",
        "# print(countries.remove(\"일본\")) 에러가 난다\n",
        "print(countries.pop())\n",
        "print(countries)"
      ],
      "execution_count": null,
      "outputs": [
        {
          "output_type": "stream",
          "text": [
            "None\n",
            "스페인\n",
            "{'영국', '프랑스'}\n"
          ],
          "name": "stdout"
        }
      ]
    },
    {
      "cell_type": "code",
      "metadata": {
        "colab": {
          "base_uri": "https://localhost:8080/",
          "height": 52
        },
        "id": "EB9P5nsb5V2n",
        "outputId": "63e6432c-0102-4843-807c-2969d432d173"
      },
      "source": [
        "#print(countries.remove(\"영국\"))\n",
        "print(countries)\n",
        "countries.pop()"
      ],
      "execution_count": null,
      "outputs": [
        {
          "output_type": "stream",
          "text": [
            "{'프랑스'}\n"
          ],
          "name": "stdout"
        },
        {
          "output_type": "execute_result",
          "data": {
            "application/vnd.google.colaboratory.intrinsic+json": {
              "type": "string"
            },
            "text/plain": [
              "'프랑스'"
            ]
          },
          "metadata": {
            "tags": []
          },
          "execution_count": 24
        }
      ]
    },
    {
      "cell_type": "code",
      "metadata": {
        "id": "AgZ4heGV5mJq",
        "colab": {
          "base_uri": "https://localhost:8080/"
        },
        "outputId": "20a252db-9758-4ff8-9346-97df81511388"
      },
      "source": [
        "# 리스트를 셋으로 캐스팅(casting)해서 사용하기\n",
        "def remove_dup(l1):\n",
        "    \"\"\" 리스트의 중복된 항목을 제거한 후 반환한다. \"\"\"\n",
        "    return list(set(l1))\n",
        "\n",
        "\n",
        "def intersection(l1, l2):\n",
        "    \"\"\" 교집합 결과를 반환한다. \"\"\"\n",
        "    return list(set(l1) & set(l2))\n",
        "\n",
        "\n",
        "def union(l1, l2):\n",
        "    \"\"\" 합집합 결과를 반환한다. \"\"\"\n",
        "    return list(set(l1) | set(l2))\n",
        "\n",
        "\n",
        "def test_sets_operations_with_lists():\n",
        "    l1 = [1, 2, 3, 4, 5, 5, 9, 11, 11, 15]\n",
        "    l2 = [4, 5, 6, 7, 8]\n",
        "    l3 = []\n",
        "    assert(remove_dup(l1) == [1, 2, 3, 4, 5, 9, 11, 15])\n",
        "    assert(intersection(l1, l2) == [4, 5])\n",
        "    assert(union(l1, l2) == [1, 2, 3, 4, 5, 6, 7, 8, 9, 11, 15])\n",
        "    assert(remove_dup(l3) == [])\n",
        "    assert(intersection(l3, l2) == l3)\n",
        "    assert(sorted(union(l3, l2)) == sorted(l2))\n",
        "    print(\"테스트 통과!\")\n",
        "\n",
        "\n",
        "if __name__ == \"__main__\":\n",
        "    test_sets_operations_with_lists()"
      ],
      "execution_count": null,
      "outputs": [
        {
          "output_type": "stream",
          "text": [
            "테스트 통과!\n"
          ],
          "name": "stdout"
        }
      ]
    },
    {
      "cell_type": "code",
      "metadata": {
        "id": "QvDSaujUWwOZ",
        "colab": {
          "base_uri": "https://localhost:8080/"
        },
        "outputId": "a967c90e-15a8-4c8c-ee42-3d7c11e7c0ff"
      },
      "source": [
        "# 딕셔너리도 셋 속성 사용 가능, 단 items()와 values()에서만.\n",
        "def set_operations_with_dict():\n",
        "    pairs = [(\"a\", 1), (\"b\", 2), (\"c\", 3)]\n",
        "    d1 = dict(pairs)\n",
        "    print(\"딕셔너리1\\t: {0}\".format(d1))\n",
        "\n",
        "    d2 = {\"a\": 1, \"c\": 2, \"d\": 3, \"e\": 4}\n",
        "    print(\"딕셔너리2\\t: {0}\".format(d2))\n",
        "\n",
        "    intersection = d1.keys() & d2.keys()\n",
        "    print(\"d1 ∩ d2 (키)\\t: {0}\".format(intersection))\n",
        "\n",
        "    intersection_items = d1.items() & d2.items()\n",
        "    print(\"d1 ∩ d2 (키,값)\\t: {0}\".format(intersection_items))\n",
        "\n",
        "    subtraction1 = d1.keys() - d2.keys()\n",
        "    print(\"d1 - d2 (키)\\t: {0}\".format(subtraction1))\n",
        "\n",
        "    subtraction2 = d2.keys() - d1.keys()\n",
        "    print(\"d2 - d1 (키)\\t: {0}\".format(subtraction2))\n",
        "\n",
        "    subtraction_items = d1.items() - d2.items()\n",
        "    print(\"d1 - d2 (키,값)\\t: {0}\".format(subtraction_items))\n",
        "\n",
        "    \"\"\" 딕셔너리의 특정 키를 제외한다. \"\"\"\n",
        "    d3 = {key: d2[key] for key in d2.keys() - {\"c\", \"d\"}}\n",
        "    print(\"d2 - {{c, d}}\\t: {0}\".format(d3))\n",
        "\n",
        "\n",
        "if __name__ == \"__main__\":\n",
        "    set_operations_with_dict()"
      ],
      "execution_count": 3,
      "outputs": [
        {
          "output_type": "stream",
          "text": [
            "딕셔너리1\t: {'a': 1, 'b': 2, 'c': 3}\n",
            "딕셔너리2\t: {'a': 1, 'c': 2, 'd': 3, 'e': 4}\n",
            "d1 ∩ d2 (키)\t: {'a', 'c'}\n",
            "d1 ∩ d2 (키,값)\t: {('a', 1)}\n",
            "d1 - d2 (키)\t: {'b'}\n",
            "d2 - d1 (키)\t: {'d', 'e'}\n",
            "d1 - d2 (키,값)\t: {('c', 3), ('b', 2)}\n",
            "d2 - {c, d}\t: {'a': 1, 'e': 4}\n"
          ],
          "name": "stdout"
        }
      ]
    },
    {
      "cell_type": "markdown",
      "metadata": {
        "id": "Qz7iYnRquG8G"
      },
      "source": [
        "# 딕셔너리"
      ]
    },
    {
      "cell_type": "markdown",
      "metadata": {
        "id": "yCwYvxo0uOvX"
      },
      "source": [
        "파이썬 딕셔너리는 해시 테이블로 구현되어 있다.\n",
        "\n",
        "매핑 타입인 딕셔너리는 반복 가능, in과 길이를 구하는 len()함수도 지원"
      ]
    },
    {
      "cell_type": "code",
      "metadata": {
        "colab": {
          "base_uri": "https://localhost:8080/"
        },
        "id": "mjaRQS17uKJE",
        "outputId": "c9d50742-609f-4639-f411-9547b0919156"
      },
      "source": [
        "hash(42)"
      ],
      "execution_count": 4,
      "outputs": [
        {
          "output_type": "execute_result",
          "data": {
            "text/plain": [
              "42"
            ]
          },
          "metadata": {
            "tags": []
          },
          "execution_count": 4
        }
      ]
    },
    {
      "cell_type": "code",
      "metadata": {
        "colab": {
          "base_uri": "https://localhost:8080/"
        },
        "id": "nH8lnXu5uZQ7",
        "outputId": "d749191d-692c-4e90-d92d-3de91874a408"
      },
      "source": [
        "hash(\"hello\")"
      ],
      "execution_count": 5,
      "outputs": [
        {
          "output_type": "execute_result",
          "data": {
            "text/plain": [
              "-4065836263633853492"
            ]
          },
          "metadata": {
            "tags": []
          },
          "execution_count": 5
        }
      ]
    },
    {
      "cell_type": "markdown",
      "metadata": {
        "id": "iqIOB3OoueOW"
      },
      "source": [
        "딕셔너리의 항목은 고유하므로, 항목에 접근하느 시간복잡도는 O(1)이다.\n",
        "\n",
        "딕셔너리는 변경 가능하고, 항목의 추가 및 제거가 가능하다."
      ]
    },
    {
      "cell_type": "code",
      "metadata": {
        "colab": {
          "base_uri": "https://localhost:8080/"
        },
        "id": "EXyNcjWduaij",
        "outputId": "422ee594-265f-4920-9611-c992bf30acf0"
      },
      "source": [
        "tarantino = {}\n",
        "tarantino['name'] = '쿠엔틴 타란티노'\n",
        "tarantino['job'] = '감독'\n",
        "tarantino"
      ],
      "execution_count": 9,
      "outputs": [
        {
          "output_type": "execute_result",
          "data": {
            "text/plain": [
              "{'job': '감독', 'name': '쿠엔틴 타란티노'}"
            ]
          },
          "metadata": {
            "tags": []
          },
          "execution_count": 9
        }
      ]
    },
    {
      "cell_type": "code",
      "metadata": {
        "colab": {
          "base_uri": "https://localhost:8080/"
        },
        "id": "IlSi5m8JussW",
        "outputId": "818837a0-776b-4ac3-c5ea-67d608ea5f7b"
      },
      "source": [
        "sunnydale = dict({\"name\":\"버피\", \"age\":16, \"hobby\":\"게임\"})\n",
        "sunnydale"
      ],
      "execution_count": 10,
      "outputs": [
        {
          "output_type": "execute_result",
          "data": {
            "text/plain": [
              "{'age': 16, 'hobby': '게임', 'name': '버피'}"
            ]
          },
          "metadata": {
            "tags": []
          },
          "execution_count": 10
        }
      ]
    },
    {
      "cell_type": "code",
      "metadata": {
        "colab": {
          "base_uri": "https://localhost:8080/"
        },
        "id": "-dRqNCDMu6T3",
        "outputId": "28743960-79a0-4715-b6e1-202e737a7593"
      },
      "source": [
        "sunnydale = dict(name = \"자일스\", age = 45, hobby=\"영화감상\")\n",
        "sunnydale"
      ],
      "execution_count": 11,
      "outputs": [
        {
          "output_type": "execute_result",
          "data": {
            "text/plain": [
              "{'age': 45, 'hobby': '영화감상', 'name': '자일스'}"
            ]
          },
          "metadata": {
            "tags": []
          },
          "execution_count": 11
        }
      ]
    },
    {
      "cell_type": "code",
      "metadata": {
        "colab": {
          "base_uri": "https://localhost:8080/"
        },
        "id": "WB9d5yWxvCHV",
        "outputId": "3c55fd4e-7bdb-4490-ad6a-464b45e73406"
      },
      "source": [
        "sunnydale = dict([(\"name\",\"윌로\"), (\"age\", 15)])\n",
        "sunnydale"
      ],
      "execution_count": 13,
      "outputs": [
        {
          "output_type": "execute_result",
          "data": {
            "text/plain": [
              "{'age': 15, 'name': '윌로'}"
            ]
          },
          "metadata": {
            "tags": []
          },
          "execution_count": 13
        }
      ]
    },
    {
      "cell_type": "code",
      "metadata": {
        "colab": {
          "base_uri": "https://localhost:8080/"
        },
        "id": "I3Ki05aXA-4d",
        "outputId": "be3b04ef-3d2d-4a3f-85a4-a2352beb6502"
      },
      "source": [
        "# 딕셔너리에 키의 존재 여부를 모른 채 접근할때, setdefault() 메서드 사용\n",
        "def usual_dict(dict_data):\n",
        "    \"\"\" dict[key] 사용 \"\"\"\n",
        "    newdata = {}\n",
        "    for k, v in dict_data:\n",
        "        if k in newdata:\n",
        "            newdata[k].append(v)\n",
        "        else:\n",
        "            newdata[k] = [v]\n",
        "    return newdata\n",
        "\n",
        "\n",
        "def setdefault_dict(dict_data):\n",
        "    \"\"\" setdefault() 메서드 사용 \"\"\"\n",
        "    newdata = {}\n",
        "    for k, v in dict_data:\n",
        "        newdata.setdefault(k, []).append(v)\n",
        "    return newdata\n",
        "\n",
        "\n",
        "def test_setdef():\n",
        "    dict_data = ((\"key1\", \"value1\"),\n",
        "                 (\"key1\", \"value2\"),\n",
        "                 (\"key2\", \"value3\"),\n",
        "                 (\"key2\", \"value4\"),\n",
        "                 (\"key2\", \"value5\"),)\n",
        "    print(usual_dict(dict_data))\n",
        "    print(setdefault_dict(dict_data))\n",
        "\n",
        "\n",
        "if __name__ == \"__main__\":\n",
        "    test_setdef()"
      ],
      "execution_count": 43,
      "outputs": [
        {
          "output_type": "stream",
          "text": [
            "{'key1': ['value1', 'value2'], 'key2': ['value3', 'value4', 'value5']}\n",
            "{'key1': ['value1', 'value2'], 'key2': ['value3', 'value4', 'value5']}\n"
          ],
          "name": "stdout"
        }
      ]
    },
    {
      "cell_type": "code",
      "metadata": {
        "colab": {
          "base_uri": "https://localhost:8080/"
        },
        "id": "fcuyGA1oCMum",
        "outputId": "fbbe6c03-8b36-460d-8851-ee03c076409a"
      },
      "source": [
        "# update()를 통해 딕셔너리의 값 갱신 가능\n",
        "d = {'a':1, 'b':2}\n",
        "d.update({'b':10})\n",
        "print(d)\n",
        "d.update({'c':100})\n",
        "print(d)"
      ],
      "execution_count": 44,
      "outputs": [
        {
          "output_type": "stream",
          "text": [
            "{'a': 1, 'b': 10}\n",
            "{'a': 1, 'b': 10, 'c': 100}\n"
          ],
          "name": "stdout"
        }
      ]
    },
    {
      "cell_type": "code",
      "metadata": {
        "colab": {
          "base_uri": "https://localhost:8080/"
        },
        "id": "G_8QOhJGC8Ta",
        "outputId": "f975d07c-284a-4d98-8631-8f70103cb841"
      },
      "source": [
        "# get(key)은 딕셔너리의 key에 해당하는 value를 반환한다.\n",
        "sunnydale = dict(name='gender', age = 17, hobby='게임')\n",
        "print(sunnydale)\n",
        "print(sunnydale.get('hobby'))"
      ],
      "execution_count": 45,
      "outputs": [
        {
          "output_type": "stream",
          "text": [
            "{'name': 'gender', 'age': 17, 'hobby': '게임'}\n",
            "게임\n"
          ],
          "name": "stdout"
        }
      ]
    },
    {
      "cell_type": "code",
      "metadata": {
        "colab": {
          "base_uri": "https://localhost:8080/"
        },
        "id": "MCnRNfJxNpeu",
        "outputId": "099f8015-222c-45d7-eabb-a33835da53e0"
      },
      "source": [
        "# items(), values(), keys() 메서드는 딕셔너리 view다. 딕셔너리 view란 딕셔너리의 항목(키 또는 값)을\n",
        "# 조회하는 '읽기 전용'의 반복 가능한 객체다.\n",
        "\n",
        "sunnydale = dict(name='젠더', age=17, hobby='게임')\n",
        "print(sunnydale.items())\n",
        "print(sunnydale.values())\n",
        "print(sunnydale.keys())"
      ],
      "execution_count": 49,
      "outputs": [
        {
          "output_type": "stream",
          "text": [
            "dict_items([('name', '젠더'), ('age', 17), ('hobby', '게임')])\n",
            "dict_values(['젠더', 17, '게임'])\n",
            "dict_keys(['name', 'age', 'hobby'])\n"
          ],
          "name": "stdout"
        }
      ]
    },
    {
      "cell_type": "code",
      "metadata": {
        "colab": {
          "base_uri": "https://localhost:8080/"
        },
        "id": "3E42qbRqOZ5t",
        "outputId": "268bc1de-75a4-4f37-fc08-1e26604a6c7c"
      },
      "source": [
        "sunnydale_copy = sunnydale.items()\n",
        "print(sunnydale_copy)\n",
        "print(type(sunnydale_copy)) # 딕셔너리가 아닌 dict_items\n",
        "# sunnydale_copy['address'] = \"서울\" 같은 방식으로 추가되는게 아니다.\n",
        "# 읽기 전용이라는 점에 유의 "
      ],
      "execution_count": 51,
      "outputs": [
        {
          "output_type": "stream",
          "text": [
            "dict_items([('name', '젠더'), ('age', 17), ('hobby', '게임')])\n",
            "<class 'dict_items'>\n"
          ],
          "name": "stdout"
        }
      ]
    },
    {
      "cell_type": "code",
      "metadata": {
        "colab": {
          "base_uri": "https://localhost:8080/"
        },
        "id": "xluoVNumO0KA",
        "outputId": "e550c7df-ccf8-49d7-af2b-dd69978b821a"
      },
      "source": [
        "# pop(), popitem()\n",
        "sunnydale = dict(name = '젠더', age = 17, hobby = \"게임\", address=\"서울\")\n",
        "print(sunnydale.pop('age')) # age에 해당하는 key값을 지운 후 value를 반환\n",
        "print(sunnydale)\n",
        "print(sunnydale.popitem()) # 키와 값을 제거한 후, 그 키와 항목을 반환\n",
        "print(sunnydale)"
      ],
      "execution_count": 55,
      "outputs": [
        {
          "output_type": "stream",
          "text": [
            "17\n",
            "{'name': '젠더', 'hobby': '게임', 'address': '서울'}\n",
            "('address', '서울')\n",
            "{'name': '젠더', 'hobby': '게임'}\n"
          ],
          "name": "stdout"
        }
      ]
    },
    {
      "cell_type": "code",
      "metadata": {
        "colab": {
          "base_uri": "https://localhost:8080/"
        },
        "id": "nBvreDtPP6af",
        "outputId": "2f0098c7-9035-4a99-98fa-25663a161b74"
      },
      "source": [
        "# 딕셔너리 성능 측정\n",
        "import timeit\n",
        "import random\n",
        "\n",
        "for i in range(10000, 1000001, 20000):\n",
        "    t = timeit.Timer(\"random.randrange(%d) in x\" % i,\n",
        "                     \"from __main__ import random, x\")\n",
        "    x = list(range(i))  # 리스트\n",
        "    # 멤버십 연산에 대한 시간복잡도는 O(n)\n",
        "    lst_time = t.timeit(number=1000)\n",
        "    x = {j: None for j in range(i)}  # 딕셔너리\n",
        "    # 멤버십 연산에 대한 시간복잡도는 O(1)\n",
        "    d_time = t.timeit(number=1000)\n",
        "    print(\"%d,%10.3f,%10.3f\" % (i, lst_time, d_time))"
      ],
      "execution_count": 56,
      "outputs": [
        {
          "output_type": "stream",
          "text": [
            "10000,     0.079,     0.001\n",
            "30000,     0.232,     0.001\n",
            "50000,     0.393,     0.001\n",
            "70000,     0.539,     0.001\n",
            "90000,     0.743,     0.001\n",
            "110000,     0.834,     0.001\n",
            "130000,     1.031,     0.001\n",
            "150000,     1.193,     0.001\n",
            "170000,     1.313,     0.001\n",
            "190000,     1.523,     0.001\n",
            "210000,     1.597,     0.001\n",
            "230000,     1.804,     0.001\n",
            "250000,     1.916,     0.001\n",
            "270000,     2.146,     0.001\n",
            "290000,     2.246,     0.001\n",
            "310000,     2.470,     0.001\n",
            "330000,     2.581,     0.001\n",
            "350000,     2.601,     0.001\n",
            "370000,     2.912,     0.001\n",
            "390000,     3.015,     0.001\n",
            "410000,     3.113,     0.001\n",
            "430000,     3.424,     0.001\n",
            "450000,     3.474,     0.001\n",
            "470000,     3.614,     0.001\n",
            "490000,     3.838,     0.001\n",
            "510000,     3.906,     0.001\n",
            "530000,     4.118,     0.001\n",
            "550000,     4.238,     0.001\n",
            "570000,     4.485,     0.001\n",
            "590000,     4.648,     0.001\n",
            "610000,     4.665,     0.001\n",
            "630000,     4.800,     0.001\n",
            "650000,     5.057,     0.001\n",
            "670000,     5.190,     0.001\n",
            "690000,     5.477,     0.001\n",
            "710000,     5.461,     0.001\n",
            "730000,     5.727,     0.001\n",
            "750000,     5.794,     0.001\n",
            "770000,     6.123,     0.001\n",
            "790000,     6.244,     0.001\n",
            "810000,     6.471,     0.001\n",
            "830000,     6.641,     0.001\n",
            "850000,     6.745,     0.001\n",
            "870000,     6.794,     0.001\n",
            "890000,     7.017,     0.001\n",
            "910000,     7.035,     0.001\n",
            "930000,     7.217,     0.001\n",
            "950000,     7.452,     0.001\n",
            "970000,     7.407,     0.001\n",
            "990000,     7.872,     0.001\n"
          ],
          "name": "stdout"
        }
      ]
    },
    {
      "cell_type": "code",
      "metadata": {
        "colab": {
          "base_uri": "https://localhost:8080/"
        },
        "id": "iMUBVZOoR0ih",
        "outputId": "83949996-f3e7-4350-80ca-3f28d51f6c2d"
      },
      "source": [
        "d = dict(c=\"!\", b =\"world\", a=\"hello\")\n",
        "for key in sorted(d.keys()):\n",
        "    print(key, d[key])"
      ],
      "execution_count": 57,
      "outputs": [
        {
          "output_type": "stream",
          "text": [
            "a hello\n",
            "b world\n",
            "c !\n"
          ],
          "name": "stdout"
        }
      ]
    },
    {
      "cell_type": "code",
      "metadata": {
        "colab": {
          "base_uri": "https://localhost:8080/"
        },
        "id": "gepU7AeVVwiy",
        "outputId": "8ff9a4a1-d009-446d-bae7-cf28c3c057e8"
      },
      "source": [
        "# 딕셔너리 분기\n",
        "def hello():\n",
        "    print(\"hello\")\n",
        "\n",
        "def world():\n",
        "    print(\"world\")\n",
        "\n",
        "action = \"h\"\n",
        "\n",
        "if action == \"h\":\n",
        "    hello()\n",
        "elif action == \"W\":\n",
        "    world()"
      ],
      "execution_count": 58,
      "outputs": [
        {
          "output_type": "stream",
          "text": [
            "hello\n"
          ],
          "name": "stdout"
        }
      ]
    },
    {
      "cell_type": "code",
      "metadata": {
        "colab": {
          "base_uri": "https://localhost:8080/"
        },
        "id": "xLk2tdGDWERO",
        "outputId": "f91c52ee-1760-4524-ba4a-ede5f47230ca"
      },
      "source": [
        "functions = dict(h=hello, w = world)\n",
        "functions[action]()"
      ],
      "execution_count": 60,
      "outputs": [
        {
          "output_type": "stream",
          "text": [
            "hello\n"
          ],
          "name": "stdout"
        }
      ]
    },
    {
      "cell_type": "markdown",
      "metadata": {
        "id": "QNqaXLOzYuxE"
      },
      "source": [
        "# 컬렉션 데이터 타입"
      ]
    },
    {
      "cell_type": "markdown",
      "metadata": {
        "id": "Z3lzdS22YzFR"
      },
      "source": [
        "collections 라이브러리는 다양한 dictionary 타입을 제공한다."
      ]
    },
    {
      "cell_type": "code",
      "metadata": {
        "colab": {
          "base_uri": "https://localhost:8080/"
        },
        "id": "w6j9lLaEY4Uq",
        "outputId": "ecc70b8f-1418-4178-ea6a-dd624318ee18"
      },
      "source": [
        "# default dictionary , 기본 딕셔너리 기능 + 누락된 값 처리 가능\n",
        "from collections import defaultdict\n",
        "\n",
        "def defaultdict_example():\n",
        "    pairs ={(\"a\",1),(\"b\", 2), (\"c\",3)}\n",
        "\n",
        "    # 일반 딕셔너리\n",
        "    d1 = {}\n",
        "    for key, value in pairs:\n",
        "        if key not in d1:\n",
        "            d1[key] = [] #d1[key] 는 list 형태로 바뀌고\n",
        "        d1[key].append(value) # append 사용가능\n",
        "    print(d1)\n",
        "\n",
        "    #defaultdict\n",
        "    d2 = defaultdict(list)\n",
        "    for key, value in pairs:\n",
        "        d2[key].append(value) # list를 defaultdict로 캐스팅해서 바로 append사용 가능\n",
        "    print(d2)\n",
        "\n",
        "if __name__ == \"__main__\":\n",
        "    defaultdict_example()"
      ],
      "execution_count": 1,
      "outputs": [
        {
          "output_type": "stream",
          "text": [
            "{'c': [3], 'b': [2], 'a': [1]}\n",
            "defaultdict(<class 'list'>, {'c': [3], 'b': [2], 'a': [1]})\n"
          ],
          "name": "stdout"
        }
      ]
    },
    {
      "cell_type": "code",
      "metadata": {
        "colab": {
          "base_uri": "https://localhost:8080/"
        },
        "id": "YXaPUJ4blKxf",
        "outputId": "6d76b9fd-8174-419b-b502-c3becf61ba58"
      },
      "source": [
        "# OrderedDict, 정렬된 딕셔너리\n",
        "from collections import OrderedDict\n",
        "\n",
        "\n",
        "def orderedDict_example():\n",
        "    pairs = [(\"c\", 1), (\"b\", 2), (\"a\", 3)]\n",
        "\n",
        "    # 일반 딕셔너리\n",
        "    d1 = {}\n",
        "    for key, value in pairs:\n",
        "        if key not in d1:\n",
        "            d1[key] = []\n",
        "        d1[key].append(value)\n",
        "    for key in d1:\n",
        "        print(key, d1[key])\n",
        "\n",
        "    # OrderedDict\n",
        "    d2 = OrderedDict(pairs)\n",
        "    for key in d2:\n",
        "        print(key, d2[key])\n",
        "\n",
        "\n",
        "if __name__ == \"__main__\":\n",
        "    orderedDict_example()"
      ],
      "execution_count": 26,
      "outputs": [
        {
          "output_type": "stream",
          "text": [
            "c [1]\n",
            "b [2]\n",
            "a [3]\n",
            "c 1\n",
            "b 2\n",
            "a 3\n"
          ],
          "name": "stdout"
        }
      ]
    },
    {
      "cell_type": "code",
      "metadata": {
        "colab": {
          "base_uri": "https://localhost:8080/"
        },
        "id": "RVfHW2FDl8ks",
        "outputId": "cb0ea631-26f0-48d9-efcd-ab2589311b84"
      },
      "source": [
        "# 카운터 딕셔너리, Counter 타입은 hashable한 객체를 카운팅하는 서브클래스다.\n",
        "from collections import Counter\n",
        "\n",
        "\n",
        "def counter_example():\n",
        "    \"\"\" 항목의 발생 횟수를 매핑하는 딕셔너리를 생성한다. \"\"\"\n",
        "    seq1 = [1, 2, 3, 5, 1, 2, 5, 5, 2, 5, 1, 4]\n",
        "    seq_counts = Counter(seq1)\n",
        "    print(seq_counts)\n",
        "\n",
        "    \"\"\" 항목의 발생 횟수를 수동으로 갱신하거나, update() 메서드를 사용할 수 있다. \"\"\"\n",
        "    seq2 = [1, 2, 3]\n",
        "    seq_counts.update(seq2)\n",
        "    print(seq_counts)\n",
        "\n",
        "    seq3 = [1, 4, 3]\n",
        "    for key in seq3:\n",
        "        seq_counts[key] += 1\n",
        "    print(seq_counts)\n",
        "\n",
        "    \"\"\" a+b, a-b와 같은 셋 연산을 사용할 수 있다. \"\"\"\n",
        "    seq_counts_2 = Counter(seq3)\n",
        "    print(seq_counts_2)\n",
        "    print(seq_counts + seq_counts_2)\n",
        "    print(seq_counts - seq_counts_2)\n",
        "\n",
        "\n",
        "if __name__ == \"__main__\":\n",
        "    counter_example()"
      ],
      "execution_count": 27,
      "outputs": [
        {
          "output_type": "stream",
          "text": [
            "Counter({5: 4, 1: 3, 2: 3, 3: 1, 4: 1})\n",
            "Counter({1: 4, 2: 4, 5: 4, 3: 2, 4: 1})\n",
            "Counter({1: 5, 2: 4, 5: 4, 3: 3, 4: 2})\n",
            "Counter({1: 1, 4: 1, 3: 1})\n",
            "Counter({1: 6, 2: 4, 3: 4, 5: 4, 4: 3})\n",
            "Counter({1: 4, 2: 4, 5: 4, 3: 2, 4: 1})\n"
          ],
          "name": "stdout"
        }
      ]
    },
    {
      "cell_type": "markdown",
      "metadata": {
        "id": "xKO91zdQoaaH"
      },
      "source": [
        "# 연습 문제"
      ]
    },
    {
      "cell_type": "code",
      "metadata": {
        "colab": {
          "base_uri": "https://localhost:8080/"
        },
        "id": "NagfgoOenM0v",
        "outputId": "e995e86a-a914-445b-82da-ee52828ee3fb"
      },
      "source": [
        "# Counter타입을 사용해 문자열에서 가장 많이 나오는 단어와 횟수 출력\n",
        "from collections import Counter\n",
        "\n",
        "\n",
        "def find_top_N_recurring_words(seq, N):\n",
        "    dcounter = Counter()\n",
        "    for word in seq.split():\n",
        "        dcounter[word] += 1\n",
        "    return dcounter.most_common(N)\n",
        "\n",
        "\n",
        "def test_find_top_N_recurring_words():\n",
        "    seq = \"버피 에인절 몬스터 잰더 윌로우 버피 몬스터 슈퍼 버피 에인절\"\n",
        "    N = 3\n",
        "    assert(find_top_N_recurring_words(seq, N) ==\n",
        "           [(\"버피\", 3), (\"에인절\", 2), (\"몬스터\", 2)])\n",
        "    print(\"테스트 통과!\")\n",
        "\n",
        "\n",
        "if __name__ == \"__main__\":\n",
        "    test_find_top_N_recurring_words()"
      ],
      "execution_count": 28,
      "outputs": [
        {
          "output_type": "stream",
          "text": [
            "테스트 통과!\n"
          ],
          "name": "stdout"
        }
      ]
    },
    {
      "cell_type": "code",
      "metadata": {
        "colab": {
          "base_uri": "https://localhost:8080/"
        },
        "id": "U7VtJICFnt26",
        "outputId": "5fa1de36-3410-4b77-f477-99f1f6f2b96f"
      },
      "source": [
        "seq = \"버피 에인절 몬스터 잰더 윌로우 버피 몬스터 슈퍼 버피 에인절\"\n",
        "seq_list = seq.split()\n",
        "print(seq_list)\n",
        "\n",
        "dcounter = Counter()\n",
        "for word in seq_list:\n",
        "    dcounter[word] += 1\n",
        "\n",
        "print(dcounter)\n",
        "n=1 # 가장 많이 나오는 단어 출력, n = 2일시 가장 많이 나온 순으로 두번째 까지\n",
        "print(dcounter.most_common(n)) "
      ],
      "execution_count": 34,
      "outputs": [
        {
          "output_type": "stream",
          "text": [
            "['버피', '에인절', '몬스터', '잰더', '윌로우', '버피', '몬스터', '슈퍼', '버피', '에인절']\n",
            "Counter({'버피': 3, '에인절': 2, '몬스터': 2, '잰더': 1, '윌로우': 1, '슈퍼': 1})\n",
            "[('버피', 3)]\n"
          ],
          "name": "stdout"
        }
      ]
    },
    {
      "cell_type": "code",
      "metadata": {
        "colab": {
          "base_uri": "https://localhost:8080/"
        },
        "id": "pkmSDTfSoU-i",
        "outputId": "033cd33e-2c70-4802-ae7c-6c03bbb8108b"
      },
      "source": [
        "# Counter 타입을 사용해 문자열의 문자 발생 횟수 카운팅 후 비교\n",
        "from collections import Counter\n",
        "\n",
        "\n",
        "def is_anagram(s1, s2):\n",
        "    counter = Counter()\n",
        "    for c in s1:\n",
        "        counter[c] += 1\n",
        "    for c in s2:\n",
        "        counter[c] -= 1\n",
        "    for i in counter.values():\n",
        "        if i:\n",
        "            return False\n",
        "    return True\n",
        "\n",
        "\n",
        "def test_is_anagram():\n",
        "    s1 = \"marina\"\n",
        "    s2 = \"aniram\"\n",
        "    assert(is_anagram(s1, s2) is True) # s1, s2의 문자열 속 문자 발생 횟수는 같다.\n",
        "    s1 = \"google\"\n",
        "    s2 = \"gouglo\"\n",
        "    assert(is_anagram(s1, s2) is False) # s1, s2는 문자열 속 문자 발생 횟수는 다르다.\n",
        "    print(\"테스트 통과!\")\n",
        "\n",
        "\n",
        "if __name__ == \"__main__\":\n",
        "    test_is_anagram()"
      ],
      "execution_count": 35,
      "outputs": [
        {
          "output_type": "stream",
          "text": [
            "테스트 통과!\n"
          ],
          "name": "stdout"
        }
      ]
    },
    {
      "cell_type": "code",
      "metadata": {
        "colab": {
          "base_uri": "https://localhost:8080/"
        },
        "id": "mnCMKC2DpaYg",
        "outputId": "44f70af8-09fe-4ce7-af6b-c45f1c41a268"
      },
      "source": [
        "counter = Counter()\n",
        "s1 = \"marina\"\n",
        "s2 = \"ramnai\"\n",
        "for c in s1:\n",
        "    counter[c] += 1\n",
        "\n",
        "print(counter)\n",
        "\n",
        "for c in s2:\n",
        "    counter[c] -= 1\n",
        "\n",
        "print(counter) # s1, s2에 속한 단어의 갯수가 같기에 모두 0으로 출력\n",
        "print(counter.values())"
      ],
      "execution_count": 39,
      "outputs": [
        {
          "output_type": "stream",
          "text": [
            "Counter({'a': 2, 'm': 1, 'r': 1, 'i': 1, 'n': 1})\n",
            "Counter({'m': 0, 'a': 0, 'r': 0, 'i': 0, 'n': 0})\n",
            "dict_values([0, 0, 0, 0, 0])\n"
          ],
          "name": "stdout"
        }
      ]
    },
    {
      "cell_type": "code",
      "metadata": {
        "colab": {
          "base_uri": "https://localhost:8080/"
        },
        "id": "6pK76CvcqATn",
        "outputId": "2350cdc6-c3f5-4a54-8290-cb01e984d11e"
      },
      "source": [
        "# 두 문자열에 속하는 문장, 단어 철자의 횟수가 같은지 확인하는 다른 방법\n",
        "# 해시 함수의 속성 이용, 반례가 존재해서 유용하진 못하다고 판단\n",
        "import string\n",
        "\n",
        "\n",
        "def hash_func(astring):\n",
        "    s = 0\n",
        "    for one in astring:\n",
        "        if one in string.whitespace:\n",
        "            continue\n",
        "        s = s + ord(one)\n",
        "    return s\n",
        "\n",
        "\n",
        "def find_anagram_hash_function(word1, word2):\n",
        "    return hash_func(word1) == hash_func(word2)\n",
        "\n",
        "\n",
        "def test_find_anagram_hash_function():\n",
        "    word1 = \"buffy\"\n",
        "    word2 = \"ZZZZZZ\"\n",
        "    word3 = \"bffya\"\n",
        "    assert(find_anagram_hash_function(word1, word2) is True)\n",
        "    assert(find_anagram_hash_function(word1, word3) is False)\n",
        "    print(\"테스트 통과!\")\n",
        "\n",
        "\n",
        "if __name__ == \"__main__\":\n",
        "    test_find_anagram_hash_function()"
      ],
      "execution_count": 45,
      "outputs": [
        {
          "output_type": "stream",
          "text": [
            "테스트 통과!\n"
          ],
          "name": "stdout"
        }
      ]
    },
    {
      "cell_type": "code",
      "metadata": {
        "colab": {
          "base_uri": "https://localhost:8080/"
        },
        "id": "nqndDdS_xMr_",
        "outputId": "2275d1b4-6b4d-4cd9-e6a6-64219716cf9b"
      },
      "source": [
        "word1 = \"buffy\"\n",
        "s = hash_func(word1)\n",
        "print(s)\n",
        "word2 = \"ZZZZZZ\" # Z의 ASCII 코드 값 90\n",
        "s2 = hash_func(word2)\n",
        "print(s2)"
      ],
      "execution_count": 44,
      "outputs": [
        {
          "output_type": "stream",
          "text": [
            "540\n",
            "540\n"
          ],
          "name": "stdout"
        }
      ]
    },
    {
      "cell_type": "code",
      "metadata": {
        "colab": {
          "base_uri": "https://localhost:8080/"
        },
        "id": "xRL2C9J22VKy",
        "outputId": "5cc92057-1c87-4eac-bb6b-699b5f97f4b7"
      },
      "source": [
        "# 주사위를 두번 던져서 합계가 특정 수가 나오는 경우의 수와 경로를 구해보기\n",
        "from collections import Counter, defaultdict\n",
        "\n",
        "\n",
        "def find_dice_probabilities(S, n_faces=6):\n",
        "    if S > 2 * n_faces or S < 2:\n",
        "        return None\n",
        "\n",
        "    cdict = Counter()\n",
        "    ddict = defaultdict(list)\n",
        "\n",
        "    # 두 주사위의 합을 모두 더해서 딕셔너리에 넣는다.\n",
        "    for dice1 in range(1, n_faces+1):\n",
        "        for dice2 in range(1, n_faces+1):\n",
        "            t = [dice1, dice2]\n",
        "            cdict[dice1+dice2] += 1\n",
        "            ddict[dice1+dice2].append(t)\n",
        "\n",
        "    return [cdict[S], ddict[S]]\n",
        "\n",
        "\n",
        "def test_find_dice_probabilities():\n",
        "    n_faces = 6\n",
        "    S = 5\n",
        "    results = find_dice_probabilities(S, n_faces)\n",
        "    print(results)\n",
        "    assert(results[0] == len(results[1]))\n",
        "    print(\"테스트 통과!\")\n",
        "\n",
        "\n",
        "if __name__ == \"__main__\":\n",
        "    test_find_dice_probabilities()"
      ],
      "execution_count": 46,
      "outputs": [
        {
          "output_type": "stream",
          "text": [
            "[4, [[1, 4], [2, 3], [3, 2], [4, 1]]]\n",
            "테스트 통과!\n"
          ],
          "name": "stdout"
        }
      ]
    },
    {
      "cell_type": "code",
      "metadata": {
        "colab": {
          "base_uri": "https://localhost:8080/"
        },
        "id": "s7izZDea2cv3",
        "outputId": "f5be61ef-823e-412b-d0e7-dc8a39afffd7"
      },
      "source": [
        "# 단어의 중복 문자 제거\n",
        "import string\n",
        "\n",
        "\n",
        "def delete_unique_word(str1):\n",
        "    table_c = {key: 0 for key in string.ascii_lowercase}\n",
        "    for i in str1:\n",
        "        table_c[i] += 1\n",
        "    for key, value in table_c.items():\n",
        "        if value > 1:\n",
        "            str1 = str1.replace(key, \"\")\n",
        "    return str1\n",
        "\n",
        "\n",
        "def test_delete_unique_word():\n",
        "    str1 = \"google\"\n",
        "    print(delete_unique_word(str1))\n",
        "    assert(delete_unique_word(str1) == \"le\")\n",
        "    print(\"테스트 통과!\")\n",
        "\n",
        "\n",
        "if __name__ == \"__main__\":\n",
        "    test_delete_unique_word()"
      ],
      "execution_count": 48,
      "outputs": [
        {
          "output_type": "stream",
          "text": [
            "le\n",
            "테스트 통과!\n"
          ],
          "name": "stdout"
        }
      ]
    }
  ]
}