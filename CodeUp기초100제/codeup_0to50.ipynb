{
  "nbformat": 4,
  "nbformat_minor": 0,
  "metadata": {
    "colab": {
      "name": "codeup_0to50",
      "provenance": []
    },
    "kernelspec": {
      "name": "python3",
      "display_name": "Python 3"
    }
  },
  "cells": [
    {
      "cell_type": "markdown",
      "metadata": {
        "id": "llP85VplY4gq"
      },
      "source": [
        "CodeUp 기초 100제 풀이"
      ]
    },
    {
      "cell_type": "code",
      "metadata": {
        "colab": {
          "base_uri": "https://localhost:8080/"
        },
        "id": "HKPVLCxnY9Bv",
        "outputId": "9211ce58-59cd-4040-9098-e061a8fd53a9"
      },
      "source": [
        "# 1 \n",
        "print(\"Hello\")"
      ],
      "execution_count": 1,
      "outputs": [
        {
          "output_type": "stream",
          "text": [
            "Hello\n"
          ],
          "name": "stdout"
        }
      ]
    },
    {
      "cell_type": "code",
      "metadata": {
        "colab": {
          "base_uri": "https://localhost:8080/"
        },
        "id": "m5c0iFHLZF_T",
        "outputId": "4bd36d4d-00c1-44f8-f352-7b14690c62f4"
      },
      "source": [
        "# 2\n",
        "print(\"Hello World\")"
      ],
      "execution_count": 2,
      "outputs": [
        {
          "output_type": "stream",
          "text": [
            "Hello World\n"
          ],
          "name": "stdout"
        }
      ]
    },
    {
      "cell_type": "code",
      "metadata": {
        "colab": {
          "base_uri": "https://localhost:8080/"
        },
        "id": "no9y35LVZIc9",
        "outputId": "154956fc-8acb-42ac-da58-2259ef1d8136"
      },
      "source": [
        "# 3\n",
        "print(\"Hello\\nWorld\")"
      ],
      "execution_count": 3,
      "outputs": [
        {
          "output_type": "stream",
          "text": [
            "Hello\n",
            "World\n"
          ],
          "name": "stdout"
        }
      ]
    },
    {
      "cell_type": "code",
      "metadata": {
        "colab": {
          "base_uri": "https://localhost:8080/"
        },
        "id": "_Xdzqh9LZeTe",
        "outputId": "cf4cf56c-5d1b-4f3e-f444-63d3d9e0b3de"
      },
      "source": [
        "# 4\n",
        "print(\"'Hello'\")"
      ],
      "execution_count": 5,
      "outputs": [
        {
          "output_type": "stream",
          "text": [
            "'Hello'\n"
          ],
          "name": "stdout"
        }
      ]
    },
    {
      "cell_type": "code",
      "metadata": {
        "colab": {
          "base_uri": "https://localhost:8080/"
        },
        "id": "6X5J7cOfZtLf",
        "outputId": "a2d203cc-950f-4c80-ef5a-54b4f42f0da1"
      },
      "source": [
        "# 5\n",
        "print('\"Hello World\"')"
      ],
      "execution_count": 6,
      "outputs": [
        {
          "output_type": "stream",
          "text": [
            "\"Hello World\"\n"
          ],
          "name": "stdout"
        }
      ]
    },
    {
      "cell_type": "code",
      "metadata": {
        "colab": {
          "base_uri": "https://localhost:8080/"
        },
        "id": "NjGjeJHZZyrN",
        "outputId": "95926130-9c3e-4227-ccbf-e9eb7b387fcb"
      },
      "source": [
        "# 6\n",
        "print('\"!@#$%^&*()\"')"
      ],
      "execution_count": 7,
      "outputs": [
        {
          "output_type": "stream",
          "text": [
            "\"!@#$%^&*()\"\n"
          ],
          "name": "stdout"
        }
      ]
    },
    {
      "cell_type": "code",
      "metadata": {
        "colab": {
          "base_uri": "https://localhost:8080/"
        },
        "id": "dLLlzyQRaDye",
        "outputId": "3486d317-6d0c-4898-f0b9-fd2a6d69d645"
      },
      "source": [
        "# 7\n",
        "print('\"C:\\Download\\hello.cpp\"')"
      ],
      "execution_count": 8,
      "outputs": [
        {
          "output_type": "stream",
          "text": [
            "\"C:\\Download\\hello.cpp\"\n"
          ],
          "name": "stdout"
        }
      ]
    },
    {
      "cell_type": "code",
      "metadata": {
        "colab": {
          "base_uri": "https://localhost:8080/"
        },
        "id": "SBHeT80YaxVf",
        "outputId": "38e7e0ea-412f-4a45-fcbe-82b6b412a235"
      },
      "source": [
        "# 8 \n",
        "print(\"\\u250C\\u252C\\u2510\")\n",
        "print(\"\\u251C\\u253C\\u2524\")\n",
        "print(\"\\u2514\\u2534\\u2518\")"
      ],
      "execution_count": 14,
      "outputs": [
        {
          "output_type": "stream",
          "text": [
            "┌┬┐\n",
            "├┼┤\n",
            "└┴┘\n"
          ],
          "name": "stdout"
        }
      ]
    },
    {
      "cell_type": "code",
      "metadata": {
        "colab": {
          "base_uri": "https://localhost:8080/"
        },
        "id": "iEucm2IscBrR",
        "outputId": "1c7c4ffe-acc8-4410-ca9a-aa7986c55069"
      },
      "source": [
        "# 10\n",
        "n = int(input())\n",
        "print(n)"
      ],
      "execution_count": 15,
      "outputs": [
        {
          "output_type": "stream",
          "text": [
            "15\n",
            "15\n"
          ],
          "name": "stdout"
        }
      ]
    },
    {
      "cell_type": "code",
      "metadata": {
        "colab": {
          "base_uri": "https://localhost:8080/"
        },
        "id": "zd86rlq8cCRQ",
        "outputId": "51b38742-6e3b-4f76-c24f-0185fed37fe6"
      },
      "source": [
        "# 11\n",
        "c = input()\n",
        "print(c)"
      ],
      "execution_count": 16,
      "outputs": [
        {
          "output_type": "stream",
          "text": [
            "p\n",
            "p\n"
          ],
          "name": "stdout"
        }
      ]
    },
    {
      "cell_type": "code",
      "metadata": {
        "colab": {
          "base_uri": "https://localhost:8080/"
        },
        "id": "LLDp6efccCYn",
        "outputId": "5cf43b65-d800-499f-fed1-01ac95d7d6f2"
      },
      "source": [
        "# 12\n",
        "n = float(input())\n",
        "print(\"%f\" %n)"
      ],
      "execution_count": 21,
      "outputs": [
        {
          "output_type": "stream",
          "text": [
            "1.124142\n",
            "1.124142\n"
          ],
          "name": "stdout"
        }
      ]
    },
    {
      "cell_type": "code",
      "metadata": {
        "colab": {
          "base_uri": "https://localhost:8080/"
        },
        "id": "EGZedX8VcCe4",
        "outputId": "ee3d3fef-16de-4cfe-9c6d-f73cf25863c7"
      },
      "source": [
        "# 13\n",
        "a, b = map(int, input().split())\n",
        "print(a, b)"
      ],
      "execution_count": 24,
      "outputs": [
        {
          "output_type": "stream",
          "text": [
            "1 2\n",
            "1 2\n"
          ],
          "name": "stdout"
        }
      ]
    },
    {
      "cell_type": "code",
      "metadata": {
        "colab": {
          "base_uri": "https://localhost:8080/"
        },
        "id": "lXkFVqV3cCkr",
        "outputId": "2d472f40-3a28-49ff-b089-5f1fff338768"
      },
      "source": [
        "# 14\n",
        "x, y = map(str, input().split())\n",
        "print(y, x)"
      ],
      "execution_count": 27,
      "outputs": [
        {
          "output_type": "stream",
          "text": [
            "A b\n",
            "b A\n"
          ],
          "name": "stdout"
        }
      ]
    },
    {
      "cell_type": "code",
      "metadata": {
        "colab": {
          "base_uri": "https://localhost:8080/"
        },
        "id": "cf6rrovfcCqI",
        "outputId": "3cfed79b-da51-48b1-9a11-e778115bfe21"
      },
      "source": [
        "# 15\n",
        "n = float(input())\n",
        "n = round(n, 2)\n",
        "print(\"%.2f\" %n)"
      ],
      "execution_count": 34,
      "outputs": [
        {
          "output_type": "stream",
          "text": [
            "1.52954\n",
            "1.53\n"
          ],
          "name": "stdout"
        }
      ]
    },
    {
      "cell_type": "code",
      "metadata": {
        "colab": {
          "base_uri": "https://localhost:8080/"
        },
        "id": "MBUzLa2ZcCvY",
        "outputId": "b568dfc8-f5a6-4a13-9fee-0d52e59aadef"
      },
      "source": [
        "# 17\n",
        "a = int(input())\n",
        "print(a, a, a)"
      ],
      "execution_count": 35,
      "outputs": [
        {
          "output_type": "stream",
          "text": [
            "125\n",
            "125 125 125\n"
          ],
          "name": "stdout"
        }
      ]
    },
    {
      "cell_type": "code",
      "metadata": {
        "colab": {
          "base_uri": "https://localhost:8080/"
        },
        "id": "qAigEWZucC0o",
        "outputId": "06a2e501-6108-441c-aa75-d961c906ad76"
      },
      "source": [
        "# 18\n",
        "h, m = map(int, input().split(':'))\n",
        "\n",
        "print(\"{}:{}\".format(h, m))\n",
        "# print(f'{h}:{m}') 코드업 사이트가 오래되서 f-string 포매팅으로 하면 에러"
      ],
      "execution_count": 60,
      "outputs": [
        {
          "output_type": "stream",
          "text": [
            "12:32\n",
            "12:32\n"
          ],
          "name": "stdout"
        }
      ]
    },
    {
      "cell_type": "code",
      "metadata": {
        "colab": {
          "base_uri": "https://localhost:8080/"
        },
        "id": "f5xtrngjcC55",
        "outputId": "0c2552e2-2628-4649-dcd8-966d87ea1044"
      },
      "source": [
        "# 19\n",
        "y, m, d = map(int, input().split('.'))\n",
        "\n",
        "if y < 100:\n",
        "    y = '00' + str(y)\n",
        "elif y < 1000:\n",
        "    y =  '0' + str(y)\n",
        "\n",
        "if m < 10:\n",
        "    m = '0' + str(m)\n",
        "\n",
        "if d < 10:\n",
        "    d = '0' + str(d)\n",
        "\n",
        "print(\"{}.{}.{}\".format(y, m, d))"
      ],
      "execution_count": 61,
      "outputs": [
        {
          "output_type": "stream",
          "text": [
            "123.12.2\n",
            "0123.12.02\n"
          ],
          "name": "stdout"
        }
      ]
    },
    {
      "cell_type": "code",
      "metadata": {
        "colab": {
          "base_uri": "https://localhost:8080/"
        },
        "id": "6LTueHeUcC-4",
        "outputId": "69ca4440-5baa-4ff2-fa94-b72477bc7216"
      },
      "source": [
        "# 20\n",
        "front, back = map(str, input().split('-'))\n",
        "print(\"{}{}\".format(front, back))"
      ],
      "execution_count": 63,
      "outputs": [
        {
          "output_type": "stream",
          "text": [
            "991112-1717123\n",
            "9911121717123\n"
          ],
          "name": "stdout"
        }
      ]
    },
    {
      "cell_type": "code",
      "metadata": {
        "colab": {
          "base_uri": "https://localhost:8080/"
        },
        "id": "hs3hFGbxcDEG",
        "outputId": "55ef7d83-8e38-4a63-8ba1-2b1ba4dc38a4"
      },
      "source": [
        "# 21\n",
        "c = input()\n",
        "print(c)"
      ],
      "execution_count": 53,
      "outputs": [
        {
          "output_type": "stream",
          "text": [
            "Informatics\n",
            "Informatics\n"
          ],
          "name": "stdout"
        }
      ]
    },
    {
      "cell_type": "code",
      "metadata": {
        "colab": {
          "base_uri": "https://localhost:8080/"
        },
        "id": "Rx2mBRqZhsEl",
        "outputId": "0f66cbb2-e977-490e-ce5c-a563f08d3324"
      },
      "source": [
        "# 22\n",
        "sent = input()\n",
        "print(sent)"
      ],
      "execution_count": 54,
      "outputs": [
        {
          "output_type": "stream",
          "text": [
            "Programming is very fun!!\n",
            "Programming is very fun!!\n"
          ],
          "name": "stdout"
        }
      ]
    },
    {
      "cell_type": "code",
      "metadata": {
        "colab": {
          "base_uri": "https://localhost:8080/"
        },
        "id": "FcHHOohXh5bT",
        "outputId": "4ace6894-bd04-4539-96ac-cd2dee53fff9"
      },
      "source": [
        "# 23\n",
        "i, f = map(str, input().split('.'))\n",
        "\n",
        "print(i)\n",
        "print(f)"
      ],
      "execution_count": 62,
      "outputs": [
        {
          "output_type": "stream",
          "text": [
            "1.21124\n",
            "1\n",
            "21124\n"
          ],
          "name": "stdout"
        }
      ]
    },
    {
      "cell_type": "code",
      "metadata": {
        "colab": {
          "base_uri": "https://localhost:8080/"
        },
        "id": "aQm9CErZiepH",
        "outputId": "75124dc0-fb56-4f34-be73-9e4c5e3bc8b6"
      },
      "source": [
        "# 24\n",
        "c = input()\n",
        "\n",
        "'''\n",
        "이렇게 해도 되고\n",
        "for i in range(len(c)):\n",
        "    print(\"'{}'\".format(c[i]))\n",
        "'''\n",
        "\n",
        "for i in c:\n",
        "    print(\"'{}'\".format(i))"
      ],
      "execution_count": 65,
      "outputs": [
        {
          "output_type": "stream",
          "text": [
            "Boy\n",
            "'B'\n",
            "'o'\n",
            "'y'\n"
          ],
          "name": "stdout"
        }
      ]
    },
    {
      "cell_type": "code",
      "metadata": {
        "colab": {
          "base_uri": "https://localhost:8080/"
        },
        "id": "1koGxgmDj-8t",
        "outputId": "2d289429-5eb7-49b7-ec99-be30a8a0b862"
      },
      "source": [
        "# 25\n",
        "num = int(input())\n",
        "num = str(num) # string 자료형으로 바꿔주면 수에 0 을 포함해도 깔끔하게 처리가 가능하다.\n",
        "\n",
        "print(\"[{}0000]\".format(num[0]))\n",
        "print(\"[{}000]\".format(num[1]))\n",
        "print(\"[{}00]\".format(num[2]))\n",
        "print(\"[{}0]\".format(num[3]))\n",
        "print(\"[{}]\".format(num[4]))"
      ],
      "execution_count": 68,
      "outputs": [
        {
          "output_type": "stream",
          "text": [
            "74214\n",
            "[70000]\n",
            "[4000]\n",
            "[200]\n",
            "[10]\n",
            "[4]\n"
          ],
          "name": "stdout"
        }
      ]
    },
    {
      "cell_type": "code",
      "metadata": {
        "colab": {
          "base_uri": "https://localhost:8080/"
        },
        "id": "CsHYH2-rmQ31",
        "outputId": "1eecfa29-6876-46ad-da9b-0d0b5d160faa"
      },
      "source": [
        "# 26\n",
        "h, m, s = map(int, input().split(\":\"))\n",
        "print(m)"
      ],
      "execution_count": 69,
      "outputs": [
        {
          "output_type": "stream",
          "text": [
            "17:23:57\n",
            "23\n"
          ],
          "name": "stdout"
        }
      ]
    },
    {
      "cell_type": "code",
      "metadata": {
        "colab": {
          "base_uri": "https://localhost:8080/"
        },
        "id": "m1oDKZ32mbyE",
        "outputId": "687842df-3c7c-493d-f85b-7fdb2d1aa763"
      },
      "source": [
        "# 27\n",
        "y, m, d = map(int, input().split('.'))\n",
        "\n",
        "if y < 100:\n",
        "    y = '00' + str(y)\n",
        "elif y < 1000:\n",
        "    y =  '0' + str(y)\n",
        "\n",
        "if m < 10:\n",
        "    m = '0' + str(m)\n",
        "\n",
        "if d < 10:\n",
        "    d = '0' + str(d)\n",
        "\n",
        "print(\"{}-{}-{}\".format(d, m, y))"
      ],
      "execution_count": 70,
      "outputs": [
        {
          "output_type": "stream",
          "text": [
            "2014.07.15\n",
            "15-07-2014\n"
          ],
          "name": "stdout"
        }
      ]
    },
    {
      "cell_type": "code",
      "metadata": {
        "colab": {
          "base_uri": "https://localhost:8080/"
        },
        "id": "KiaftoiFmzE0",
        "outputId": "c6f1aaeb-a612-44ff-8f48-695aec02d30e"
      },
      "source": [
        "# 28\n",
        "# 파이썬은 c language 같은 프로그래밍 언어와는 달리\n",
        "# Arbitrary-precision arithmetic 방식을 통해 오버플로를 방지한다.\n",
        "# 다만 사칙연산이 조금 느리다.\n",
        "n = int(input())\n",
        "\n",
        "print(n)"
      ],
      "execution_count": 72,
      "outputs": [
        {
          "output_type": "stream",
          "text": [
            "124124124\n",
            "124124124\n"
          ],
          "name": "stdout"
        }
      ]
    },
    {
      "cell_type": "code",
      "metadata": {
        "colab": {
          "base_uri": "https://localhost:8080/"
        },
        "id": "yY7dZQ_mn6bu",
        "outputId": "d760a188-c3a1-4150-b5b0-09aa3b51a233"
      },
      "source": [
        "# 29\n",
        "n = float(input())\n",
        "print(\"%.11f\" %n)"
      ],
      "execution_count": 75,
      "outputs": [
        {
          "output_type": "stream",
          "text": [
            "3.14159265359\n",
            "3.14159265359\n"
          ],
          "name": "stdout"
        }
      ]
    },
    {
      "cell_type": "code",
      "metadata": {
        "colab": {
          "base_uri": "https://localhost:8080/"
        },
        "id": "TjUP7ensoH3W",
        "outputId": "01723dff-2485-4bde-df9f-0221c61b665e"
      },
      "source": [
        "# 30\n",
        "n = int(input())\n",
        "print(n)"
      ],
      "execution_count": 76,
      "outputs": [
        {
          "output_type": "stream",
          "text": [
            "-125125211251252\n",
            "-125125211251252\n"
          ],
          "name": "stdout"
        }
      ]
    },
    {
      "cell_type": "code",
      "metadata": {
        "colab": {
          "base_uri": "https://localhost:8080/"
        },
        "id": "Fdg_icK8oP-u",
        "outputId": "94b654bc-c71a-418f-e6d8-e6a0a9df61d0"
      },
      "source": [
        "# 31\n",
        "n = int(input())\n",
        "n = format(n,'o')\n",
        "# https://brownbears.tistory.com/467 다양한 진수 변환 방식\n",
        "print(n)"
      ],
      "execution_count": 80,
      "outputs": [
        {
          "output_type": "stream",
          "text": [
            "10\n",
            "12\n"
          ],
          "name": "stdout"
        }
      ]
    },
    {
      "cell_type": "code",
      "metadata": {
        "colab": {
          "base_uri": "https://localhost:8080/"
        },
        "id": "59nvE1IspBlW",
        "outputId": "95dea73a-3d1e-4d0b-f6f6-ec21e5a3adaf"
      },
      "source": [
        "# 32\n",
        "n = int(input())\n",
        "n = format(n,'x')\n",
        "# https://brownbears.tistory.com/467 다양한 진수 변환 방식\n",
        "print(n)"
      ],
      "execution_count": 82,
      "outputs": [
        {
          "output_type": "stream",
          "text": [
            "255\n",
            "ff\n"
          ],
          "name": "stdout"
        }
      ]
    },
    {
      "cell_type": "code",
      "metadata": {
        "colab": {
          "base_uri": "https://localhost:8080/"
        },
        "id": "TD9uUJwYpP7L",
        "outputId": "3543c790-6f03-4a17-8ce3-4b51a4e42e1b"
      },
      "source": [
        "# 33\n",
        "n = int(input())\n",
        "n = str(format(n,'x')) # 대문자 변환을 위해 string 자료형으로 변환해주자.\n",
        "\n",
        "n = n.upper() # 대문자 변환\n",
        "\n",
        "print(n)"
      ],
      "execution_count": 86,
      "outputs": [
        {
          "output_type": "stream",
          "text": [
            "255\n",
            "FF\n"
          ],
          "name": "stdout"
        }
      ]
    },
    {
      "cell_type": "code",
      "metadata": {
        "colab": {
          "base_uri": "https://localhost:8080/"
        },
        "id": "TVgsLEPspf8O",
        "outputId": "85773387-8279-410e-9d2f-a6e6d963870f"
      },
      "source": [
        "# 34\n",
        "\n",
        "n = input()\n",
        "n = int(n, 8)\n",
        "# n = int(input(), 8) 이렇게 한줄도 가능\n",
        "\n",
        "print(n)"
      ],
      "execution_count": 94,
      "outputs": [
        {
          "output_type": "stream",
          "text": [
            "12\n",
            "10\n"
          ],
          "name": "stdout"
        }
      ]
    },
    {
      "cell_type": "code",
      "metadata": {
        "colab": {
          "base_uri": "https://localhost:8080/"
        },
        "id": "m1zx917ZqX-w",
        "outputId": "a9885562-6a10-4412-c1b0-ec10536e2b8b"
      },
      "source": [
        "# 35\n",
        "n = int(input(), 16)\n",
        "n = format(n,'o')\n",
        "print(n)"
      ],
      "execution_count": 98,
      "outputs": [
        {
          "output_type": "stream",
          "text": [
            "f\n",
            "17\n"
          ],
          "name": "stdout"
        }
      ]
    },
    {
      "cell_type": "code",
      "metadata": {
        "colab": {
          "base_uri": "https://localhost:8080/"
        },
        "id": "nFHPl3gdrlSU",
        "outputId": "77953a84-b4d4-4513-ab53-adae07b2ac7e"
      },
      "source": [
        "# 36\n",
        "c = input()\n",
        "print(ord(c))"
      ],
      "execution_count": 99,
      "outputs": [
        {
          "output_type": "stream",
          "text": [
            "A\n",
            "65\n"
          ],
          "name": "stdout"
        }
      ]
    },
    {
      "cell_type": "code",
      "metadata": {
        "colab": {
          "base_uri": "https://localhost:8080/"
        },
        "id": "tEklokrTr4Ip",
        "outputId": "57e59d87-113d-4780-d62f-d8fd2778d497"
      },
      "source": [
        "# 37\n",
        "n = int(input())\n",
        "print(chr(n))"
      ],
      "execution_count": 101,
      "outputs": [
        {
          "output_type": "stream",
          "text": [
            "65\n",
            "A\n"
          ],
          "name": "stdout"
        }
      ]
    },
    {
      "cell_type": "code",
      "metadata": {
        "colab": {
          "base_uri": "https://localhost:8080/"
        },
        "id": "zrNnclP6r_Ou",
        "outputId": "a184713a-13d1-42f0-b071-4f9eb3dbdfa6"
      },
      "source": [
        "# 38\n",
        "n1, n2 = map(int, input().split())\n",
        "print(n1+n2)"
      ],
      "execution_count": 102,
      "outputs": [
        {
          "output_type": "stream",
          "text": [
            "124 -123\n",
            "1\n"
          ],
          "name": "stdout"
        }
      ]
    },
    {
      "cell_type": "code",
      "metadata": {
        "colab": {
          "base_uri": "https://localhost:8080/"
        },
        "id": "LHvnU7vBr_Uj",
        "outputId": "cccbe94f-0298-48ac-f2af-5cf899dddbd1"
      },
      "source": [
        "# 39\n",
        "n1, n2 = map(int, input().split())\n",
        "print(n1+n2)"
      ],
      "execution_count": 103,
      "outputs": [
        {
          "output_type": "stream",
          "text": [
            "2147483648 2147483648\n",
            "4294967296\n"
          ],
          "name": "stdout"
        }
      ]
    },
    {
      "cell_type": "code",
      "metadata": {
        "colab": {
          "base_uri": "https://localhost:8080/"
        },
        "id": "gAAszdOyr_aG",
        "outputId": "507b69e3-cd6e-49ad-a537-e2b67ad8a2ad"
      },
      "source": [
        "# 40\n",
        "n = int(input())\n",
        "print( (-1) * n )"
      ],
      "execution_count": 104,
      "outputs": [
        {
          "output_type": "stream",
          "text": [
            "-1\n",
            "1\n"
          ],
          "name": "stdout"
        }
      ]
    },
    {
      "cell_type": "code",
      "metadata": {
        "colab": {
          "base_uri": "https://localhost:8080/"
        },
        "id": "5kgdHn_Ar_fr",
        "outputId": "5eceab59-b02e-4803-ec1d-67e55a7b5513"
      },
      "source": [
        "# 41\n",
        "c = input() # 문자 입력\n",
        "n = ord(c) + 1 # 정수형으로 바꿔서 + 1\n",
        "c = chr(n)\n",
        "\n",
        "print(c)"
      ],
      "execution_count": 108,
      "outputs": [
        {
          "output_type": "stream",
          "text": [
            "A\n",
            "B\n"
          ],
          "name": "stdout"
        }
      ]
    },
    {
      "cell_type": "code",
      "metadata": {
        "colab": {
          "base_uri": "https://localhost:8080/"
        },
        "id": "v2lPfbv0r_ku",
        "outputId": "c3f43acf-c4b4-41f2-dd3f-99f54cfad59f"
      },
      "source": [
        "# 42\n",
        "a, b = map(int, input().split())\n",
        "\n",
        "print(a//b) "
      ],
      "execution_count": 111,
      "outputs": [
        {
          "output_type": "stream",
          "text": [
            "1 3\n",
            "0\n"
          ],
          "name": "stdout"
        }
      ]
    },
    {
      "cell_type": "code",
      "metadata": {
        "colab": {
          "base_uri": "https://localhost:8080/"
        },
        "id": "Rboycaa1r_qR",
        "outputId": "14e2038b-6342-46ac-8286-7a2fca081452"
      },
      "source": [
        "# 43\n",
        "a, b = map(int, input().split())\n",
        "\n",
        "print(a%b) "
      ],
      "execution_count": 112,
      "outputs": [
        {
          "output_type": "stream",
          "text": [
            "10 3\n",
            "1\n"
          ],
          "name": "stdout"
        }
      ]
    },
    {
      "cell_type": "code",
      "metadata": {
        "colab": {
          "base_uri": "https://localhost:8080/"
        },
        "id": "zF-eOtU8r_vU",
        "outputId": "cb0b5095-dcfa-4773-eac8-5bd10c92cd54"
      },
      "source": [
        "# 44\n",
        "n = int(input())\n",
        "print(n+1)"
      ],
      "execution_count": 113,
      "outputs": [
        {
          "output_type": "stream",
          "text": [
            "2147483647\n",
            "2147483648\n"
          ],
          "name": "stdout"
        }
      ]
    },
    {
      "cell_type": "code",
      "metadata": {
        "colab": {
          "base_uri": "https://localhost:8080/"
        },
        "id": "5dvazK0Mtm2U",
        "outputId": "cd5e3d04-f80a-408e-b86c-97029be91333"
      },
      "source": [
        "# 45\n",
        "a, b = map(int, input().split())\n",
        "\n",
        "print(a+b)\n",
        "print(a-b)\n",
        "print(a*b)\n",
        "print(a//b)\n",
        "print(a%b)\n",
        "print(\"%.2f\" %(a/b))"
      ],
      "execution_count": 115,
      "outputs": [
        {
          "output_type": "stream",
          "text": [
            "10 3\n",
            "13\n",
            "7\n",
            "30\n",
            "3\n",
            "1\n",
            "3.33\n"
          ],
          "name": "stdout"
        }
      ]
    },
    {
      "cell_type": "code",
      "metadata": {
        "colab": {
          "base_uri": "https://localhost:8080/"
        },
        "id": "2v28LAF5uJ7L",
        "outputId": "0ccbd8c4-2e32-46d2-caaf-53989c42dc98"
      },
      "source": [
        "# 46\n",
        "a, b, c = map(int, input().split())\n",
        "sum = a+b+c\n",
        "mean = (a+b+c)/3\n",
        "\n",
        "print(sum)\n",
        "print(\"%.1f\" %mean)"
      ],
      "execution_count": 119,
      "outputs": [
        {
          "output_type": "stream",
          "text": [
            "1 2 3\n",
            "6\n",
            "2.0\n"
          ],
          "name": "stdout"
        }
      ]
    },
    {
      "cell_type": "code",
      "metadata": {
        "colab": {
          "base_uri": "https://localhost:8080/"
        },
        "id": "gzqD2hZeuma6",
        "outputId": "c1e4f01d-fde3-48b1-9103-6a092d4b08ff"
      },
      "source": [
        "# 47\n",
        "n = int(input())\n",
        "print(2*n)"
      ],
      "execution_count": 120,
      "outputs": [
        {
          "output_type": "stream",
          "text": [
            "1024\n",
            "2048\n"
          ],
          "name": "stdout"
        }
      ]
    },
    {
      "cell_type": "code",
      "metadata": {
        "colab": {
          "base_uri": "https://localhost:8080/"
        },
        "id": "y9VvKBmGuwVf",
        "outputId": "e6c2083f-8401-4944-d558-651c41f5afd4"
      },
      "source": [
        "# 48\n",
        "a, b = map(int, input().split())\n",
        "print(a * (2**b))"
      ],
      "execution_count": 121,
      "outputs": [
        {
          "output_type": "stream",
          "text": [
            "1 3\n",
            "8\n"
          ],
          "name": "stdout"
        }
      ]
    },
    {
      "cell_type": "code",
      "metadata": {
        "colab": {
          "base_uri": "https://localhost:8080/"
        },
        "id": "xuQv5tElu96y",
        "outputId": "3edc2e2b-2101-464e-97f4-35442ae5963f"
      },
      "source": [
        "# 49\n",
        "a, b = map(int, input().split())\n",
        "\n",
        "if a > b:\n",
        "    print(1)\n",
        "else:\n",
        "    print(0)"
      ],
      "execution_count": 122,
      "outputs": [
        {
          "output_type": "stream",
          "text": [
            "9 1\n",
            "1\n"
          ],
          "name": "stdout"
        }
      ]
    },
    {
      "cell_type": "code",
      "metadata": {
        "colab": {
          "base_uri": "https://localhost:8080/"
        },
        "id": "6reZlet5vNfS",
        "outputId": "0ee62d94-5d0c-4629-b16b-dcd70717e0c1"
      },
      "source": [
        "# 50\n",
        "a, b = map(int, input().split())\n",
        "\n",
        "if a == b:\n",
        "    print(1)\n",
        "else:\n",
        "    print(0)"
      ],
      "execution_count": 123,
      "outputs": [
        {
          "output_type": "stream",
          "text": [
            "0 0\n",
            "1\n"
          ],
          "name": "stdout"
        }
      ]
    }
  ]
}