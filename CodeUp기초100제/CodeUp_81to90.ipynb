{
  "nbformat": 4,
  "nbformat_minor": 0,
  "metadata": {
    "colab": {
      "name": "CodeUp_81to90",
      "provenance": []
    },
    "kernelspec": {
      "name": "python3",
      "display_name": "Python 3"
    }
  },
  "cells": [
    {
      "cell_type": "code",
      "metadata": {
        "colab": {
          "base_uri": "https://localhost:8080/"
        },
        "id": "ndPAI-Vh1hT5",
        "outputId": "ab8593fc-b8cb-406b-d445-43189a4a0a6f"
      },
      "source": [
        "# 81\r\n",
        "n, m = map(int, input().split())\r\n",
        "\r\n",
        "for i in range(n):\r\n",
        "    for j in range(m):\r\n",
        "        print(i+1, j+1)"
      ],
      "execution_count": 1,
      "outputs": [
        {
          "output_type": "stream",
          "text": [
            "2 3\n",
            "1 1\n",
            "1 2\n",
            "1 3\n",
            "2 1\n",
            "2 2\n",
            "2 3\n"
          ],
          "name": "stdout"
        }
      ]
    },
    {
      "cell_type": "code",
      "metadata": {
        "colab": {
          "base_uri": "https://localhost:8080/"
        },
        "id": "beLEYw9F2gYE",
        "outputId": "4e550dc3-7285-43a9-db9c-d03925de8c77"
      },
      "source": [
        "# 82\r\n",
        "\r\n",
        "h = int(input(), 16)\r\n",
        "\r\n",
        "for i in range(1, 16):\r\n",
        "    print(\"%X\"%h + \"*\" + \"%X\"%i + \"=\" + \"%X\" %(h*i))"
      ],
      "execution_count": 10,
      "outputs": [
        {
          "output_type": "stream",
          "text": [
            "B\n",
            "B*1=B\n",
            "B*2=16\n",
            "B*3=21\n",
            "B*4=2C\n",
            "B*5=37\n",
            "B*6=42\n",
            "B*7=4D\n",
            "B*8=58\n",
            "B*9=63\n",
            "B*A=6E\n",
            "B*B=79\n",
            "B*C=84\n",
            "B*D=8F\n",
            "B*E=9A\n",
            "B*F=A5\n"
          ],
          "name": "stdout"
        }
      ]
    },
    {
      "cell_type": "code",
      "metadata": {
        "colab": {
          "base_uri": "https://localhost:8080/"
        },
        "id": "q6GIoWMZ3d8o",
        "outputId": "d66d5183-189b-4c82-aeef-83cf2ea218af"
      },
      "source": [
        "# 83\r\n",
        "n = int(input())\r\n",
        "\r\n",
        "for i in range(1,n+1):\r\n",
        "    if i == 3 or i == 6 or i ==9 :\r\n",
        "        print('X', end = ' ')\r\n",
        "    else:\r\n",
        "        print(i, end = ' ')"
      ],
      "execution_count": 12,
      "outputs": [
        {
          "output_type": "stream",
          "text": [
            "9\n",
            "1 2 X 4 5 X 7 8 X "
          ],
          "name": "stdout"
        }
      ]
    },
    {
      "cell_type": "code",
      "metadata": {
        "colab": {
          "base_uri": "https://localhost:8080/"
        },
        "id": "_brzEFES42YT",
        "outputId": "e2a05f4f-c83c-40c4-edb7-7103481b014e"
      },
      "source": [
        "# 84\r\n",
        "r, g, b = map(int, input().split())\r\n",
        "count = 0\r\n",
        "\r\n",
        "for i in range(r):\r\n",
        "    for j in range(g):\r\n",
        "        for k in range(b):\r\n",
        "            print(i, j, k)\r\n",
        "            count += 1\r\n",
        "\r\n",
        "print(count)"
      ],
      "execution_count": 15,
      "outputs": [
        {
          "output_type": "stream",
          "text": [
            "2 2 2\n",
            "0 0 0\n",
            "0 0 1\n",
            "0 1 0\n",
            "0 1 1\n",
            "1 0 0\n",
            "1 0 1\n",
            "1 1 0\n",
            "1 1 1\n",
            "8\n"
          ],
          "name": "stdout"
        }
      ]
    },
    {
      "cell_type": "code",
      "metadata": {
        "colab": {
          "base_uri": "https://localhost:8080/"
        },
        "id": "lr3hneZT5NM2",
        "outputId": "68a59922-cd41-42e9-a5b6-bb4fc00317fc"
      },
      "source": [
        "# 85\r\n",
        "h, b, c, s = map(int, input().split())\r\n",
        "byte = h*b*c*s / 8\r\n",
        "MB = byte / 1024 / 1024\r\n",
        "MB = round(MB, 1) # 반올림 \r\n",
        "\r\n",
        "print(\"{} MB\".format(MB)) # 문자열 포매팅"
      ],
      "execution_count": 21,
      "outputs": [
        {
          "output_type": "stream",
          "text": [
            "44100 16 2 10\n",
            "1.7 MB\n"
          ],
          "name": "stdout"
        }
      ]
    },
    {
      "cell_type": "code",
      "metadata": {
        "colab": {
          "base_uri": "https://localhost:8080/"
        },
        "id": "An70evYg6ncB",
        "outputId": "40799c2a-abd2-4f7c-8f09-158336cc48e4"
      },
      "source": [
        "# 86\r\n",
        "w, h, b = map(int, input().split())\r\n",
        "byte = w * h * b / 8\r\n",
        "MB = byte / 1024 / 1024\r\n",
        "MB = round(MB, 2) # 반올림 \r\n",
        "\r\n",
        "print(\"%.2f\"%MB + \" MB\")"
      ],
      "execution_count": 26,
      "outputs": [
        {
          "output_type": "stream",
          "text": [
            "100 100 4\n",
            "0.00 MB\n"
          ],
          "name": "stdout"
        }
      ]
    },
    {
      "cell_type": "code",
      "metadata": {
        "colab": {
          "base_uri": "https://localhost:8080/"
        },
        "id": "GQaSJbvs6ynk",
        "outputId": "832587c2-e27a-4fc1-f4df-c708698f9558"
      },
      "source": [
        "# 87\r\n",
        "lim = int(input())\r\n",
        "sum = 0\r\n",
        "i = 1\r\n",
        "\r\n",
        "while sum < lim:\r\n",
        "    sum += i\r\n",
        "    i += 1\r\n",
        "\r\n",
        "print(sum)"
      ],
      "execution_count": 29,
      "outputs": [
        {
          "output_type": "stream",
          "text": [
            "57\n",
            "66\n"
          ],
          "name": "stdout"
        }
      ]
    },
    {
      "cell_type": "code",
      "metadata": {
        "colab": {
          "base_uri": "https://localhost:8080/"
        },
        "id": "LEISUoSA6yyD",
        "outputId": "74198203-94fa-48fd-aa26-b66d6d770aaa"
      },
      "source": [
        "# 88    \r\n",
        "n = int(input())\r\n",
        "\r\n",
        "for i in range(1,n+1):\r\n",
        "    if i%3 == 0:\r\n",
        "        pass # continue와 pass는 다르다.\r\n",
        "    else:\r\n",
        "        print(i, end = ' ')"
      ],
      "execution_count": 33,
      "outputs": [
        {
          "output_type": "stream",
          "text": [
            "10\n",
            "1 2 4 5 7 8 10 "
          ],
          "name": "stdout"
        }
      ]
    },
    {
      "cell_type": "code",
      "metadata": {
        "colab": {
          "base_uri": "https://localhost:8080/"
        },
        "id": "x-DElcWQ6y7j",
        "outputId": "20862914-50fc-4a67-8e5d-d993b050c324"
      },
      "source": [
        "# 89 \r\n",
        "a, d, n = map(int, input().split())\r\n",
        "\r\n",
        "for i in range(n-1):\r\n",
        "    a += d\r\n",
        "\r\n",
        "print(a)"
      ],
      "execution_count": 38,
      "outputs": [
        {
          "output_type": "stream",
          "text": [
            "0 0 100\n",
            "0\n"
          ],
          "name": "stdout"
        }
      ]
    },
    {
      "cell_type": "code",
      "metadata": {
        "colab": {
          "base_uri": "https://localhost:8080/"
        },
        "id": "FlpwuRkv6zUz",
        "outputId": "3cdf482e-cc12-4296-d8aa-19f967060602"
      },
      "source": [
        "# 90\r\n",
        "a, r, n = map(int, input().split())\r\n",
        "\r\n",
        "for i in range(n-1):\r\n",
        "    a *= r\r\n",
        "    \r\n",
        "print(a)"
      ],
      "execution_count": 39,
      "outputs": [
        {
          "output_type": "stream",
          "text": [
            "2 3 7\n",
            "1458\n"
          ],
          "name": "stdout"
        }
      ]
    }
  ]
}