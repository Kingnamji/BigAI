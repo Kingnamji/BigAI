{
  "nbformat": 4,
  "nbformat_minor": 0,
  "metadata": {
    "colab": {
      "name": "CodeUp_91to100",
      "provenance": []
    },
    "kernelspec": {
      "name": "python3",
      "display_name": "Python 3"
    }
  },
  "cells": [
    {
      "cell_type": "code",
      "metadata": {
        "colab": {
          "base_uri": "https://localhost:8080/"
        },
        "id": "R4Q1um_A9fAe",
        "outputId": "59c9cc00-a377-4c33-eb7b-5e5573d8777a"
      },
      "source": [
        "# 91\r\n",
        "a, m, d, n = map(int, input().split())\r\n",
        "\r\n",
        "for i in range(n-1):\r\n",
        "    a = a * m + d\r\n",
        "\r\n",
        "print(a)"
      ],
      "execution_count": 2,
      "outputs": [
        {
          "output_type": "stream",
          "text": [
            "1 -2 1 8\n",
            "-85\n"
          ],
          "name": "stdout"
        }
      ]
    },
    {
      "cell_type": "code",
      "metadata": {
        "colab": {
          "base_uri": "https://localhost:8080/"
        },
        "id": "DrAylI_p9h1a",
        "outputId": "4b134a69-3610-4305-a837-95ab0454a926"
      },
      "source": [
        "# 92\r\n",
        "a, b, c = map(int, input().split())\r\n",
        "\r\n",
        "day = 1\r\n",
        "while (day%a != 0) or (day%b != 0) or (day%c != 0):\r\n",
        "    day += 1\r\n",
        "    \r\n",
        "print(day)"
      ],
      "execution_count": 4,
      "outputs": [
        {
          "output_type": "stream",
          "text": [
            "3 7 9\n",
            "63\n"
          ],
          "name": "stdout"
        }
      ]
    },
    {
      "cell_type": "code",
      "metadata": {
        "colab": {
          "base_uri": "https://localhost:8080/"
        },
        "id": "5lJkiGMv9h-S",
        "outputId": "4db9836b-bcad-49b8-98de-829896f2816b"
      },
      "source": [
        "# 93\r\n",
        "check_list = [0] * 23\r\n",
        "n = int(input())\r\n",
        "random = list(map(int, input().split()))\r\n",
        "\r\n",
        "for i in range(n):\r\n",
        "    check_list[random[i]-1] += 1\r\n",
        "\r\n",
        "for j in check_list:\r\n",
        "    print(j, end=' ')"
      ],
      "execution_count": 7,
      "outputs": [
        {
          "output_type": "stream",
          "text": [
            "11\n",
            "1 3 2 2 5 6 7 4 5 9 23\n",
            "1 2 1 1 2 1 1 0 1 0 0 0 0 0 0 0 0 0 0 0 0 0 1 "
          ],
          "name": "stdout"
        }
      ]
    },
    {
      "cell_type": "code",
      "metadata": {
        "colab": {
          "base_uri": "https://localhost:8080/"
        },
        "id": "HZsIEffv9iHZ",
        "outputId": "54fb18a8-7499-4a29-b495-71f23cc66817"
      },
      "source": [
        "# 94\r\n",
        "n = int(input())\r\n",
        "random = list(map(int, input().split()))\r\n",
        "\r\n",
        "for i in range(n):\r\n",
        "    print(random[n-1-i], end = ' ')"
      ],
      "execution_count": 11,
      "outputs": [
        {
          "output_type": "stream",
          "text": [
            "10\n",
            "10 4 2 3 6 6 7 9 8 5\n",
            "5 8 9 7 6 6 3 2 4 10 "
          ],
          "name": "stdout"
        }
      ]
    },
    {
      "cell_type": "code",
      "metadata": {
        "colab": {
          "base_uri": "https://localhost:8080/"
        },
        "id": "vnfQ7Utk9iNC",
        "outputId": "044a2d87-c351-49d0-87c4-32b4b24ebaed"
      },
      "source": [
        "# 95\r\n",
        "n = int(input())\r\n",
        "random = list(map(int, input().split()))\r\n",
        "\r\n",
        "print(min(random))"
      ],
      "execution_count": 12,
      "outputs": [
        {
          "output_type": "stream",
          "text": [
            "10\n",
            "10 4 2 3 6 6 7 9 8 5\n",
            "2\n"
          ],
          "name": "stdout"
        }
      ]
    },
    {
      "cell_type": "code",
      "metadata": {
        "colab": {
          "base_uri": "https://localhost:8080/"
        },
        "id": "O7a5E68o9iRC",
        "outputId": "e94ac493-5d1d-4893-dca6-062b8f004e30"
      },
      "source": [
        "# 96\r\n",
        "n = int(input()) # 흰 돌의 개수\r\n",
        "white = []\r\n",
        "\r\n",
        "for i in range(n):\r\n",
        "    x, y = map(int, input().split())\r\n",
        "    white.append((x,y))\r\n",
        "\r\n",
        "for j in range(19):\r\n",
        "    for k in range(19):\r\n",
        "        temp = 0\r\n",
        "        if (j+1, k+1) in white:\r\n",
        "            temp = 1\r\n",
        "        print(temp, end = ' ')\r\n",
        "    print()"
      ],
      "execution_count": 17,
      "outputs": [
        {
          "output_type": "stream",
          "text": [
            "5\n",
            "1 1\n",
            "2 2\n",
            "3 5\n",
            "4 4\n",
            "19 19\n",
            "1 0 0 0 0 0 0 0 0 0 0 0 0 0 0 0 0 0 0 \n",
            "0 1 0 0 0 0 0 0 0 0 0 0 0 0 0 0 0 0 0 \n",
            "0 0 0 0 1 0 0 0 0 0 0 0 0 0 0 0 0 0 0 \n",
            "0 0 0 1 0 0 0 0 0 0 0 0 0 0 0 0 0 0 0 \n",
            "0 0 0 0 0 0 0 0 0 0 0 0 0 0 0 0 0 0 0 \n",
            "0 0 0 0 0 0 0 0 0 0 0 0 0 0 0 0 0 0 0 \n",
            "0 0 0 0 0 0 0 0 0 0 0 0 0 0 0 0 0 0 0 \n",
            "0 0 0 0 0 0 0 0 0 0 0 0 0 0 0 0 0 0 0 \n",
            "0 0 0 0 0 0 0 0 0 0 0 0 0 0 0 0 0 0 0 \n",
            "0 0 0 0 0 0 0 0 0 0 0 0 0 0 0 0 0 0 0 \n",
            "0 0 0 0 0 0 0 0 0 0 0 0 0 0 0 0 0 0 0 \n",
            "0 0 0 0 0 0 0 0 0 0 0 0 0 0 0 0 0 0 0 \n",
            "0 0 0 0 0 0 0 0 0 0 0 0 0 0 0 0 0 0 0 \n",
            "0 0 0 0 0 0 0 0 0 0 0 0 0 0 0 0 0 0 0 \n",
            "0 0 0 0 0 0 0 0 0 0 0 0 0 0 0 0 0 0 0 \n",
            "0 0 0 0 0 0 0 0 0 0 0 0 0 0 0 0 0 0 0 \n",
            "0 0 0 0 0 0 0 0 0 0 0 0 0 0 0 0 0 0 0 \n",
            "0 0 0 0 0 0 0 0 0 0 0 0 0 0 0 0 0 0 0 \n",
            "0 0 0 0 0 0 0 0 0 0 0 0 0 0 0 0 0 0 1 \n"
          ],
          "name": "stdout"
        }
      ]
    },
    {
      "cell_type": "code",
      "metadata": {
        "colab": {
          "base_uri": "https://localhost:8080/"
        },
        "id": "cMWBs8jE9iUi",
        "outputId": "3772214a-711f-4f18-e431-47991435bc2f"
      },
      "source": [
        "# 97\r\n",
        "a = [[0]*19]*19\r\n",
        "\r\n",
        "for i in range(19):\r\n",
        "    a[i] = list(map(int, input().split()))\r\n",
        "\r\n",
        "n = int(input())\r\n",
        "\r\n",
        "for k in range(n):\r\n",
        "    x, y = map(int, input().split())\r\n",
        "\r\n",
        "    for l in range(19):\r\n",
        "        if a[x-1][l] == 0: # x 축 뒤집기\r\n",
        "            a[x-1][l] = 1\r\n",
        "        else :\r\n",
        "            a[x-1][l] = 0\r\n",
        "        if a[l][y-1] == 0: # y 축 뒤집기\r\n",
        "            a[l][y-1] = 1\r\n",
        "        else:\r\n",
        "            a[l][y-1] = 0\r\n",
        "\r\n",
        "for o in range(19):\r\n",
        "    for p in range(19):\r\n",
        "        print(a[o][p], end = ' ')\r\n",
        "    print()"
      ],
      "execution_count": 32,
      "outputs": [
        {
          "output_type": "stream",
          "text": [
            "0 0 0 0 0 0 0 0 0 1 0 1 0 0 0 0 0 0 0\n",
            "0 0 0 0 0 0 0 0 0 1 0 1 0 0 0 0 0 0 0\n",
            "0 0 0 0 0 0 0 0 0 1 0 1 0 0 0 0 0 0 0\n",
            "0 0 0 0 0 0 0 0 0 1 0 1 0 0 0 0 0 0 0\n",
            "0 0 0 0 0 0 0 0 0 1 0 1 0 0 0 0 0 0 0\n",
            "0 0 0 0 0 0 0 0 0 1 0 1 0 0 0 0 0 0 0\n",
            "0 0 0 0 0 0 0 0 0 1 0 1 0 0 0 0 0 0 0\n",
            "0 0 0 0 0 0 0 0 0 1 0 1 0 0 0 0 0 0 0\n",
            "0 0 0 0 0 0 0 0 0 1 0 1 0 0 0 0 0 0 0\n",
            "1 1 1 1 1 1 1 1 1 1 1 1 1 1 1 1 1 1 1\n",
            "0 0 0 0 0 0 0 0 0 1 0 1 0 0 0 0 0 0 0\n",
            "1 1 1 1 1 1 1 1 1 1 1 1 1 1 1 1 1 1 1\n",
            "0 0 0 0 0 0 0 0 0 1 0 1 0 0 0 0 0 0 0\n",
            "0 0 0 0 0 0 0 0 0 1 0 1 0 0 0 0 0 0 0\n",
            "0 0 0 0 0 0 0 0 0 1 0 1 0 0 0 0 0 0 0\n",
            "0 0 0 0 0 0 0 0 0 1 0 1 0 0 0 0 0 0 0\n",
            "0 0 0 0 0 0 0 0 0 1 0 1 0 0 0 0 0 0 0\n",
            "0 0 0 0 0 0 0 0 0 1 0 1 0 0 0 0 0 0 0\n",
            "0 0 0 0 0 0 0 0 0 1 0 1 0 0 0 0 0 0 0\n",
            "2\n",
            "10 10\n",
            "12 12\n",
            "0 0 0 0 0 0 0 0 0 0 0 0 0 0 0 0 0 0 0 \n",
            "0 0 0 0 0 0 0 0 0 0 0 0 0 0 0 0 0 0 0 \n",
            "0 0 0 0 0 0 0 0 0 0 0 0 0 0 0 0 0 0 0 \n",
            "0 0 0 0 0 0 0 0 0 0 0 0 0 0 0 0 0 0 0 \n",
            "0 0 0 0 0 0 0 0 0 0 0 0 0 0 0 0 0 0 0 \n",
            "0 0 0 0 0 0 0 0 0 0 0 0 0 0 0 0 0 0 0 \n",
            "0 0 0 0 0 0 0 0 0 0 0 0 0 0 0 0 0 0 0 \n",
            "0 0 0 0 0 0 0 0 0 0 0 0 0 0 0 0 0 0 0 \n",
            "0 0 0 0 0 0 0 0 0 0 0 0 0 0 0 0 0 0 0 \n",
            "0 0 0 0 0 0 0 0 0 1 0 1 0 0 0 0 0 0 0 \n",
            "0 0 0 0 0 0 0 0 0 0 0 0 0 0 0 0 0 0 0 \n",
            "0 0 0 0 0 0 0 0 0 1 0 1 0 0 0 0 0 0 0 \n",
            "0 0 0 0 0 0 0 0 0 0 0 0 0 0 0 0 0 0 0 \n",
            "0 0 0 0 0 0 0 0 0 0 0 0 0 0 0 0 0 0 0 \n",
            "0 0 0 0 0 0 0 0 0 0 0 0 0 0 0 0 0 0 0 \n",
            "0 0 0 0 0 0 0 0 0 0 0 0 0 0 0 0 0 0 0 \n",
            "0 0 0 0 0 0 0 0 0 0 0 0 0 0 0 0 0 0 0 \n",
            "0 0 0 0 0 0 0 0 0 0 0 0 0 0 0 0 0 0 0 \n",
            "0 0 0 0 0 0 0 0 0 0 0 0 0 0 0 0 0 0 0 \n"
          ],
          "name": "stdout"
        }
      ]
    },
    {
      "cell_type": "code",
      "metadata": {
        "colab": {
          "base_uri": "https://localhost:8080/"
        },
        "id": "hVyH3ybN9iX8",
        "outputId": "85123579-06fe-4542-c974-e9e63f5f4762"
      },
      "source": [
        "# 98\r\n",
        "h, w = map(int ,input().split())\r\n",
        "n = int(input())\r\n",
        "a = [[0] * w for _ in range(h)]\r\n",
        "\r\n",
        "for i in range(n):\r\n",
        "    l, d, x, y = map(int,input().split())\r\n",
        "    for j in range(l):\r\n",
        "        if d == 0:\r\n",
        "            a[x-1][y-1+j] = 1\r\n",
        "        else:\r\n",
        "            a[x-1+j][y-1] = 1\r\n",
        "\r\n",
        "for k in range(h):\r\n",
        "    for l in range(w):\r\n",
        "        print(a[k][l], end = ' ')\r\n",
        "    print()"
      ],
      "execution_count": 43,
      "outputs": [
        {
          "output_type": "stream",
          "text": [
            "5 5\n",
            "3\n",
            "2 0 1 1\n",
            "3 1 2 3\n",
            "4 1 2 5\n",
            "1 1 0 0 0 \n",
            "0 0 1 0 1 \n",
            "0 0 1 0 1 \n",
            "0 0 1 0 1 \n",
            "0 0 0 0 1 \n"
          ],
          "name": "stdout"
        }
      ]
    },
    {
      "cell_type": "code",
      "metadata": {
        "colab": {
          "base_uri": "https://localhost:8080/"
        },
        "id": "95MoaNtL9iay",
        "outputId": "78c0c5c0-209d-4f30-f3e9-f324188f6eca"
      },
      "source": [
        "# 99\r\n",
        "a = []\r\n",
        "\r\n",
        "for i in range(10):\r\n",
        "    a.append(list(map(int, input().split())))\r\n",
        "\r\n",
        "x = 1\r\n",
        "y = 1\r\n",
        "\r\n",
        "while True:\r\n",
        "    if a[x][y] == 0:\r\n",
        "        a[x][y] = 9\r\n",
        "    elif a[x][y] == 2:\r\n",
        "        a[x][y] = 9\r\n",
        "        break;\r\n",
        "    \r\n",
        "    if a[x][y+1] == 1 and a[x+1][y] == 1:\r\n",
        "        break\r\n",
        "    \r\n",
        "    if a[x][y+1] != 1:\r\n",
        "        y = y + 1\r\n",
        "    elif a[x+1][y] != 1:\r\n",
        "        x = x + 1\r\n",
        "    \r\n",
        "for i in range(10):\r\n",
        "    for j in range(10):\r\n",
        "        print(a[i][j], end = ' ')\r\n",
        "    print()"
      ],
      "execution_count": 48,
      "outputs": [
        {
          "output_type": "stream",
          "text": [
            "1 1 1 1 1 1 1 1 1 1\n",
            "1 0 0 1 0 0 0 0 0 1\n",
            "1 0 0 1 1 1 0 0 0 1\n",
            "1 0 0 0 0 0 0 1 0 1\n",
            "1 0 0 0 0 0 0 1 0 1\n",
            "1 0 0 0 0 1 0 1 0 1\n",
            "1 0 0 0 0 1 2 1 0 1\n",
            "1 0 0 0 0 1 0 0 0 1\n",
            "1 0 0 0 0 0 0 0 0 1\n",
            "1 1 1 1 1 1 1 1 1 1\n",
            "1 1 1 1 1 1 1 1 1 1 \n",
            "1 9 9 1 0 0 0 0 0 1 \n",
            "1 0 9 1 1 1 0 0 0 1 \n",
            "1 0 9 9 9 9 9 1 0 1 \n",
            "1 0 0 0 0 0 9 1 0 1 \n",
            "1 0 0 0 0 1 9 1 0 1 \n",
            "1 0 0 0 0 1 9 1 0 1 \n",
            "1 0 0 0 0 1 0 0 0 1 \n",
            "1 0 0 0 0 0 0 0 0 1 \n",
            "1 1 1 1 1 1 1 1 1 1 \n"
          ],
          "name": "stdout"
        }
      ]
    }
  ]
}