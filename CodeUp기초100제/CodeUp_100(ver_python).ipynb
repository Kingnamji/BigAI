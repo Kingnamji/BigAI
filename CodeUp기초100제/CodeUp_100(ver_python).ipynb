{
  "nbformat": 4,
  "nbformat_minor": 0,
  "metadata": {
    "colab": {
      "name": "CodeUp_100(ver.python)",
      "provenance": []
    },
    "kernelspec": {
      "name": "python3",
      "display_name": "Python 3"
    }
  },
  "cells": [
    {
      "cell_type": "code",
      "metadata": {
        "colab": {
          "base_uri": "https://localhost:8080/"
        },
        "id": "Hoxp-FHeQIXf",
        "outputId": "603af3ac-99d9-447b-ef79-b950dcfa51bf"
      },
      "source": [
        "# 1 \r\n",
        "print(\"Hello\")"
      ],
      "execution_count": null,
      "outputs": [
        {
          "output_type": "stream",
          "text": [
            "Hello\n"
          ],
          "name": "stdout"
        }
      ]
    },
    {
      "cell_type": "code",
      "metadata": {
        "colab": {
          "base_uri": "https://localhost:8080/"
        },
        "id": "AW6iBapTRSbs",
        "outputId": "41a79579-65c9-425e-e63f-6deab3dac13b"
      },
      "source": [
        "# 2\r\n",
        "print(\"Hello World\")"
      ],
      "execution_count": null,
      "outputs": [
        {
          "output_type": "stream",
          "text": [
            "Hello World\n"
          ],
          "name": "stdout"
        }
      ]
    },
    {
      "cell_type": "code",
      "metadata": {
        "colab": {
          "base_uri": "https://localhost:8080/"
        },
        "id": "1aQxAqPdRSkT",
        "outputId": "c9d31e11-33f5-45c8-91d4-652d202ccdf7"
      },
      "source": [
        "# 3\r\n",
        "print(\"Hello\")\r\n",
        "print(\"World\")"
      ],
      "execution_count": null,
      "outputs": [
        {
          "output_type": "stream",
          "text": [
            "Hello\n",
            "World\n"
          ],
          "name": "stdout"
        }
      ]
    },
    {
      "cell_type": "code",
      "metadata": {
        "colab": {
          "base_uri": "https://localhost:8080/"
        },
        "id": "a0wJD2PeRTGc",
        "outputId": "55e61eee-901d-49a0-e900-279902d7320b"
      },
      "source": [
        "# 4\r\n",
        "print(\"'Hello'\")"
      ],
      "execution_count": null,
      "outputs": [
        {
          "output_type": "stream",
          "text": [
            "'Hello'\n"
          ],
          "name": "stdout"
        }
      ]
    },
    {
      "cell_type": "code",
      "metadata": {
        "colab": {
          "base_uri": "https://localhost:8080/"
        },
        "id": "Vjjm9HulRTKs",
        "outputId": "425a2c93-567d-4af2-fde2-04f78d9cedac"
      },
      "source": [
        "# 5\r\n",
        "print('\"Hello World\"')"
      ],
      "execution_count": null,
      "outputs": [
        {
          "output_type": "stream",
          "text": [
            "\"Hello World\"\n"
          ],
          "name": "stdout"
        }
      ]
    },
    {
      "cell_type": "code",
      "metadata": {
        "colab": {
          "base_uri": "https://localhost:8080/"
        },
        "id": "OUEVptDjRTOb",
        "outputId": "97836399-96c1-4c8a-9a48-cdf04e9f4e89"
      },
      "source": [
        "# 6\r\n",
        "print(\"\\\"!@#$%^&*()\\'\")"
      ],
      "execution_count": null,
      "outputs": [
        {
          "output_type": "stream",
          "text": [
            "\"!@#$%^&*()'\n"
          ],
          "name": "stdout"
        }
      ]
    },
    {
      "cell_type": "code",
      "metadata": {
        "colab": {
          "base_uri": "https://localhost:8080/"
        },
        "id": "ZbC9SjePRTST",
        "outputId": "4704e71b-f1c0-4128-cb94-300cdb86f82a"
      },
      "source": [
        "# 7\r\n",
        "print(\"\\\"C:\\Download\\\\'hello'.py\\\"\")"
      ],
      "execution_count": null,
      "outputs": [
        {
          "output_type": "stream",
          "text": [
            "\"C:\\Download\\'hello'.py\"\n"
          ],
          "name": "stdout"
        }
      ]
    },
    {
      "cell_type": "code",
      "metadata": {
        "colab": {
          "base_uri": "https://localhost:8080/"
        },
        "id": "WDLpZaVYRTVs",
        "outputId": "24a97634-025a-4945-b00c-fe18a57f64c6"
      },
      "source": [
        "# 8\r\n",
        "print('print(\"Hello\\\\nWorld\")')"
      ],
      "execution_count": null,
      "outputs": [
        {
          "output_type": "stream",
          "text": [
            "print(\"Hello\\nWorld\")\n"
          ],
          "name": "stdout"
        }
      ]
    },
    {
      "cell_type": "code",
      "metadata": {
        "colab": {
          "base_uri": "https://localhost:8080/"
        },
        "id": "h4cTDOBhRTY7",
        "outputId": "6d325d8b-f5c1-4248-865b-695a218189ab"
      },
      "source": [
        "# 9 \r\n",
        "char = input()\r\n",
        "print(char)"
      ],
      "execution_count": null,
      "outputs": [
        {
          "output_type": "stream",
          "text": [
            "a\n",
            "a\n"
          ],
          "name": "stdout"
        }
      ]
    },
    {
      "cell_type": "code",
      "metadata": {
        "colab": {
          "base_uri": "https://localhost:8080/"
        },
        "id": "aA_-_xZ8RTb8",
        "outputId": "5dcb3801-e071-4770-f36f-a1b7f9cab0f0"
      },
      "source": [
        "# 10\r\n",
        "n = int(input())\r\n",
        "print(n)"
      ],
      "execution_count": null,
      "outputs": [
        {
          "output_type": "stream",
          "text": [
            "15\n",
            "15\n"
          ],
          "name": "stdout"
        }
      ]
    },
    {
      "cell_type": "code",
      "metadata": {
        "colab": {
          "base_uri": "https://localhost:8080/"
        },
        "id": "VVTdGCy-Tli8",
        "outputId": "c0f3022b-7592-44d3-f5e6-54cdbf69c66d"
      },
      "source": [
        "# 11\r\n",
        "n = input()\r\n",
        "print(n)"
      ],
      "execution_count": null,
      "outputs": [
        {
          "output_type": "stream",
          "text": [
            "1.421323\n",
            "1.421323\n"
          ],
          "name": "stdout"
        }
      ]
    },
    {
      "cell_type": "code",
      "metadata": {
        "colab": {
          "base_uri": "https://localhost:8080/"
        },
        "id": "BgsjSLiETolz",
        "outputId": "8e3441e4-78d3-4c13-f7c3-1b642a122a59"
      },
      "source": [
        "# 12\r\n",
        "a = int(input())\r\n",
        "b = int(input())\r\n",
        "print(a)\r\n",
        "print(b)"
      ],
      "execution_count": null,
      "outputs": [
        {
          "output_type": "stream",
          "text": [
            "1\n",
            "2\n",
            "1\n",
            "2\n"
          ],
          "name": "stdout"
        }
      ]
    },
    {
      "cell_type": "code",
      "metadata": {
        "colab": {
          "base_uri": "https://localhost:8080/"
        },
        "id": "BfoGmcvuTwya",
        "outputId": "ca02d888-e103-4bfd-97e6-5d141e003a42"
      },
      "source": [
        "# 13\r\n",
        "a = input()\r\n",
        "b = input()\r\n",
        "print(b)\r\n",
        "print(a)"
      ],
      "execution_count": null,
      "outputs": [
        {
          "output_type": "stream",
          "text": [
            "a\n",
            "b\n",
            "b\n",
            "a\n"
          ],
          "name": "stdout"
        }
      ]
    },
    {
      "cell_type": "code",
      "metadata": {
        "colab": {
          "base_uri": "https://localhost:8080/"
        },
        "id": "sZKAvnJMUGza",
        "outputId": "a60ebb06-a922-4850-8111-09fc90fb9b6c"
      },
      "source": [
        "# 14\r\n",
        "f = float(input())\r\n",
        "print(f)\r\n",
        "print(f)\r\n",
        "print(f)"
      ],
      "execution_count": null,
      "outputs": [
        {
          "output_type": "stream",
          "text": [
            "0.1\n",
            "0.1\n",
            "0.1\n",
            "0.1\n"
          ],
          "name": "stdout"
        }
      ]
    },
    {
      "cell_type": "code",
      "metadata": {
        "colab": {
          "base_uri": "https://localhost:8080/"
        },
        "id": "BzYEc62IURaK",
        "outputId": "372df607-522b-43b8-dbbc-eec053ef1eda"
      },
      "source": [
        "# 15\r\n",
        "a, b = map(int, input().split())\r\n",
        "\r\n",
        "print(a)\r\n",
        "print(b)"
      ],
      "execution_count": null,
      "outputs": [
        {
          "output_type": "stream",
          "text": [
            "1 2\n",
            "1\n",
            "2\n"
          ],
          "name": "stdout"
        }
      ]
    },
    {
      "cell_type": "code",
      "metadata": {
        "colab": {
          "base_uri": "https://localhost:8080/"
        },
        "id": "myOoQQ-WUhEp",
        "outputId": "ba11375b-2469-40d3-d199-7747b3a90a37"
      },
      "source": [
        "# 16\r\n",
        "c1, c2 = input().split()\r\n",
        "\r\n",
        "print(c2, c1)"
      ],
      "execution_count": null,
      "outputs": [
        {
          "output_type": "stream",
          "text": [
            "a b\n",
            "b a\n"
          ],
          "name": "stdout"
        }
      ]
    },
    {
      "cell_type": "code",
      "metadata": {
        "colab": {
          "base_uri": "https://localhost:8080/"
        },
        "id": "33oGBvqIUpFC",
        "outputId": "a57b47dc-9b26-4f91-d02d-2c51d824151d"
      },
      "source": [
        "# 17\r\n",
        "s = input()\r\n",
        "print(s, s, s)"
      ],
      "execution_count": null,
      "outputs": [
        {
          "output_type": "stream",
          "text": [
            "computer science\n",
            "computer science computer science computer science\n"
          ],
          "name": "stdout"
        }
      ]
    },
    {
      "cell_type": "code",
      "metadata": {
        "colab": {
          "base_uri": "https://localhost:8080/"
        },
        "id": "7FynlaWgVAPS",
        "outputId": "4d820af0-a669-40a3-dbe3-cf2dabc5fded"
      },
      "source": [
        "# 18\r\n",
        "hour, minute = input().split(':')\r\n",
        "print(hour, minute, sep=':')"
      ],
      "execution_count": null,
      "outputs": [
        {
          "output_type": "stream",
          "text": [
            "3:16\n",
            "3:16\n"
          ],
          "name": "stdout"
        }
      ]
    },
    {
      "cell_type": "code",
      "metadata": {
        "colab": {
          "base_uri": "https://localhost:8080/"
        },
        "id": "t1CJjm2OVLWh",
        "outputId": "088f77c5-03b0-45f9-dcf7-f27863f3b985"
      },
      "source": [
        "# 19\r\n",
        "year, month, day = input().split('.')\r\n",
        "print(day, month, year, sep='-')"
      ],
      "execution_count": null,
      "outputs": [
        {
          "output_type": "stream",
          "text": [
            "2020.3.4\n",
            "4-3-2020\n"
          ],
          "name": "stdout"
        }
      ]
    },
    {
      "cell_type": "code",
      "metadata": {
        "colab": {
          "base_uri": "https://localhost:8080/"
        },
        "id": "MRSyk4nPVfXK",
        "outputId": "f84459f9-063a-4756-ac6d-4e917c9ae691"
      },
      "source": [
        "# 20\r\n",
        "first, second = input().split('-')\r\n",
        "print(first, second, sep = '')"
      ],
      "execution_count": null,
      "outputs": [
        {
          "output_type": "stream",
          "text": [
            "000907-1121112\n",
            "0009071121112\n"
          ],
          "name": "stdout"
        }
      ]
    },
    {
      "cell_type": "code",
      "metadata": {
        "colab": {
          "base_uri": "https://localhost:8080/"
        },
        "id": "V7UU4nuuVy5m",
        "outputId": "fbe43c71-44a4-46d0-9944-a5ddc5ae37d5"
      },
      "source": [
        "# 21\r\n",
        "s = input()\r\n",
        "for i in s:\r\n",
        "    print(i)"
      ],
      "execution_count": null,
      "outputs": [
        {
          "output_type": "stream",
          "text": [
            "Hello\n",
            "H\n",
            "e\n",
            "l\n",
            "l\n",
            "o\n"
          ],
          "name": "stdout"
        }
      ]
    },
    {
      "cell_type": "code",
      "metadata": {
        "colab": {
          "base_uri": "https://localhost:8080/"
        },
        "id": "kCp7pgAOWBdp",
        "outputId": "8d09700a-70c7-4786-a3b1-a3ab2be54e2f"
      },
      "source": [
        "# 22\r\n",
        "s = input()\r\n",
        "print(s[0:2],s[2:4],s[4:6])"
      ],
      "execution_count": null,
      "outputs": [
        {
          "output_type": "stream",
          "text": [
            "200304\n",
            "20 03 04\n"
          ],
          "name": "stdout"
        }
      ]
    },
    {
      "cell_type": "code",
      "metadata": {
        "colab": {
          "base_uri": "https://localhost:8080/"
        },
        "id": "lXTbIDnDWbgi",
        "outputId": "5f23d7e5-d0f8-4849-b7f7-c41e746f0609"
      },
      "source": [
        "# 23\r\n",
        "h, m, s= input().split(':')\r\n",
        "print(m)"
      ],
      "execution_count": null,
      "outputs": [
        {
          "output_type": "stream",
          "text": [
            "17:23:57\n",
            "23\n"
          ],
          "name": "stdout"
        }
      ]
    },
    {
      "cell_type": "code",
      "metadata": {
        "colab": {
          "base_uri": "https://localhost:8080/"
        },
        "id": "HB4gxhmaWvGp",
        "outputId": "d89c11c8-b7c0-45e9-97b9-d6575c444a82"
      },
      "source": [
        "# 24\r\n",
        "w1, w2 = input().split()\r\n",
        "print(w1+w2)"
      ],
      "execution_count": null,
      "outputs": [
        {
          "output_type": "stream",
          "text": [
            "hello world\n",
            "helloworld\n"
          ],
          "name": "stdout"
        }
      ]
    },
    {
      "cell_type": "code",
      "metadata": {
        "colab": {
          "base_uri": "https://localhost:8080/"
        },
        "id": "hWWGKWXVW4fS",
        "outputId": "f8957d78-db59-4cf5-aa0c-e8a49ac5dcd0"
      },
      "source": [
        "# 25\r\n",
        "a, b = map(int, input().split())\r\n",
        "print(a+b)"
      ],
      "execution_count": null,
      "outputs": [
        {
          "output_type": "stream",
          "text": [
            "123 -123\n",
            "0\n"
          ],
          "name": "stdout"
        }
      ]
    },
    {
      "cell_type": "code",
      "metadata": {
        "colab": {
          "base_uri": "https://localhost:8080/"
        },
        "id": "vCv1_rElXGGS",
        "outputId": "273647e4-2bf4-4c19-85c8-a2b26d0bc99f"
      },
      "source": [
        "# 26\r\n",
        "a = float(input())\r\n",
        "b = float(input())\r\n",
        "print(a+b)"
      ],
      "execution_count": null,
      "outputs": [
        {
          "output_type": "stream",
          "text": [
            "0.1\n",
            "0.9\n",
            "1.0\n"
          ],
          "name": "stdout"
        }
      ]
    },
    {
      "cell_type": "code",
      "metadata": {
        "colab": {
          "base_uri": "https://localhost:8080/"
        },
        "id": "ukdi1QXtXSdB",
        "outputId": "d1ac8956-6f88-4935-c614-3f62e7de2adb"
      },
      "source": [
        "# 27\r\n",
        "a = int(input())\r\n",
        "print(\"%x\" %a)"
      ],
      "execution_count": null,
      "outputs": [
        {
          "output_type": "stream",
          "text": [
            "255\n",
            "ff\n"
          ],
          "name": "stdout"
        }
      ]
    },
    {
      "cell_type": "code",
      "metadata": {
        "colab": {
          "base_uri": "https://localhost:8080/"
        },
        "id": "QmfDbuTQXby7",
        "outputId": "bee407f4-03bb-4438-e867-45ca627e95a3"
      },
      "source": [
        "# 28\r\n",
        "a = int(input())\r\n",
        "print(\"%X\" %a)"
      ],
      "execution_count": null,
      "outputs": [
        {
          "output_type": "stream",
          "text": [
            "255\n",
            "FF\n"
          ],
          "name": "stdout"
        }
      ]
    },
    {
      "cell_type": "code",
      "metadata": {
        "colab": {
          "base_uri": "https://localhost:8080/"
        },
        "id": "B-DCs_Q1X0bv",
        "outputId": "3ce6baec-4c86-482d-e509-e6bae951eac8"
      },
      "source": [
        "# 29\r\n",
        "a = int(input(), 16)\r\n",
        "print(\"%o\" %a)"
      ],
      "execution_count": null,
      "outputs": [
        {
          "output_type": "stream",
          "text": [
            "f\n",
            "17\n"
          ],
          "name": "stdout"
        }
      ]
    },
    {
      "cell_type": "code",
      "metadata": {
        "colab": {
          "base_uri": "https://localhost:8080/"
        },
        "id": "Oj3RWlayX0ZZ",
        "outputId": "ffe82382-be09-478f-a299-a743ab2c6353"
      },
      "source": [
        "# 30\r\n",
        "n = ord(input())\r\n",
        "print(n)"
      ],
      "execution_count": null,
      "outputs": [
        {
          "output_type": "stream",
          "text": [
            "A\n",
            "65\n"
          ],
          "name": "stdout"
        }
      ]
    },
    {
      "cell_type": "code",
      "metadata": {
        "colab": {
          "base_uri": "https://localhost:8080/"
        },
        "id": "Wwttq-B0X0W6",
        "outputId": "bd1c74b0-9872-4308-ee8d-aa2e3886be10"
      },
      "source": [
        "# 31\r\n",
        "c = int(input())\r\n",
        "print(chr(c))"
      ],
      "execution_count": null,
      "outputs": [
        {
          "output_type": "stream",
          "text": [
            "65\n",
            "A\n"
          ],
          "name": "stdout"
        }
      ]
    },
    {
      "cell_type": "code",
      "metadata": {
        "colab": {
          "base_uri": "https://localhost:8080/"
        },
        "id": "k2CUrRGNX0Uh",
        "outputId": "875d81b2-c6b8-4589-bd3c-56583537a03e"
      },
      "source": [
        "# 32\r\n",
        "n = int(input())\r\n",
        "print(-n)"
      ],
      "execution_count": null,
      "outputs": [
        {
          "output_type": "stream",
          "text": [
            "-1\n",
            "1\n"
          ],
          "name": "stdout"
        }
      ]
    },
    {
      "cell_type": "code",
      "metadata": {
        "colab": {
          "base_uri": "https://localhost:8080/"
        },
        "id": "Ti4MUECRX0O6",
        "outputId": "0b94119d-d15f-4864-afeb-c9a0ee7365d2"
      },
      "source": [
        "# 33\r\n",
        "n = ord(input())\r\n",
        "n = n+1\r\n",
        "print(chr(n))"
      ],
      "execution_count": null,
      "outputs": [
        {
          "output_type": "stream",
          "text": [
            "a\n",
            "b\n"
          ],
          "name": "stdout"
        }
      ]
    },
    {
      "cell_type": "code",
      "metadata": {
        "colab": {
          "base_uri": "https://localhost:8080/"
        },
        "id": "rm8La0YrX0Gg",
        "outputId": "e3f26a20-21e1-4fc2-fe71-5ebe0d14efbe"
      },
      "source": [
        "# 34\r\n",
        "a, b = map(int, input().split())\r\n",
        "c = a - b\r\n",
        "print(c)"
      ],
      "execution_count": null,
      "outputs": [
        {
          "output_type": "stream",
          "text": [
            "123 -123\n",
            "246\n"
          ],
          "name": "stdout"
        }
      ]
    },
    {
      "cell_type": "code",
      "metadata": {
        "colab": {
          "base_uri": "https://localhost:8080/"
        },
        "id": "YU71TjlOYeUG",
        "outputId": "daf3a584-1c52-4e3f-9586-9037a4bcb65c"
      },
      "source": [
        "# 35\r\n",
        "a, b = map(float, input().split())\r\n",
        "c = a * b\r\n",
        "print(c)"
      ],
      "execution_count": null,
      "outputs": [
        {
          "output_type": "stream",
          "text": [
            "0.5 2.0\n",
            "1.0\n"
          ],
          "name": "stdout"
        }
      ]
    },
    {
      "cell_type": "code",
      "metadata": {
        "colab": {
          "base_uri": "https://localhost:8080/"
        },
        "id": "3oFOiBkwYqgu",
        "outputId": "990a833e-326a-450b-871c-c1395e98b2aa"
      },
      "source": [
        "# 36\r\n",
        "w, n =input().split()\r\n",
        "print(w * int(n))"
      ],
      "execution_count": null,
      "outputs": [
        {
          "output_type": "stream",
          "text": [
            "love 3\n",
            "lovelovelove\n"
          ],
          "name": "stdout"
        }
      ]
    },
    {
      "cell_type": "code",
      "metadata": {
        "colab": {
          "base_uri": "https://localhost:8080/"
        },
        "id": "cP7IEY57Ywwg",
        "outputId": "c602f5b9-c420-4253-d1d9-82e982295b55"
      },
      "source": [
        "# 37\r\n",
        "n = int(input())\r\n",
        "s = input()\r\n",
        "print(n * s)"
      ],
      "execution_count": null,
      "outputs": [
        {
          "output_type": "stream",
          "text": [
            "3\n",
            "I love CS\n",
            "I love CSI love CSI love CS\n"
          ],
          "name": "stdout"
        }
      ]
    },
    {
      "cell_type": "code",
      "metadata": {
        "colab": {
          "base_uri": "https://localhost:8080/"
        },
        "id": "aTYr4xKPY4Ak",
        "outputId": "fc8c4e59-10c6-4e0c-b8b7-8977dd709da7"
      },
      "source": [
        "# 38\r\n",
        "a, b = map(int, input().split())\r\n",
        "print(a ** b)"
      ],
      "execution_count": null,
      "outputs": [
        {
          "output_type": "stream",
          "text": [
            "2 10\n",
            "1024\n"
          ],
          "name": "stdout"
        }
      ]
    },
    {
      "cell_type": "code",
      "metadata": {
        "colab": {
          "base_uri": "https://localhost:8080/"
        },
        "id": "lprKgq4RZAWp",
        "outputId": "6241be03-05dc-4615-edf0-b6976782d1ea"
      },
      "source": [
        "# 39\r\n",
        "f1, f2 = map(float, input().split())\r\n",
        "print(f1 ** f2)"
      ],
      "execution_count": null,
      "outputs": [
        {
          "output_type": "stream",
          "text": [
            "4.0 0.5\n",
            "2.0\n"
          ],
          "name": "stdout"
        }
      ]
    },
    {
      "cell_type": "code",
      "metadata": {
        "colab": {
          "base_uri": "https://localhost:8080/"
        },
        "id": "XIQpcoTeZLKf",
        "outputId": "b341536c-a8aa-418c-c2d0-7d4cc7ee0e7a"
      },
      "source": [
        "# 40\r\n",
        "a, b = map(int, input().split())\r\n",
        "print(a // b)"
      ],
      "execution_count": null,
      "outputs": [
        {
          "output_type": "stream",
          "text": [
            "10 3\n",
            "3\n"
          ],
          "name": "stdout"
        }
      ]
    },
    {
      "cell_type": "code",
      "metadata": {
        "colab": {
          "base_uri": "https://localhost:8080/"
        },
        "id": "1tVZKPIiZT0B",
        "outputId": "ab41692c-a6ce-4bf2-9805-2191bdcf1172"
      },
      "source": [
        "# 41\r\n",
        "a, b = map(int, input().split())\r\n",
        "print(a % b)"
      ],
      "execution_count": null,
      "outputs": [
        {
          "output_type": "stream",
          "text": [
            "10 3\n",
            "1\n"
          ],
          "name": "stdout"
        }
      ]
    },
    {
      "cell_type": "code",
      "metadata": {
        "colab": {
          "base_uri": "https://localhost:8080/"
        },
        "id": "4gcFSctsZa2Z",
        "outputId": "b0ac6976-0fec-4fbb-8283-22996f6784d1"
      },
      "source": [
        "# 42\r\n",
        "f = float(input())\r\n",
        "print(round(f, 2))"
      ],
      "execution_count": null,
      "outputs": [
        {
          "output_type": "stream",
          "text": [
            "3.141592\n",
            "3.14\n"
          ],
          "name": "stdout"
        }
      ]
    },
    {
      "cell_type": "code",
      "metadata": {
        "colab": {
          "base_uri": "https://localhost:8080/"
        },
        "id": "tSfFPwtHZe5o",
        "outputId": "98abcfef-3f19-444a-be67-7e420119b97c"
      },
      "source": [
        "# 43\r\n",
        "f1, f2 = map(float, input().split())\r\n",
        "f3 = round(f1/f2, 3)\r\n",
        "print(\"%.3f\" %f3)"
      ],
      "execution_count": 2,
      "outputs": [
        {
          "output_type": "stream",
          "text": [
            "10.0 0.0001\n",
            "100000.000\n"
          ],
          "name": "stdout"
        }
      ]
    },
    {
      "cell_type": "code",
      "metadata": {
        "colab": {
          "base_uri": "https://localhost:8080/"
        },
        "id": "7JUHcVmUaXiA",
        "outputId": "9ce9bf0a-6349-4eb8-c2f7-3fe836e8aa91"
      },
      "source": [
        "# 44\r\n",
        "a, b = map(int,input().split())\r\n",
        "print(a+b)\r\n",
        "print(a-b)\r\n",
        "print(a*b)\r\n",
        "print(a//b)\r\n",
        "print(a%b)\r\n",
        "print(round(a/b, 2))"
      ],
      "execution_count": null,
      "outputs": [
        {
          "output_type": "stream",
          "text": [
            "10 3\n",
            "13\n",
            "7\n",
            "30\n",
            "3\n",
            "1\n",
            "3.33\n"
          ],
          "name": "stdout"
        }
      ]
    },
    {
      "cell_type": "code",
      "metadata": {
        "colab": {
          "base_uri": "https://localhost:8080/"
        },
        "id": "bZdda8V9anEo",
        "outputId": "833dfbe7-8582-452f-909b-a237a969dacd"
      },
      "source": [
        "# 45\r\n",
        "a, b, c = map(int, input().split())\r\n",
        "print(a+b+c, round( (a+b+c)/3, 2))"
      ],
      "execution_count": null,
      "outputs": [
        {
          "output_type": "stream",
          "text": [
            "1 2 3\n",
            "6 2.0\n"
          ],
          "name": "stdout"
        }
      ]
    },
    {
      "cell_type": "code",
      "metadata": {
        "colab": {
          "base_uri": "https://localhost:8080/"
        },
        "id": "GFes_a7La3TI",
        "outputId": "dc534207-165d-4123-b235-43290813925d"
      },
      "source": [
        "# 46\r\n",
        "a = int(input())\r\n",
        "print(2*a)"
      ],
      "execution_count": null,
      "outputs": [
        {
          "output_type": "stream",
          "text": [
            "1024\n",
            "2048\n"
          ],
          "name": "stdout"
        }
      ]
    },
    {
      "cell_type": "code",
      "metadata": {
        "colab": {
          "base_uri": "https://localhost:8080/"
        },
        "id": "qxenIFp3bNbX",
        "outputId": "9db59986-7212-4761-c64e-393610517686"
      },
      "source": [
        "# 47\r\n",
        "a, b = map(int, input().split())\r\n",
        "print(a * (2**b))"
      ],
      "execution_count": null,
      "outputs": [
        {
          "output_type": "stream",
          "text": [
            "1 3\n",
            "8\n"
          ],
          "name": "stdout"
        }
      ]
    },
    {
      "cell_type": "code",
      "metadata": {
        "colab": {
          "base_uri": "https://localhost:8080/"
        },
        "id": "JoUzuplEbSnn",
        "outputId": "89f0aa35-eaec-42d5-de9c-9ab394b8140b"
      },
      "source": [
        "# 48\r\n",
        "a, b = map(int, input().split())\r\n",
        "print(a<b)"
      ],
      "execution_count": null,
      "outputs": [
        {
          "output_type": "stream",
          "text": [
            "123 456\n",
            "True\n"
          ],
          "name": "stdout"
        }
      ]
    },
    {
      "cell_type": "code",
      "metadata": {
        "colab": {
          "base_uri": "https://localhost:8080/"
        },
        "id": "GJ0prZx8bhxJ",
        "outputId": "79c7c2c1-4d30-4e8a-96a2-3ca2b17a8f56"
      },
      "source": [
        "# 49\r\n",
        "a, b = map(int, input().split())\r\n",
        "print(a==b)"
      ],
      "execution_count": null,
      "outputs": [
        {
          "output_type": "stream",
          "text": [
            "0 0\n",
            "True\n"
          ],
          "name": "stdout"
        }
      ]
    },
    {
      "cell_type": "code",
      "metadata": {
        "colab": {
          "base_uri": "https://localhost:8080/"
        },
        "id": "UUx8gq8Zbiml",
        "outputId": "c18a4abf-e90a-4319-c8b0-48057d23b291"
      },
      "source": [
        "# 50    \r\n",
        "a, b = map(int, input().split())\r\n",
        "print(a<=b)"
      ],
      "execution_count": null,
      "outputs": [
        {
          "output_type": "stream",
          "text": [
            "0 -1\n",
            "False\n"
          ],
          "name": "stdout"
        }
      ]
    },
    {
      "cell_type": "code",
      "metadata": {
        "colab": {
          "base_uri": "https://localhost:8080/"
        },
        "id": "8EMBzHS9biqg",
        "outputId": "e29b5aa1-cc8d-4bf9-e5f9-2827d3ceb4ce"
      },
      "source": [
        "# 51\r\n",
        "a, b = map(int, input().split())\r\n",
        "print(a!=b)"
      ],
      "execution_count": null,
      "outputs": [
        {
          "output_type": "stream",
          "text": [
            "0 1\n",
            "True\n"
          ],
          "name": "stdout"
        }
      ]
    },
    {
      "cell_type": "code",
      "metadata": {
        "colab": {
          "base_uri": "https://localhost:8080/"
        },
        "id": "Y2YWrPjUbit6",
        "outputId": "3b6d362e-5a09-4e3e-e51a-c8ee5dcb418a"
      },
      "source": [
        "# 52\r\n",
        "n = int(input())\r\n",
        "print(bool(n))"
      ],
      "execution_count": null,
      "outputs": [
        {
          "output_type": "stream",
          "text": [
            "0\n",
            "False\n"
          ],
          "name": "stdout"
        }
      ]
    },
    {
      "cell_type": "code",
      "metadata": {
        "colab": {
          "base_uri": "https://localhost:8080/"
        },
        "id": "1LRB4L-EbiwW",
        "outputId": "053bb679-ce5a-4777-eb37-891d9b8c12ce"
      },
      "source": [
        "# 53\r\n",
        "a = bool(int(input()))\r\n",
        "print(not a)"
      ],
      "execution_count": null,
      "outputs": [
        {
          "output_type": "stream",
          "text": [
            "1\n",
            "False\n"
          ],
          "name": "stdout"
        }
      ]
    },
    {
      "cell_type": "code",
      "metadata": {
        "colab": {
          "base_uri": "https://localhost:8080/"
        },
        "id": "43Dzvgm4bi3x",
        "outputId": "c67a102b-0b48-4403-848f-3b6bb486d83a"
      },
      "source": [
        "# 54\r\n",
        "a, b = map(int, input().split())\r\n",
        "print(bool(a and b))"
      ],
      "execution_count": null,
      "outputs": [
        {
          "output_type": "stream",
          "text": [
            "1 1\n",
            "True\n"
          ],
          "name": "stdout"
        }
      ]
    },
    {
      "cell_type": "code",
      "metadata": {
        "colab": {
          "base_uri": "https://localhost:8080/"
        },
        "id": "hpsxd60icOWH",
        "outputId": "27a75f22-b7d9-4972-f07a-939d5d025c27"
      },
      "source": [
        "# 55\r\n",
        "a, b = map(int, input().split())\r\n",
        "print(bool(a or b))"
      ],
      "execution_count": null,
      "outputs": [
        {
          "output_type": "stream",
          "text": [
            "1 1\n",
            "True\n"
          ],
          "name": "stdout"
        }
      ]
    },
    {
      "cell_type": "code",
      "metadata": {
        "colab": {
          "base_uri": "https://localhost:8080/"
        },
        "id": "plNPgduqcOZ5",
        "outputId": "1189c60e-67dd-4408-97cc-1bd9a71f9d41"
      },
      "source": [
        "# 56\r\n",
        "a, b = map(int, input().split())\r\n",
        "a = bool(a)\r\n",
        "b = bool(b)\r\n",
        "print( not(a and b) and (a or b))"
      ],
      "execution_count": null,
      "outputs": [
        {
          "output_type": "stream",
          "text": [
            "0 1\n",
            "True\n"
          ],
          "name": "stdout"
        }
      ]
    },
    {
      "cell_type": "code",
      "metadata": {
        "colab": {
          "base_uri": "https://localhost:8080/"
        },
        "id": "8FYwEHK0cOdW",
        "outputId": "b6a483f3-f68f-41d5-8455-322e014d6343"
      },
      "source": [
        "# 57\r\n",
        "a, b = map(int, input().split())\r\n",
        "a = bool(a)\r\n",
        "b = bool(b)\r\n",
        "print( (not a and not b) or (a and b))"
      ],
      "execution_count": null,
      "outputs": [
        {
          "output_type": "stream",
          "text": [
            "0 0\n",
            "True\n"
          ],
          "name": "stdout"
        }
      ]
    },
    {
      "cell_type": "code",
      "metadata": {
        "colab": {
          "base_uri": "https://localhost:8080/"
        },
        "id": "18Ho7yggcOgJ",
        "outputId": "feeba2b4-6674-4f51-863d-edb4268c7e17"
      },
      "source": [
        "# 58\r\n",
        "a, b = map(int, input().split())\r\n",
        "a = bool(a)\r\n",
        "b = bool(b)\r\n",
        "print( not a and not b )"
      ],
      "execution_count": null,
      "outputs": [
        {
          "output_type": "stream",
          "text": [
            "0 0\n",
            "True\n"
          ],
          "name": "stdout"
        }
      ]
    },
    {
      "cell_type": "code",
      "metadata": {
        "colab": {
          "base_uri": "https://localhost:8080/"
        },
        "id": "Ky6cXLnUcOjH",
        "outputId": "6f5d30e5-71f9-4ce9-b42f-f2358e9f0c9a"
      },
      "source": [
        "# 59\r\n",
        "n = int(input())\r\n",
        "print(~n)"
      ],
      "execution_count": null,
      "outputs": [
        {
          "output_type": "stream",
          "text": [
            "2 \n",
            "-3\n"
          ],
          "name": "stdout"
        }
      ]
    },
    {
      "cell_type": "code",
      "metadata": {
        "colab": {
          "base_uri": "https://localhost:8080/"
        },
        "id": "ERAIgSw1cOmR",
        "outputId": "847be910-d582-41ae-b5ea-3090ad2d7b34"
      },
      "source": [
        "# 60\r\n",
        "a,b = map(int,input().split())\r\n",
        "print(a&b)"
      ],
      "execution_count": null,
      "outputs": [
        {
          "output_type": "stream",
          "text": [
            "3 5\n",
            "1\n"
          ],
          "name": "stdout"
        }
      ]
    },
    {
      "cell_type": "code",
      "metadata": {
        "colab": {
          "base_uri": "https://localhost:8080/"
        },
        "id": "BGWQTj-icOpK",
        "outputId": "144c45de-90e7-453f-99a0-887aff3e7b7b"
      },
      "source": [
        "# 61\r\n",
        "a,b = map(int,input().split())\r\n",
        "print(a|b)"
      ],
      "execution_count": null,
      "outputs": [
        {
          "output_type": "stream",
          "text": [
            "3 5\n",
            "7\n"
          ],
          "name": "stdout"
        }
      ]
    },
    {
      "cell_type": "code",
      "metadata": {
        "colab": {
          "base_uri": "https://localhost:8080/"
        },
        "id": "CizYZxGocOsD",
        "outputId": "19c26938-c17c-4f17-8688-af762b78367b"
      },
      "source": [
        "# 62\r\n",
        "a,b = map(int,input().split())\r\n",
        "print(a^b)"
      ],
      "execution_count": null,
      "outputs": [
        {
          "output_type": "stream",
          "text": [
            "3 5\n",
            "6\n"
          ],
          "name": "stdout"
        }
      ]
    },
    {
      "cell_type": "code",
      "metadata": {
        "colab": {
          "base_uri": "https://localhost:8080/"
        },
        "id": "tYbx-HeqcOvX",
        "outputId": "03d2a4c6-97c0-485a-8fa5-b1550086c046"
      },
      "source": [
        "# 63 \r\n",
        "a,b = map(int,input().split())\r\n",
        "print(a if a>b else b) "
      ],
      "execution_count": null,
      "outputs": [
        {
          "output_type": "stream",
          "text": [
            "123 456\n",
            "456\n"
          ],
          "name": "stdout"
        }
      ]
    },
    {
      "cell_type": "code",
      "metadata": {
        "colab": {
          "base_uri": "https://localhost:8080/"
        },
        "id": "zIKZ5omUcOx-",
        "outputId": "c1e66c6e-9409-4900-ea8f-8d4147901bff"
      },
      "source": [
        "# 64\r\n",
        "a, b, c = map(int,input().split())\r\n",
        "n = (a if a<b else b) \r\n",
        "print(n if n<c else c) "
      ],
      "execution_count": null,
      "outputs": [
        {
          "output_type": "stream",
          "text": [
            "3 -1 5\n",
            "-1\n"
          ],
          "name": "stdout"
        }
      ]
    },
    {
      "cell_type": "code",
      "metadata": {
        "colab": {
          "base_uri": "https://localhost:8080/"
        },
        "id": "sNEQ2Gm2cO02",
        "outputId": "5eddd5ca-d32f-4fc3-9cba-b7f8bf2027f9"
      },
      "source": [
        "# 65\r\n",
        "a, b, c = map(int, input().split())\r\n",
        "\r\n",
        "if a%2 == 0:\r\n",
        "    print(a)\r\n",
        "\r\n",
        "if b%2 == 0:\r\n",
        "    print(b)\r\n",
        "    \r\n",
        "if c%2 == 0:\r\n",
        "    print(c)"
      ],
      "execution_count": null,
      "outputs": [
        {
          "output_type": "stream",
          "text": [
            "1 2 4\n",
            "2\n",
            "4\n"
          ],
          "name": "stdout"
        }
      ]
    },
    {
      "cell_type": "code",
      "metadata": {
        "colab": {
          "base_uri": "https://localhost:8080/"
        },
        "id": "y0WoMhIIexQ3",
        "outputId": "c95c5847-d974-4880-c9a7-678d81678482"
      },
      "source": [
        "# 66\r\n",
        "a, b, c = map(int, input().split())\r\n",
        "\r\n",
        "if a%2 == 0:\r\n",
        "    print('even')\r\n",
        "else:\r\n",
        "    print('odd')\r\n",
        "\r\n",
        "if b%2 == 0:\r\n",
        "    print('even')\r\n",
        "else:\r\n",
        "    print('odd')\r\n",
        "\r\n",
        "if c%2 == 0:\r\n",
        "    print('even')\r\n",
        "else:\r\n",
        "    print('odd')"
      ],
      "execution_count": null,
      "outputs": [
        {
          "output_type": "stream",
          "text": [
            "1 2 8\n",
            "odd\n",
            "even\n",
            "even\n"
          ],
          "name": "stdout"
        }
      ]
    },
    {
      "cell_type": "code",
      "metadata": {
        "colab": {
          "base_uri": "https://localhost:8080/"
        },
        "id": "3thk7asTfAXv",
        "outputId": "d0e846da-1fb4-43bd-9a1a-db632bf573ee"
      },
      "source": [
        "# 67\r\n",
        "n = int(input())\r\n",
        "\r\n",
        "if n < 0:\r\n",
        "    if n % 2 == 0:\r\n",
        "        print('A')\r\n",
        "    else:\r\n",
        "        print('B')\r\n",
        "else:\r\n",
        "    if n % 2 == 0:\r\n",
        "        print('C')\r\n",
        "    else:\r\n",
        "        print('D')"
      ],
      "execution_count": null,
      "outputs": [
        {
          "output_type": "stream",
          "text": [
            "-2147483648\n",
            "A\n"
          ],
          "name": "stdout"
        }
      ]
    },
    {
      "cell_type": "code",
      "metadata": {
        "colab": {
          "base_uri": "https://localhost:8080/"
        },
        "id": "-RNG154ffSNH",
        "outputId": "c1f1e40b-c0ba-4e2b-d363-b3b61cc4fe86"
      },
      "source": [
        "# 68\r\n",
        "score = int(input())\r\n",
        "\r\n",
        "if score >= 90:\r\n",
        "    print('A')\r\n",
        "elif score >= 70:\r\n",
        "    print('B')\r\n",
        "elif score >= 40:\r\n",
        "    print('C')\r\n",
        "else:\r\n",
        "    print('D')"
      ],
      "execution_count": null,
      "outputs": [
        {
          "output_type": "stream",
          "text": [
            "92\n",
            "A\n"
          ],
          "name": "stdout"
        }
      ]
    },
    {
      "cell_type": "code",
      "metadata": {
        "colab": {
          "base_uri": "https://localhost:8080/"
        },
        "id": "zpCUaWmlfxxO",
        "outputId": "c816e409-329a-4e05-91f7-8f857e3a04fd"
      },
      "source": [
        "# 69\r\n",
        "score = input()\r\n",
        "if score == 'A':\r\n",
        "    print('best!!!')\r\n",
        "elif score == 'B':\r\n",
        "    print('good!!')\r\n",
        "elif score == 'C':\r\n",
        "    print('run!')\r\n",
        "elif score == 'D':\r\n",
        "    print('slowly~')\r\n",
        "else:\r\n",
        "    print('what?')"
      ],
      "execution_count": null,
      "outputs": [
        {
          "output_type": "stream",
          "text": [
            "C\n",
            "run!\n"
          ],
          "name": "stdout"
        }
      ]
    },
    {
      "cell_type": "code",
      "metadata": {
        "colab": {
          "base_uri": "https://localhost:8080/"
        },
        "id": "YNfFK81Pfz29",
        "outputId": "0ce2037c-7cc6-490f-a44d-687760f8a42c"
      },
      "source": [
        "# 70\r\n",
        "month = int(input())\r\n",
        "\r\n",
        "if month in (12, 1, 2):\r\n",
        "    print('winter')\r\n",
        "elif month in (3, 4, 5):\r\n",
        "    print('spring')\r\n",
        "elif month in (6, 7, 8):\r\n",
        "    print('summer')\r\n",
        "elif month in (9, 10, 11):\r\n",
        "    print('fall')"
      ],
      "execution_count": null,
      "outputs": [
        {
          "output_type": "stream",
          "text": [
            "12\n",
            "winter\n"
          ],
          "name": "stdout"
        }
      ]
    },
    {
      "cell_type": "code",
      "metadata": {
        "colab": {
          "base_uri": "https://localhost:8080/"
        },
        "id": "aYWgTobdf3aG",
        "outputId": "98c1a322-4590-48e0-97e0-2f09bb5001c9"
      },
      "source": [
        "# 71\r\n",
        "while 1:\r\n",
        "    n = int(input())\r\n",
        "\r\n",
        "    if n == 0:\r\n",
        "        break;\r\n",
        "\r\n",
        "    print(n)"
      ],
      "execution_count": null,
      "outputs": [
        {
          "output_type": "stream",
          "text": [
            "7\n",
            "7\n",
            "4\n",
            "4\n",
            "2\n",
            "2\n",
            "3\n",
            "3\n",
            "0\n"
          ],
          "name": "stdout"
        }
      ]
    },
    {
      "cell_type": "code",
      "metadata": {
        "colab": {
          "base_uri": "https://localhost:8080/"
        },
        "id": "owrvhCuHiHMr",
        "outputId": "9c5875ec-78ba-477b-cde8-1242a79ea0ec"
      },
      "source": [
        "# 72\r\n",
        "n =int(input())\r\n",
        "\r\n",
        "while n > 0:\r\n",
        "    print(n)\r\n",
        "    n -= 1"
      ],
      "execution_count": null,
      "outputs": [
        {
          "output_type": "stream",
          "text": [
            "5\n",
            "5\n",
            "4\n",
            "3\n",
            "2\n",
            "1\n"
          ],
          "name": "stdout"
        }
      ]
    },
    {
      "cell_type": "code",
      "metadata": {
        "colab": {
          "base_uri": "https://localhost:8080/"
        },
        "id": "hE8lu9oPiSnd",
        "outputId": "17494090-2bd2-4013-b50d-dd7c23f5f55f"
      },
      "source": [
        "# 73\r\n",
        "n =int(input())\r\n",
        "\r\n",
        "for i in range(n):\r\n",
        "    print(n-1-i)"
      ],
      "execution_count": null,
      "outputs": [
        {
          "output_type": "stream",
          "text": [
            "5\n",
            "4\n",
            "3\n",
            "2\n",
            "1\n",
            "0\n"
          ],
          "name": "stdout"
        }
      ]
    },
    {
      "cell_type": "code",
      "metadata": {
        "colab": {
          "base_uri": "https://localhost:8080/"
        },
        "id": "bksUOcMmlz-6",
        "outputId": "74390f36-62f4-445e-da88-cddbfe1a2eef"
      },
      "source": [
        "# 74\r\n",
        "c = ord(input())\r\n",
        "\r\n",
        "num = 97 # a의 아스키코드값 97\r\n",
        "\r\n",
        "while num <= c: # 아스키코드 값이 마지막 값과 같아질 때 까지\r\n",
        "    print(chr(num), end = ' ')\r\n",
        "    num += 1"
      ],
      "execution_count": null,
      "outputs": [
        {
          "output_type": "stream",
          "text": [
            "f\n",
            "a b c d e f "
          ],
          "name": "stdout"
        }
      ]
    },
    {
      "cell_type": "code",
      "metadata": {
        "colab": {
          "base_uri": "https://localhost:8080/"
        },
        "id": "B91NVhE3mFxm",
        "outputId": "018098c4-14b2-4046-964f-6b0cba090dcc"
      },
      "source": [
        "# 75\r\n",
        "n = int(input())\r\n",
        "\r\n",
        "for i in range(n+1):\r\n",
        "    print(i)"
      ],
      "execution_count": null,
      "outputs": [
        {
          "output_type": "stream",
          "text": [
            "4\n",
            "0\n",
            "1\n",
            "2\n",
            "3\n",
            "4\n"
          ],
          "name": "stdout"
        }
      ]
    },
    {
      "cell_type": "code",
      "metadata": {
        "colab": {
          "base_uri": "https://localhost:8080/"
        },
        "id": "DKutoOLcmSjV",
        "outputId": "6ac29096-1ab4-42c8-e668-cac2560a1ecb"
      },
      "source": [
        "# 76\r\n",
        "n = int(input())\r\n",
        "\r\n",
        "for i in range(n+1):\r\n",
        "    print(i)"
      ],
      "execution_count": null,
      "outputs": [
        {
          "output_type": "stream",
          "text": [
            "4\n",
            "0\n",
            "1\n",
            "2\n",
            "3\n",
            "4\n"
          ],
          "name": "stdout"
        }
      ]
    },
    {
      "cell_type": "code",
      "metadata": {
        "colab": {
          "base_uri": "https://localhost:8080/"
        },
        "id": "Sblc-7j9mdDF",
        "outputId": "81b4bda5-cd57-48fc-971a-f0a06960c895"
      },
      "source": [
        "# 77\r\n",
        "n = int(input())\r\n",
        "sum = 0\r\n",
        "for i in range(1, n+1):\r\n",
        "    if i%2 == 0:\r\n",
        "        sum += i\r\n",
        "\r\n",
        "print(sum)"
      ],
      "execution_count": null,
      "outputs": [
        {
          "output_type": "stream",
          "text": [
            "5\n",
            "6\n"
          ],
          "name": "stdout"
        }
      ]
    },
    {
      "cell_type": "code",
      "metadata": {
        "colab": {
          "base_uri": "https://localhost:8080/"
        },
        "id": "b_PLG94ammhU",
        "outputId": "9bdb30ae-e52a-4098-a14d-f17d36629732"
      },
      "source": [
        "# 78\r\n",
        "while 1:\r\n",
        "    c = input()\r\n",
        "    print(c)\r\n",
        "\r\n",
        "    if c == 'q':\r\n",
        "        break"
      ],
      "execution_count": null,
      "outputs": [
        {
          "output_type": "stream",
          "text": [
            "x\n",
            "x\n",
            "b\n",
            "b\n",
            "k\n",
            "k\n",
            "d\n",
            "d\n",
            "l\n",
            "l\n",
            "q\n",
            "q\n"
          ],
          "name": "stdout"
        }
      ]
    },
    {
      "cell_type": "code",
      "metadata": {
        "colab": {
          "base_uri": "https://localhost:8080/"
        },
        "id": "lbCuxokQmweD",
        "outputId": "e93fc107-f2d0-415d-cedf-dd3dc475c64c"
      },
      "source": [
        "# 79\r\n",
        "limit = int(input())\r\n",
        "sum = 0\r\n",
        "n = 1\r\n",
        "while sum < limit:\r\n",
        "    sum += n\r\n",
        "    n += 1\r\n",
        "\r\n",
        "print(n-1)"
      ],
      "execution_count": null,
      "outputs": [
        {
          "output_type": "stream",
          "text": [
            "45\n",
            "9\n"
          ],
          "name": "stdout"
        }
      ]
    },
    {
      "cell_type": "code",
      "metadata": {
        "colab": {
          "base_uri": "https://localhost:8080/"
        },
        "id": "BrutxOy4n8XO",
        "outputId": "371be925-a3d6-4968-9dc8-d77e1f8f4cbc"
      },
      "source": [
        "# 80\r\n",
        "n, m = map(int, input().split())\r\n",
        "for i in range(1, n+1):\r\n",
        "    for j in range(1, m+1):\r\n",
        "        print(i, j)"
      ],
      "execution_count": null,
      "outputs": [
        {
          "output_type": "stream",
          "text": [
            "2 3\n",
            "1 1\n",
            "1 2\n",
            "1 3\n",
            "2 1\n",
            "2 2\n",
            "2 3\n"
          ],
          "name": "stdout"
        }
      ]
    },
    {
      "cell_type": "code",
      "metadata": {
        "colab": {
          "base_uri": "https://localhost:8080/"
        },
        "id": "LuY2p8HPoLqj",
        "outputId": "5e6d243b-c0d2-4f0a-ea8c-0bc3881fd437"
      },
      "source": [
        "# 81\r\n",
        "\r\n",
        "h = int(input(), 16)\r\n",
        "\r\n",
        "for i in range(1, 16):\r\n",
        "    print(\"%X\"%h + \"*\" + \"%X\"%i + \"=\" + \"%X\" %(h*i))"
      ],
      "execution_count": null,
      "outputs": [
        {
          "output_type": "stream",
          "text": [
            "B\n",
            "B*1=B\n",
            "B*2=16\n",
            "B*3=21\n",
            "B*4=2C\n",
            "B*5=37\n",
            "B*6=42\n",
            "B*7=4D\n",
            "B*8=58\n",
            "B*9=63\n",
            "B*A=6E\n",
            "B*B=79\n",
            "B*C=84\n",
            "B*D=8F\n",
            "B*E=9A\n",
            "B*F=A5\n"
          ],
          "name": "stdout"
        }
      ]
    },
    {
      "cell_type": "code",
      "metadata": {
        "colab": {
          "base_uri": "https://localhost:8080/"
        },
        "id": "oXrNrF5ooZv7",
        "outputId": "a00d75c9-1ec2-4043-9da2-dfa40b0ccdd6"
      },
      "source": [
        "# 82\r\n",
        "n = int(input())\r\n",
        "\r\n",
        "for i in range(1,n+1):\r\n",
        "    if (i % 10 == 3) or (i % 10 == 6) or (i % 10 == 9):\r\n",
        "        print('X', end = ' ')\r\n",
        "    else:\r\n",
        "        print(i, end = ' ')"
      ],
      "execution_count": null,
      "outputs": [
        {
          "output_type": "stream",
          "text": [
            "29\n",
            "1 2 X 4 5 X 7 8 X 10 11 12 X 14 15 X 17 18 X 20 21 22 X 24 25 X 27 28 X "
          ],
          "name": "stdout"
        }
      ]
    },
    {
      "cell_type": "code",
      "metadata": {
        "colab": {
          "base_uri": "https://localhost:8080/"
        },
        "id": "p7KnSv12oiNN",
        "outputId": "90be1829-e550-4344-c0bd-6514f2d9c5cd"
      },
      "source": [
        "# 83\r\n",
        "r, g, b = map(int, input().split())\r\n",
        "count = 0\r\n",
        "\r\n",
        "for i in range(r):\r\n",
        "    for j in range(g):\r\n",
        "        for k in range(b):\r\n",
        "            print(i, j, k)\r\n",
        "            count += 1\r\n",
        "\r\n",
        "print(count)"
      ],
      "execution_count": null,
      "outputs": [
        {
          "output_type": "stream",
          "text": [
            "2 2 2\n",
            "0 0 0\n",
            "0 0 1\n",
            "0 1 0\n",
            "0 1 1\n",
            "1 0 0\n",
            "1 0 1\n",
            "1 1 0\n",
            "1 1 1\n",
            "8\n"
          ],
          "name": "stdout"
        }
      ]
    },
    {
      "cell_type": "code",
      "metadata": {
        "colab": {
          "base_uri": "https://localhost:8080/"
        },
        "id": "GGpka7dkoqoT",
        "outputId": "9e76705d-a50b-4c12-9254-e39fac485dd5"
      },
      "source": [
        "# 84\r\n",
        "h, b, c, s = map(int, input().split())\r\n",
        "byte = h*b*c*s / 8\r\n",
        "MB = byte / 1024 / 1024\r\n",
        "MB = round(MB, 1)\r\n",
        "\r\n",
        "print(\"{} MB\".format(MB))"
      ],
      "execution_count": null,
      "outputs": [
        {
          "output_type": "stream",
          "text": [
            "44100 16 2 10\n",
            "1.7 MB\n"
          ],
          "name": "stdout"
        }
      ]
    },
    {
      "cell_type": "code",
      "metadata": {
        "colab": {
          "base_uri": "https://localhost:8080/"
        },
        "id": "LHdQezT_oxwk",
        "outputId": "c4866264-f0f3-4c82-d7cc-5c427a0833d4"
      },
      "source": [
        "# 85\r\n",
        "w, h, b = map(int, input().split())\r\n",
        "byte = w * h * b / 8\r\n",
        "MB = byte / 1024 / 1024\r\n",
        "MB = round(MB, 2)\r\n",
        "\r\n",
        "print(\"%.2f\"%MB + \" MB\")"
      ],
      "execution_count": null,
      "outputs": [
        {
          "output_type": "stream",
          "text": [
            "1024 768 24\n",
            "2.25 MB\n"
          ],
          "name": "stdout"
        }
      ]
    },
    {
      "cell_type": "code",
      "metadata": {
        "colab": {
          "base_uri": "https://localhost:8080/"
        },
        "id": "zbh5uaMKo_bb",
        "outputId": "caec5c08-5345-413e-b48d-e18647cf354a"
      },
      "source": [
        "# 86\r\n",
        "limit = int(input())\r\n",
        "sum = 0\r\n",
        "n = 1\r\n",
        "while sum<limit:\r\n",
        "    sum += n\r\n",
        "    n += 1\r\n",
        "\r\n",
        "print(sum)"
      ],
      "execution_count": null,
      "outputs": [
        {
          "output_type": "stream",
          "text": [
            "57\n",
            "66\n"
          ],
          "name": "stdout"
        }
      ]
    },
    {
      "cell_type": "code",
      "metadata": {
        "colab": {
          "base_uri": "https://localhost:8080/"
        },
        "id": "Khti6PPQpR3r",
        "outputId": "02d410d3-9877-4858-8c58-22877a18d638"
      },
      "source": [
        "# 87\r\n",
        "n = int(input())\r\n",
        "\r\n",
        "for i in range(1,n+1):\r\n",
        "    if i%3 == 0:\r\n",
        "        pass\r\n",
        "    else:\r\n",
        "        print(i, end = ' ')"
      ],
      "execution_count": null,
      "outputs": [
        {
          "output_type": "stream",
          "text": [
            "10\n",
            "1 2 4 5 7 8 10 "
          ],
          "name": "stdout"
        }
      ]
    },
    {
      "cell_type": "code",
      "metadata": {
        "colab": {
          "base_uri": "https://localhost:8080/"
        },
        "id": "ipy4oIfApS0r",
        "outputId": "78d1cca2-e22a-48c2-8dae-cd04838f3d6c"
      },
      "source": [
        "# 88\r\n",
        "a, d, n = map(int, input().split())\r\n",
        "print(a + d*(n-1))"
      ],
      "execution_count": null,
      "outputs": [
        {
          "output_type": "stream",
          "text": [
            "1 3 5\n",
            "13\n"
          ],
          "name": "stdout"
        }
      ]
    },
    {
      "cell_type": "code",
      "metadata": {
        "colab": {
          "base_uri": "https://localhost:8080/"
        },
        "id": "61LydL9tpS4M",
        "outputId": "024f34eb-dc5d-4bbd-f6b5-b513ff44919d"
      },
      "source": [
        "# 89\r\n",
        "a, r, n = map(int, input().split())\r\n",
        "print(a * r**(n-1))"
      ],
      "execution_count": null,
      "outputs": [
        {
          "output_type": "stream",
          "text": [
            "2 3 7\n",
            "1458\n"
          ],
          "name": "stdout"
        }
      ]
    },
    {
      "cell_type": "code",
      "metadata": {
        "colab": {
          "base_uri": "https://localhost:8080/"
        },
        "id": "e4s3syMPpS7l",
        "outputId": "447964d4-7c3e-4408-ef95-2b3673f27546"
      },
      "source": [
        "# 90\r\n",
        "a, m, d, n = map(int, input().split())\r\n",
        "\r\n",
        "for i in range(n-1):\r\n",
        "    a = a * m + d\r\n",
        "\r\n",
        "print(a)"
      ],
      "execution_count": null,
      "outputs": [
        {
          "output_type": "stream",
          "text": [
            "1 -2 1 8\n",
            "-85\n"
          ],
          "name": "stdout"
        }
      ]
    },
    {
      "cell_type": "code",
      "metadata": {
        "colab": {
          "base_uri": "https://localhost:8080/"
        },
        "id": "mB9uXIq3pS-s",
        "outputId": "4afad7d0-0df3-462c-8990-97cb8f9f8464"
      },
      "source": [
        "# 91\r\n",
        "circle1, circle2, circle3 = map(int, input().split())\r\n",
        "day = 1\r\n",
        "\r\n",
        "while day%circle1 != 0 or day%circle2 != 0 or day%circle3 != 0:\r\n",
        "    day += 1\r\n",
        "\r\n",
        "print(day)"
      ],
      "execution_count": null,
      "outputs": [
        {
          "output_type": "stream",
          "text": [
            "3 7 9\n",
            "63\n"
          ],
          "name": "stdout"
        }
      ]
    },
    {
      "cell_type": "code",
      "metadata": {
        "colab": {
          "base_uri": "https://localhost:8080/"
        },
        "id": "8UP_ztWBqlNy",
        "outputId": "ebeaa632-7e18-4ca6-b205-f54c617bb79f"
      },
      "source": [
        "# 92\r\n",
        "n = int(input())\r\n",
        "random = list(map(int, input().split()))\r\n",
        "check_list = [0] * 23\r\n",
        "\r\n",
        "for i in range(n):\r\n",
        "    check_list[random[i]-1] += 1\r\n",
        "\r\n",
        "for j in check_list:\r\n",
        "    print(j, end=' ')"
      ],
      "execution_count": null,
      "outputs": [
        {
          "output_type": "stream",
          "text": [
            "10\n",
            "1 3 2 2 5 6 7 4 5 9\n",
            "1 2 1 1 2 1 1 0 1 0 0 0 0 0 0 0 0 0 0 0 0 0 0 "
          ],
          "name": "stdout"
        }
      ]
    },
    {
      "cell_type": "code",
      "metadata": {
        "colab": {
          "base_uri": "https://localhost:8080/"
        },
        "id": "aXNJA56Bq6Yq",
        "outputId": "f23cbebb-3eb3-4f5a-89e7-309dafe2eb23"
      },
      "source": [
        "# 93\r\n",
        "n = int(input())\r\n",
        "random = list(map(int, input().split()))\r\n",
        "\r\n",
        "for i in range(n):\r\n",
        "    print(random[n-1-i], end = ' ')"
      ],
      "execution_count": null,
      "outputs": [
        {
          "output_type": "stream",
          "text": [
            "10\n",
            "10 4 2 3 6 6 7 9 8 5\n",
            "5 8 9 7 6 6 3 2 4 10 "
          ],
          "name": "stdout"
        }
      ]
    },
    {
      "cell_type": "code",
      "metadata": {
        "colab": {
          "base_uri": "https://localhost:8080/"
        },
        "id": "U4--YPHerXj5",
        "outputId": "41157f69-a790-499e-8d07-e033ba5d63df"
      },
      "source": [
        "# 94\r\n",
        "n = int(input())\r\n",
        "random = list(map(int, input().split()))\r\n",
        "\r\n",
        "print(min(random))"
      ],
      "execution_count": null,
      "outputs": [
        {
          "output_type": "stream",
          "text": [
            "10\n",
            "10 4 2 3 6 6 6 7 8 9\n",
            "2\n"
          ],
          "name": "stdout"
        }
      ]
    },
    {
      "cell_type": "code",
      "metadata": {
        "colab": {
          "base_uri": "https://localhost:8080/"
        },
        "id": "4ZcF6E_Gre87",
        "outputId": "5808937e-ff3d-488e-81e7-b319866a969e"
      },
      "source": [
        "# 95\r\n",
        "n = int(input())\r\n",
        "white = []\r\n",
        "\r\n",
        "for i in range(n):\r\n",
        "    x, y = map(int, input().split())\r\n",
        "    white.append((x,y))\r\n",
        "\r\n",
        "for j in range(19):\r\n",
        "    for k in range(19):\r\n",
        "        temp = 0\r\n",
        "        if (j+1, k+1) in white:\r\n",
        "            temp = 1\r\n",
        "        print(temp, end = ' ')\r\n",
        "    print()"
      ],
      "execution_count": null,
      "outputs": [
        {
          "output_type": "stream",
          "text": [
            "5\n",
            "1 1\n",
            "2 2\n",
            "3 3\n",
            "4 4\n",
            "5 5\n",
            "1 0 0 0 0 0 0 0 0 0 0 0 0 0 0 0 0 0 0 \n",
            "0 1 0 0 0 0 0 0 0 0 0 0 0 0 0 0 0 0 0 \n",
            "0 0 1 0 0 0 0 0 0 0 0 0 0 0 0 0 0 0 0 \n",
            "0 0 0 1 0 0 0 0 0 0 0 0 0 0 0 0 0 0 0 \n",
            "0 0 0 0 1 0 0 0 0 0 0 0 0 0 0 0 0 0 0 \n",
            "0 0 0 0 0 0 0 0 0 0 0 0 0 0 0 0 0 0 0 \n",
            "0 0 0 0 0 0 0 0 0 0 0 0 0 0 0 0 0 0 0 \n",
            "0 0 0 0 0 0 0 0 0 0 0 0 0 0 0 0 0 0 0 \n",
            "0 0 0 0 0 0 0 0 0 0 0 0 0 0 0 0 0 0 0 \n",
            "0 0 0 0 0 0 0 0 0 0 0 0 0 0 0 0 0 0 0 \n",
            "0 0 0 0 0 0 0 0 0 0 0 0 0 0 0 0 0 0 0 \n",
            "0 0 0 0 0 0 0 0 0 0 0 0 0 0 0 0 0 0 0 \n",
            "0 0 0 0 0 0 0 0 0 0 0 0 0 0 0 0 0 0 0 \n",
            "0 0 0 0 0 0 0 0 0 0 0 0 0 0 0 0 0 0 0 \n",
            "0 0 0 0 0 0 0 0 0 0 0 0 0 0 0 0 0 0 0 \n",
            "0 0 0 0 0 0 0 0 0 0 0 0 0 0 0 0 0 0 0 \n",
            "0 0 0 0 0 0 0 0 0 0 0 0 0 0 0 0 0 0 0 \n",
            "0 0 0 0 0 0 0 0 0 0 0 0 0 0 0 0 0 0 0 \n",
            "0 0 0 0 0 0 0 0 0 0 0 0 0 0 0 0 0 0 0 \n"
          ],
          "name": "stdout"
        }
      ]
    },
    {
      "cell_type": "code",
      "metadata": {
        "colab": {
          "base_uri": "https://localhost:8080/"
        },
        "id": "BP4eEoEGr0lB",
        "outputId": "c4450622-27cb-4b68-a1e6-3a20d274f699"
      },
      "source": [
        "# 96\r\n",
        "a = [[0]*19]*19\r\n",
        "\r\n",
        "for i in range(19):\r\n",
        "    a[i] = list(map(int, input().split()))\r\n",
        "\r\n",
        "n = int(input())\r\n",
        "\r\n",
        "for k in range(n):\r\n",
        "    x, y = map(int, input().split())\r\n",
        "\r\n",
        "    for l in range(19):\r\n",
        "        if a[x-1][l] == 0: # x 축 뒤집기\r\n",
        "            a[x-1][l] = 1\r\n",
        "        else :\r\n",
        "            a[x-1][l] = 0\r\n",
        "        if a[l][y-1] == 0: # y 축 뒤집기\r\n",
        "            a[l][y-1] = 1\r\n",
        "        else:\r\n",
        "            a[l][y-1] = 0\r\n",
        "\r\n",
        "for o in range(19):\r\n",
        "    for p in range(19):\r\n",
        "        print(a[o][p], end = ' ')\r\n",
        "    print()"
      ],
      "execution_count": null,
      "outputs": [
        {
          "output_type": "stream",
          "text": [
            "0 0 0 0 0 0 0 0 0 1 0 1 0 0 0 0 0 0 0\n",
            "0 0 0 0 0 0 0 0 0 1 0 1 0 0 0 0 0 0 0\n",
            "0 0 0 0 0 0 0 0 0 1 0 1 0 0 0 0 0 0 0\n",
            "0 0 0 0 0 0 0 0 0 1 0 1 0 0 0 0 0 0 0\n",
            "0 0 0 0 0 0 0 0 0 1 0 1 0 0 0 0 0 0 0\n",
            "0 0 0 0 0 0 0 0 0 1 0 1 0 0 0 0 0 0 0\n",
            "0 0 0 0 0 0 0 0 0 1 0 1 0 0 0 0 0 0 0\n",
            "0 0 0 0 0 0 0 0 0 1 0 1 0 0 0 0 0 0 0\n",
            "0 0 0 0 0 0 0 0 0 1 0 1 0 0 0 0 0 0 0\n",
            "1 1 1 1 1 1 1 1 1 1 1 1 1 1 1 1 1 1 1\n",
            "0 0 0 0 0 0 0 0 0 1 0 1 0 0 0 0 0 0 0\n",
            "1 1 1 1 1 1 1 1 1 1 1 1 1 1 1 1 1 1 1\n",
            "0 0 0 0 0 0 0 0 0 1 0 1 0 0 0 0 0 0 0\n",
            "0 0 0 0 0 0 0 0 0 1 0 1 0 0 0 0 0 0 0\n",
            "0 0 0 0 0 0 0 0 0 1 0 1 0 0 0 0 0 0 0\n",
            "0 0 0 0 0 0 0 0 0 1 0 1 0 0 0 0 0 0 0\n",
            "0 0 0 0 0 0 0 0 0 1 0 1 0 0 0 0 0 0 0\n",
            "0 0 0 0 0 0 0 0 0 1 0 1 0 0 0 0 0 0 0\n",
            "0 0 0 0 0 0 0 0 0 1 0 1 0 0 0 0 0 0 0\n",
            "2\n",
            "10 10\n",
            "12 12\n",
            "0 0 0 0 0 0 0 0 0 0 0 0 0 0 0 0 0 0 0 \n",
            "0 0 0 0 0 0 0 0 0 0 0 0 0 0 0 0 0 0 0 \n",
            "0 0 0 0 0 0 0 0 0 0 0 0 0 0 0 0 0 0 0 \n",
            "0 0 0 0 0 0 0 0 0 0 0 0 0 0 0 0 0 0 0 \n",
            "0 0 0 0 0 0 0 0 0 0 0 0 0 0 0 0 0 0 0 \n",
            "0 0 0 0 0 0 0 0 0 0 0 0 0 0 0 0 0 0 0 \n",
            "0 0 0 0 0 0 0 0 0 0 0 0 0 0 0 0 0 0 0 \n",
            "0 0 0 0 0 0 0 0 0 0 0 0 0 0 0 0 0 0 0 \n",
            "0 0 0 0 0 0 0 0 0 0 0 0 0 0 0 0 0 0 0 \n",
            "0 0 0 0 0 0 0 0 0 1 0 1 0 0 0 0 0 0 0 \n",
            "0 0 0 0 0 0 0 0 0 0 0 0 0 0 0 0 0 0 0 \n",
            "0 0 0 0 0 0 0 0 0 1 0 1 0 0 0 0 0 0 0 \n",
            "0 0 0 0 0 0 0 0 0 0 0 0 0 0 0 0 0 0 0 \n",
            "0 0 0 0 0 0 0 0 0 0 0 0 0 0 0 0 0 0 0 \n",
            "0 0 0 0 0 0 0 0 0 0 0 0 0 0 0 0 0 0 0 \n",
            "0 0 0 0 0 0 0 0 0 0 0 0 0 0 0 0 0 0 0 \n",
            "0 0 0 0 0 0 0 0 0 0 0 0 0 0 0 0 0 0 0 \n",
            "0 0 0 0 0 0 0 0 0 0 0 0 0 0 0 0 0 0 0 \n",
            "0 0 0 0 0 0 0 0 0 0 0 0 0 0 0 0 0 0 0 \n"
          ],
          "name": "stdout"
        }
      ]
    },
    {
      "cell_type": "code",
      "metadata": {
        "colab": {
          "base_uri": "https://localhost:8080/"
        },
        "id": "l_xClxYbsDZ7",
        "outputId": "1f16f2fa-4e95-4c41-e5b3-be86828fa1fd"
      },
      "source": [
        "# 97\r\n",
        "h, w = map(int ,input().split())\r\n",
        "n = int(input())\r\n",
        "a = [[0] * w for _ in range(h)]\r\n",
        "\r\n",
        "for i in range(n):\r\n",
        "    l, d, x, y = map(int,input().split())\r\n",
        "    for j in range(l):\r\n",
        "        if d == 0:\r\n",
        "            a[x-1][y-1+j] = 1\r\n",
        "        else:\r\n",
        "            a[x-1+j][y-1] = 1\r\n",
        "\r\n",
        "for k in range(h):\r\n",
        "    for l in range(w):\r\n",
        "        print(a[k][l], end = ' ')\r\n",
        "    print()"
      ],
      "execution_count": null,
      "outputs": [
        {
          "output_type": "stream",
          "text": [
            "5 5 \n",
            "3\n",
            "2 0 1 1\n",
            "3 1 2 3\n",
            "4 1 2 5\n",
            "1 1 0 0 0 \n",
            "0 0 1 0 1 \n",
            "0 0 1 0 1 \n",
            "0 0 1 0 1 \n",
            "0 0 0 0 1 \n"
          ],
          "name": "stdout"
        }
      ]
    },
    {
      "cell_type": "code",
      "metadata": {
        "colab": {
          "base_uri": "https://localhost:8080/"
        },
        "id": "fLhk8WB3sUSs",
        "outputId": "1d47fb23-4a02-4c84-d6a3-d5f55f735872"
      },
      "source": [
        "# 98\r\n",
        "a = []\r\n",
        "\r\n",
        "for i in range(10):\r\n",
        "    a.append(list(map(int, input().split())))\r\n",
        "\r\n",
        "x = 1\r\n",
        "y = 1\r\n",
        "\r\n",
        "while True:\r\n",
        "    if a[x][y] == 0:\r\n",
        "        a[x][y] = 9\r\n",
        "    elif a[x][y] == 2:\r\n",
        "        a[x][y] = 9\r\n",
        "        break;\r\n",
        "    \r\n",
        "    if a[x][y+1] == 1 and a[x+1][y] == 1:\r\n",
        "        break\r\n",
        "    \r\n",
        "    if a[x][y+1] != 1:\r\n",
        "        y = y + 1\r\n",
        "    elif a[x+1][y] != 1:\r\n",
        "        x = x + 1\r\n",
        "    \r\n",
        "for i in range(10):\r\n",
        "    for j in range(10):\r\n",
        "        print(a[i][j], end = ' ')\r\n",
        "    print()"
      ],
      "execution_count": null,
      "outputs": [
        {
          "output_type": "stream",
          "text": [
            "1 1 1 1 1 1 1 1 1 1\n",
            "1 0 0 1 0 0 0 0 0 1\n",
            "1 0 0 1 1 1 0 0 0 1\n",
            "1 0 0 0 0 0 0 1 0 1\n",
            "1 0 0 0 0 0 0 1 0 1\n",
            "1 0 0 0 0 1 0 1 0 1\n",
            "1 0 0 0 0 1 2 1 0 1\n",
            "1 0 0 0 0 1 0 0 0 1\n",
            "1 0 0 0 0 0 0 0 0 1\n",
            "1 1 1 1 1 1 1 1 1 1\n",
            "1 1 1 1 1 1 1 1 1 1 \n",
            "1 9 9 1 0 0 0 0 0 1 \n",
            "1 0 9 1 1 1 0 0 0 1 \n",
            "1 0 9 9 9 9 9 1 0 1 \n",
            "1 0 0 0 0 0 9 1 0 1 \n",
            "1 0 0 0 0 1 9 1 0 1 \n",
            "1 0 0 0 0 1 9 1 0 1 \n",
            "1 0 0 0 0 1 0 0 0 1 \n",
            "1 0 0 0 0 0 0 0 0 1 \n",
            "1 1 1 1 1 1 1 1 1 1 \n"
          ],
          "name": "stdout"
        }
      ]
    }
  ]
}