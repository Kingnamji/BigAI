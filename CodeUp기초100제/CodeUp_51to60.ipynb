{
  "nbformat": 4,
  "nbformat_minor": 0,
  "metadata": {
    "colab": {
      "name": "CodeUp_51to60",
      "provenance": []
    },
    "kernelspec": {
      "name": "python3",
      "display_name": "Python 3"
    }
  },
  "cells": [
    {
      "cell_type": "code",
      "metadata": {
        "colab": {
          "base_uri": "https://localhost:8080/"
        },
        "id": "hwsfdtEo9IOc",
        "outputId": "459e0f1e-bbd2-4a94-d78b-727b8a8c66bf"
      },
      "source": [
        "# 51\n",
        "a, b = map(int, input().split())\n",
        "\n",
        "if b >= a :\n",
        "    print(1)\n",
        "else:\n",
        "    print(0)"
      ],
      "execution_count": 1,
      "outputs": [
        {
          "output_type": "stream",
          "text": [
            "0 -1\n",
            "0\n"
          ],
          "name": "stdout"
        }
      ]
    },
    {
      "cell_type": "code",
      "metadata": {
        "colab": {
          "base_uri": "https://localhost:8080/"
        },
        "id": "DhydGjXS9Z8d",
        "outputId": "47ace9d5-cb5e-4fcc-dd0e-b0b001016883"
      },
      "source": [
        "# 52\n",
        "a, b = map(int, input().split())\n",
        "\n",
        "if a == b :\n",
        "    print(0)\n",
        "else:\n",
        "    print(1)"
      ],
      "execution_count": 2,
      "outputs": [
        {
          "output_type": "stream",
          "text": [
            "0 1\n",
            "1\n"
          ],
          "name": "stdout"
        }
      ]
    },
    {
      "cell_type": "code",
      "metadata": {
        "colab": {
          "base_uri": "https://localhost:8080/"
        },
        "id": "6P-LO08p-Vrt",
        "outputId": "21e514be-da59-42ef-9c13-dd15fb938060"
      },
      "source": [
        "# 53\n",
        "\n",
        "a = int(input())\n",
        "\n",
        "if a:\n",
        "    print(0)\n",
        "else:\n",
        "    print(1)"
      ],
      "execution_count": 12,
      "outputs": [
        {
          "output_type": "stream",
          "text": [
            "0\n",
            "1\n"
          ],
          "name": "stdout"
        }
      ]
    },
    {
      "cell_type": "code",
      "metadata": {
        "colab": {
          "base_uri": "https://localhost:8080/"
        },
        "id": "Gixgri7m-5_U",
        "outputId": "55d7b38a-fd2d-4acd-fdc7-7a0418dcc408"
      },
      "source": [
        "# 54\n",
        "a, b = map(int, input().split())\n",
        "\n",
        "if a and b:\n",
        "    print(1)\n",
        "else:\n",
        "    print(0)"
      ],
      "execution_count": 14,
      "outputs": [
        {
          "output_type": "stream",
          "text": [
            "1 0\n",
            "0\n"
          ],
          "name": "stdout"
        }
      ]
    },
    {
      "cell_type": "code",
      "metadata": {
        "colab": {
          "base_uri": "https://localhost:8080/"
        },
        "id": "mIdNm12Y_G9I",
        "outputId": "30276da6-d5c8-42bc-ccd3-c35e50839c49"
      },
      "source": [
        "# 55\n",
        "a, b = map(int, input().split())\n",
        "\n",
        "if a or b:\n",
        "    print(1)\n",
        "else:\n",
        "    print(0)"
      ],
      "execution_count": 16,
      "outputs": [
        {
          "output_type": "stream",
          "text": [
            "1 1\n",
            "1\n"
          ],
          "name": "stdout"
        }
      ]
    },
    {
      "cell_type": "code",
      "metadata": {
        "colab": {
          "base_uri": "https://localhost:8080/"
        },
        "id": "HWzAIlbo_UXl",
        "outputId": "1213e72c-8a51-4818-89d8-7b00598f8543"
      },
      "source": [
        "# 56\n",
        "a, b = map(int, input().split())\n",
        "\n",
        "if (a and b) or (not a and not b):\n",
        "    print(0)\n",
        "else:\n",
        "    print(1)"
      ],
      "execution_count": 45,
      "outputs": [
        {
          "output_type": "stream",
          "text": [
            "1 1\n",
            "0\n"
          ],
          "name": "stdout"
        }
      ]
    },
    {
      "cell_type": "code",
      "metadata": {
        "colab": {
          "base_uri": "https://localhost:8080/"
        },
        "id": "fT1lHut-AA6_",
        "outputId": "1f8e53d9-077b-451b-8d1b-42adf1449851"
      },
      "source": [
        "# 57\n",
        "a, b = map(int, input().split())\n",
        "\n",
        "if (a and b) or (not a and not b):\n",
        "    print(1)\n",
        "else:\n",
        "    print(0)"
      ],
      "execution_count": 46,
      "outputs": [
        {
          "output_type": "stream",
          "text": [
            "0 0\n",
            "1\n"
          ],
          "name": "stdout"
        }
      ]
    },
    {
      "cell_type": "code",
      "metadata": {
        "colab": {
          "base_uri": "https://localhost:8080/"
        },
        "id": "-0-8z1JLBN2D",
        "outputId": "afc3c552-e1f5-4daa-9178-0a298708f485"
      },
      "source": [
        "# 58\n",
        "a, b = map(int, input().split())\n",
        "\n",
        "if (not a and not b):\n",
        "    print(1)\n",
        "else:\n",
        "    print(0)"
      ],
      "execution_count": 51,
      "outputs": [
        {
          "output_type": "stream",
          "text": [
            "0 0\n",
            "1\n"
          ],
          "name": "stdout"
        }
      ]
    },
    {
      "cell_type": "code",
      "metadata": {
        "colab": {
          "base_uri": "https://localhost:8080/"
        },
        "id": "fB8tJEFxCLrK",
        "outputId": "6603f773-51b2-41a0-9454-8b2a52756d87"
      },
      "source": [
        "# 59\n",
        "n = int(input())\n",
        "print(~n)"
      ],
      "execution_count": 71,
      "outputs": [
        {
          "output_type": "stream",
          "text": [
            "2\n",
            "-3\n"
          ],
          "name": "stdout"
        }
      ]
    },
    {
      "cell_type": "code",
      "metadata": {
        "colab": {
          "base_uri": "https://localhost:8080/"
        },
        "id": "h5xfB7c_EcpA",
        "outputId": "ab4b4d0d-1e58-4c10-93ca-8b983b3d84d8"
      },
      "source": [
        "# 60\n",
        "a,b = map(int,input().split())\n",
        "print(a&b)"
      ],
      "execution_count": 72,
      "outputs": [
        {
          "output_type": "stream",
          "text": [
            "3 5\n",
            "1\n"
          ],
          "name": "stdout"
        }
      ]
    }
  ]
}