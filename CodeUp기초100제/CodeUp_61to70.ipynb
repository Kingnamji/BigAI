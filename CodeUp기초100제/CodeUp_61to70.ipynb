{
  "nbformat": 4,
  "nbformat_minor": 0,
  "metadata": {
    "colab": {
      "name": "CodeUp_61to70",
      "provenance": [],
      "collapsed_sections": []
    },
    "kernelspec": {
      "name": "python3",
      "display_name": "Python 3"
    }
  },
  "cells": [
    {
      "cell_type": "code",
      "metadata": {
        "colab": {
          "base_uri": "https://localhost:8080/"
        },
        "id": "zg8tZ9-URcqq",
        "outputId": "d2b926c7-d6c4-4ff9-93df-626879a1d7a7"
      },
      "source": [
        "# 61\r\n",
        "a,b = map(int,input().split())\r\n",
        "print(a|b)"
      ],
      "execution_count": 2,
      "outputs": [
        {
          "output_type": "stream",
          "text": [
            "3 5\n",
            "7\n"
          ],
          "name": "stdout"
        }
      ]
    },
    {
      "cell_type": "code",
      "metadata": {
        "colab": {
          "base_uri": "https://localhost:8080/"
        },
        "id": "_sYbaXORSSKt",
        "outputId": "77b1bc9b-8034-42b8-f1ef-d2b9072df0e2"
      },
      "source": [
        "# 62\r\n",
        "a,b = map(int,input().split())\r\n",
        "print(a^b)\r\n",
        "\r\n",
        "# 위의 연산자를 몰라도 XOR의 컨셉만 잡혀있으면 이런식으로도 구현 가능하다.\r\n",
        "# print( ~(a&b) & (a|b) ) \r\n",
        "# (not (a and b)) and (a or b)"
      ],
      "execution_count": 7,
      "outputs": [
        {
          "output_type": "stream",
          "text": [
            "3 5\n",
            "6\n"
          ],
          "name": "stdout"
        }
      ]
    },
    {
      "cell_type": "code",
      "metadata": {
        "colab": {
          "base_uri": "https://localhost:8080/"
        },
        "id": "bswEd4qvUs_j",
        "outputId": "257f1ccb-d1a5-4808-eb64-f8f0ecb3f855"
      },
      "source": [
        "# 63 \r\n",
        "a,b = map(int,input().split())\r\n",
        "print(a if a>b else b) # a가 더 크면 a값을 출력 아니면 b값을 출력"
      ],
      "execution_count": 9,
      "outputs": [
        {
          "output_type": "stream",
          "text": [
            "456 123\n",
            "456\n"
          ],
          "name": "stdout"
        }
      ]
    },
    {
      "cell_type": "code",
      "metadata": {
        "colab": {
          "base_uri": "https://localhost:8080/"
        },
        "id": "7p1IAskUU21M",
        "outputId": "7f609c66-9df1-49e2-bd80-983d7d46548e"
      },
      "source": [
        "# 64\r\n",
        "a, b, c = map(int,input().split())\r\n",
        "n = (a if a<b else b) # a 가 더 작으면 a값을 아니면 b값을 받는다\r\n",
        "print(n if n<c else c) # 더 작다고 판단된 값과 c를 비교해서 똑같은 과정을 거친다."
      ],
      "execution_count": 10,
      "outputs": [
        {
          "output_type": "stream",
          "text": [
            "3 -1 5\n",
            "-1\n"
          ],
          "name": "stdout"
        }
      ]
    },
    {
      "cell_type": "code",
      "metadata": {
        "colab": {
          "base_uri": "https://localhost:8080/"
        },
        "id": "1rHtam_-Wa9s",
        "outputId": "c8881ad1-9990-4956-8e78-2e15b71c78ef"
      },
      "source": [
        "# 65\r\n",
        "a, b, c = map(int, input().split())\r\n",
        "\r\n",
        "if a%2 == 0:\r\n",
        "    print(a)\r\n",
        "\r\n",
        "if b%2 == 0:\r\n",
        "    print(b)\r\n",
        "    \r\n",
        "if c%2 == 0:\r\n",
        "    print(c)"
      ],
      "execution_count": 12,
      "outputs": [
        {
          "output_type": "stream",
          "text": [
            "1 2 4\n",
            "2\n",
            "4\n"
          ],
          "name": "stdout"
        }
      ]
    },
    {
      "cell_type": "code",
      "metadata": {
        "colab": {
          "base_uri": "https://localhost:8080/"
        },
        "id": "jV4RE74PW2Gk",
        "outputId": "2809bb10-950f-406a-e6f8-d054f092e72e"
      },
      "source": [
        "# 66\r\n",
        "a, b, c = map(int, input().split())\r\n",
        "\r\n",
        "if a%2 == 0:\r\n",
        "    print('even')\r\n",
        "else:\r\n",
        "    print('odd')\r\n",
        "\r\n",
        "if b%2 == 0:\r\n",
        "    print('even')\r\n",
        "else:\r\n",
        "    print('odd')\r\n",
        "\r\n",
        "if c%2 == 0:\r\n",
        "    print('even')\r\n",
        "else:\r\n",
        "    print('odd')"
      ],
      "execution_count": 14,
      "outputs": [
        {
          "output_type": "stream",
          "text": [
            "1 2 8\n",
            "odd\n",
            "even\n",
            "even\n"
          ],
          "name": "stdout"
        }
      ]
    },
    {
      "cell_type": "code",
      "metadata": {
        "colab": {
          "base_uri": "https://localhost:8080/"
        },
        "id": "eS-zKEq1XP76",
        "outputId": "4bd082f0-56ba-4186-fb7e-0731cc14bb44"
      },
      "source": [
        "# 67\r\n",
        "n = int(input())\r\n",
        "\r\n",
        "if n < 0:\r\n",
        "    print('minus')\r\n",
        "else:\r\n",
        "    print('plus')\r\n",
        "\r\n",
        "if n%2 == 0:\r\n",
        "    print('even')\r\n",
        "else:\r\n",
        "    print('odd')"
      ],
      "execution_count": 15,
      "outputs": [
        {
          "output_type": "stream",
          "text": [
            "-2147483648\n",
            "minus\n",
            "even\n"
          ],
          "name": "stdout"
        }
      ]
    },
    {
      "cell_type": "code",
      "metadata": {
        "colab": {
          "base_uri": "https://localhost:8080/"
        },
        "id": "dedAiprLXkqU",
        "outputId": "67d2d866-4087-4308-af30-36993da39b9c"
      },
      "source": [
        "# 68\r\n",
        "score = int(input())\r\n",
        "\r\n",
        "if score >= 90:\r\n",
        "    print('A')\r\n",
        "elif score >= 70:\r\n",
        "    print('B')\r\n",
        "elif score >= 40:\r\n",
        "    print('C')\r\n",
        "else:\r\n",
        "    print('D')"
      ],
      "execution_count": 17,
      "outputs": [
        {
          "output_type": "stream",
          "text": [
            "73\n",
            "B\n"
          ],
          "name": "stdout"
        }
      ]
    },
    {
      "cell_type": "code",
      "metadata": {
        "colab": {
          "base_uri": "https://localhost:8080/"
        },
        "id": "DnuWgoRqX9GE",
        "outputId": "16037e8b-f754-453b-d172-d3d2cd5fc029"
      },
      "source": [
        "# 69\r\n",
        "score = input()\r\n",
        "if score == 'A':\r\n",
        "    print('best!!!')\r\n",
        "elif score == 'B':\r\n",
        "    print('good!!')\r\n",
        "elif score == 'C':\r\n",
        "    print('run!')\r\n",
        "elif score == 'D':\r\n",
        "    print('slowly~')\r\n",
        "else:\r\n",
        "    print('what?')"
      ],
      "execution_count": 20,
      "outputs": [
        {
          "output_type": "stream",
          "text": [
            "A\n",
            "best!!!\n"
          ],
          "name": "stdout"
        }
      ]
    },
    {
      "cell_type": "code",
      "metadata": {
        "colab": {
          "base_uri": "https://localhost:8080/"
        },
        "id": "qhsxMoCjYWbI",
        "outputId": "92757ead-3a2a-479d-88d7-24cf4824d0dd"
      },
      "source": [
        "# 70\r\n",
        "month = int(input())\r\n",
        "\r\n",
        "if month in (12, 1, 2):\r\n",
        "    print('winter')\r\n",
        "elif month in (3, 4, 5):\r\n",
        "    print('spring')\r\n",
        "elif month in (6, 7, 8):\r\n",
        "    print('summer')\r\n",
        "elif month in (9, 10, 11):\r\n",
        "    print('fall')"
      ],
      "execution_count": 22,
      "outputs": [
        {
          "output_type": "stream",
          "text": [
            "12\n",
            "winter\n"
          ],
          "name": "stdout"
        }
      ]
    }
  ]
}