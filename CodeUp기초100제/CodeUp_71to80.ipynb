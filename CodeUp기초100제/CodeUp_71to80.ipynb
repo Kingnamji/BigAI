{
  "nbformat": 4,
  "nbformat_minor": 0,
  "metadata": {
    "colab": {
      "name": "CodeUp_71to80",
      "provenance": [],
      "collapsed_sections": []
    },
    "kernelspec": {
      "name": "python3",
      "display_name": "Python 3"
    }
  },
  "cells": [
    {
      "cell_type": "code",
      "metadata": {
        "colab": {
          "base_uri": "https://localhost:8080/"
        },
        "id": "fipiSVLMZNto",
        "outputId": "430afb2a-206a-42f5-8dcd-30cf434f6617"
      },
      "source": [
        "# 71\r\n",
        "a = list(map(int, input().split()))\r\n",
        "\r\n",
        "for i in a:\r\n",
        "\r\n",
        "    if i == 0:\r\n",
        "        break;\r\n",
        "\r\n",
        "    print(i)"
      ],
      "execution_count": 1,
      "outputs": [
        {
          "output_type": "stream",
          "text": [
            "7 4 2 3 0 1 5 6 9 10 8\n",
            "7\n",
            "4\n",
            "2\n",
            "3\n"
          ],
          "name": "stdout"
        }
      ]
    },
    {
      "cell_type": "code",
      "metadata": {
        "colab": {
          "base_uri": "https://localhost:8080/"
        },
        "id": "GGJ4qmjxZmOz",
        "outputId": "fbe2e3fd-e304-4694-ef90-5dd3c5f9dd6c"
      },
      "source": [
        "# 72\r\n",
        "n = int(input())\r\n",
        "a = list(map(int, input().split()))\r\n",
        "\r\n",
        "for i in range(n):\r\n",
        "    print(a[i])"
      ],
      "execution_count": 2,
      "outputs": [
        {
          "output_type": "stream",
          "text": [
            "5\n",
            "1 2 3 4 5\n",
            "1\n",
            "2\n",
            "3\n",
            "4\n",
            "5\n"
          ],
          "name": "stdout"
        }
      ]
    },
    {
      "cell_type": "code",
      "metadata": {
        "colab": {
          "base_uri": "https://localhost:8080/"
        },
        "id": "Y8vAbBChZ6YD",
        "outputId": "f57a60b2-4d55-4628-9d68-e69156f04dbf"
      },
      "source": [
        "# 73\r\n",
        "a = list(map(int, input().split()))\r\n",
        "\r\n",
        "for i in a:\r\n",
        "\r\n",
        "    if i == 0:\r\n",
        "        break;\r\n",
        "\r\n",
        "    print(i)"
      ],
      "execution_count": 3,
      "outputs": [
        {
          "output_type": "stream",
          "text": [
            "7 4 2 3 0 1 5 6 9 10 8\n",
            "7\n",
            "4\n",
            "2\n",
            "3\n"
          ],
          "name": "stdout"
        }
      ]
    },
    {
      "cell_type": "code",
      "metadata": {
        "colab": {
          "base_uri": "https://localhost:8080/"
        },
        "id": "zDfrYq6yaQMr",
        "outputId": "13c37e8e-30bc-4390-e9af-b925f92e6dff"
      },
      "source": [
        "# 74\r\n",
        "n = int(input())\r\n",
        "\r\n",
        "for i in range(n):\r\n",
        "    print(n-i)"
      ],
      "execution_count": 4,
      "outputs": [
        {
          "output_type": "stream",
          "text": [
            "5\n",
            "5\n",
            "4\n",
            "3\n",
            "2\n",
            "1\n"
          ],
          "name": "stdout"
        }
      ]
    },
    {
      "cell_type": "code",
      "metadata": {
        "colab": {
          "base_uri": "https://localhost:8080/"
        },
        "id": "kKXk96qLaeb7",
        "outputId": "49b4b730-15e0-4ddf-a04f-b2efe3a26c82"
      },
      "source": [
        "# 75\r\n",
        "n = int(input())\r\n",
        "\r\n",
        "for i in range(n):\r\n",
        "    print(n-(i+1))"
      ],
      "execution_count": 6,
      "outputs": [
        {
          "output_type": "stream",
          "text": [
            "5\n",
            "4\n",
            "3\n",
            "2\n",
            "1\n",
            "0\n"
          ],
          "name": "stdout"
        }
      ]
    },
    {
      "cell_type": "code",
      "metadata": {
        "colab": {
          "base_uri": "https://localhost:8080/"
        },
        "id": "fhEMIHQeaqtz",
        "outputId": "341beb5c-9e7e-449a-d980-0eecc02ad240"
      },
      "source": [
        "# 76\r\n",
        "n = input()\r\n",
        "last = ord(n) # 아스키 코드값으로 바꿔준다.\r\n",
        "\r\n",
        "num = 97 # a의 아스키코드값 97로 시작하는 값을 설정 후\r\n",
        "\r\n",
        "while num <= last: # 아스키코드 값이 마지막 값과 같아질 때 까지\r\n",
        "    print(chr(num), end = ' ')\r\n",
        "    num += 1"
      ],
      "execution_count": 11,
      "outputs": [
        {
          "output_type": "stream",
          "text": [
            "f\n",
            "a b c d e f "
          ],
          "name": "stdout"
        }
      ]
    },
    {
      "cell_type": "code",
      "metadata": {
        "colab": {
          "base_uri": "https://localhost:8080/"
        },
        "id": "JG6Kzvf5bBaC",
        "outputId": "655e16ec-d932-4b24-a85f-d8a5280ef263"
      },
      "source": [
        "# 77\r\n",
        "n = int(input())\r\n",
        "\r\n",
        "for i in range(n+1):\r\n",
        "    print(i)"
      ],
      "execution_count": 12,
      "outputs": [
        {
          "output_type": "stream",
          "text": [
            "4\n",
            "0\n",
            "1\n",
            "2\n",
            "3\n",
            "4\n"
          ],
          "name": "stdout"
        }
      ]
    },
    {
      "cell_type": "code",
      "metadata": {
        "colab": {
          "base_uri": "https://localhost:8080/"
        },
        "id": "SvqJMTIHb_rR",
        "outputId": "d4c6f35a-f942-4d7a-93db-556b5144347b"
      },
      "source": [
        "# 78\r\n",
        "n = int(input())\r\n",
        "sum = 0\r\n",
        "\r\n",
        "for i in range(1, n+1): # 1부터 n까지로 범위를 제한\r\n",
        "    if i % 2 == 0:\r\n",
        "        sum += i\r\n",
        "\r\n",
        "print(sum)"
      ],
      "execution_count": 13,
      "outputs": [
        {
          "output_type": "stream",
          "text": [
            "5\n",
            "6\n"
          ],
          "name": "stdout"
        }
      ]
    },
    {
      "cell_type": "code",
      "metadata": {
        "colab": {
          "base_uri": "https://localhost:8080/"
        },
        "id": "TUeuTSs5cjN_",
        "outputId": "ef0e290f-82d1-4525-e71e-64e812ca8a66"
      },
      "source": [
        "# 79\r\n",
        "c = list(map(str, input().split()))\r\n",
        "\r\n",
        "for i in c:\r\n",
        "    print(i)\r\n",
        "    if i == 'q':\r\n",
        "        break;"
      ],
      "execution_count": 25,
      "outputs": [
        {
          "output_type": "stream",
          "text": [
            "x b k d l q g a c\n",
            "x\n",
            "b\n",
            "k\n",
            "d\n",
            "l\n",
            "q\n"
          ],
          "name": "stdout"
        }
      ]
    },
    {
      "cell_type": "code",
      "metadata": {
        "colab": {
          "base_uri": "https://localhost:8080/"
        },
        "id": "jh5I5RLkdD_J",
        "outputId": "ecc87293-d840-4bd6-ae03-cf699ec6e7e4"
      },
      "source": [
        "# 80\r\n",
        "n = int(input())\r\n",
        "\r\n",
        "sum = 0\r\n",
        "i = 1\r\n",
        "\r\n",
        "# 입력된 정수와 같거나 커졌을 때, 마지막에 더한 정수를 출력하기 위해 while문의 조건은 n보다 작을 때\r\n",
        "while sum < n: \r\n",
        "    sum += i\r\n",
        "    i += 1\r\n",
        "\r\n",
        "print(i-1) # while문의 마지막에 i가 한번 더 더해지기 떄문에 1을 뺴준다."
      ],
      "execution_count": 28,
      "outputs": [
        {
          "output_type": "stream",
          "text": [
            "55\n",
            "10\n"
          ],
          "name": "stdout"
        }
      ]
    }
  ]
}