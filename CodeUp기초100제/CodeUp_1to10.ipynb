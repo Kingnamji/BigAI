{
  "nbformat": 4,
  "nbformat_minor": 0,
  "metadata": {
    "colab": {
      "name": "CodeUp_1to10",
      "provenance": []
    },
    "kernelspec": {
      "name": "python3",
      "display_name": "Python 3"
    }
  },
  "cells": [
    {
      "cell_type": "code",
      "metadata": {
        "colab": {
          "base_uri": "https://localhost:8080/"
        },
        "id": "HKPVLCxnY9Bv",
        "outputId": "9211ce58-59cd-4040-9098-e061a8fd53a9"
      },
      "source": [
        "# 1 \n",
        "print(\"Hello\")"
      ],
      "execution_count": null,
      "outputs": [
        {
          "output_type": "stream",
          "text": [
            "Hello\n"
          ],
          "name": "stdout"
        }
      ]
    },
    {
      "cell_type": "code",
      "metadata": {
        "colab": {
          "base_uri": "https://localhost:8080/"
        },
        "id": "m5c0iFHLZF_T",
        "outputId": "4bd36d4d-00c1-44f8-f352-7b14690c62f4"
      },
      "source": [
        "# 2\n",
        "print(\"Hello World\")"
      ],
      "execution_count": null,
      "outputs": [
        {
          "output_type": "stream",
          "text": [
            "Hello World\n"
          ],
          "name": "stdout"
        }
      ]
    },
    {
      "cell_type": "code",
      "metadata": {
        "colab": {
          "base_uri": "https://localhost:8080/"
        },
        "id": "no9y35LVZIc9",
        "outputId": "154956fc-8acb-42ac-da58-2259ef1d8136"
      },
      "source": [
        "# 3\n",
        "print(\"Hello\\nWorld\")"
      ],
      "execution_count": null,
      "outputs": [
        {
          "output_type": "stream",
          "text": [
            "Hello\n",
            "World\n"
          ],
          "name": "stdout"
        }
      ]
    },
    {
      "cell_type": "code",
      "metadata": {
        "colab": {
          "base_uri": "https://localhost:8080/"
        },
        "id": "_Xdzqh9LZeTe",
        "outputId": "cf4cf56c-5d1b-4f3e-f444-63d3d9e0b3de"
      },
      "source": [
        "# 4\n",
        "print(\"'Hello'\")"
      ],
      "execution_count": null,
      "outputs": [
        {
          "output_type": "stream",
          "text": [
            "'Hello'\n"
          ],
          "name": "stdout"
        }
      ]
    },
    {
      "cell_type": "code",
      "metadata": {
        "colab": {
          "base_uri": "https://localhost:8080/"
        },
        "id": "6X5J7cOfZtLf",
        "outputId": "a2d203cc-950f-4c80-ef5a-54b4f42f0da1"
      },
      "source": [
        "# 5\n",
        "print('\"Hello World\"')"
      ],
      "execution_count": null,
      "outputs": [
        {
          "output_type": "stream",
          "text": [
            "\"Hello World\"\n"
          ],
          "name": "stdout"
        }
      ]
    },
    {
      "cell_type": "code",
      "metadata": {
        "colab": {
          "base_uri": "https://localhost:8080/"
        },
        "id": "NjGjeJHZZyrN",
        "outputId": "95926130-9c3e-4227-ccbf-e9eb7b387fcb"
      },
      "source": [
        "# 6\n",
        "print('\"!@#$%^&*()\"')"
      ],
      "execution_count": null,
      "outputs": [
        {
          "output_type": "stream",
          "text": [
            "\"!@#$%^&*()\"\n"
          ],
          "name": "stdout"
        }
      ]
    },
    {
      "cell_type": "code",
      "metadata": {
        "colab": {
          "base_uri": "https://localhost:8080/"
        },
        "id": "dLLlzyQRaDye",
        "outputId": "3486d317-6d0c-4898-f0b9-fd2a6d69d645"
      },
      "source": [
        "# 7\n",
        "print('\"C:\\Download\\hello.cpp\"')"
      ],
      "execution_count": null,
      "outputs": [
        {
          "output_type": "stream",
          "text": [
            "\"C:\\Download\\hello.cpp\"\n"
          ],
          "name": "stdout"
        }
      ]
    },
    {
      "cell_type": "code",
      "metadata": {
        "colab": {
          "base_uri": "https://localhost:8080/"
        },
        "id": "SBHeT80YaxVf",
        "outputId": "38e7e0ea-412f-4a45-fcbe-82b6b412a235"
      },
      "source": [
        "# 8 \n",
        "print(\"\\u250C\\u252C\\u2510\")\n",
        "print(\"\\u251C\\u253C\\u2524\")\n",
        "print(\"\\u2514\\u2534\\u2518\")"
      ],
      "execution_count": null,
      "outputs": [
        {
          "output_type": "stream",
          "text": [
            "┌┬┐\n",
            "├┼┤\n",
            "└┴┘\n"
          ],
          "name": "stdout"
        }
      ]
    },
    {
      "cell_type": "code",
      "metadata": {
        "colab": {
          "base_uri": "https://localhost:8080/"
        },
        "id": "iEucm2IscBrR",
        "outputId": "1c7c4ffe-acc8-4410-ca9a-aa7986c55069"
      },
      "source": [
        "# 10\n",
        "n = int(input())\n",
        "print(n)"
      ],
      "execution_count": null,
      "outputs": [
        {
          "output_type": "stream",
          "text": [
            "15\n",
            "15\n"
          ],
          "name": "stdout"
        }
      ]
    }
  ]
}