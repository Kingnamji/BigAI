{
  "nbformat": 4,
  "nbformat_minor": 0,
  "metadata": {
    "colab": {
      "name": "CodeUp_31to40",
      "provenance": []
    },
    "kernelspec": {
      "name": "python3",
      "display_name": "Python 3"
    }
  },
  "cells": [
    {
      "cell_type": "code",
      "metadata": {
        "colab": {
          "base_uri": "https://localhost:8080/"
        },
        "id": "Fdg_icK8oP-u",
        "outputId": "94b654bc-c71a-418f-e6d8-e6a0a9df61d0"
      },
      "source": [
        "# 31\n",
        "n = int(input())\n",
        "n = format(n,'o')\n",
        "# https://brownbears.tistory.com/467 다양한 진수 변환 방식\n",
        "print(n)"
      ],
      "execution_count": null,
      "outputs": [
        {
          "output_type": "stream",
          "text": [
            "10\n",
            "12\n"
          ],
          "name": "stdout"
        }
      ]
    },
    {
      "cell_type": "code",
      "metadata": {
        "colab": {
          "base_uri": "https://localhost:8080/"
        },
        "id": "59nvE1IspBlW",
        "outputId": "95dea73a-3d1e-4d0b-f6f6-ec21e5a3adaf"
      },
      "source": [
        "# 32\n",
        "n = int(input())\n",
        "n = format(n,'x')\n",
        "# https://brownbears.tistory.com/467 다양한 진수 변환 방식\n",
        "print(n)"
      ],
      "execution_count": null,
      "outputs": [
        {
          "output_type": "stream",
          "text": [
            "255\n",
            "ff\n"
          ],
          "name": "stdout"
        }
      ]
    },
    {
      "cell_type": "code",
      "metadata": {
        "colab": {
          "base_uri": "https://localhost:8080/"
        },
        "id": "TD9uUJwYpP7L",
        "outputId": "3543c790-6f03-4a17-8ce3-4b51a4e42e1b"
      },
      "source": [
        "# 33\n",
        "n = int(input())\n",
        "n = str(format(n,'x')) # 대문자 변환을 위해 string 자료형으로 변환해주자.\n",
        "\n",
        "n = n.upper() # 대문자 변환\n",
        "\n",
        "print(n)"
      ],
      "execution_count": null,
      "outputs": [
        {
          "output_type": "stream",
          "text": [
            "255\n",
            "FF\n"
          ],
          "name": "stdout"
        }
      ]
    },
    {
      "cell_type": "code",
      "metadata": {
        "colab": {
          "base_uri": "https://localhost:8080/"
        },
        "id": "TVgsLEPspf8O",
        "outputId": "85773387-8279-410e-9d2f-a6e6d963870f"
      },
      "source": [
        "# 34\n",
        "\n",
        "n = input()\n",
        "n = int(n, 8)\n",
        "# n = int(input(), 8) 이렇게 한줄도 가능\n",
        "\n",
        "print(n)"
      ],
      "execution_count": null,
      "outputs": [
        {
          "output_type": "stream",
          "text": [
            "12\n",
            "10\n"
          ],
          "name": "stdout"
        }
      ]
    },
    {
      "cell_type": "code",
      "metadata": {
        "colab": {
          "base_uri": "https://localhost:8080/"
        },
        "id": "m1zx917ZqX-w",
        "outputId": "a9885562-6a10-4412-c1b0-ec10536e2b8b"
      },
      "source": [
        "# 35\n",
        "n = int(input(), 16)\n",
        "n = format(n,'o')\n",
        "print(n)"
      ],
      "execution_count": null,
      "outputs": [
        {
          "output_type": "stream",
          "text": [
            "f\n",
            "17\n"
          ],
          "name": "stdout"
        }
      ]
    },
    {
      "cell_type": "code",
      "metadata": {
        "colab": {
          "base_uri": "https://localhost:8080/"
        },
        "id": "nFHPl3gdrlSU",
        "outputId": "77953a84-b4d4-4513-ab53-adae07b2ac7e"
      },
      "source": [
        "# 36\n",
        "c = input()\n",
        "print(ord(c))"
      ],
      "execution_count": null,
      "outputs": [
        {
          "output_type": "stream",
          "text": [
            "A\n",
            "65\n"
          ],
          "name": "stdout"
        }
      ]
    },
    {
      "cell_type": "code",
      "metadata": {
        "colab": {
          "base_uri": "https://localhost:8080/"
        },
        "id": "tEklokrTr4Ip",
        "outputId": "57e59d87-113d-4780-d62f-d8fd2778d497"
      },
      "source": [
        "# 37\n",
        "n = int(input())\n",
        "print(chr(n))"
      ],
      "execution_count": null,
      "outputs": [
        {
          "output_type": "stream",
          "text": [
            "65\n",
            "A\n"
          ],
          "name": "stdout"
        }
      ]
    },
    {
      "cell_type": "code",
      "metadata": {
        "colab": {
          "base_uri": "https://localhost:8080/"
        },
        "id": "zrNnclP6r_Ou",
        "outputId": "a184713a-13d1-42f0-b071-4f9eb3dbdfa6"
      },
      "source": [
        "# 38\n",
        "n1, n2 = map(int, input().split())\n",
        "print(n1+n2)"
      ],
      "execution_count": null,
      "outputs": [
        {
          "output_type": "stream",
          "text": [
            "124 -123\n",
            "1\n"
          ],
          "name": "stdout"
        }
      ]
    },
    {
      "cell_type": "code",
      "metadata": {
        "colab": {
          "base_uri": "https://localhost:8080/"
        },
        "id": "LHvnU7vBr_Uj",
        "outputId": "cccbe94f-0298-48ac-f2af-5cf899dddbd1"
      },
      "source": [
        "# 39\n",
        "n1, n2 = map(int, input().split())\n",
        "print(n1+n2)"
      ],
      "execution_count": null,
      "outputs": [
        {
          "output_type": "stream",
          "text": [
            "2147483648 2147483648\n",
            "4294967296\n"
          ],
          "name": "stdout"
        }
      ]
    },
    {
      "cell_type": "code",
      "metadata": {
        "colab": {
          "base_uri": "https://localhost:8080/"
        },
        "id": "gAAszdOyr_aG",
        "outputId": "507b69e3-cd6e-49ad-a537-e2b67ad8a2ad"
      },
      "source": [
        "# 40\n",
        "n = int(input())\n",
        "print( (-1) * n )"
      ],
      "execution_count": null,
      "outputs": [
        {
          "output_type": "stream",
          "text": [
            "-1\n",
            "1\n"
          ],
          "name": "stdout"
        }
      ]
    }
  ]
}