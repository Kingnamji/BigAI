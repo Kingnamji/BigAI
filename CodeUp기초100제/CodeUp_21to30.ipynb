{
  "nbformat": 4,
  "nbformat_minor": 0,
  "metadata": {
    "colab": {
      "name": "CodeUp_21to30",
      "provenance": []
    },
    "kernelspec": {
      "name": "python3",
      "display_name": "Python 3"
    }
  },
  "cells": [
    {
      "cell_type": "code",
      "metadata": {
        "colab": {
          "base_uri": "https://localhost:8080/"
        },
        "id": "hs3hFGbxcDEG",
        "outputId": "55ef7d83-8e38-4a63-8ba1-2b1ba4dc38a4"
      },
      "source": [
        "# 21\n",
        "c = input()\n",
        "print(c)"
      ],
      "execution_count": null,
      "outputs": [
        {
          "output_type": "stream",
          "text": [
            "Informatics\n",
            "Informatics\n"
          ],
          "name": "stdout"
        }
      ]
    },
    {
      "cell_type": "code",
      "metadata": {
        "colab": {
          "base_uri": "https://localhost:8080/"
        },
        "id": "Rx2mBRqZhsEl",
        "outputId": "0f66cbb2-e977-490e-ce5c-a563f08d3324"
      },
      "source": [
        "# 22\n",
        "sent = input()\n",
        "print(sent)"
      ],
      "execution_count": null,
      "outputs": [
        {
          "output_type": "stream",
          "text": [
            "Programming is very fun!!\n",
            "Programming is very fun!!\n"
          ],
          "name": "stdout"
        }
      ]
    },
    {
      "cell_type": "code",
      "metadata": {
        "colab": {
          "base_uri": "https://localhost:8080/"
        },
        "id": "FcHHOohXh5bT",
        "outputId": "4ace6894-bd04-4539-96ac-cd2dee53fff9"
      },
      "source": [
        "# 23\n",
        "i, f = map(str, input().split('.'))\n",
        "\n",
        "print(i)\n",
        "print(f)"
      ],
      "execution_count": null,
      "outputs": [
        {
          "output_type": "stream",
          "text": [
            "1.21124\n",
            "1\n",
            "21124\n"
          ],
          "name": "stdout"
        }
      ]
    },
    {
      "cell_type": "code",
      "metadata": {
        "colab": {
          "base_uri": "https://localhost:8080/"
        },
        "id": "aQm9CErZiepH",
        "outputId": "75124dc0-fb56-4f34-be73-9e4c5e3bc8b6"
      },
      "source": [
        "# 24\n",
        "c = input()\n",
        "\n",
        "'''\n",
        "이렇게 해도 되고\n",
        "for i in range(len(c)):\n",
        "    print(\"'{}'\".format(c[i]))\n",
        "'''\n",
        "\n",
        "for i in c:\n",
        "    print(\"'{}'\".format(i))"
      ],
      "execution_count": null,
      "outputs": [
        {
          "output_type": "stream",
          "text": [
            "Boy\n",
            "'B'\n",
            "'o'\n",
            "'y'\n"
          ],
          "name": "stdout"
        }
      ]
    },
    {
      "cell_type": "code",
      "metadata": {
        "colab": {
          "base_uri": "https://localhost:8080/"
        },
        "id": "1koGxgmDj-8t",
        "outputId": "2d289429-5eb7-49b7-ec99-be30a8a0b862"
      },
      "source": [
        "# 25\n",
        "num = int(input())\n",
        "num = str(num) # string 자료형으로 바꿔주면 수에 0 을 포함해도 깔끔하게 처리가 가능하다.\n",
        "\n",
        "print(\"[{}0000]\".format(num[0]))\n",
        "print(\"[{}000]\".format(num[1]))\n",
        "print(\"[{}00]\".format(num[2]))\n",
        "print(\"[{}0]\".format(num[3]))\n",
        "print(\"[{}]\".format(num[4]))"
      ],
      "execution_count": null,
      "outputs": [
        {
          "output_type": "stream",
          "text": [
            "74214\n",
            "[70000]\n",
            "[4000]\n",
            "[200]\n",
            "[10]\n",
            "[4]\n"
          ],
          "name": "stdout"
        }
      ]
    },
    {
      "cell_type": "code",
      "metadata": {
        "colab": {
          "base_uri": "https://localhost:8080/"
        },
        "id": "CsHYH2-rmQ31",
        "outputId": "1eecfa29-6876-46ad-da9b-0d0b5d160faa"
      },
      "source": [
        "# 26\n",
        "h, m, s = map(int, input().split(\":\"))\n",
        "print(m)"
      ],
      "execution_count": null,
      "outputs": [
        {
          "output_type": "stream",
          "text": [
            "17:23:57\n",
            "23\n"
          ],
          "name": "stdout"
        }
      ]
    },
    {
      "cell_type": "code",
      "metadata": {
        "colab": {
          "base_uri": "https://localhost:8080/"
        },
        "id": "m1oDKZ32mbyE",
        "outputId": "687842df-3c7c-493d-f85b-7fdb2d1aa763"
      },
      "source": [
        "# 27\n",
        "y, m, d = map(int, input().split('.'))\n",
        "\n",
        "if y < 100:\n",
        "    y = '00' + str(y)\n",
        "elif y < 1000:\n",
        "    y =  '0' + str(y)\n",
        "\n",
        "if m < 10:\n",
        "    m = '0' + str(m)\n",
        "\n",
        "if d < 10:\n",
        "    d = '0' + str(d)\n",
        "\n",
        "print(\"{}-{}-{}\".format(d, m, y))"
      ],
      "execution_count": null,
      "outputs": [
        {
          "output_type": "stream",
          "text": [
            "2014.07.15\n",
            "15-07-2014\n"
          ],
          "name": "stdout"
        }
      ]
    },
    {
      "cell_type": "code",
      "metadata": {
        "colab": {
          "base_uri": "https://localhost:8080/"
        },
        "id": "KiaftoiFmzE0",
        "outputId": "c6f1aaeb-a612-44ff-8f48-695aec02d30e"
      },
      "source": [
        "# 28\n",
        "# 파이썬은 c language 같은 프로그래밍 언어와는 달리\n",
        "# Arbitrary-precision arithmetic 방식을 통해 오버플로를 방지한다.\n",
        "# 다만 사칙연산이 조금 느리다.\n",
        "n = int(input())\n",
        "\n",
        "print(n)"
      ],
      "execution_count": null,
      "outputs": [
        {
          "output_type": "stream",
          "text": [
            "124124124\n",
            "124124124\n"
          ],
          "name": "stdout"
        }
      ]
    },
    {
      "cell_type": "code",
      "metadata": {
        "colab": {
          "base_uri": "https://localhost:8080/"
        },
        "id": "yY7dZQ_mn6bu",
        "outputId": "d760a188-c3a1-4150-b5b0-09aa3b51a233"
      },
      "source": [
        "# 29\n",
        "n = float(input())\n",
        "print(\"%.11f\" %n)"
      ],
      "execution_count": null,
      "outputs": [
        {
          "output_type": "stream",
          "text": [
            "3.14159265359\n",
            "3.14159265359\n"
          ],
          "name": "stdout"
        }
      ]
    },
    {
      "cell_type": "code",
      "metadata": {
        "colab": {
          "base_uri": "https://localhost:8080/"
        },
        "id": "TjUP7ensoH3W",
        "outputId": "01723dff-2485-4bde-df9f-0221c61b665e"
      },
      "source": [
        "# 30\n",
        "n = int(input())\n",
        "print(n)"
      ],
      "execution_count": null,
      "outputs": [
        {
          "output_type": "stream",
          "text": [
            "-125125211251252\n",
            "-125125211251252\n"
          ],
          "name": "stdout"
        }
      ]
    }
  ]
}