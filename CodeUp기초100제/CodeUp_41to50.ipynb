{
  "nbformat": 4,
  "nbformat_minor": 0,
  "metadata": {
    "colab": {
      "name": "CodeUp_41to50",
      "provenance": []
    },
    "kernelspec": {
      "name": "python3",
      "display_name": "Python 3"
    }
  },
  "cells": [
    {
      "cell_type": "code",
      "metadata": {
        "colab": {
          "base_uri": "https://localhost:8080/"
        },
        "id": "5kgdHn_Ar_fr",
        "outputId": "5eceab59-b02e-4803-ec1d-67e55a7b5513"
      },
      "source": [
        "# 41\n",
        "c = input() # 문자 입력\n",
        "n = ord(c) + 1 # 정수형으로 바꿔서 + 1\n",
        "c = chr(n)\n",
        "\n",
        "print(c)"
      ],
      "execution_count": null,
      "outputs": [
        {
          "output_type": "stream",
          "text": [
            "A\n",
            "B\n"
          ],
          "name": "stdout"
        }
      ]
    },
    {
      "cell_type": "code",
      "metadata": {
        "colab": {
          "base_uri": "https://localhost:8080/"
        },
        "id": "v2lPfbv0r_ku",
        "outputId": "c3f43acf-c4b4-41f2-dd3f-99f54cfad59f"
      },
      "source": [
        "# 42\n",
        "a, b = map(int, input().split())\n",
        "\n",
        "print(a//b) "
      ],
      "execution_count": null,
      "outputs": [
        {
          "output_type": "stream",
          "text": [
            "1 3\n",
            "0\n"
          ],
          "name": "stdout"
        }
      ]
    },
    {
      "cell_type": "code",
      "metadata": {
        "colab": {
          "base_uri": "https://localhost:8080/"
        },
        "id": "Rboycaa1r_qR",
        "outputId": "14e2038b-6342-46ac-8286-7a2fca081452"
      },
      "source": [
        "# 43\n",
        "a, b = map(int, input().split())\n",
        "\n",
        "print(a%b) "
      ],
      "execution_count": null,
      "outputs": [
        {
          "output_type": "stream",
          "text": [
            "10 3\n",
            "1\n"
          ],
          "name": "stdout"
        }
      ]
    },
    {
      "cell_type": "code",
      "metadata": {
        "colab": {
          "base_uri": "https://localhost:8080/"
        },
        "id": "zF-eOtU8r_vU",
        "outputId": "cb0b5095-dcfa-4773-eac8-5bd10c92cd54"
      },
      "source": [
        "# 44\n",
        "n = int(input())\n",
        "print(n+1)"
      ],
      "execution_count": null,
      "outputs": [
        {
          "output_type": "stream",
          "text": [
            "2147483647\n",
            "2147483648\n"
          ],
          "name": "stdout"
        }
      ]
    },
    {
      "cell_type": "code",
      "metadata": {
        "colab": {
          "base_uri": "https://localhost:8080/"
        },
        "id": "5dvazK0Mtm2U",
        "outputId": "cd5e3d04-f80a-408e-b86c-97029be91333"
      },
      "source": [
        "# 45\n",
        "a, b = map(int, input().split())\n",
        "\n",
        "print(a+b)\n",
        "print(a-b)\n",
        "print(a*b)\n",
        "print(a//b)\n",
        "print(a%b)\n",
        "print(\"%.2f\" %(a/b))"
      ],
      "execution_count": null,
      "outputs": [
        {
          "output_type": "stream",
          "text": [
            "10 3\n",
            "13\n",
            "7\n",
            "30\n",
            "3\n",
            "1\n",
            "3.33\n"
          ],
          "name": "stdout"
        }
      ]
    },
    {
      "cell_type": "code",
      "metadata": {
        "colab": {
          "base_uri": "https://localhost:8080/"
        },
        "id": "2v28LAF5uJ7L",
        "outputId": "0ccbd8c4-2e32-46d2-caaf-53989c42dc98"
      },
      "source": [
        "# 46\n",
        "a, b, c = map(int, input().split())\n",
        "sum = a+b+c\n",
        "mean = (a+b+c)/3\n",
        "\n",
        "print(sum)\n",
        "print(\"%.1f\" %mean)"
      ],
      "execution_count": null,
      "outputs": [
        {
          "output_type": "stream",
          "text": [
            "1 2 3\n",
            "6\n",
            "2.0\n"
          ],
          "name": "stdout"
        }
      ]
    },
    {
      "cell_type": "code",
      "metadata": {
        "colab": {
          "base_uri": "https://localhost:8080/"
        },
        "id": "gzqD2hZeuma6",
        "outputId": "c1e4f01d-fde3-48b1-9103-6a092d4b08ff"
      },
      "source": [
        "# 47\n",
        "n = int(input())\n",
        "print(2*n)"
      ],
      "execution_count": null,
      "outputs": [
        {
          "output_type": "stream",
          "text": [
            "1024\n",
            "2048\n"
          ],
          "name": "stdout"
        }
      ]
    },
    {
      "cell_type": "code",
      "metadata": {
        "colab": {
          "base_uri": "https://localhost:8080/"
        },
        "id": "y9VvKBmGuwVf",
        "outputId": "e6c2083f-8401-4944-d558-651c41f5afd4"
      },
      "source": [
        "# 48\n",
        "a, b = map(int, input().split())\n",
        "print(a * (2**b))"
      ],
      "execution_count": null,
      "outputs": [
        {
          "output_type": "stream",
          "text": [
            "1 3\n",
            "8\n"
          ],
          "name": "stdout"
        }
      ]
    },
    {
      "cell_type": "code",
      "metadata": {
        "colab": {
          "base_uri": "https://localhost:8080/"
        },
        "id": "xuQv5tElu96y",
        "outputId": "3edc2e2b-2101-464e-97f4-35442ae5963f"
      },
      "source": [
        "# 49\n",
        "a, b = map(int, input().split())\n",
        "\n",
        "if a > b:\n",
        "    print(1)\n",
        "else:\n",
        "    print(0)"
      ],
      "execution_count": null,
      "outputs": [
        {
          "output_type": "stream",
          "text": [
            "9 1\n",
            "1\n"
          ],
          "name": "stdout"
        }
      ]
    },
    {
      "cell_type": "code",
      "metadata": {
        "colab": {
          "base_uri": "https://localhost:8080/"
        },
        "id": "6reZlet5vNfS",
        "outputId": "0ee62d94-5d0c-4629-b16b-dcd70717e0c1"
      },
      "source": [
        "# 50\n",
        "a, b = map(int, input().split())\n",
        "\n",
        "if a == b:\n",
        "    print(1)\n",
        "else:\n",
        "    print(0)"
      ],
      "execution_count": null,
      "outputs": [
        {
          "output_type": "stream",
          "text": [
            "0 0\n",
            "1\n"
          ],
          "name": "stdout"
        }
      ]
    }
  ]
}