{
  "nbformat": 4,
  "nbformat_minor": 0,
  "metadata": {
    "colab": {
      "name": "CodeUp_11to20",
      "provenance": []
    },
    "kernelspec": {
      "name": "python3",
      "display_name": "Python 3"
    }
  },
  "cells": [
    {
      "cell_type": "code",
      "metadata": {
        "colab": {
          "base_uri": "https://localhost:8080/"
        },
        "id": "zd86rlq8cCRQ",
        "outputId": "51b38742-6e3b-4f76-c24f-0185fed37fe6"
      },
      "source": [
        "# 11\n",
        "c = input()\n",
        "print(c)"
      ],
      "execution_count": null,
      "outputs": [
        {
          "output_type": "stream",
          "text": [
            "p\n",
            "p\n"
          ],
          "name": "stdout"
        }
      ]
    },
    {
      "cell_type": "code",
      "metadata": {
        "colab": {
          "base_uri": "https://localhost:8080/"
        },
        "id": "LLDp6efccCYn",
        "outputId": "5cf43b65-d800-499f-fed1-01ac95d7d6f2"
      },
      "source": [
        "# 12\n",
        "n = float(input())\n",
        "print(\"%f\" %n)"
      ],
      "execution_count": null,
      "outputs": [
        {
          "output_type": "stream",
          "text": [
            "1.124142\n",
            "1.124142\n"
          ],
          "name": "stdout"
        }
      ]
    },
    {
      "cell_type": "code",
      "metadata": {
        "colab": {
          "base_uri": "https://localhost:8080/"
        },
        "id": "EGZedX8VcCe4",
        "outputId": "ee3d3fef-16de-4cfe-9c6d-f73cf25863c7"
      },
      "source": [
        "# 13\n",
        "a, b = map(int, input().split())\n",
        "print(a, b)"
      ],
      "execution_count": null,
      "outputs": [
        {
          "output_type": "stream",
          "text": [
            "1 2\n",
            "1 2\n"
          ],
          "name": "stdout"
        }
      ]
    },
    {
      "cell_type": "code",
      "metadata": {
        "colab": {
          "base_uri": "https://localhost:8080/"
        },
        "id": "lXkFVqV3cCkr",
        "outputId": "2d472f40-3a28-49ff-b089-5f1fff338768"
      },
      "source": [
        "# 14\n",
        "x, y = map(str, input().split())\n",
        "print(y, x)"
      ],
      "execution_count": null,
      "outputs": [
        {
          "output_type": "stream",
          "text": [
            "A b\n",
            "b A\n"
          ],
          "name": "stdout"
        }
      ]
    },
    {
      "cell_type": "code",
      "metadata": {
        "colab": {
          "base_uri": "https://localhost:8080/"
        },
        "id": "cf6rrovfcCqI",
        "outputId": "3cfed79b-da51-48b1-9a11-e778115bfe21"
      },
      "source": [
        "# 15\n",
        "n = float(input())\n",
        "n = round(n, 2)\n",
        "print(\"%.2f\" %n)"
      ],
      "execution_count": null,
      "outputs": [
        {
          "output_type": "stream",
          "text": [
            "1.52954\n",
            "1.53\n"
          ],
          "name": "stdout"
        }
      ]
    },
    {
      "cell_type": "code",
      "metadata": {
        "colab": {
          "base_uri": "https://localhost:8080/"
        },
        "id": "MBUzLa2ZcCvY",
        "outputId": "b568dfc8-f5a6-4a13-9fee-0d52e59aadef"
      },
      "source": [
        "# 17\n",
        "a = int(input())\n",
        "print(a, a, a)"
      ],
      "execution_count": null,
      "outputs": [
        {
          "output_type": "stream",
          "text": [
            "125\n",
            "125 125 125\n"
          ],
          "name": "stdout"
        }
      ]
    },
    {
      "cell_type": "code",
      "metadata": {
        "colab": {
          "base_uri": "https://localhost:8080/"
        },
        "id": "qAigEWZucC0o",
        "outputId": "06a2e501-6108-441c-aa75-d961c906ad76"
      },
      "source": [
        "# 18\n",
        "h, m = map(int, input().split(':'))\n",
        "\n",
        "print(\"{}:{}\".format(h, m))\n",
        "# print(f'{h}:{m}') 코드업 사이트가 오래되서 f-string 포매팅으로 하면 에러"
      ],
      "execution_count": null,
      "outputs": [
        {
          "output_type": "stream",
          "text": [
            "12:32\n",
            "12:32\n"
          ],
          "name": "stdout"
        }
      ]
    },
    {
      "cell_type": "code",
      "metadata": {
        "colab": {
          "base_uri": "https://localhost:8080/"
        },
        "id": "f5xtrngjcC55",
        "outputId": "0c2552e2-2628-4649-dcd8-966d87ea1044"
      },
      "source": [
        "# 19\n",
        "y, m, d = map(int, input().split('.'))\n",
        "\n",
        "if y < 100:\n",
        "    y = '00' + str(y)\n",
        "elif y < 1000:\n",
        "    y =  '0' + str(y)\n",
        "\n",
        "if m < 10:\n",
        "    m = '0' + str(m)\n",
        "\n",
        "if d < 10:\n",
        "    d = '0' + str(d)\n",
        "\n",
        "print(\"{}.{}.{}\".format(y, m, d))"
      ],
      "execution_count": null,
      "outputs": [
        {
          "output_type": "stream",
          "text": [
            "123.12.2\n",
            "0123.12.02\n"
          ],
          "name": "stdout"
        }
      ]
    },
    {
      "cell_type": "code",
      "metadata": {
        "colab": {
          "base_uri": "https://localhost:8080/"
        },
        "id": "6LTueHeUcC-4",
        "outputId": "69ca4440-5baa-4ff2-fa94-b72477bc7216"
      },
      "source": [
        "# 20\n",
        "front, back = map(str, input().split('-'))\n",
        "print(\"{}{}\".format(front, back))"
      ],
      "execution_count": null,
      "outputs": [
        {
          "output_type": "stream",
          "text": [
            "991112-1717123\n",
            "9911121717123\n"
          ],
          "name": "stdout"
        }
      ]
    }
  ]
}