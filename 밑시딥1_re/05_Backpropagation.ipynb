{
  "nbformat": 4,
  "nbformat_minor": 0,
  "metadata": {
    "colab": {
      "name": "05_Backpropagation",
      "provenance": [],
      "collapsed_sections": []
    },
    "kernelspec": {
      "name": "python3",
      "display_name": "Python 3"
    },
    "language_info": {
      "name": "python"
    }
  },
  "cells": [
    {
      "cell_type": "markdown",
      "metadata": {
        "id": "Oi7Rzl60Cjey"
      },
      "source": [
        "# 오차역전파법"
      ]
    },
    {
      "cell_type": "code",
      "metadata": {
        "id": "9URVegj7H2Xh"
      },
      "source": [
        "import numpy as np\n",
        "import matplotlib.pyplot as plt\n",
        "import os\n",
        "import sys"
      ],
      "execution_count": 12,
      "outputs": []
    },
    {
      "cell_type": "markdown",
      "metadata": {
        "id": "jQEpD8xZ6miI"
      },
      "source": [
        "# 단순한 계층 구현하기"
      ]
    },
    {
      "cell_type": "markdown",
      "metadata": {
        "id": "1H1mpAR26sID"
      },
      "source": [
        "곱셈 계층 먼저 구현 \n",
        "\n",
        "- 순전파 : 입력을 *\n",
        "\n",
        "- 역전파 : 상류에서 넘어온 미분 값에 순전파 값을 서로 바꾸고 *"
      ]
    },
    {
      "cell_type": "code",
      "metadata": {
        "id": "0qcs08A5Benb"
      },
      "source": [
        "# 곱셈 계층\n",
        "class MulLayer(object):\n",
        "    def __init__(self): # 인스턴스 변수 x 와 y 를 초기화\n",
        "        self.x = None\n",
        "        self.y = None\n",
        "        \n",
        "    def forward(self, x, y): # 순전파 시 인스턴스 변수 x와 y에 값이 들어감.\n",
        "        self.x = x\n",
        "        self.y = y\n",
        "        out = x * y\n",
        "\n",
        "        return out\n",
        "\n",
        "    def backward(self, dout): # 역전파\n",
        "        dx = dout * self.y # 상류의 값에 x와 y를 바꿔서 곱한다.\n",
        "        dy = dout * self.x\n",
        "\n",
        "        return dx, dy"
      ],
      "execution_count": 1,
      "outputs": []
    },
    {
      "cell_type": "code",
      "metadata": {
        "colab": {
          "base_uri": "https://localhost:8080/"
        },
        "id": "PNvW6aJ067wn",
        "outputId": "1d8b88e4-caa0-4eea-8df4-9c94b08de69f"
      },
      "source": [
        "# 곱셈 계층의 순전파\n",
        "apple = 100\n",
        "apple_num = 2\n",
        "tax = 1.1\n",
        "\n",
        "# 계층들을 객체로\n",
        "mul_apple_layer = MulLayer()\n",
        "mul_tax_layer = MulLayer()\n",
        "\n",
        "# 순전파\n",
        "apple_price = mul_apple_layer.forward(apple, apple_num) # 순수 사과 가격\n",
        "price = mul_tax_layer.forward(apple_price, tax) # 세금 포함 가격\n",
        "\n",
        "print(apple_price)\n",
        "print(price)"
      ],
      "execution_count": 2,
      "outputs": [
        {
          "output_type": "stream",
          "text": [
            "200\n",
            "220.00000000000003\n"
          ],
          "name": "stdout"
        }
      ]
    },
    {
      "cell_type": "code",
      "metadata": {
        "colab": {
          "base_uri": "https://localhost:8080/"
        },
        "id": "hTPcm-oi7c1i",
        "outputId": "db233ef2-db8a-4188-a7d8-55bf844d7a81"
      },
      "source": [
        "# 역전파\n",
        "dprice = 1 # cost에 대한 처음 미분 값 당연히 1\n",
        "dapple_price, dtax = mul_tax_layer.backward(dprice)\n",
        "print(dapple_price, dtax)\n",
        "dapple, dapple_num = mul_apple_layer.backward(dapple_price)\n",
        "print(dapple, dapple_num)"
      ],
      "execution_count": 3,
      "outputs": [
        {
          "output_type": "stream",
          "text": [
            "1.1 200\n",
            "2.2 110.00000000000001\n"
          ],
          "name": "stdout"
        }
      ]
    },
    {
      "cell_type": "markdown",
      "metadata": {
        "id": "HLFUEg-r8Ta5"
      },
      "source": [
        "덧셈 계층 구현\n",
        "\n",
        "- 순전파 : 그냥 더해주면 끝\n",
        "- 역전파 : 상류에서 온 미분 값 그대로 반환하면 끝"
      ]
    },
    {
      "cell_type": "code",
      "metadata": {
        "id": "GIJCP3Mj8Stl"
      },
      "source": [
        "# 덧셈 계층 구현\n",
        "class AddLayer(object):\n",
        "    def __init__(self): # 덧셈 계층은 저장해놓고 쓸 인스턴스 변수가 없다.\n",
        "        pass\n",
        "    \n",
        "    def forward(self, x, y):\n",
        "        out = x + y\n",
        "        return out\n",
        "\n",
        "    def backward(self, dout):\n",
        "        dx = dout*1 # 반환은 두개 해줘야 함\n",
        "        dy = dout*1\n",
        "        return dx, dy"
      ],
      "execution_count": 4,
      "outputs": []
    },
    {
      "cell_type": "code",
      "metadata": {
        "colab": {
          "base_uri": "https://localhost:8080/"
        },
        "id": "UGET-q-P9lv8",
        "outputId": "a9bd962a-a874-4121-87a3-429868ca52c3"
      },
      "source": [
        "apple = 100\n",
        "apple_num = 2\n",
        "orange = 150\n",
        "orange_num = 3\n",
        "tax = 1.1\n",
        "\n",
        "# 계층들\n",
        "mul_apple_layer = MulLayer()\n",
        "mul_orange_layer = MulLayer()\n",
        "add_apple_orange_layer = AddLayer()\n",
        "mul_tax_layer = MulLayer()\n",
        "\n",
        "# 순전파\n",
        "apple_price = mul_apple_layer.forward(apple, apple_num) #(1)\n",
        "orange_price = mul_orange_layer.forward(orange, orange_num) #(2)\n",
        "all_price = add_apple_orange_layer.forward(apple_price, orange_price)#(3)\n",
        "price = mul_tax_layer.forward(all_price,tax)#(4)\n",
        "print(\"< 순전파 결과(총 가격) >\")\n",
        "print(price)\n",
        "\n",
        "print(\"< 역전파 결과 순서대로 >\")\n",
        "# 역전파\n",
        "dprice = 1\n",
        "dall_price, dtax = mul_tax_layer.backward(dprice) #(4)\n",
        "print(dall_price, dtax)\n",
        "dapple_price, dorange_price = add_apple_orange_layer.backward(dall_price) #(3)\n",
        "print(dapple_price, dorange_price)\n",
        "dorange, dorange_num = mul_orange_layer.backward(dorange_price) #(2)\n",
        "print(dorange, dorange_num)\n",
        "dapple, dapple_num = mul_apple_layer.backward(dapple_price) #(1)\n",
        "print(dapple, dapple_num)"
      ],
      "execution_count": 8,
      "outputs": [
        {
          "output_type": "stream",
          "text": [
            "< 순전파 결과(총 가격) >\n",
            "715.0000000000001\n",
            "< 역전파 결과 순서대로 >\n",
            "1.1 650\n",
            "1.1 1.1\n",
            "3.3000000000000003 165.0\n",
            "2.2 110.00000000000001\n"
          ],
          "name": "stdout"
        }
      ]
    },
    {
      "cell_type": "markdown",
      "metadata": {
        "id": "mRaliwETHBw0"
      },
      "source": [
        "# 활성화 함수 계층 구현하기"
      ]
    },
    {
      "cell_type": "code",
      "metadata": {
        "id": "h54symCPHEJ7"
      },
      "source": [
        "class Relu:\n",
        "    def __init__(self):\n",
        "        self.mask = None\n",
        "\n",
        "    def forward(self, x):\n",
        "        self.mask = (x <= 0)\n",
        "        out = x.copy()\n",
        "        out[self.mask] = 0\n",
        "\n",
        "        return out\n",
        "\n",
        "    def backward(sefl,dout):\n",
        "        dout[self.mask] = 0\n",
        "        dx = dout\n",
        "\n",
        "        return dx"
      ],
      "execution_count": 10,
      "outputs": []
    },
    {
      "cell_type": "code",
      "metadata": {
        "colab": {
          "base_uri": "https://localhost:8080/"
        },
        "id": "0pyh0aqZHoTA",
        "outputId": "ea525052-ea03-4e33-dfe4-95361947a736"
      },
      "source": [
        "x = np.array( [[1.0, -0.5], [-2.0, 3.0]])\n",
        "print(x)"
      ],
      "execution_count": 13,
      "outputs": [
        {
          "output_type": "stream",
          "text": [
            "[[ 1.  -0.5]\n",
            " [-2.   3. ]]\n"
          ],
          "name": "stdout"
        }
      ]
    },
    {
      "cell_type": "code",
      "metadata": {
        "colab": {
          "base_uri": "https://localhost:8080/"
        },
        "id": "KlaK2pk2H66L",
        "outputId": "507305f8-c54d-430c-b83f-8efe1108bffd"
      },
      "source": [
        "mask = (x <= 0)\n",
        "print(mask)"
      ],
      "execution_count": 14,
      "outputs": [
        {
          "output_type": "stream",
          "text": [
            "[[False  True]\n",
            " [ True False]]\n"
          ],
          "name": "stdout"
        }
      ]
    },
    {
      "cell_type": "code",
      "metadata": {
        "colab": {
          "base_uri": "https://localhost:8080/"
        },
        "id": "toGsFLffH9U4",
        "outputId": "002d7753-cd0b-4094-d1ca-bf4cb79c573d"
      },
      "source": [
        "out = x.copy()\n",
        "print(out[mask])\n",
        "out[mask] = 0\n",
        "print(out) # 0 이하의 값은 0으로 변경됐음"
      ],
      "execution_count": 17,
      "outputs": [
        {
          "output_type": "stream",
          "text": [
            "[-0.5 -2. ]\n",
            "[[1. 0.]\n",
            " [0. 3.]]\n"
          ],
          "name": "stdout"
        }
      ]
    }
  ]
}