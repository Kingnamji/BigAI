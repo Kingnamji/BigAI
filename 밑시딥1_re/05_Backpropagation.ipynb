{
  "nbformat": 4,
  "nbformat_minor": 0,
  "metadata": {
    "colab": {
      "name": "05_Backpropagation",
      "provenance": [],
      "collapsed_sections": []
    },
    "kernelspec": {
      "name": "python3",
      "display_name": "Python 3"
    },
    "language_info": {
      "name": "python"
    }
  },
  "cells": [
    {
      "cell_type": "markdown",
      "metadata": {
        "id": "Oi7Rzl60Cjey"
      },
      "source": [
        "# 오차역전파법"
      ]
    },
    {
      "cell_type": "code",
      "metadata": {
        "id": "9URVegj7H2Xh"
      },
      "source": [
        "import numpy as np\n",
        "import matplotlib.pyplot as plt\n",
        "import os\n",
        "import sys"
      ],
      "execution_count": 17,
      "outputs": []
    },
    {
      "cell_type": "markdown",
      "metadata": {
        "id": "jQEpD8xZ6miI"
      },
      "source": [
        "# 단순한 계층 구현하기"
      ]
    },
    {
      "cell_type": "markdown",
      "metadata": {
        "id": "1H1mpAR26sID"
      },
      "source": [
        "곱셈 계층 먼저 구현 \n",
        "\n",
        "- 순전파 : 입력을 *\n",
        "\n",
        "- 역전파 : 상류에서 넘어온 미분 값에 순전파 값을 서로 바꾸고 *"
      ]
    },
    {
      "cell_type": "code",
      "metadata": {
        "id": "0qcs08A5Benb"
      },
      "source": [
        "# 곱셈 계층\n",
        "class MulLayer(object):\n",
        "    def __init__(self): # 인스턴스 변수 x 와 y 를 초기화\n",
        "        self.x = None\n",
        "        self.y = None\n",
        "        \n",
        "    def forward(self, x, y): # 순전파 시 인스턴스 변수 x와 y에 값이 들어감.\n",
        "        self.x = x\n",
        "        self.y = y\n",
        "        out = x * y\n",
        "\n",
        "        return out\n",
        "\n",
        "    def backward(self, dout): # 역전파\n",
        "        dx = dout * self.y # 상류의 값에 x와 y를 바꿔서 곱한다.\n",
        "        dy = dout * self.x\n",
        "\n",
        "        return dx, dy"
      ],
      "execution_count": 18,
      "outputs": []
    },
    {
      "cell_type": "code",
      "metadata": {
        "colab": {
          "base_uri": "https://localhost:8080/"
        },
        "id": "PNvW6aJ067wn",
        "outputId": "7ce9308a-b212-403c-a319-53cf690ee545"
      },
      "source": [
        "# 곱셈 계층의 순전파\n",
        "apple = 100\n",
        "apple_num = 2\n",
        "tax = 1.1\n",
        "\n",
        "# 계층들을 객체로\n",
        "mul_apple_layer = MulLayer()\n",
        "mul_tax_layer = MulLayer()\n",
        "\n",
        "# 순전파\n",
        "apple_price = mul_apple_layer.forward(apple, apple_num) # 순수 사과 가격\n",
        "price = mul_tax_layer.forward(apple_price, tax) # 세금 포함 가격\n",
        "\n",
        "print(apple_price)\n",
        "print(price)"
      ],
      "execution_count": 19,
      "outputs": [
        {
          "output_type": "stream",
          "text": [
            "200\n",
            "220.00000000000003\n"
          ],
          "name": "stdout"
        }
      ]
    },
    {
      "cell_type": "code",
      "metadata": {
        "colab": {
          "base_uri": "https://localhost:8080/"
        },
        "id": "hTPcm-oi7c1i",
        "outputId": "7e9653df-21a8-4ce6-9d6d-9cd8af46fef9"
      },
      "source": [
        "# 역전파\n",
        "dprice = 1 # cost에 대한 처음 미분 값 당연히 1\n",
        "dapple_price, dtax = mul_tax_layer.backward(dprice)\n",
        "print(dapple_price, dtax)\n",
        "dapple, dapple_num = mul_apple_layer.backward(dapple_price)\n",
        "print(dapple, dapple_num)"
      ],
      "execution_count": 20,
      "outputs": [
        {
          "output_type": "stream",
          "text": [
            "1.1 200\n",
            "2.2 110.00000000000001\n"
          ],
          "name": "stdout"
        }
      ]
    },
    {
      "cell_type": "markdown",
      "metadata": {
        "id": "HLFUEg-r8Ta5"
      },
      "source": [
        "덧셈 계층 구현\n",
        "\n",
        "- 순전파 : 그냥 더해주면 끝\n",
        "- 역전파 : 상류에서 온 미분 값 그대로 반환하면 끝"
      ]
    },
    {
      "cell_type": "code",
      "metadata": {
        "id": "GIJCP3Mj8Stl"
      },
      "source": [
        "# 덧셈 계층 구현\n",
        "class AddLayer(object):\n",
        "    def __init__(self): # 덧셈 계층은 저장해놓고 쓸 인스턴스 변수가 없다.\n",
        "        pass\n",
        "    \n",
        "    def forward(self, x, y):\n",
        "        out = x + y\n",
        "        return out\n",
        "\n",
        "    def backward(self, dout):\n",
        "        dx = dout*1 # 반환은 두개 해줘야 함\n",
        "        dy = dout*1\n",
        "        return dx, dy"
      ],
      "execution_count": 21,
      "outputs": []
    },
    {
      "cell_type": "code",
      "metadata": {
        "colab": {
          "base_uri": "https://localhost:8080/"
        },
        "id": "UGET-q-P9lv8",
        "outputId": "76b11a43-f952-4ab5-b11d-7dd96c3cf2a7"
      },
      "source": [
        "apple = 100\n",
        "apple_num = 2\n",
        "orange = 150\n",
        "orange_num = 3\n",
        "tax = 1.1\n",
        "\n",
        "# 계층들\n",
        "mul_apple_layer = MulLayer()\n",
        "mul_orange_layer = MulLayer()\n",
        "add_apple_orange_layer = AddLayer()\n",
        "mul_tax_layer = MulLayer()\n",
        "\n",
        "# 순전파\n",
        "apple_price = mul_apple_layer.forward(apple, apple_num) #(1)\n",
        "orange_price = mul_orange_layer.forward(orange, orange_num) #(2)\n",
        "all_price = add_apple_orange_layer.forward(apple_price, orange_price)#(3)\n",
        "price = mul_tax_layer.forward(all_price,tax)#(4)\n",
        "print(\"< 순전파 결과(총 가격) >\")\n",
        "print(price)\n",
        "\n",
        "print(\"< 역전파 결과 순서대로 >\")\n",
        "# 역전파\n",
        "dprice = 1\n",
        "dall_price, dtax = mul_tax_layer.backward(dprice) #(4)\n",
        "print(dall_price, dtax)\n",
        "dapple_price, dorange_price = add_apple_orange_layer.backward(dall_price) #(3)\n",
        "print(dapple_price, dorange_price)\n",
        "dorange, dorange_num = mul_orange_layer.backward(dorange_price) #(2)\n",
        "print(dorange, dorange_num)\n",
        "dapple, dapple_num = mul_apple_layer.backward(dapple_price) #(1)\n",
        "print(dapple, dapple_num)"
      ],
      "execution_count": 22,
      "outputs": [
        {
          "output_type": "stream",
          "text": [
            "< 순전파 결과(총 가격) >\n",
            "715.0000000000001\n",
            "< 역전파 결과 순서대로 >\n",
            "1.1 650\n",
            "1.1 1.1\n",
            "3.3000000000000003 165.0\n",
            "2.2 110.00000000000001\n"
          ],
          "name": "stdout"
        }
      ]
    },
    {
      "cell_type": "markdown",
      "metadata": {
        "id": "mRaliwETHBw0"
      },
      "source": [
        "# 활성화 함수 계층 구현하기"
      ]
    },
    {
      "cell_type": "markdown",
      "metadata": {
        "id": "IyDZk6QtCZ8G"
      },
      "source": [
        "ReLU 계층\n",
        "\n",
        "ReLU 수식\n",
        "\n",
        "$y = \\begin{cases}x&(x > 0)\\\\0&(x \\le 0)\\end{cases}​$\n",
        "\n",
        "x에 대한 y의 미분\n",
        "\n",
        "$\\frac{\\partial{y}}{\\partial{x}} = \\begin{cases}1&(x > 0)\\\\0&(x \\le 0)\\end{cases}​$"
      ]
    },
    {
      "cell_type": "code",
      "metadata": {
        "id": "h54symCPHEJ7"
      },
      "source": [
        "class Relu(object):\n",
        "    def __init__(self):\n",
        "        self.mask = None\n",
        "\n",
        "    def forward(self, x):\n",
        "        self.mask = (x <= 0) # 0이하의 값만 True\n",
        "        out = x.copy() # 입력을 그대로 받아서\n",
        "        out[self.mask] = 0 # 0이하의 값은 0으로 바꿔준다\n",
        "\n",
        "        return out\n",
        "\n",
        "    def backward(sefl,dout): # 0보다 크면 상류 흐름 그대로 0보다 이하면 0\n",
        "        dout[self.mask] = 0 # 0이하의 값만 0으로 바꿔준다\n",
        "        dx = dout \n",
        "\n",
        "        return dx"
      ],
      "execution_count": 23,
      "outputs": []
    },
    {
      "cell_type": "code",
      "metadata": {
        "colab": {
          "base_uri": "https://localhost:8080/"
        },
        "id": "0pyh0aqZHoTA",
        "outputId": "e85d78f3-e868-4a1d-d32b-761974a7302f"
      },
      "source": [
        "x = np.array( [[1.0, -0.5], [-2.0, 3.0]])\n",
        "print(x)"
      ],
      "execution_count": 24,
      "outputs": [
        {
          "output_type": "stream",
          "text": [
            "[[ 1.  -0.5]\n",
            " [-2.   3. ]]\n"
          ],
          "name": "stdout"
        }
      ]
    },
    {
      "cell_type": "code",
      "metadata": {
        "colab": {
          "base_uri": "https://localhost:8080/"
        },
        "id": "KlaK2pk2H66L",
        "outputId": "4a7dd8c4-f9d0-417c-d641-2584f60284d0"
      },
      "source": [
        "mask = (x <= 0)\n",
        "print(mask)"
      ],
      "execution_count": 25,
      "outputs": [
        {
          "output_type": "stream",
          "text": [
            "[[False  True]\n",
            " [ True False]]\n"
          ],
          "name": "stdout"
        }
      ]
    },
    {
      "cell_type": "code",
      "metadata": {
        "colab": {
          "base_uri": "https://localhost:8080/"
        },
        "id": "toGsFLffH9U4",
        "outputId": "6718c74a-8e19-4276-8533-be585ffdaa62"
      },
      "source": [
        "out = x.copy()\n",
        "print(out[mask])\n",
        "\n",
        "out[mask] = 0 # True에 해당하는 원소만 0으로 바꿈\n",
        "print(out) # 0 이하의 값은 0으로 변경됐음"
      ],
      "execution_count": 26,
      "outputs": [
        {
          "output_type": "stream",
          "text": [
            "[-0.5 -2. ]\n",
            "[[1. 0.]\n",
            " [0. 3.]]\n"
          ],
          "name": "stdout"
        }
      ]
    },
    {
      "cell_type": "markdown",
      "metadata": {
        "id": "2l1p2DPcEDXM"
      },
      "source": [
        "Sigmoid 계층\n",
        "\n",
        "$y = \\frac{1}{1+e^{-x}}$\n",
        "\n",
        "x에 대해 y를 미분하면\n",
        "\n",
        "$\\frac{\\partial{y}}{\\partial{x}} = y(1-y)$"
      ]
    },
    {
      "cell_type": "code",
      "metadata": {
        "id": "Da669dRyECjT"
      },
      "source": [
        "class Sigmoid(object):\n",
        "    def __init__(self):\n",
        "        self.out = None # 인스턴스 변수 Out (위 식에서 y에 해당)\n",
        "\n",
        "    def forward(self, x):\n",
        "        out = 1 / (1 + np.exp(-x)) # 그냥 순전파\n",
        "        self.out = out # 역전파때 사용할 y\n",
        "\n",
        "        return out\n",
        "\n",
        "    def backward(self, dout):\n",
        "        dx = dout * (1.0 - self.out) * self.out # y를 그대로 다시 사용\n",
        "\n",
        "        return dx"
      ],
      "execution_count": 27,
      "outputs": []
    },
    {
      "cell_type": "markdown",
      "metadata": {
        "id": "wtmuaTE2F5m_"
      },
      "source": [
        "# Affine / Softmax 계층 구현하기"
      ]
    },
    {
      "cell_type": "code",
      "metadata": {
        "id": "_0lTNkyYF4lM"
      },
      "source": [
        "class Affine(object):\n",
        "    def __init__(self, W, b):\n",
        "        self.W = W\n",
        "        self.b = b\n",
        "        self.x = None # 순전파시 입력 x를 담아 둘 인스턴스 변수\n",
        "        self.dW = None # 역전파시 Loss를 W로 편미분한 값\n",
        "        self.db = None # 역전파시 Loss를 b로 편미분한 값\n",
        "\n",
        "    def forward(self, x):\n",
        "        self.x = x\n",
        "        out = np.dot(x, self.W) + self.b\n",
        "\n",
        "        return out\n",
        "\n",
        "    def backward(self,dout):\n",
        "        dx = np.dot(dout, self.W.T)\n",
        "        self.dW = np.dot(self.x.T, dout) # X_transpose * dout\n",
        "        self.db = np.sum(dout, axis = 0) \n",
        "\n",
        "        return dx"
      ],
      "execution_count": 28,
      "outputs": []
    },
    {
      "cell_type": "code",
      "metadata": {
        "id": "LrKmcW5EIRxq"
      },
      "source": [
        "def softmax(a): \n",
        "    c = np.max(a) \n",
        "    exp_a = np.exp(a) \n",
        "    sum_exp_a = np.sum(exp_a) \n",
        "    y = exp_a / sum_exp_a \n",
        "    return y\n",
        "\n",
        "class SoftmaxWithLoss(object):\n",
        "    def __init__(self):\n",
        "        self.loss = None # 손실\n",
        "        self.y = None # softmax의 출력\n",
        "        self.t = None # 정답 레이블 (one-hot-vector)\n",
        "\n",
        "    \n",
        "    def forward(self, x, t):\n",
        "        self.t = t # 역전파 때 사용해야 하므로 인스턴스 변수에 저장\n",
        "        self.y = softmax(x) \n",
        "        self.loss = cross_entropy_error(self.y, self.t) \n",
        "        return self.loss\n",
        "\n",
        "    def backward(self, dout=1):\n",
        "        batch_size = self.t.shape[0] # batch의 크기\n",
        "        dx = (self.y - self.t) / batch_size \n",
        "        \n",
        "        return dx"
      ],
      "execution_count": 34,
      "outputs": []
    }
  ]
}