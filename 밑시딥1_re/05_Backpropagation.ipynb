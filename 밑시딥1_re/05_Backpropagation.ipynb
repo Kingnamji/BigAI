{
  "nbformat": 4,
  "nbformat_minor": 0,
  "metadata": {
    "colab": {
      "name": "05_Backpropagation",
      "provenance": [],
      "collapsed_sections": []
    },
    "kernelspec": {
      "name": "python3",
      "display_name": "Python 3"
    },
    "language_info": {
      "name": "python"
    }
  },
  "cells": [
    {
      "cell_type": "markdown",
      "metadata": {
        "id": "Oi7Rzl60Cjey"
      },
      "source": [
        "# 오차역전파법"
      ]
    },
    {
      "cell_type": "code",
      "metadata": {
        "id": "9URVegj7H2Xh"
      },
      "source": [
        "import numpy as np\n",
        "import matplotlib.pyplot as plt\n",
        "import os\n",
        "import sys"
      ],
      "execution_count": null,
      "outputs": []
    },
    {
      "cell_type": "markdown",
      "metadata": {
        "id": "jQEpD8xZ6miI"
      },
      "source": [
        "# 단순한 계층 구현하기"
      ]
    },
    {
      "cell_type": "markdown",
      "metadata": {
        "id": "1H1mpAR26sID"
      },
      "source": [
        "곱셈 계층 먼저 구현 \n",
        "\n",
        "- 순전파 : 입력을 *\n",
        "\n",
        "- 역전파 : 상류에서 넘어온 미분 값에 순전파 값을 서로 바꾸고 *"
      ]
    },
    {
      "cell_type": "code",
      "metadata": {
        "id": "0qcs08A5Benb"
      },
      "source": [
        "# 곱셈 계층\n",
        "class MulLayer(object):\n",
        "    def __init__(self): # 인스턴스 변수 x 와 y 를 초기화\n",
        "        self.x = None\n",
        "        self.y = None\n",
        "        \n",
        "    def forward(self, x, y): # 순전파 시 인스턴스 변수 x와 y에 값이 들어감.\n",
        "        self.x = x\n",
        "        self.y = y\n",
        "        out = x * y\n",
        "\n",
        "        return out\n",
        "\n",
        "    def backward(self, dout): # 역전파\n",
        "        dx = dout * self.y # 상류의 값에 x와 y를 바꿔서 곱한다.\n",
        "        dy = dout * self.x\n",
        "\n",
        "        return dx, dy"
      ],
      "execution_count": null,
      "outputs": []
    },
    {
      "cell_type": "code",
      "metadata": {
        "colab": {
          "base_uri": "https://localhost:8080/"
        },
        "id": "PNvW6aJ067wn",
        "outputId": "6347c78f-9552-46f5-8753-e35376d9e350"
      },
      "source": [
        "# 곱셈 계층의 순전파\n",
        "apple = 100\n",
        "apple_num = 2\n",
        "tax = 1.1\n",
        "\n",
        "# 계층들을 객체로\n",
        "mul_apple_layer = MulLayer()\n",
        "mul_tax_layer = MulLayer()\n",
        "\n",
        "# 순전파\n",
        "apple_price = mul_apple_layer.forward(apple, apple_num) # 순수 사과 가격\n",
        "price = mul_tax_layer.forward(apple_price, tax) # 세금 포함 가격\n",
        "\n",
        "print(apple_price)\n",
        "print(price)"
      ],
      "execution_count": null,
      "outputs": [
        {
          "output_type": "stream",
          "text": [
            "200\n",
            "220.00000000000003\n"
          ],
          "name": "stdout"
        }
      ]
    },
    {
      "cell_type": "code",
      "metadata": {
        "colab": {
          "base_uri": "https://localhost:8080/"
        },
        "id": "hTPcm-oi7c1i",
        "outputId": "d128a841-d141-4b40-9e7c-0ae6fd7fe85f"
      },
      "source": [
        "# 역전파\n",
        "dprice = 1 # cost에 대한 처음 미분 값 당연히 1\n",
        "dapple_price, dtax = mul_tax_layer.backward(dprice)\n",
        "print(dapple_price, dtax)\n",
        "dapple, dapple_num = mul_apple_layer.backward(dapple_price)\n",
        "print(dapple, dapple_num)"
      ],
      "execution_count": null,
      "outputs": [
        {
          "output_type": "stream",
          "text": [
            "1.1 200\n",
            "2.2 110.00000000000001\n"
          ],
          "name": "stdout"
        }
      ]
    },
    {
      "cell_type": "markdown",
      "metadata": {
        "id": "HLFUEg-r8Ta5"
      },
      "source": [
        "덧셈 계층 구현\n",
        "\n",
        "- 순전파 : 그냥 더해주면 끝\n",
        "- 역전파 : 상류에서 온 미분 값 그대로 반환하면 끝"
      ]
    },
    {
      "cell_type": "code",
      "metadata": {
        "id": "GIJCP3Mj8Stl"
      },
      "source": [
        "# 덧셈 계층 구현\n",
        "class AddLayer(object):\n",
        "    def __init__(self): # 덧셈 계층은 저장해놓고 쓸 인스턴스 변수가 없다.\n",
        "        pass\n",
        "    \n",
        "    def forward(self, x, y):\n",
        "        out = x + y\n",
        "        return out\n",
        "\n",
        "    def backward(self, dout):\n",
        "        dx = dout*1 # 반환은 두개 해줘야 함\n",
        "        dy = dout*1\n",
        "        return dx, dy"
      ],
      "execution_count": null,
      "outputs": []
    },
    {
      "cell_type": "code",
      "metadata": {
        "colab": {
          "base_uri": "https://localhost:8080/"
        },
        "id": "UGET-q-P9lv8",
        "outputId": "70718e1f-23b1-4754-eb16-56ae0590dd48"
      },
      "source": [
        "apple = 100\n",
        "apple_num = 2\n",
        "orange = 150\n",
        "orange_num = 3\n",
        "tax = 1.1\n",
        "\n",
        "# 계층들\n",
        "mul_apple_layer = MulLayer()\n",
        "mul_orange_layer = MulLayer()\n",
        "add_apple_orange_layer = AddLayer()\n",
        "mul_tax_layer = MulLayer()\n",
        "\n",
        "# 순전파\n",
        "apple_price = mul_apple_layer.forward(apple, apple_num) #(1)\n",
        "orange_price = mul_orange_layer.forward(orange, orange_num) #(2)\n",
        "all_price = add_apple_orange_layer.forward(apple_price, orange_price)#(3)\n",
        "price = mul_tax_layer.forward(all_price,tax)#(4)\n",
        "print(\"< 순전파 결과(총 가격) >\")\n",
        "print(price)\n",
        "\n",
        "print(\"< 역전파 결과 순서대로 >\")\n",
        "# 역전파\n",
        "dprice = 1\n",
        "dall_price, dtax = mul_tax_layer.backward(dprice) #(4)\n",
        "print(dall_price, dtax)\n",
        "dapple_price, dorange_price = add_apple_orange_layer.backward(dall_price) #(3)\n",
        "print(dapple_price, dorange_price)\n",
        "dorange, dorange_num = mul_orange_layer.backward(dorange_price) #(2)\n",
        "print(dorange, dorange_num)\n",
        "dapple, dapple_num = mul_apple_layer.backward(dapple_price) #(1)\n",
        "print(dapple, dapple_num)"
      ],
      "execution_count": null,
      "outputs": [
        {
          "output_type": "stream",
          "text": [
            "< 순전파 결과(총 가격) >\n",
            "715.0000000000001\n",
            "< 역전파 결과 순서대로 >\n",
            "1.1 650\n",
            "1.1 1.1\n",
            "3.3000000000000003 165.0\n",
            "2.2 110.00000000000001\n"
          ],
          "name": "stdout"
        }
      ]
    },
    {
      "cell_type": "markdown",
      "metadata": {
        "id": "mRaliwETHBw0"
      },
      "source": [
        "# 활성화 함수 계층 구현하기"
      ]
    },
    {
      "cell_type": "markdown",
      "metadata": {
        "id": "IyDZk6QtCZ8G"
      },
      "source": [
        "ReLU 계층\n",
        "\n",
        "ReLU 수식\n",
        "\n",
        "$y = \\begin{cases}x&(x > 0)\\\\0&(x \\le 0)\\end{cases}​$\n",
        "\n",
        "x에 대한 y의 미분\n",
        "\n",
        "$\\frac{\\partial{y}}{\\partial{x}} = \\begin{cases}1&(x > 0)\\\\0&(x \\le 0)\\end{cases}​$"
      ]
    },
    {
      "cell_type": "code",
      "metadata": {
        "id": "h54symCPHEJ7"
      },
      "source": [
        "class Relu(object):\n",
        "    def __init__(self):\n",
        "        self.mask = None\n",
        "\n",
        "    def forward(self, x):\n",
        "        self.mask = (x <= 0) # 0이하의 값만 True\n",
        "        out = x.copy() # 입력을 그대로 받아서\n",
        "        out[self.mask] = 0 # 0이하의 값은 0으로 바꿔준다\n",
        "\n",
        "        return out\n",
        "\n",
        "    def backward(sefl,dout): # 0보다 크면 상류 흐름 그대로 0보다 이하면 0\n",
        "        dout[self.mask] = 0 # 0이하의 값만 0으로 바꿔준다\n",
        "        dx = dout \n",
        "\n",
        "        return dx"
      ],
      "execution_count": null,
      "outputs": []
    },
    {
      "cell_type": "code",
      "metadata": {
        "colab": {
          "base_uri": "https://localhost:8080/"
        },
        "id": "0pyh0aqZHoTA",
        "outputId": "0959afdb-a568-4fc4-d811-d089244592c9"
      },
      "source": [
        "x = np.array( [[1.0, -0.5], [-2.0, 3.0]])\n",
        "print(x)"
      ],
      "execution_count": null,
      "outputs": [
        {
          "output_type": "stream",
          "text": [
            "[[ 1.  -0.5]\n",
            " [-2.   3. ]]\n"
          ],
          "name": "stdout"
        }
      ]
    },
    {
      "cell_type": "code",
      "metadata": {
        "colab": {
          "base_uri": "https://localhost:8080/"
        },
        "id": "KlaK2pk2H66L",
        "outputId": "be3c48c5-5b97-4384-81c7-c23cd771904e"
      },
      "source": [
        "mask = (x <= 0)\n",
        "print(mask)"
      ],
      "execution_count": null,
      "outputs": [
        {
          "output_type": "stream",
          "text": [
            "[[False  True]\n",
            " [ True False]]\n"
          ],
          "name": "stdout"
        }
      ]
    },
    {
      "cell_type": "code",
      "metadata": {
        "colab": {
          "base_uri": "https://localhost:8080/"
        },
        "id": "toGsFLffH9U4",
        "outputId": "9b661719-6c78-4e4d-9677-aadc3450ef7f"
      },
      "source": [
        "out = x.copy()\n",
        "print(out[mask])\n",
        "\n",
        "out[mask] = 0 # True에 해당하는 원소만 0으로 바꿈\n",
        "print(out) # 0 이하의 값은 0으로 변경됐음"
      ],
      "execution_count": null,
      "outputs": [
        {
          "output_type": "stream",
          "text": [
            "[-0.5 -2. ]\n",
            "[[1. 0.]\n",
            " [0. 3.]]\n"
          ],
          "name": "stdout"
        }
      ]
    },
    {
      "cell_type": "markdown",
      "metadata": {
        "id": "2l1p2DPcEDXM"
      },
      "source": [
        "Sigmoid 계층\n",
        "\n",
        "$y = \\frac{1}{1+e^{-x}}$\n",
        "\n",
        "x에 대해 y를 미분하면\n",
        "\n",
        "$\\frac{\\partial{y}}{\\partial{x}} = y(1-y)$"
      ]
    },
    {
      "cell_type": "code",
      "metadata": {
        "id": "Da669dRyECjT"
      },
      "source": [
        "class Sigmoid(object):\n",
        "    def __init__(self):\n",
        "        self.out = None # 인스턴스 변수 Out (위 식에서 y에 해당)\n",
        "\n",
        "    def forward(self, x):\n",
        "        out = 1 / (1 + np.exp(-x)) # 그냥 순전파\n",
        "        self.out = out # 역전파때 사용할 y\n",
        "\n",
        "        return out\n",
        "\n",
        "    def backward(self, dout):\n",
        "        dx = dout * (1.0 - self.out) * self.out # y를 그대로 다시 사용\n",
        "\n",
        "        return dx"
      ],
      "execution_count": null,
      "outputs": []
    },
    {
      "cell_type": "markdown",
      "metadata": {
        "id": "wtmuaTE2F5m_"
      },
      "source": [
        "# Affine / Softmax 계층 구현하기"
      ]
    },
    {
      "cell_type": "code",
      "metadata": {
        "id": "_0lTNkyYF4lM"
      },
      "source": [
        "class Affine(object):\n",
        "    def __init__(self, W, b):\n",
        "        self.W = W\n",
        "        self.b = b\n",
        "        self.x = None # 순전파시 입력 x를 담아 둘 인스턴스 변수\n",
        "        self.dW = None # 역전파시 Loss를 W로 편미분한 값\n",
        "        self.db = None # 역전파시 Loss를 b로 편미분한 값\n",
        "\n",
        "    def forward(self, x):\n",
        "        self.x = x\n",
        "        out = np.dot(x, self.W) + self.b\n",
        "\n",
        "        return out\n",
        "\n",
        "    def backward(self,dout):\n",
        "        dx = np.dot(dout, self.W.T)\n",
        "        self.dW = np.dot(self.x.T, dout) # X_transpose * dout\n",
        "        self.db = np.sum(dout, axis = 0) \n",
        "\n",
        "        return dx"
      ],
      "execution_count": null,
      "outputs": []
    },
    {
      "cell_type": "markdown",
      "metadata": {
        "id": "6Ue47ZptYCox"
      },
      "source": [
        "신경망에서 수행하는 작업은 두가지 1. 학습  2. 추론 이 있다.\n",
        "\n",
        "아래는 참고만, 상황마다 다릅니다.\n",
        "\n",
        "- 추론에는 softmax 함수 같은 활성화 함수를 사용하지 않음. Affine 계층에서 나온 결과 값을 그대로 사용하는 것이 일반적이고, 그 값을 score라고 부른다.\n",
        "\n",
        "- 학습에는 softmax 계층과 같은 활성화 함수를 사용하는데, 정규화한 출력 값을 이용해서 모델을 다시 업데이트해야 하기 때문이다."
      ]
    },
    {
      "cell_type": "code",
      "metadata": {
        "id": "LrKmcW5EIRxq"
      },
      "source": [
        "def softmax(a): \n",
        "    c = np.max(a) \n",
        "    exp_a = np.exp(a) \n",
        "    sum_exp_a = np.sum(exp_a) \n",
        "    y = exp_a / sum_exp_a \n",
        "    return y\n",
        "\n",
        "class SoftmaxWithLoss(object):\n",
        "    def __init__(self):\n",
        "        self.loss = None # 손실\n",
        "        self.y = None # softmax의 출력\n",
        "        self.t = None # 정답 레이블 (one-hot-vector)\n",
        "\n",
        "    \n",
        "    def forward(self, x, t):\n",
        "        self.t = t # 역전파 때 사용해야 하므로 인스턴스 변수에 저장\n",
        "        self.y = softmax(x) \n",
        "        self.loss = cross_entropy_error(self.y, self.t) \n",
        "        return self.loss\n",
        "\n",
        "    def backward(self, dout=1):\n",
        "        batch_size = self.t.shape[0] # batch의 크기\n",
        "        dx = (self.y - self.t) / batch_size \n",
        "        \n",
        "        return dx"
      ],
      "execution_count": null,
      "outputs": []
    },
    {
      "cell_type": "markdown",
      "metadata": {
        "id": "aO4n5JNFXYdo"
      },
      "source": [
        "# 오차역전파법 구현하기"
      ]
    },
    {
      "cell_type": "markdown",
      "metadata": {
        "id": "ipzm-KsYXbid"
      },
      "source": [
        "정확히는 오차역전파를 활용한 신경망 구현하기"
      ]
    },
    {
      "cell_type": "code",
      "metadata": {
        "id": "wKBu4g7qXa_F"
      },
      "source": [
        "path = '/content/drive/MyDrive/deep-learning-from-scratch-master'\n",
        "os.chdir(path)\n",
        "sys.path.append(os.chdir)\n",
        "from common.layers import *\n",
        "from common.gradient import numerical_gradient\n",
        "from collections import OrderedDict\n",
        "\n",
        "class TwoLayerNet(object):\n",
        "    #순서대로 입력층, 은닉층, 출력층, 가중치 초기화 시 정규분포의 스케일\n",
        "    def __init__(self, input_size, hidden_size, output_size, weight_init_std = 0.01): # 생성자, 초기화를 수행\n",
        "        # 가중치 초기화\n",
        "        self.params = {}   # 딕셔너리 변수로 신경망의 parameter를 보관\n",
        "        self.params['W1'] = weight_init_std * np.random.randn(input_size, hidden_size)  # 1번째 층의 가중치\n",
        "        self.params['b1'] = np.zeros(hidden_size)                                       # 1번째 층의 편향\n",
        "        self.params['W2'] = weight_init_std * np.random.randn(hidden_size, output_size) # 2번째 층의 가중치\n",
        "        self.params['b2'] = np.zeros(output_size)                                       # 2번째 층의 편향\n",
        "\n",
        "        self.layers = OrderedDict()  # 순서가있는 딕셔너리 변수, 신경망의 게층을 보관\n",
        "        # 아래 layer들을 순서대로 layers라는 딕셔너리에 저장\n",
        "        # 순전파 때는 추가한 순서대로 forward 메서드를 호출, 역전파 때는 반대 순서로 backward 메서드를 호출\n",
        "        self.layers['Affine1'] = Affine(self.params['W1'], self.params['b1'])   # 첫번째 Affine layer\n",
        "        self.layers['Relu1'] = Relu()                                           # Relu\n",
        "        self.layers['Affine2'] = Affine(self.params['W2'], self.params['b2'])   # 두번째 Affine layer\n",
        "\n",
        "        self.lastLayer = SoftmaxWithLoss()         # 신경망에서의 마지막 계층 ==> 여기서는 SoftmaxWithLoss\n",
        "        \n",
        "\n",
        "    def predict(self, x):   # 추론\n",
        "        for layer in self.layers.values(): # Affine2까지\n",
        "            x = layer.forward(x)\n",
        "        \n",
        "        return x # score\n",
        "        \n",
        "    # x : 입력 데이터, t : 정답 레이블\n",
        "    def loss(self, x, t):  # 손실\n",
        "        y = self.predict(x) \n",
        "        return self.lastLayer.forward(y, t) # softmax with loss의 결과\n",
        "    \n",
        "    def accuracy(self, x, t):  # 정확도\n",
        "        y = self.predict(x)\n",
        "        y = np.argmax(y, axis=1) \n",
        "        \n",
        "        if t.ndim != 1 : # t가 1차원이 아닐때 => 원 핫 인코딩\n",
        "            t = np.argmax(t, axis=1)\n",
        "        \n",
        "        accuracy = np.sum(y == t) / float(x.shape[0]) # 배치 사이즈로 나눠 준다\n",
        "        return accuracy \n",
        "        \n",
        "    # x : 입력 데이터, t : 정답 레이블\n",
        "    def numerical_gradient(self, x, t):  # 가중치 매개변수의 기울기를 수치 미분 방식으로 구한다. (앞에서 했는 내용)\n",
        "        loss_W = lambda W: self.loss(x, t)\n",
        "        \n",
        "        grads = {}\n",
        "        grads['W1'] = numerical_gradient(loss_W, self.params['W1'])\n",
        "        grads['b1'] = numerical_gradient(loss_W, self.params['b1'])\n",
        "        grads['W2'] = numerical_gradient(loss_W, self.params['W2'])\n",
        "        grads['b2'] = numerical_gradient(loss_W, self.params['b2'])\n",
        "        \n",
        "        return grads\n",
        "        \n",
        "    def gradient(self, x, t): # 가중치 매개변수의 기울기를 오차 역전파법으로 구한다.\n",
        "        # forward\n",
        "        self.loss(x, t)\n",
        "\n",
        "        # backward\n",
        "        dout = 1\n",
        "        dout = self.lastLayer.backward(dout) # softmax with loss층의 dout\n",
        "        #print(dout)\n",
        "        \n",
        "        layers = list(self.layers.values())\n",
        "        layers.reverse() # 역순으로\n",
        "        for layer in layers:\n",
        "            dout = layer.backward(dout) \n",
        "\n",
        "        # 결과 저장\n",
        "        grads = {}\n",
        "        grads['W1'] = self.layers['Affine1'].dW\n",
        "        grads['b1'] = self.layers['Affine1'].db\n",
        "        grads['W2'] = self.layers['Affine2'].dW\n",
        "        grads['b2'] = self.layers['Affine2'].db\n",
        "\n",
        "        return grads"
      ],
      "execution_count": null,
      "outputs": []
    },
    {
      "cell_type": "markdown",
      "metadata": {
        "id": "C_tD36UlaU8t"
      },
      "source": [
        "오차역전파법을 사용해 구현한 신경망을 사용해보자.\n",
        "\n",
        "batch size가 조금만 커져도 numerical_gradient가 너무 느려서 3으로 잡음"
      ]
    },
    {
      "cell_type": "code",
      "metadata": {
        "colab": {
          "base_uri": "https://localhost:8080/"
        },
        "id": "zvZ5sjs-aUYL",
        "outputId": "9253e520-c545-4851-dc76-b1d62507a73d"
      },
      "source": [
        "from dataset.mnist import load_mnist\n",
        "from time import time\n",
        "\n",
        "(x_train, t_train), (x_test, t_test) = load_mnist(normalize = True, one_hot_label = True)\n",
        "\n",
        "network = TwoLayerNet(input_size = 784, hidden_size = 50, output_size = 10)\n",
        "\n",
        "# batch_size = 3인 예시\n",
        "x_batch = x_train[:3]\n",
        "t_batch = t_train[:3]\n",
        "\n",
        "start = time()\n",
        "grad_numerical = network.numerical_gradient(x_batch, t_batch) # 수치미분\n",
        "print(f'수치미분으로 기울기를 구할 때 걸린 시간 : {time()-start}')\n",
        "\n",
        "start = time()\n",
        "grad_backprop = network.gradient(x_batch, t_batch) # 오차역전파\n",
        "print(f'오차역전파로 기울기를 구할 때 걸린 시간 : {time()-start}')\n",
        "\n",
        "\n",
        "print('============== 가중치 ===============')\n",
        "for key in grad_numerical.keys(): # 각 가중치 차이의 절댓값을 구한 후, 그 절댓값들의 평균을 낸다.\n",
        "    diff = np.average(np.abs(grad_backprop[key] - grad_numerical[key]))\n",
        "    print(key + \":\" + str(diff))"
      ],
      "execution_count": null,
      "outputs": [
        {
          "output_type": "stream",
          "text": [
            "수치미분으로 기울기를 구할 때 걸린 시간 : 8.971596002578735\n",
            "오차역전파로 기울기를 구할 때 걸린 시간 : 0.0015077590942382812\n",
            "============== 가중치 ===============\n",
            "W1:4.1112371572884743e-10\n",
            "b1:2.0890532233329673e-09\n",
            "W2:5.9064345603170595e-09\n",
            "b2:1.4021390602331208e-07\n"
          ],
          "name": "stdout"
        }
      ]
    },
    {
      "cell_type": "code",
      "metadata": {
        "colab": {
          "base_uri": "https://localhost:8080/"
        },
        "id": "TsMKyRkhGC5Z",
        "outputId": "bc397e58-9a0b-474b-a7da-db26873b6293"
      },
      "source": [
        "from dataset.mnist import load_mnist\n",
        "from ch04.two_layer_net import TwoLayerNet\n",
        "\n",
        "(x_train, t_train), (x_test, t_test) = load_mnist(normalize = True, one_hot_label = True)\n",
        "network = TwoLayerNet(input_size = 784, hidden_size = 50, output_size = 10)\n",
        "\n",
        "# 100개의 입력데이터씩 10000번 반복해서 학습\n",
        "iters_num = 10000 \n",
        "train_size = x_train.shape[0] # 60000\n",
        "batch_size = 100\n",
        "learning_rate = 0.1\n",
        "\n",
        "# loss, acc 변화를 확인하기 위한 리스트\n",
        "train_loss_list = []\n",
        "train_acc_list = []\n",
        "test_acc_list = []\n",
        "\n",
        "epoch = 0\n",
        "epochs = []\n",
        "\n",
        "iter_per_epoch = max(train_size / batch_size, 1) # 1epoch당 batch를 600번 반복해야함 \n",
        "\n",
        "for i in range(iters_num):\n",
        "    batch_mask = np.random.choice(train_size, batch_size)\n",
        "    x_batch = x_train[batch_mask]\n",
        "    t_batch = t_train[batch_mask]\n",
        "\n",
        "    grad = network.gradient(x_batch, t_batch)\n",
        "\n",
        "    for key in ('W1', 'b1', 'W2', 'b2'):\n",
        "        network.params[key] -= learning_rate * grad[key]\n",
        "        \n",
        "    loss = network.loss(x_batch, t_batch)\n",
        "    train_loss_list.append(loss)\n",
        "    \n",
        "    if i % iter_per_epoch == 0:\n",
        "        epochs.append(epoch)\n",
        "        print(f'epoch = {epoch}, train_loss = {loss}, train_acc = {train_acc}, test acc = {test_acc}')\n",
        "        epoch += 1\n",
        "        train_acc = network.accuracy(x_train, t_train)\n",
        "        test_acc = network.accuracy(x_test, t_test)\n",
        "        train_acc_list.append(train_acc)\n",
        "        test_acc_list.append(test_acc)"
      ],
      "execution_count": null,
      "outputs": [
        {
          "output_type": "stream",
          "text": [
            "epoch = 0, train_loss = 2.2923665227173013, train_acc = 0.9469333333333333, test acc = 0.9458\n",
            "epoch = 1, train_loss = 0.873860143899325, train_acc = 0.11236666666666667, test acc = 0.1135\n",
            "epoch = 2, train_loss = 0.38300978326825486, train_acc = 0.7819666666666667, test acc = 0.7879\n",
            "epoch = 3, train_loss = 0.3034813432940813, train_acc = 0.8743666666666666, test acc = 0.8814\n",
            "epoch = 4, train_loss = 0.251940192138474, train_acc = 0.8991, test acc = 0.9025\n",
            "epoch = 5, train_loss = 0.24546099590825393, train_acc = 0.9081833333333333, test acc = 0.9114\n",
            "epoch = 6, train_loss = 0.4255223109580804, train_acc = 0.9153, test acc = 0.917\n",
            "epoch = 7, train_loss = 0.1844917343265357, train_acc = 0.9203333333333333, test acc = 0.9226\n",
            "epoch = 8, train_loss = 0.19935603906770805, train_acc = 0.9250333333333334, test acc = 0.9267\n",
            "epoch = 9, train_loss = 0.17942011786800716, train_acc = 0.9276833333333333, test acc = 0.9298\n",
            "epoch = 10, train_loss = 0.21416594289347388, train_acc = 0.9314166666666667, test acc = 0.9322\n",
            "epoch = 11, train_loss = 0.31029424676789535, train_acc = 0.9346333333333333, test acc = 0.9354\n",
            "epoch = 12, train_loss = 0.1434483433596393, train_acc = 0.9371666666666667, test acc = 0.9374\n",
            "epoch = 13, train_loss = 0.22402353919976722, train_acc = 0.9394333333333333, test acc = 0.9381\n",
            "epoch = 14, train_loss = 0.14286876175979585, train_acc = 0.94245, test acc = 0.9406\n",
            "epoch = 15, train_loss = 0.15515898084254867, train_acc = 0.9436333333333333, test acc = 0.942\n",
            "epoch = 16, train_loss = 0.3003172241426388, train_acc = 0.9461333333333334, test acc = 0.9447\n"
          ],
          "name": "stdout"
        }
      ]
    },
    {
      "cell_type": "code",
      "metadata": {
        "colab": {
          "base_uri": "https://localhost:8080/",
          "height": 501
        },
        "id": "aHllR7MqICck",
        "outputId": "a722bc0d-9006-46c5-f945-66c156477ea5"
      },
      "source": [
        "# 훈련 데이터와 시험 데이터에 대한 정확도 추이 그래프 그리기\n",
        "x = epochs\n",
        "\n",
        "plt.figure(figsize=(12,8))\n",
        "plt.plot(x, train_acc_list, color = \"red\", label = \"train acc\")\n",
        "plt.plot(x, test_acc_list, linestyle = \"--\", label = \"test acc\")\n",
        "plt.xlabel(\"epochs\")\n",
        "plt.ylabel(\"accuracy\")\n",
        "plt.ylim(0.0, 1.0)\n",
        "plt.legend()\n",
        "plt.show()"
      ],
      "execution_count": null,
      "outputs": [
        {
          "output_type": "display_data",
          "data": {
            "image/png": "[encoded data removed]",
            "text/plain": [
              "<Figure size 864x576 with 1 Axes>"
            ]
          },
          "metadata": {
            "tags": [],
            "needs_background": "light"
          }
        }
      ]
    },
    {
      "cell_type": "code",
      "metadata": {
        "colab": {
          "base_uri": "https://localhost:8080/",
          "height": 497
        },
        "id": "WqI4UeV0NFbZ",
        "outputId": "de1af565-96d7-489d-91bc-c4f0a44d8b68"
      },
      "source": [
        "# iter 당 훈련데이터 loss\n",
        "x = np.arange(iters_num)\n",
        "\n",
        "plt.figure(figsize=(12,8))\n",
        "plt.plot(x, train_loss_list, label = \"train loss\")\n",
        "plt.xlabel(\"epochs\")\n",
        "plt.ylabel(\"loss\")\n",
        "plt.legend()\n",
        "plt.show()"
      ],
      "execution_count": null,
      "outputs": [
        {
          "output_type": "display_data",
          "data": {
            "image/png": "[encoded data removed]",
            "text/plain": [
              "<Figure size 864x576 with 1 Axes>"
            ]
          },
          "metadata": {
            "tags": [],
            "needs_background": "light"
          }
        }
      ]
    }
  ]
}