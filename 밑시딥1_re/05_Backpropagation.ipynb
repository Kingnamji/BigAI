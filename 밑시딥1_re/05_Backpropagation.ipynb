{
  "nbformat": 4,
  "nbformat_minor": 0,
  "metadata": {
    "colab": {
      "name": "05_Backpropagation",
      "provenance": []
    },
    "kernelspec": {
      "name": "python3",
      "display_name": "Python 3"
    },
    "language_info": {
      "name": "python"
    }
  },
  "cells": [
    {
      "cell_type": "markdown",
      "metadata": {
        "id": "Oi7Rzl60Cjey"
      },
      "source": [
        "# 오차역전파법"
      ]
    },
    {
      "cell_type": "code",
      "metadata": {
        "id": "0qcs08A5Benb"
      },
      "source": [
        "# 곱셈 계층\n",
        "class MulLayer(object):\n",
        "    def __init__(self): # 인스턴스 변수 x 와 y 를 초기화\n",
        "        self.x = None\n",
        "        self.y = None\n",
        "        \n",
        "    def forward(self, x, y): # 순전파 시 인스턴스 변수 x와 y에 값이 들어감.\n",
        "        self.x = x\n",
        "        self.y = y\n",
        "        out = x * y\n",
        "\n",
        "        return out\n",
        "\n",
        "    def backward(self, dout): # 역전파\n",
        "        dx = dout * self.y # 상류의 값에 x와 y를 바꿔서 곱한다.\n",
        "        dy = dout * self.x\n",
        "\n",
        "        return dx, dy"
      ],
      "execution_count": 1,
      "outputs": []
    }
  ]
}