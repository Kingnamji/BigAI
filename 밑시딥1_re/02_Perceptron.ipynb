{
  "nbformat": 4,
  "nbformat_minor": 0,
  "metadata": {
    "colab": {
      "name": "02_Perceptron",
      "provenance": []
    },
    "kernelspec": {
      "name": "python3",
      "display_name": "Python 3"
    },
    "language_info": {
      "name": "python"
    }
  },
  "cells": [
    {
      "cell_type": "markdown",
      "metadata": {
        "id": "bXYypGSWpDCs"
      },
      "source": [
        "# 퍼셉트론 알고리즘"
      ]
    },
    {
      "cell_type": "markdown",
      "metadata": {
        "id": "w7NCE6VDpIe1"
      },
      "source": [
        "퍼셉트론은 노드(뉴런이라고도 하는)가 여러개(0개 이상)의 input을 입력받아서 1개 이상의 output을 출력하는 구조를 말한다.\n",
        "\n",
        "이 책에서 퍼셉트론을 여러 뜻으로 쓰니까 헷갈릴 수 있음\n",
        "\n",
        "그래서 이 장 이후에는 신경망(NN, neural network)이라는 말을 쓰자."
      ]
    },
    {
      "cell_type": "code",
      "metadata": {
        "id": "SY0EX6PVpHnu"
      },
      "source": [
        "# 라이브러리 불러오기\n",
        "import pandas as pd\n",
        "import numpy as np\n",
        "import matplotlib.pyplot as plt"
      ],
      "execution_count": 1,
      "outputs": []
    },
    {
      "cell_type": "code",
      "metadata": {
        "id": "9L0oKtBS9hTW"
      },
      "source": [
        "# pandas dataframe으로 진리표 만들기\n",
        "\n",
        "# 먼저 numpy 배열로 똑같이 만들어 줌\n",
        "ex_and = np.array([ [0, 0, 0], [1, 0, 0], [0, 1, 0], [1, 1, 1] ])\n",
        "ex_nand = np.array([ [0, 0, 1], [1, 0, 1], [0, 1, 1], [1, 1, 0] ])\n",
        "ex_or = np.array([ [0, 0, 0], [1, 0, 1], [0, 1, 1], [1, 1, 1] ])\n",
        "\n",
        "# numpy 배열을 pandas dataframe으로 \n",
        "df_and = pd.DataFrame(ex_and, columns = col)\n",
        "df_nand = pd.DataFrame(ex_nand, columns = col)\n",
        "df_or = pd.DataFrame(ex_or, columns = col)"
      ],
      "execution_count": 10,
      "outputs": []
    },
    {
      "cell_type": "code",
      "metadata": {
        "colab": {
          "base_uri": "https://localhost:8080/",
          "height": 173
        },
        "id": "08CeTyYM-DSX",
        "outputId": "f0fb47fb-b8e9-4e5f-f142-1d34c01f0fd1"
      },
      "source": [
        "# AND 게이트의 진리표\n",
        "df_and"
      ],
      "execution_count": 8,
      "outputs": [
        {
          "output_type": "execute_result",
          "data": {
            "text/html": [
              "<div>\n",
              "<style scoped>\n",
              "    .dataframe tbody tr th:only-of-type {\n",
              "        vertical-align: middle;\n",
              "    }\n",
              "\n",
              "    .dataframe tbody tr th {\n",
              "        vertical-align: top;\n",
              "    }\n",
              "\n",
              "    .dataframe thead th {\n",
              "        text-align: right;\n",
              "    }\n",
              "</style>\n",
              "<table border=\"1\" class=\"dataframe\">\n",
              "  <thead>\n",
              "    <tr style=\"text-align: right;\">\n",
              "      <th></th>\n",
              "      <th>x1</th>\n",
              "      <th>x2</th>\n",
              "      <th>y</th>\n",
              "    </tr>\n",
              "  </thead>\n",
              "  <tbody>\n",
              "    <tr>\n",
              "      <th>0</th>\n",
              "      <td>0</td>\n",
              "      <td>0</td>\n",
              "      <td>0</td>\n",
              "    </tr>\n",
              "    <tr>\n",
              "      <th>1</th>\n",
              "      <td>1</td>\n",
              "      <td>0</td>\n",
              "      <td>0</td>\n",
              "    </tr>\n",
              "    <tr>\n",
              "      <th>2</th>\n",
              "      <td>0</td>\n",
              "      <td>1</td>\n",
              "      <td>0</td>\n",
              "    </tr>\n",
              "    <tr>\n",
              "      <th>3</th>\n",
              "      <td>1</td>\n",
              "      <td>1</td>\n",
              "      <td>1</td>\n",
              "    </tr>\n",
              "  </tbody>\n",
              "</table>\n",
              "</div>"
            ],
            "text/plain": [
              "   x1  x2  y\n",
              "0   0   0  0\n",
              "1   1   0  0\n",
              "2   0   1  0\n",
              "3   1   1  1"
            ]
          },
          "metadata": {
            "tags": []
          },
          "execution_count": 8
        }
      ]
    },
    {
      "cell_type": "code",
      "metadata": {
        "colab": {
          "base_uri": "https://localhost:8080/",
          "height": 173
        },
        "id": "-cqsVff0-s4j",
        "outputId": "a9c5b01d-4f39-48d8-d617-1ea9ac6383fd"
      },
      "source": [
        "# NAND 게이트의 진리표\n",
        "df_nand"
      ],
      "execution_count": 11,
      "outputs": [
        {
          "output_type": "execute_result",
          "data": {
            "text/html": [
              "<div>\n",
              "<style scoped>\n",
              "    .dataframe tbody tr th:only-of-type {\n",
              "        vertical-align: middle;\n",
              "    }\n",
              "\n",
              "    .dataframe tbody tr th {\n",
              "        vertical-align: top;\n",
              "    }\n",
              "\n",
              "    .dataframe thead th {\n",
              "        text-align: right;\n",
              "    }\n",
              "</style>\n",
              "<table border=\"1\" class=\"dataframe\">\n",
              "  <thead>\n",
              "    <tr style=\"text-align: right;\">\n",
              "      <th></th>\n",
              "      <th>x1</th>\n",
              "      <th>x2</th>\n",
              "      <th>y</th>\n",
              "    </tr>\n",
              "  </thead>\n",
              "  <tbody>\n",
              "    <tr>\n",
              "      <th>0</th>\n",
              "      <td>0</td>\n",
              "      <td>0</td>\n",
              "      <td>1</td>\n",
              "    </tr>\n",
              "    <tr>\n",
              "      <th>1</th>\n",
              "      <td>1</td>\n",
              "      <td>0</td>\n",
              "      <td>1</td>\n",
              "    </tr>\n",
              "    <tr>\n",
              "      <th>2</th>\n",
              "      <td>0</td>\n",
              "      <td>1</td>\n",
              "      <td>1</td>\n",
              "    </tr>\n",
              "    <tr>\n",
              "      <th>3</th>\n",
              "      <td>1</td>\n",
              "      <td>1</td>\n",
              "      <td>0</td>\n",
              "    </tr>\n",
              "  </tbody>\n",
              "</table>\n",
              "</div>"
            ],
            "text/plain": [
              "   x1  x2  y\n",
              "0   0   0  1\n",
              "1   1   0  1\n",
              "2   0   1  1\n",
              "3   1   1  0"
            ]
          },
          "metadata": {
            "tags": []
          },
          "execution_count": 11
        }
      ]
    },
    {
      "cell_type": "code",
      "metadata": {
        "colab": {
          "base_uri": "https://localhost:8080/",
          "height": 173
        },
        "id": "Qus88ODQ-dSu",
        "outputId": "befcec21-fcde-4033-b3d2-edbcf5ba5b9d"
      },
      "source": [
        "# OR 게이트의 진리표\n",
        "df_or"
      ],
      "execution_count": 9,
      "outputs": [
        {
          "output_type": "execute_result",
          "data": {
            "text/html": [
              "<div>\n",
              "<style scoped>\n",
              "    .dataframe tbody tr th:only-of-type {\n",
              "        vertical-align: middle;\n",
              "    }\n",
              "\n",
              "    .dataframe tbody tr th {\n",
              "        vertical-align: top;\n",
              "    }\n",
              "\n",
              "    .dataframe thead th {\n",
              "        text-align: right;\n",
              "    }\n",
              "</style>\n",
              "<table border=\"1\" class=\"dataframe\">\n",
              "  <thead>\n",
              "    <tr style=\"text-align: right;\">\n",
              "      <th></th>\n",
              "      <th>x1</th>\n",
              "      <th>x2</th>\n",
              "      <th>y</th>\n",
              "    </tr>\n",
              "  </thead>\n",
              "  <tbody>\n",
              "    <tr>\n",
              "      <th>0</th>\n",
              "      <td>0</td>\n",
              "      <td>0</td>\n",
              "      <td>0</td>\n",
              "    </tr>\n",
              "    <tr>\n",
              "      <th>1</th>\n",
              "      <td>1</td>\n",
              "      <td>0</td>\n",
              "      <td>1</td>\n",
              "    </tr>\n",
              "    <tr>\n",
              "      <th>2</th>\n",
              "      <td>0</td>\n",
              "      <td>1</td>\n",
              "      <td>1</td>\n",
              "    </tr>\n",
              "    <tr>\n",
              "      <th>3</th>\n",
              "      <td>1</td>\n",
              "      <td>1</td>\n",
              "      <td>1</td>\n",
              "    </tr>\n",
              "  </tbody>\n",
              "</table>\n",
              "</div>"
            ],
            "text/plain": [
              "   x1  x2  y\n",
              "0   0   0  0\n",
              "1   1   0  1\n",
              "2   0   1  1\n",
              "3   1   1  1"
            ]
          },
          "metadata": {
            "tags": []
          },
          "execution_count": 9
        }
      ]
    },
    {
      "cell_type": "markdown",
      "metadata": {
        "id": "0oHuGxuDBSCT"
      },
      "source": [
        "# 게이트 구현"
      ]
    },
    {
      "cell_type": "code",
      "metadata": {
        "id": "c1I7OcYfCVQq"
      },
      "source": [
        "# AND 게이트 구현 (편향이 없는 경우)\n",
        "def AND(x1, x2):\n",
        "    w1, w2, theta = 0.5, 0.5, 0.7\n",
        "    tmp = x1*w1 + x2*w2\n",
        "    \n",
        "    if tmp <= theta:\n",
        "        return 0\n",
        "    elif tmp > theta:\n",
        "        return 1"
      ],
      "execution_count": 12,
      "outputs": []
    },
    {
      "cell_type": "code",
      "metadata": {
        "colab": {
          "base_uri": "https://localhost:8080/",
          "height": 513
        },
        "id": "k7eLyTyLEcl3",
        "outputId": "85cc0277-81f4-4ecb-8c0d-769c5db5eacc"
      },
      "source": [
        "f = lambda x1: -x1 + 1.4\n",
        "x1 = np.arange(-2,2, 0.1)\n",
        "x2 = f(x1)\n",
        "\n",
        "case_x1 = [0, 0, 1, 1]\n",
        "case_x2 = [0, 1, 0, 1]\n",
        "\n",
        "# 시각화\n",
        "plt.figure(figsize=(10,8))\n",
        "plt.title('Example')\n",
        "plt.xlabel('x1')\n",
        "plt.ylabel('x2')\n",
        "plt.axvline(x=0)\n",
        "plt.axhline(y=0)\n",
        "plt.xlim([-0.5, 2])\n",
        "plt.ylim([-0.5, 2])\n",
        "plt.scatter(case_x1, case_x2) # 점\n",
        "plt.plot(x1, x2, 'r') # 선\n",
        "plt.show()"
      ],
      "execution_count": 40,
      "outputs": [
        {
          "output_type": "display_data",
          "data": {
            "image/png": "[encoded data removed]",
            "text/plain": [
              "<Figure size 720x576 with 1 Axes>"
            ]
          },
          "metadata": {
            "tags": [],
            "needs_background": "light"
          }
        }
      ]
    },
    {
      "cell_type": "code",
      "metadata": {
        "colab": {
          "base_uri": "https://localhost:8080/"
        },
        "id": "apxwHRt1Cpqh",
        "outputId": "c943c975-9201-4b47-fc54-6c1e2b804891"
      },
      "source": [
        "print(AND(0,0))\n",
        "print(AND(0,1))\n",
        "print(AND(1,0))\n",
        "print(AND(1,1))"
      ],
      "execution_count": 13,
      "outputs": [
        {
          "output_type": "stream",
          "text": [
            "0\n",
            "0\n",
            "0\n",
            "1\n"
          ],
          "name": "stdout"
        }
      ]
    },
    {
      "cell_type": "code",
      "metadata": {
        "colab": {
          "base_uri": "https://localhost:8080/"
        },
        "id": "jeNaBWxrHafL",
        "outputId": "90b6aaa3-84b1-491e-d8d0-67b7b4e3410a"
      },
      "source": [
        "# 편향(bias)를 넣어서 값 확인\n",
        "x = np.array([0, 1]) # input\n",
        "w = np.array([0.5, 0.5]) # 가중치, weight\n",
        "b = -0.7\n",
        "\n",
        "print(w*x)\n",
        "print(np.sum(w*x))\n",
        "print(np.sum(w*x) + b)"
      ],
      "execution_count": 43,
      "outputs": [
        {
          "output_type": "stream",
          "text": [
            "[0.  0.5]\n",
            "0.5\n",
            "-0.19999999999999996\n"
          ],
          "name": "stdout"
        }
      ]
    },
    {
      "cell_type": "code",
      "metadata": {
        "id": "Csh5waBLHwxR"
      },
      "source": [
        "# AND 게이트 구현\n",
        "def AND(x1, x2):\n",
        "    x = np.array([x1, x2]) # input\n",
        "    w = np.array([0.5, 0.5]) # 가중치, weight\n",
        "    b = -0.7\n",
        "\n",
        "    tmp = np.sum(w*x) + b\n",
        "    if tmp <= 0:\n",
        "        return 0\n",
        "    elif tmp > 0:\n",
        "        return 1  "
      ],
      "execution_count": 46,
      "outputs": []
    },
    {
      "cell_type": "code",
      "metadata": {
        "colab": {
          "base_uri": "https://localhost:8080/"
        },
        "id": "zKCLzjP6IN4R",
        "outputId": "e0e5f6c2-ee62-459d-b7cc-baaa8d18fd20"
      },
      "source": [
        "print(AND(0,0))\n",
        "print(AND(0,1))\n",
        "print(AND(1,0))\n",
        "print(AND(1,1))"
      ],
      "execution_count": 48,
      "outputs": [
        {
          "output_type": "stream",
          "text": [
            "0\n",
            "0\n",
            "0\n",
            "1\n"
          ],
          "name": "stdout"
        }
      ]
    },
    {
      "cell_type": "code",
      "metadata": {
        "id": "C6obJ3sfIp3b"
      },
      "source": [
        "# NAND 게이트 구현 \n",
        "def NAND(x1, x2):\n",
        "    x = np.array([x1, x2]) # input\n",
        "    w = np.array([-0.5, -0.5]) # 가중치, weight\n",
        "    b = 0.7\n",
        "\n",
        "    tmp = np.sum(w*x) + b\n",
        "    if tmp <= 0:\n",
        "        return 0\n",
        "    elif tmp > 0:\n",
        "        return 1  "
      ],
      "execution_count": 49,
      "outputs": []
    },
    {
      "cell_type": "code",
      "metadata": {
        "colab": {
          "base_uri": "https://localhost:8080/"
        },
        "id": "msKbojBlJOh8",
        "outputId": "f73f8b02-052c-40d2-b2dd-731afff26403"
      },
      "source": [
        "print(NAND(0,0))\n",
        "print(NAND(0,1))\n",
        "print(NAND(1,0))\n",
        "print(NAND(1,1))"
      ],
      "execution_count": 50,
      "outputs": [
        {
          "output_type": "stream",
          "text": [
            "1\n",
            "1\n",
            "1\n",
            "0\n"
          ],
          "name": "stdout"
        }
      ]
    },
    {
      "cell_type": "code",
      "metadata": {
        "id": "HSoizamCJSQ0"
      },
      "source": [
        "# OR 게이트 구현 \n",
        "def OR(x1, x2):\n",
        "    x = np.array([x1, x2]) # input\n",
        "    w = np.array([0.5, 0.5]) # 가중치, weight\n",
        "    b = -0.2\n",
        "\n",
        "    tmp = np.sum(w*x) + b\n",
        "    if tmp <= 0:\n",
        "        return 0\n",
        "    elif tmp > 0:\n",
        "        return 1  "
      ],
      "execution_count": 52,
      "outputs": []
    },
    {
      "cell_type": "code",
      "metadata": {
        "colab": {
          "base_uri": "https://localhost:8080/"
        },
        "id": "SBjhgrhXJaqB",
        "outputId": "74e17840-f747-438d-d1fb-4978e02198b1"
      },
      "source": [
        "print(OR(0,0))\n",
        "print(OR(0,1))\n",
        "print(OR(1,0))\n",
        "print(OR(1,1))"
      ],
      "execution_count": 53,
      "outputs": [
        {
          "output_type": "stream",
          "text": [
            "0\n",
            "1\n",
            "1\n",
            "1\n"
          ],
          "name": "stdout"
        }
      ]
    },
    {
      "cell_type": "markdown",
      "metadata": {
        "id": "QOkUHqkXKP5-"
      },
      "source": [
        "층을 쌓아서 (게이트를 조합해서)\n",
        "XOR 게이트를 만들 수 있다"
      ]
    },
    {
      "cell_type": "code",
      "metadata": {
        "id": "-1P0B_GHKOsS"
      },
      "source": [
        "# XOR 게이트 구현\n",
        "def XOR(x1, x2):\n",
        "    s1 = NAND(x1, x2)\n",
        "    s2 = OR(x1, x2)\n",
        "    return AND(s1, s2)"
      ],
      "execution_count": 54,
      "outputs": []
    },
    {
      "cell_type": "code",
      "metadata": {
        "colab": {
          "base_uri": "https://localhost:8080/"
        },
        "id": "At3atBChKmLj",
        "outputId": "470646ea-d11a-4fc9-d417-139fd2c5c69c"
      },
      "source": [
        "print(XOR(0,0))\n",
        "print(XOR(0,1))\n",
        "print(XOR(1,0))\n",
        "print(XOR(1,1))"
      ],
      "execution_count": 58,
      "outputs": [
        {
          "output_type": "stream",
          "text": [
            "0\n",
            "1\n",
            "1\n",
            "0\n"
          ],
          "name": "stdout"
        }
      ]
    }
  ]
}