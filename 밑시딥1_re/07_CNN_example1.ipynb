{
  "nbformat": 4,
  "nbformat_minor": 0,
  "metadata": {
    "colab": {
      "name": "mnist_example1",
      "provenance": [],
      "collapsed_sections": []
    },
    "kernelspec": {
      "name": "python3",
      "display_name": "Python 3"
    },
    "language_info": {
      "name": "python"
    }
  },
  "cells": [
    {
      "cell_type": "code",
      "metadata": {
        "colab": {
          "base_uri": "https://localhost:8080/"
        },
        "id": "Cb9JGuUMtEzW",
        "outputId": "d203850d-4af4-4738-e4fc-d6ef3394dfd6"
      },
      "source": [
        "import warnings\n",
        "import sys\n",
        "import matplotlib.pyplot as plt\n",
        "import tensorflow as tf\n",
        "import tensorflow.keras as keras\n",
        "from keras.models import Sequential\n",
        "from keras.layers import Dense, Flatten\n",
        "from keras.layers.convolutional import Conv2D, MaxPooling2D\n",
        "import numpy as np\n",
        "\n",
        "print('Python version : ', sys.version)\n",
        "print('TensorFlow version : ', tf.__version__)\n",
        "print('Keras version : ', keras.__version__)"
      ],
      "execution_count": null,
      "outputs": [
        {
          "output_type": "stream",
          "text": [
            "Python version :  3.7.11 (default, Jul  3 2021, 18:01:19) \n",
            "[GCC 7.5.0]\n",
            "TensorFlow version :  2.5.0\n",
            "Keras version :  2.5.0\n"
          ],
          "name": "stdout"
        }
      ]
    },
    {
      "cell_type": "code",
      "metadata": {
        "id": "TT7_GZJDtgOH"
      },
      "source": [
        "H, W = 28, 28\n",
        "(x_train, t_train), (x_test, t_test) = tf.keras.datasets.mnist.load_data()"
      ],
      "execution_count": null,
      "outputs": []
    },
    {
      "cell_type": "code",
      "metadata": {
        "colab": {
          "base_uri": "https://localhost:8080/"
        },
        "id": "NlMI4J_TuoWw",
        "outputId": "f90c57a0-ee43-419a-c5c9-b0d6bccc0651"
      },
      "source": [
        "x_test.shape"
      ],
      "execution_count": null,
      "outputs": [
        {
          "output_type": "execute_result",
          "data": {
            "text/plain": [
              "(10000, 28, 28)"
            ]
          },
          "metadata": {
            "tags": []
          },
          "execution_count": 28
        }
      ]
    },
    {
      "cell_type": "code",
      "metadata": {
        "colab": {
          "base_uri": "https://localhost:8080/"
        },
        "id": "2cV42cv0uf-i",
        "outputId": "95c8fd9a-0126-4c9a-88b2-ac82ccac292d"
      },
      "source": [
        "input_shape = (H, W , 1)\n",
        "x_train = x_train.reshape(x_train.shape[0], H, W, 1)\n",
        "x_test = x_test.reshape(x_test.shape[0], H, W, 1)\n",
        "\n",
        "# normalize\n",
        "x_train = x_train.astype('float32') / 255\n",
        "x_test = x_test.astype('float32') / 255\n",
        "\n",
        "# 하이퍼 파라미터\n",
        "batch_size = 128\n",
        "pool_output_size = 120\n",
        "hidden_size = 100\n",
        "output_size = 10\n",
        "max_epochs = 10\n",
        "\n",
        "t_train = keras.utils.to_categorical(t_train, classes)\n",
        "t_test = keras.utils.to_categorical(t_test, classes)\n",
        "\n",
        "print(x_train.shape)\n",
        "print(x_test.shape)"
      ],
      "execution_count": null,
      "outputs": [
        {
          "output_type": "stream",
          "text": [
            "(60000, 28, 28, 1)\n",
            "(10000, 28, 28, 1)\n"
          ],
          "name": "stdout"
        }
      ]
    },
    {
      "cell_type": "code",
      "metadata": {
        "colab": {
          "base_uri": "https://localhost:8080/"
        },
        "id": "U2gVI2Fyvykp",
        "outputId": "8d99d9b5-5e9c-46d2-9f87-94a79a72f831"
      },
      "source": [
        "model = Sequential()\n",
        "\n",
        "# 밑시딥 250p 그대로 구성\n",
        "model.add(Conv2D(32, kernel_size=(5, 5), strides=(1, 1), padding='same',\n",
        "                 activation='relu',\n",
        "                 input_shape=input_shape))\n",
        "model.add(MaxPooling2D(pool_size=(2, 2), strides=(2, 2)))\n",
        "model.add(Flatten())\n",
        "model.add(Dense(pool_output_size, activation='swish'))\n",
        "model.add(Dense(hidden_size, activation='swish'))\n",
        "model.add(Dense(output_size, activation='softmax'))\n",
        "model.summary()"
      ],
      "execution_count": null,
      "outputs": [
        {
          "output_type": "stream",
          "text": [
            "Model: \"sequential_6\"\n",
            "_________________________________________________________________\n",
            "Layer (type)                 Output Shape              Param #   \n",
            "=================================================================\n",
            "conv2d_6 (Conv2D)            (None, 28, 28, 32)        832       \n",
            "_________________________________________________________________\n",
            "max_pooling2d_6 (MaxPooling2 (None, 14, 14, 32)        0         \n",
            "_________________________________________________________________\n",
            "flatten_5 (Flatten)          (None, 6272)              0         \n",
            "_________________________________________________________________\n",
            "dense_11 (Dense)             (None, 120)               752760    \n",
            "_________________________________________________________________\n",
            "dense_12 (Dense)             (None, 100)               12100     \n",
            "_________________________________________________________________\n",
            "dense_13 (Dense)             (None, 10)                1010      \n",
            "=================================================================\n",
            "Total params: 766,702\n",
            "Trainable params: 766,702\n",
            "Non-trainable params: 0\n",
            "_________________________________________________________________\n"
          ],
          "name": "stdout"
        }
      ]
    },
    {
      "cell_type": "code",
      "metadata": {
        "colab": {
          "base_uri": "https://localhost:8080/"
        },
        "id": "oq3qONNHxR4C",
        "outputId": "f073e86d-8fe4-48c0-b80f-b7ba6c0f5ad1"
      },
      "source": [
        "model.compile(loss='categorical_crossentropy', optimizer='adam', metrics=['accuracy'])\n",
        "hist = model.fit(x_train, t_train,\n",
        "                 batch_size=batch_size,\n",
        "                 epochs=max_epochs,\n",
        "                 verbose=1, \n",
        "                 validation_data=(x_test, t_test))"
      ],
      "execution_count": null,
      "outputs": [
        {
          "output_type": "stream",
          "text": [
            "Epoch 1/10\n",
            "469/469 [==============================] - 52s 79ms/step - loss: 0.4369 - accuracy: 0.8726 - val_loss: 0.0591 - val_accuracy: 0.9803\n",
            "Epoch 2/10\n",
            "469/469 [==============================] - 36s 78ms/step - loss: 0.0612 - accuracy: 0.9809 - val_loss: 0.0499 - val_accuracy: 0.9824\n",
            "Epoch 3/10\n",
            "469/469 [==============================] - 36s 77ms/step - loss: 0.0339 - accuracy: 0.9896 - val_loss: 0.0377 - val_accuracy: 0.9876\n",
            "Epoch 4/10\n",
            "469/469 [==============================] - 36s 77ms/step - loss: 0.0257 - accuracy: 0.9917 - val_loss: 0.0333 - val_accuracy: 0.9887\n",
            "Epoch 5/10\n",
            "469/469 [==============================] - 36s 77ms/step - loss: 0.0162 - accuracy: 0.9948 - val_loss: 0.0358 - val_accuracy: 0.9877\n",
            "Epoch 6/10\n",
            "469/469 [==============================] - 36s 77ms/step - loss: 0.0117 - accuracy: 0.9964 - val_loss: 0.0354 - val_accuracy: 0.9894\n",
            "Epoch 7/10\n",
            "469/469 [==============================] - 36s 77ms/step - loss: 0.0113 - accuracy: 0.9966 - val_loss: 0.0390 - val_accuracy: 0.9877\n",
            "Epoch 8/10\n",
            "469/469 [==============================] - 36s 77ms/step - loss: 0.0075 - accuracy: 0.9976 - val_loss: 0.0458 - val_accuracy: 0.9872\n",
            "Epoch 9/10\n",
            "469/469 [==============================] - 36s 76ms/step - loss: 0.0103 - accuracy: 0.9967 - val_loss: 0.0384 - val_accuracy: 0.9897\n",
            "Epoch 10/10\n",
            "469/469 [==============================] - 36s 77ms/step - loss: 0.0055 - accuracy: 0.9982 - val_loss: 0.0425 - val_accuracy: 0.9885\n"
          ],
          "name": "stdout"
        }
      ]
    },
    {
      "cell_type": "code",
      "metadata": {
        "colab": {
          "base_uri": "https://localhost:8080/"
        },
        "id": "R6eh1K0pygsJ",
        "outputId": "dc67a459-442b-49d0-ab2b-a96c0e866d62"
      },
      "source": [
        "score = model.evaluate(x_test, t_test, verbose=0)\n",
        "print('Test loss:', score[0])\n",
        "print(f'Test accuracy : {score[1]*100}%')"
      ],
      "execution_count": null,
      "outputs": [
        {
          "output_type": "stream",
          "text": [
            "Test loss: 0.04245719686150551\n",
            "Test accuracy : 98.84999990463257%\n"
          ],
          "name": "stdout"
        }
      ]
    },
    {
      "cell_type": "code",
      "metadata": {
        "colab": {
          "base_uri": "https://localhost:8080/",
          "height": 339
        },
        "id": "gN_huDfyzyLs",
        "outputId": "796cb017-4660-4174-e62f-65e5c73978de"
      },
      "source": [
        "n = 7\n",
        "img = x_test[n].reshape(28,28)\n",
        "plt.imshow(img , cmap='gray')\n",
        "\n",
        "result = model.predict_classes(x_test[n].reshape(1, 28, 28, 1))\n",
        "\n",
        "print(f'테스트 케이스 {n}번째 데이터로 예측한 결과 : {result}')"
      ],
      "execution_count": 45,
      "outputs": [
        {
          "output_type": "stream",
          "text": [
            "테스트 케이스 7번째 데이터로 예측한 결과 : [9]\n"
          ],
          "name": "stdout"
        },
        {
          "output_type": "stream",
          "text": [
            "/usr/local/lib/python3.7/dist-packages/keras/engine/sequential.py:450: UserWarning: `model.predict_classes()` is deprecated and will be removed after 2021-01-01. Please use instead:* `np.argmax(model.predict(x), axis=-1)`,   if your model does multi-class classification   (e.g. if it uses a `softmax` last-layer activation).* `(model.predict(x) > 0.5).astype(\"int32\")`,   if your model does binary classification   (e.g. if it uses a `sigmoid` last-layer activation).\n",
            "  warnings.warn('`model.predict_classes()` is deprecated and '\n"
          ],
          "name": "stderr"
        },
        {
          "output_type": "display_data",
          "data": {
            "image/png": "[encoded data removed]",
            "text/plain": [
              "<Figure size 432x288 with 1 Axes>"
            ]
          },
          "metadata": {
            "tags": [],
            "needs_background": "light"
          }
        }
      ]
    },
    {
      "cell_type": "code",
      "metadata": {
        "id": "iq_RCJB01t1B"
      },
      "source": [
        "path = '/content/drive/MyDrive/deep-learning-from-scratch-master/SimpleCNN.h5'\n",
        "model.save(path)"
      ],
      "execution_count": 46,
      "outputs": []
    }
  ]
}