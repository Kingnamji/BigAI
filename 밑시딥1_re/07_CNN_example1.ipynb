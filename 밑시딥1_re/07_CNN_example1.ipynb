{
  "nbformat": 4,
  "nbformat_minor": 0,
  "metadata": {
    "colab": {
      "name": "mnist_example1",
      "provenance": [],
      "collapsed_sections": []
    },
    "kernelspec": {
      "name": "python3",
      "display_name": "Python 3"
    },
    "language_info": {
      "name": "python"
    }
  },
  "cells": [
    {
      "cell_type": "code",
      "metadata": {
        "colab": {
          "base_uri": "https://localhost:8080/"
        },
        "id": "Cb9JGuUMtEzW",
        "outputId": "6ae65105-e6d2-4e6e-ee93-eccd825a3bb3"
      },
      "source": [
        "import warnings\n",
        "import sys\n",
        "import matplotlib.pyplot as plt\n",
        "import tensorflow as tf\n",
        "import tensorflow.keras as keras\n",
        "\n",
        "from keras.models import Sequential\n",
        "from keras.layers import Dense, Flatten, Dropout\n",
        "from keras.layers.convolutional import Conv2D, MaxPooling2D\n",
        "import numpy as np\n",
        "\n",
        "print('Python version : ', sys.version)\n",
        "print('TensorFlow version : ', tf.__version__)\n",
        "print('Keras version : ', keras.__version__)"
      ],
      "execution_count": 7,
      "outputs": [
        {
          "output_type": "stream",
          "text": [
            "Python version :  3.7.11 (default, Jul  3 2021, 18:01:19) \n",
            "[GCC 7.5.0]\n",
            "TensorFlow version :  2.5.0\n",
            "Keras version :  2.5.0\n"
          ],
          "name": "stdout"
        }
      ]
    },
    {
      "cell_type": "code",
      "metadata": {
        "id": "TT7_GZJDtgOH",
        "colab": {
          "base_uri": "https://localhost:8080/"
        },
        "outputId": "0b48c2b4-1232-4b02-d029-5193eeab3c7f"
      },
      "source": [
        "(x_train, t_train), (x_test, t_test) = tf.keras.datasets.mnist.load_data()"
      ],
      "execution_count": 3,
      "outputs": [
        {
          "output_type": "stream",
          "text": [
            "Downloading data from https://storage.googleapis.com/tensorflow/tf-keras-datasets/mnist.npz\n",
            "11493376/11490434 [==============================] - 0s 0us/step\n"
          ],
          "name": "stdout"
        }
      ]
    },
    {
      "cell_type": "code",
      "metadata": {
        "colab": {
          "base_uri": "https://localhost:8080/"
        },
        "id": "NlMI4J_TuoWw",
        "outputId": "613c940c-d421-43c1-85bd-134d4c16c084"
      },
      "source": [
        "print(x_train.shape)\n",
        "print(x_test.shape)\n",
        "print(t_train.shape)\n",
        "print(t_test.shape)"
      ],
      "execution_count": 4,
      "outputs": [
        {
          "output_type": "stream",
          "text": [
            "(60000, 28, 28)\n",
            "(10000, 28, 28)\n",
            "(60000,)\n",
            "(10000,)\n"
          ],
          "name": "stdout"
        }
      ]
    },
    {
      "cell_type": "code",
      "metadata": {
        "colab": {
          "base_uri": "https://localhost:8080/"
        },
        "id": "2cV42cv0uf-i",
        "outputId": "84c97ded-395e-4dab-ab3c-a5bb9b207f5c"
      },
      "source": [
        "H, W = 28, 28\n",
        "input_shape = (H, W , 1)\n",
        "x_train = x_train.reshape(x_train.shape[0], H, W, 1)\n",
        "x_test = x_test.reshape(x_test.shape[0], H, W, 1)\n",
        "\n",
        "# normalize\n",
        "x_train = x_train.astype('float32') / 255\n",
        "x_test = x_test.astype('float32') / 255\n",
        "\n",
        "# 하이퍼 파라미터\n",
        "batch_size = 128\n",
        "max_epochs = 10\n",
        "output_size = 10\n",
        "\n",
        "t_train = keras.utils.to_categorical(t_train, output_size)\n",
        "t_test = keras.utils.to_categorical(t_test, output_size)\n",
        "\n",
        "print(x_train.shape)\n",
        "print(x_test.shape)\n",
        "\n",
        "print(t_train.shape)\n",
        "print(t_test.shape)"
      ],
      "execution_count": 5,
      "outputs": [
        {
          "output_type": "stream",
          "text": [
            "(60000, 28, 28, 1)\n",
            "(10000, 28, 28, 1)\n",
            "(60000, 10)\n",
            "(10000, 10)\n"
          ],
          "name": "stdout"
        }
      ]
    },
    {
      "cell_type": "markdown",
      "metadata": {
        "id": "7FpTjObmefnV"
      },
      "source": [
        "# 모델링"
      ]
    },
    {
      "cell_type": "markdown",
      "metadata": {
        "id": "K1ul093Neiag"
      },
      "source": [
        "최대한 밑시딥 250 페이지랑 비슷하게 맞춤.."
      ]
    },
    {
      "cell_type": "code",
      "metadata": {
        "colab": {
          "base_uri": "https://localhost:8080/"
        },
        "id": "U2gVI2Fyvykp",
        "outputId": "959830c3-843a-4b1c-b90f-ce7a9cfd0462"
      },
      "source": [
        "model = Sequential()\n",
        "\n",
        "model.add(Conv2D(32, kernel_size=(5, 5), strides=(1, 1), padding='same',\n",
        "                 activation='relu',\n",
        "                 input_shape=input_shape))\n",
        "model.add(MaxPooling2D(pool_size=(2, 2), strides=(2, 2)))\n",
        "model.add(Dropout(0.25))\n",
        "model.add(Flatten())\n",
        "model.add(Dense(100, activation='relu'))\n",
        "model.add(Dense(output_size, activation='softmax'))\n",
        "model.summary()"
      ],
      "execution_count": 8,
      "outputs": [
        {
          "output_type": "stream",
          "text": [
            "Model: \"sequential_1\"\n",
            "_________________________________________________________________\n",
            "Layer (type)                 Output Shape              Param #   \n",
            "=================================================================\n",
            "conv2d_1 (Conv2D)            (None, 28, 28, 32)        832       \n",
            "_________________________________________________________________\n",
            "max_pooling2d_1 (MaxPooling2 (None, 14, 14, 32)        0         \n",
            "_________________________________________________________________\n",
            "dropout (Dropout)            (None, 14, 14, 32)        0         \n",
            "_________________________________________________________________\n",
            "flatten_1 (Flatten)          (None, 6272)              0         \n",
            "_________________________________________________________________\n",
            "dense_2 (Dense)              (None, 100)               627300    \n",
            "_________________________________________________________________\n",
            "dense_3 (Dense)              (None, 10)                1010      \n",
            "=================================================================\n",
            "Total params: 629,142\n",
            "Trainable params: 629,142\n",
            "Non-trainable params: 0\n",
            "_________________________________________________________________\n"
          ],
          "name": "stdout"
        }
      ]
    },
    {
      "cell_type": "code",
      "metadata": {
        "colab": {
          "base_uri": "https://localhost:8080/"
        },
        "id": "oq3qONNHxR4C",
        "outputId": "1145e08f-d850-4b26-9832-c9fe74da0273"
      },
      "source": [
        "model.compile(loss='categorical_crossentropy', optimizer='adam', metrics=['accuracy'])\n",
        "model.fit(x_train, t_train,\n",
        "          batch_size=batch_size, epochs=max_epochs,\n",
        "          verbose=1, validation_data=(x_test, t_test))"
      ],
      "execution_count": 9,
      "outputs": [
        {
          "output_type": "stream",
          "text": [
            "Epoch 1/10\n",
            "469/469 [==============================] - 60s 94ms/step - loss: 0.4460 - accuracy: 0.8707 - val_loss: 0.0724 - val_accuracy: 0.9785\n",
            "Epoch 2/10\n",
            "469/469 [==============================] - 43s 93ms/step - loss: 0.0788 - accuracy: 0.9760 - val_loss: 0.0524 - val_accuracy: 0.9819\n",
            "Epoch 3/10\n",
            "469/469 [==============================] - 43s 92ms/step - loss: 0.0499 - accuracy: 0.9843 - val_loss: 0.0503 - val_accuracy: 0.9850\n",
            "Epoch 4/10\n",
            "469/469 [==============================] - 43s 91ms/step - loss: 0.0376 - accuracy: 0.9881 - val_loss: 0.0385 - val_accuracy: 0.9872\n",
            "Epoch 5/10\n",
            "469/469 [==============================] - 43s 92ms/step - loss: 0.0318 - accuracy: 0.9899 - val_loss: 0.0394 - val_accuracy: 0.9875\n",
            "Epoch 6/10\n",
            "469/469 [==============================] - 43s 92ms/step - loss: 0.0256 - accuracy: 0.9916 - val_loss: 0.0348 - val_accuracy: 0.9883\n",
            "Epoch 7/10\n",
            "469/469 [==============================] - 43s 92ms/step - loss: 0.0222 - accuracy: 0.9928 - val_loss: 0.0337 - val_accuracy: 0.9895\n",
            "Epoch 8/10\n",
            "469/469 [==============================] - 43s 91ms/step - loss: 0.0180 - accuracy: 0.9945 - val_loss: 0.0397 - val_accuracy: 0.9871\n",
            "Epoch 9/10\n",
            "469/469 [==============================] - 43s 91ms/step - loss: 0.0173 - accuracy: 0.9936 - val_loss: 0.0326 - val_accuracy: 0.9897\n",
            "Epoch 10/10\n",
            "469/469 [==============================] - 43s 91ms/step - loss: 0.0138 - accuracy: 0.9957 - val_loss: 0.0345 - val_accuracy: 0.9901\n"
          ],
          "name": "stdout"
        }
      ]
    },
    {
      "cell_type": "code",
      "metadata": {
        "colab": {
          "base_uri": "https://localhost:8080/"
        },
        "id": "R6eh1K0pygsJ",
        "outputId": "6c05b8d4-5e27-44b6-8843-90574a1b907d"
      },
      "source": [
        "score = model.evaluate(x_test, t_test, verbose=0)\n",
        "print('Test loss:', score[0])\n",
        "print(f'Test accuracy : {score[1]*100}%')"
      ],
      "execution_count": 10,
      "outputs": [
        {
          "output_type": "stream",
          "text": [
            "Test loss: 0.03453705832362175\n",
            "Test accuracy : 99.01000261306763%\n"
          ],
          "name": "stdout"
        }
      ]
    },
    {
      "cell_type": "code",
      "metadata": {
        "colab": {
          "base_uri": "https://localhost:8080/",
          "height": 353
        },
        "id": "gN_huDfyzyLs",
        "outputId": "0738de04-606b-421f-9f35-7ed81a005038"
      },
      "source": [
        "n = 20\n",
        "img = x_test[n].reshape(28,28)\n",
        "plt.imshow(img , cmap='gray')\n",
        "print(img[5, 5])\n",
        "\n",
        "result = model.predict_classes(x_test[n].reshape(1, 28, 28, 1))\n",
        "\n",
        "print(f'테스트 케이스 {n}번째 데이터로 예측한 결과 : {result}')"
      ],
      "execution_count": 18,
      "outputs": [
        {
          "output_type": "stream",
          "text": [
            "0.0\n",
            "테스트 케이스 20번째 데이터로 예측한 결과 : [9]\n"
          ],
          "name": "stdout"
        },
        {
          "output_type": "stream",
          "text": [
            "/usr/local/lib/python3.7/dist-packages/keras/engine/sequential.py:450: UserWarning: `model.predict_classes()` is deprecated and will be removed after 2021-01-01. Please use instead:* `np.argmax(model.predict(x), axis=-1)`,   if your model does multi-class classification   (e.g. if it uses a `softmax` last-layer activation).* `(model.predict(x) > 0.5).astype(\"int32\")`,   if your model does binary classification   (e.g. if it uses a `sigmoid` last-layer activation).\n",
            "  warnings.warn('`model.predict_classes()` is deprecated and '\n"
          ],
          "name": "stderr"
        },
        {
          "output_type": "display_data",
          "data": {
            "image/png": "[encoded data removed]",
            "text/plain": [
              "<Figure size 432x288 with 1 Axes>"
            ]
          },
          "metadata": {
            "tags": [],
            "needs_background": "light"
          }
        }
      ]
    },
    {
      "cell_type": "code",
      "metadata": {
        "id": "iq_RCJB01t1B"
      },
      "source": [
        "path = '/content/drive/MyDrive/deep-learning-from-scratch-master/SimpleCNN.h5'\n",
        "model.save(path)"
      ],
      "execution_count": 13,
      "outputs": []
    }
  ]
}