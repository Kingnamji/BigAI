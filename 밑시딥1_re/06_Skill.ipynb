{
  "nbformat": 4,
  "nbformat_minor": 0,
  "metadata": {
    "colab": {
      "name": "06_Skill",
      "provenance": []
    },
    "kernelspec": {
      "name": "python3",
      "display_name": "Python 3"
    },
    "language_info": {
      "name": "python"
    }
  },
  "cells": [
    {
      "cell_type": "markdown",
      "metadata": {
        "id": "G5QYuxL9Hgpx"
      },
      "source": [
        "# 학습 관련 기술들"
      ]
    },
    {
      "cell_type": "markdown",
      "metadata": {
        "id": "25YfKkFBI3ee"
      },
      "source": [
        "이번 장에서 알아볼 내용\n",
        "- 최적화 방법\n",
        "- 가중치 매개변수 초깃값 (전에는 random으로 설정)\n",
        "- 하이퍼파라미터 설정 방법 (node, lr, batch size....)\n",
        "- 오버피팅 방지 (가중치 감소, 드랍아웃 등 정규화 방법)\n",
        "- 배치 정규화"
      ]
    },
    {
      "cell_type": "code",
      "metadata": {
        "id": "2Ycb_GasJPKH"
      },
      "source": [
        "# 라이브러리\n",
        "import sys\n",
        "import os\n",
        "import matplotlib.pyplot as plt\n",
        "import numpy as np"
      ],
      "execution_count": 2,
      "outputs": []
    },
    {
      "cell_type": "code",
      "metadata": {
        "id": "qYvVvL6QJaiB"
      },
      "source": [
        "path = '/content/drive/MyDrive/deep-learning-from-scratch-master'\n",
        "os.chdir(path)\n",
        "sys.path.append(os.chdir)"
      ],
      "execution_count": 3,
      "outputs": []
    },
    {
      "cell_type": "markdown",
      "metadata": {
        "id": "s6jBGd5aJPEu"
      },
      "source": [
        "# 매개변수 갱신"
      ]
    },
    {
      "cell_type": "markdown",
      "metadata": {
        "id": "ESaCsZ-QJkEz"
      },
      "source": [
        "매개변수의 최적값을 찾는 이런 과정을 최적화(Optimization)라고 한다.\n",
        "\n",
        "최적의 매개변수를 찾을 단서로 매개변수의 기울기(1.수치미분 2.오차역전파법)을 앞서 살펴봤음"
      ]
    },
    {
      "cell_type": "markdown",
      "metadata": {
        "id": "vKdQZdMVJ1_J"
      },
      "source": [
        "GD의 수식\n",
        "\n",
        "$W \\leftarrow W - \\eta\\frac{\\partial{L}}{\\partial{W}}$\n",
        "\n",
        "아래와 같이 구현하면 SGD의 인스턴스에 매개변수와 기울기 정보를 전달하면 매개변수가 update "
      ]
    },
    {
      "cell_type": "markdown",
      "metadata": {
        "id": "eR1vC0bbRfpt"
      },
      "source": [
        "참고내용 Lasagne 프레임워크의 최적화 기법들 \n",
        "\n",
        "https://github.com/Lasagne/Lasagne/blob/master/lasagne/updates.py"
      ]
    },
    {
      "cell_type": "code",
      "metadata": {
        "id": "rKReI0veJKlF"
      },
      "source": [
        "# Gradient Descent 구현\n",
        "\n",
        "class SGD(object):\n",
        "    def __init__(self, lr = 0.01):\n",
        "        self.lr = lr  # 인스턴스 변수로 learning rate \n",
        "\n",
        "    def update(self, params, grads):\n",
        "        for key in params.keys():\n",
        "            params[key] -= self.lr * grads[key]"
      ],
      "execution_count": 4,
      "outputs": []
    },
    {
      "cell_type": "markdown",
      "metadata": {
        "id": "VEjezdweSTo3"
      },
      "source": [
        "SGD의 문제점\n",
        "\n",
        "방향에 따라 기울기가 달라지는 함수에서는 탐색 경로가 비효율적이다.\n",
        "\n",
        "따라서 개선된 최적화 기법을 살펴보자:\n",
        "- 모멘텀(Momentum)\n",
        "- AdaGrad(Adaptive Gradient)\n",
        "- Adam\n"
      ]
    },
    {
      "cell_type": "code",
      "metadata": {
        "id": "lxk0A1HvRwnw"
      },
      "source": [
        "# 모멘텀\n",
        "class Momentum(object):\n",
        "    def __init__(self, lr=0.01, momentum=0.9):\n",
        "        self.lr = lr # learning rate \n",
        "        self.momentum = momentum # 일반적으로 0.9 (따라서 default값 0.9)\n",
        "        self.v = None # V(0) = 0\n",
        "\n",
        "    def update(self, params, grads):\n",
        "        if self.v is None: # 처음 갱신\n",
        "            self.v = {}\n",
        "            for key, val in params.items():\n",
        "                self.v[key] = np.zeros_like(val)\n",
        "            \n",
        "        for key in params.keys():\n",
        "            self.v[key] = self.momentum * self.v[key] - self.lr*grads[key]\n",
        "            params[key] += self.v[key]     "
      ],
      "execution_count": 7,
      "outputs": []
    },
    {
      "cell_type": "code",
      "metadata": {
        "id": "4eOHxaT-tAkf"
      },
      "source": [
        "# AdaGrad\n",
        "class Adagrad(object):\n",
        "    def __init__(self, lr = 0.01):\n",
        "        self.lr = lr\n",
        "        self.h = None\n",
        "\n",
        "    def update(self, params, grads):\n",
        "        if self.h is None: # 처음 갱신\n",
        "            self.h = {}\n",
        "            for key, val in params.items():\n",
        "                self.h[key] = np.zeros_like(val)\n",
        "\n",
        "        for key in params.keys():\n",
        "            self.h[key] += grads[key] * grads[key]\n",
        "            params[key] -= self.lr * grads[key] / ((np.sqrt(self.h[key])) + 1e-7)"
      ],
      "execution_count": 9,
      "outputs": []
    },
    {
      "cell_type": "code",
      "metadata": {
        "colab": {
          "base_uri": "https://localhost:8080/"
        },
        "id": "AoHAvoR3zY6G",
        "outputId": "a0ce5af3-4519-4a1e-c233-d0a5f3372332"
      },
      "source": [
        "W1 = np.array([[1, 2], [3, 4]])\n",
        "W2 = np.array([[2, 4], [6, 8]])\n",
        "print(W1 * W2) # element wise"
      ],
      "execution_count": 10,
      "outputs": [
        {
          "output_type": "stream",
          "text": [
            "[[ 2  8]\n",
            " [18 32]]\n"
          ],
          "name": "stdout"
        }
      ]
    },
    {
      "cell_type": "markdown",
      "metadata": {
        "id": "yvzj_Tq_1SGd"
      },
      "source": [
        "RMSProp은\n",
        "\n",
        "Adagrad의 식에서 $h$ 부분이 다름\n",
        "$h_i \\leftarrow ph + (1-p)\\frac{\\partial{L}}{\\partial{W}}\\odot\\frac{\\partial{L}}{\\partial{W}}$\n",
        "\n",
        "$p$ 값이 작을수록 최신 기울기를 많이 반영"
      ]
    },
    {
      "cell_type": "code",
      "metadata": {
        "id": "Es_blPK41EwO"
      },
      "source": [
        "# RMSProp\n",
        "class RMSProp(object):\n",
        "    def __init__(self, lr = 0.01, p = 0.5):\n",
        "        self.lr = lr\n",
        "        self.p = p # 추가\n",
        "        self.h = None\n",
        "\n",
        "    def update(self, params, grads):\n",
        "        if self.h is None: # 처음 갱신\n",
        "            self.h = {}\n",
        "            for key, val in params.items():\n",
        "                self.h[key] = np.zeros_like(val)\n",
        "\n",
        "        for key in params.keys():\n",
        "            self.h[key] = self.p * self.h[key] + (1 - self.p) * (grads[key] * grads[key]) # 식 반영\n",
        "            params[key] -= self.lr * grads[key] / ((np.sqrt(self.h[key])) + 1e-7)"
      ],
      "execution_count": 11,
      "outputs": []
    }
  ]
}