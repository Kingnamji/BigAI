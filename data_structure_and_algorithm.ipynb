{
  "nbformat": 4,
  "nbformat_minor": 0,
  "metadata": {
    "colab": {
      "name": "data_structure_and_algorithm",
      "provenance": []
    },
    "kernelspec": {
      "name": "python3",
      "display_name": "Python 3"
    }
  },
  "cells": [
    {
      "cell_type": "markdown",
      "metadata": {
        "id": "1umeRq9uWZPW"
      },
      "source": [
        "# 숫자"
      ]
    },
    {
      "cell_type": "markdown",
      "metadata": {
        "id": "yQTeMEBOWaWt"
      },
      "source": [
        "1.1 정수\n",
        "\n",
        "파이썬에서 정수는 int 형으로 나타내며 불변(immutable)형이다.\n",
        "\n",
        "파이썬 정수 크기는 적어도 32bit이다."
      ]
    },
    {
      "cell_type": "code",
      "metadata": {
        "colab": {
          "base_uri": "https://localhost:8080/"
        },
        "id": "SedAbXOOPN10",
        "outputId": "7c15b62b-bed6-48ba-cc5e-088bcee71046"
      },
      "source": [
        "# 파이썬 3.1이상에서 정수를 나타내는 데 필요한 바이트 수를 확인하기\n",
        "(999).bit_length()"
      ],
      "execution_count": 1,
      "outputs": [
        {
          "output_type": "execute_result",
          "data": {
            "text/plain": [
              "10"
            ]
          },
          "metadata": {
            "tags": []
          },
          "execution_count": 1
        }
      ]
    },
    {
      "cell_type": "code",
      "metadata": {
        "colab": {
          "base_uri": "https://localhost:8080/"
        },
        "id": "ofJz5rzpXOta",
        "outputId": "2f89f6cd-68b0-4e12-e977-77d5179e342d"
      },
      "source": [
        "# 어떤 문자열을 정수로 변환하거나, 다른 진법의 문자열을 정수(10진법)로 변환하려면 int(문자열, 밑) 메서드 사용\n",
        "s = '11'\n",
        "d = int(s)\n",
        "print(d)"
      ],
      "execution_count": 22,
      "outputs": [
        {
          "output_type": "stream",
          "text": [
            "11\n"
          ],
          "name": "stdout"
        }
      ]
    },
    {
      "cell_type": "code",
      "metadata": {
        "colab": {
          "base_uri": "https://localhost:8080/"
        },
        "id": "1Hbl79RlXXcX",
        "outputId": "f399c438-19b1-44e9-e224-608c60f26ce8"
      },
      "source": [
        "b = int(s, 2) # int 메서드의 밑은 2~36 사이의 선택적 argument\n",
        "print(b)"
      ],
      "execution_count": 23,
      "outputs": [
        {
          "output_type": "stream",
          "text": [
            "3\n"
          ],
          "name": "stdout"
        }
      ]
    },
    {
      "cell_type": "markdown",
      "metadata": {
        "id": "fhFejnl7YTQT"
      },
      "source": [
        "1.2 부동소수점\n",
        "\n",
        "파이썬에서 부동소수점을 float로 나타내며 불변형이다.\n",
        "\n",
        "단정도(single precision)방식에서 32비트 부동소수점을 나타낼 때 1 비트는 부호(sign), \n",
        "\n",
        "23비트는 유효 숫자 자릿수(significant digits), 8비트는 지수(exponent)"
      ]
    },
    {
      "cell_type": "code",
      "metadata": {
        "colab": {
          "base_uri": "https://localhost:8080/"
        },
        "id": "yFxOF3jyXeZb",
        "outputId": "34c95fd1-8bdc-4d02-ee90-060740e324a7"
      },
      "source": [
        "# 부동소수점은 이진수 분수로 표현되기 때문에 함부로 비교하거나 빼면 안된다.\n",
        "0.2 * 3 == 0.6"
      ],
      "execution_count": 24,
      "outputs": [
        {
          "output_type": "execute_result",
          "data": {
            "text/plain": [
              "False"
            ]
          },
          "metadata": {
            "tags": []
          },
          "execution_count": 24
        }
      ]
    },
    {
      "cell_type": "code",
      "metadata": {
        "colab": {
          "base_uri": "https://localhost:8080/"
        },
        "id": "CP9KDMTrZA35",
        "outputId": "4fc89116-fb5e-461e-b859-ba2e80a4e2d3"
      },
      "source": [
        "1.2 - 0.2 == 1.0"
      ],
      "execution_count": 25,
      "outputs": [
        {
          "output_type": "execute_result",
          "data": {
            "text/plain": [
              "True"
            ]
          },
          "metadata": {
            "tags": []
          },
          "execution_count": 25
        }
      ]
    },
    {
      "cell_type": "code",
      "metadata": {
        "colab": {
          "base_uri": "https://localhost:8080/"
        },
        "id": "ghCjV0LQZCwN",
        "outputId": "ce688422-6d42-4016-e0f3-e0664d5d40b7"
      },
      "source": [
        "1.2 - 0.1 == 1.1"
      ],
      "execution_count": 26,
      "outputs": [
        {
          "output_type": "execute_result",
          "data": {
            "text/plain": [
              "False"
            ]
          },
          "metadata": {
            "tags": []
          },
          "execution_count": 26
        }
      ]
    },
    {
      "cell_type": "code",
      "metadata": {
        "colab": {
          "base_uri": "https://localhost:8080/"
        },
        "id": "jQbgztxQZFbf",
        "outputId": "9eca97de-5f15-4ab7-d340-f9d58e65f077"
      },
      "source": [
        "0.1 * 0.1 == 0.01"
      ],
      "execution_count": 27,
      "outputs": [
        {
          "output_type": "execute_result",
          "data": {
            "text/plain": [
              "False"
            ]
          },
          "metadata": {
            "tags": []
          },
          "execution_count": 27
        }
      ]
    },
    {
      "cell_type": "code",
      "metadata": {
        "id": "MlbKb0UFZLUc"
      },
      "source": [
        "# 동등성 테스트(equality test)는 사전에 정의된 정밀도 범위 내에서 수행되어야 한다.\n",
        "\n",
        "# 예시로 메서드를 만들면\n",
        "def a(x, y, places=7):\n",
        "    return rount(abs(x-y), places) == 0"
      ],
      "execution_count": 28,
      "outputs": []
    },
    {
      "cell_type": "code",
      "metadata": {
        "colab": {
          "base_uri": "https://localhost:8080/"
        },
        "id": "Mp_Iy6DfZd2Z",
        "outputId": "90e3651e-5c50-4861-f002-c7d3d2fdee93"
      },
      "source": [
        "# 파이썬에서 나누기 연산자 / 는 항상 부동소수점을 반환한다. // 연산자를 사용하면 정수만을 반환한다. %는 나머지\n",
        "# divmod(x, y) 메서드는 x를 y로 나눌 때, 몫과 나머지를 반환한다.\n",
        "\n",
        "divmod(45, 6)"
      ],
      "execution_count": 29,
      "outputs": [
        {
          "output_type": "execute_result",
          "data": {
            "text/plain": [
              "(7, 3)"
            ]
          },
          "metadata": {
            "tags": []
          },
          "execution_count": 29
        }
      ]
    },
    {
      "cell_type": "code",
      "metadata": {
        "colab": {
          "base_uri": "https://localhost:8080/"
        },
        "id": "z7UDwbfNZv4_",
        "outputId": "32da99ee-b023-4a9a-fe8b-8bf4652ac2a0"
      },
      "source": [
        "# round(x, n) 메서드는 n이 음수인 경우, x를 정수 n번째 자리에서 반올림한 값을 반환한다.\n",
        "# n이 양수인 경우, x를 소수점 이하 n번째 자리로 반올림한 값을 반환한다.\n",
        "\n",
        "round(113.866, -1)"
      ],
      "execution_count": 30,
      "outputs": [
        {
          "output_type": "execute_result",
          "data": {
            "text/plain": [
              "110.0"
            ]
          },
          "metadata": {
            "tags": []
          },
          "execution_count": 30
        }
      ]
    },
    {
      "cell_type": "code",
      "metadata": {
        "colab": {
          "base_uri": "https://localhost:8080/"
        },
        "id": "_FvNPmz5aol1",
        "outputId": "cc391c0e-2d94-41fb-8228-58234f129285"
      },
      "source": [
        "round(113.866, 2)"
      ],
      "execution_count": 31,
      "outputs": [
        {
          "output_type": "execute_result",
          "data": {
            "text/plain": [
              "113.87"
            ]
          },
          "metadata": {
            "tags": []
          },
          "execution_count": 31
        }
      ]
    },
    {
      "cell_type": "code",
      "metadata": {
        "colab": {
          "base_uri": "https://localhost:8080/"
        },
        "id": "27827KQMasMI",
        "outputId": "fa69976a-b859-441c-d4e6-59d5c7b712d2"
      },
      "source": [
        "# as_integer_ratio() 메서드는 부동소수점을 분수로 표현한다.\n",
        "\n",
        "2.75.as_integer_ratio()"
      ],
      "execution_count": 32,
      "outputs": [
        {
          "output_type": "execute_result",
          "data": {
            "text/plain": [
              "(11, 4)"
            ]
          },
          "metadata": {
            "tags": []
          },
          "execution_count": 32
        }
      ]
    },
    {
      "cell_type": "code",
      "metadata": {
        "id": "_QGsZnyfa26f"
      },
      "source": [
        "# 복소수(complex number)는 z = 3 + 4j 와 같이 생긴 부동소수점 한 쌍을 갖는 불변형이다.\n",
        "# z.real, z.imag, z.conjugate()와 같은 메서드로 실수부, 허수부, 켤레 복소수를 구할 수 있다.\n",
        "# 복소수를 사용하려면 cmath 모듈을 임포트 해야한다."
      ],
      "execution_count": null,
      "outputs": []
    },
    {
      "cell_type": "code",
      "metadata": {
        "colab": {
          "base_uri": "https://localhost:8080/"
        },
        "id": "FPXOhGP-bLrr",
        "outputId": "338f6753-aaf1-44e9-c760-49b886df8719"
      },
      "source": [
        "# 파이썬에서 분수를 다루려면 fraction 모듈을 사용한다.\n",
        "from fractions import Fraction\n",
        "\n",
        "def rounding_floats(number1, places):\n",
        "    return round(number1, places)\n",
        "\n",
        "def float_to_fractions(number):\n",
        "    return Fraction(*number.as_integer_ratio())\n",
        "\n",
        "def get_denominator(number1, number2):\n",
        "    \"\"\" 분모를 반환한다. \"\"\"\n",
        "    a = Fraction(number1, number2)\n",
        "    return a.denominator\n",
        "\n",
        "def get_numerator(number1, number2):\n",
        "    \"분자를 반환한다.\"\n",
        "    a = Fraction(number1, number2)\n",
        "    return a.numerator\n",
        "\n",
        "def test_testing_floats():\n",
        "    number1 = 1.25\n",
        "    number2 = 1\n",
        "    number3 = -1\n",
        "    number4 = 5/4\n",
        "    number6 = 6\n",
        "    assert(rounding_floats(number1, number2) == 1.2)\n",
        "    assert(rounding_floats(number1*10, number3) == 10)\n",
        "    assert(float_to_fractions(number1) == number4)\n",
        "    assert(get_denominator(number2, number6) == number6)\n",
        "    assert(get_numerator(number2, number6) == number2)\n",
        "    print(\"테스트 통과!\")\n",
        "\n",
        "if __name__ == \"__main__\":\n",
        "    test_testing_floats()"
      ],
      "execution_count": 38,
      "outputs": [
        {
          "output_type": "stream",
          "text": [
            "테스트 통과!\n"
          ],
          "name": "stdout"
        }
      ]
    }
  ]
}